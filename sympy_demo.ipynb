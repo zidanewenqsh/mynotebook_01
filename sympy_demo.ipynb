{
 "cells": [
  {
   "cell_type": "markdown",
   "metadata": {},
   "source": [
    "[极客教程-sympy](https://geek-docs.com/python/python-tutorial/python-sympy.html)"
   ]
  },
  {
   "cell_type": "markdown",
   "metadata": {},
   "source": [
    "## 待学习  \n",
    "\n",
    "[Sympy玩转逻辑符号运算](https://www.jianshu.com/p/039bfcac74c6)"
   ]
  },
  {
   "cell_type": "markdown",
   "metadata": {},
   "source": [
    "## 导包"
   ]
  },
  {
   "cell_type": "code",
   "execution_count": 2,
   "metadata": {},
   "outputs": [],
   "source": [
    "from IPython.core.interactiveshell import InteractiveShell \n",
    "InteractiveShell.ast_node_interactivity = 'all' #默认为'last'\n",
    "%matplotlib inline\n",
    "\n",
    "import numpy as np\n",
    "import sympy\n",
    "import matplotlib.pyplot as plt\n",
    "import pandas as pd\n",
    "import time\n",
    "import os\n",
    "import sys\n",
    "import random\n",
    "from sympy import*\n"
   ]
  },
  {
   "cell_type": "code",
   "execution_count": 29,
   "metadata": {},
   "outputs": [],
   "source": [
    "from sympy import pi, E, I, oo\n",
    "from sympy import simplify,exp,sqrt\n",
    "from sympy.plotting import plot\n"
   ]
  },
  {
   "cell_type": "markdown",
   "metadata": {},
   "source": [
    "# 数学基础"
   ]
  },
  {
   "cell_type": "markdown",
   "metadata": {},
   "source": [
    "Rational值\n",
    "***\n",
    "SymPy 具有用于处理有理数的Rational。 有理数是可以表示为两个整数（分子 p 和非零分母 q）的商或分数 p / q 的任何数字。"
   ]
  },
  {
   "cell_type": "code",
   "execution_count": 30,
   "metadata": {},
   "outputs": [
    {
     "data": {
      "image/png": "[encoded data removed]",
      "text/latex": [
       "$\\displaystyle \\frac{3602879701896397}{36028797018963968}$"
      ],
      "text/plain": [
       " 3602879701896397\n",
       "─────────────────\n",
       "36028797018963968"
      ]
     },
     "execution_count": 30,
     "metadata": {},
     "output_type": "execute_result"
    },
    {
     "data": {
      "image/png": "[encoded data removed]",
      "text/latex": [
       "$\\displaystyle \\frac{3602879701896397}{36028797018963968}$"
      ],
      "text/plain": [
       " 3602879701896397\n",
       "─────────────────\n",
       "36028797018963968"
      ]
     },
     "execution_count": 30,
     "metadata": {},
     "output_type": "execute_result"
    },
    {
     "data": {
      "image/png": "[encoded data removed]",
      "text/latex": [
       "$\\displaystyle \\frac{32425917317067573}{36028797018963968}$"
      ],
      "text/plain": [
       "32425917317067573\n",
       "─────────────────\n",
       "36028797018963968"
      ]
     },
     "execution_count": 30,
     "metadata": {},
     "output_type": "execute_result"
    },
    {
     "data": {
      "image/png": "[encoded data removed]",
      "text/latex": [
       "$\\displaystyle 0.9$"
      ],
      "text/plain": [
       "0.900000000000000"
      ]
     },
     "execution_count": 30,
     "metadata": {},
     "output_type": "execute_result"
    },
    {
     "data": {
      "image/png": "[encoded data removed]",
      "text/latex": [
       "$\\displaystyle 0.9000000000000001$"
      ],
      "text/plain": [
       "0.9000000000000001"
      ]
     },
     "execution_count": 30,
     "metadata": {},
     "output_type": "execute_result"
    }
   ],
   "source": [
    "from sympy import Rational\n",
    "\n",
    "r1 = Rational(1/10)\n",
    "r2 = Rational(1/10)\n",
    "r3 = Rational(1/10)\n",
    "val = (r1 + r2 + r3) * 3\n",
    "r1\n",
    "r2\n",
    "val\n",
    "val.evalf()\n",
    "val2 = (1/10 + 1/10 + 1/10) * 3\n",
    "val2"
   ]
  },
  {
   "cell_type": "code",
   "execution_count": 31,
   "metadata": {},
   "outputs": [
    {
     "data": {
      "image/png": "[encoded data removed]",
      "text/latex": [
       "$\\displaystyle \\sqrt{2} \\sqrt{2}$"
      ],
      "text/plain": [
       "√2⋅√2"
      ]
     },
     "execution_count": 31,
     "metadata": {},
     "output_type": "execute_result"
    },
    {
     "data": {
      "text/plain": [
       "'equals to '"
      ]
     },
     "execution_count": 31,
     "metadata": {},
     "output_type": "execute_result"
    },
    {
     "data": {
      "image/png": "[encoded data removed]",
      "text/latex": [
       "$\\displaystyle 2$"
      ],
      "text/plain": [
       "2"
      ]
     },
     "execution_count": 31,
     "metadata": {},
     "output_type": "execute_result"
    }
   ],
   "source": [
    "from sympy import Mul\n",
    "\n",
    "a = sqrt(2)\n",
    "b = sqrt(2)\n",
    "\n",
    "Mul(a,  b, evaluate=False) \n",
    "'equals to '\n",
    "a * b"
   ]
  },
  {
   "cell_type": "markdown",
   "metadata": {},
   "source": [
    "# 符号计算"
   ]
  },
  {
   "cell_type": "markdown",
   "metadata": {},
   "source": [
    "## 定义符号和符号运算\n",
    "* Symbol\n",
    "* symbols"
   ]
  },
  {
   "cell_type": "code",
   "execution_count": 32,
   "metadata": {},
   "outputs": [],
   "source": [
    "from sympy import Symbol,symbols"
   ]
  },
  {
   "cell_type": "code",
   "execution_count": 33,
   "metadata": {},
   "outputs": [
    {
     "data": {
      "image/png": "[encoded data removed]",
      "text/latex": [
       "$\\displaystyle x$"
      ],
      "text/plain": [
       "x"
      ]
     },
     "execution_count": 33,
     "metadata": {},
     "output_type": "execute_result"
    },
    {
     "data": {
      "image/png": "[encoded data removed]",
      "text/latex": [
       "$\\displaystyle 2 x + 1$"
      ],
      "text/plain": [
       "2⋅x + 1"
      ]
     },
     "execution_count": 33,
     "metadata": {},
     "output_type": "execute_result"
    },
    {
     "data": {
      "image/png": "[encoded data removed]",
      "text/latex": [
       "$\\displaystyle 2 x + 1$"
      ],
      "text/plain": [
       "2⋅x + 1"
      ]
     },
     "execution_count": 33,
     "metadata": {},
     "output_type": "execute_result"
    }
   ],
   "source": [
    "x = Symbol('x')\n",
    "a = Symbol('x')\n",
    "x\n",
    "2*x+1\n",
    "2*a+1"
   ]
  },
  {
   "cell_type": "code",
   "execution_count": 34,
   "metadata": {},
   "outputs": [
    {
     "data": {
      "image/png": "[encoded data removed]",
      "text/latex": [
       "$\\displaystyle x$"
      ],
      "text/plain": [
       "x"
      ]
     },
     "execution_count": 34,
     "metadata": {},
     "output_type": "execute_result"
    },
    {
     "data": {
      "image/png": "[encoded data removed]",
      "text/latex": [
       "$\\displaystyle y$"
      ],
      "text/plain": [
       "y"
      ]
     },
     "execution_count": 34,
     "metadata": {},
     "output_type": "execute_result"
    },
    {
     "data": {
      "image/png": "[encoded data removed]",
      "text/latex": [
       "$\\displaystyle z$"
      ],
      "text/plain": [
       "z"
      ]
     },
     "execution_count": 34,
     "metadata": {},
     "output_type": "execute_result"
    }
   ],
   "source": [
    "x,y,z=symbols(\"x y z\") # 要以空格或逗号分隔\n",
    "x\n",
    "y\n",
    "z"
   ]
  },
  {
   "cell_type": "markdown",
   "metadata": {},
   "source": [
    "## 分解和展开表达式\n",
    "* fractor(): 分解表达式\n",
    "* expand(): 展开表达式"
   ]
  },
  {
   "cell_type": "code",
   "execution_count": 35,
   "metadata": {},
   "outputs": [
    {
     "data": {
      "image/png": "[encoded data removed]",
      "text/latex": [
       "$\\displaystyle \\left(x - y\\right) \\left(x + y\\right)$"
      ],
      "text/plain": [
       "(x - y)⋅(x + y)"
      ]
     },
     "execution_count": 35,
     "metadata": {},
     "output_type": "execute_result"
    },
    {
     "data": {
      "image/png": "[encoded data removed]",
      "text/latex": [
       "$\\displaystyle x^{2} - y^{2}$"
      ],
      "text/plain": [
       " 2    2\n",
       "x  - y "
      ]
     },
     "execution_count": 35,
     "metadata": {},
     "output_type": "execute_result"
    }
   ],
   "source": [
    "from sympy import factor,expand\n",
    "x,y=symbols(\"x y\")\n",
    "expr = x**2-y**2\n",
    "factors = factor(expr)\n",
    "factors\n",
    "expand(factors)"
   ]
  },
  {
   "cell_type": "markdown",
   "metadata": {},
   "source": [
    "## 简化表达式\n",
    "* simplify()  \n",
    "    * 简化表达式\n",
    "    * 将字符串转化为数学表达式"
   ]
  },
  {
   "cell_type": "code",
   "execution_count": 36,
   "metadata": {},
   "outputs": [
    {
     "data": {
      "image/png": "[encoded data removed]",
      "text/latex": [
       "$\\displaystyle \\tan{\\left(x \\right)}$"
      ],
      "text/plain": [
       "tan(x)"
      ]
     },
     "execution_count": 36,
     "metadata": {},
     "output_type": "execute_result"
    },
    {
     "data": {
      "image/png": "[encoded data removed]",
      "text/latex": [
       "$\\displaystyle 3 x^{2} + 2 x y + y^{2}$"
      ],
      "text/plain": [
       "   2            2\n",
       "3⋅x  + 2⋅x⋅y + y "
      ]
     },
     "execution_count": 36,
     "metadata": {},
     "output_type": "execute_result"
    }
   ],
   "source": [
    "from sympy import sin, cos\n",
    "expr1 = sin(x) / cos(x)\n",
    "simplify(expr1)\n",
    "expr_str = \"3*x*x+2*x*y+y*y\"\n",
    "simplify(expr_str)"
   ]
  },
  {
   "cell_type": "markdown",
   "metadata": {},
   "source": [
    "## 比较表达式\n",
    "* equals()"
   ]
  },
  {
   "cell_type": "code",
   "execution_count": 37,
   "metadata": {},
   "outputs": [
    {
     "data": {
      "text/plain": [
       "True"
      ]
     },
     "execution_count": 37,
     "metadata": {},
     "output_type": "execute_result"
    },
    {
     "data": {
      "text/plain": [
       "False"
      ]
     },
     "execution_count": 37,
     "metadata": {},
     "output_type": "execute_result"
    }
   ],
   "source": [
    "from sympy import sin, cos\n",
    "\n",
    "x = Symbol('x')\n",
    "\n",
    "a = cos(x)**2 - sin(x)**2\n",
    "b = cos(2*x)\n",
    "\n",
    "a.equals(b)\n",
    "# we cannot use == operator\n",
    "a == b"
   ]
  },
  {
   "cell_type": "markdown",
   "metadata": {},
   "source": [
    "## 求值表达式\n",
    "* evalf()"
   ]
  },
  {
   "cell_type": "code",
   "execution_count": 38,
   "metadata": {},
   "outputs": [
    {
     "data": {
      "image/png": "[encoded data removed]",
      "text/latex": [
       "$\\displaystyle 3.14159265358979$"
      ],
      "text/plain": [
       "3.14159265358979"
      ]
     },
     "execution_count": 38,
     "metadata": {},
     "output_type": "execute_result"
    },
    {
     "data": {
      "image/png": "[encoded data removed]",
      "text/latex": [
       "$\\displaystyle 3.14159265358979323846264338328$"
      ],
      "text/plain": [
       "3.14159265358979323846264338328"
      ]
     },
     "execution_count": 38,
     "metadata": {},
     "output_type": "execute_result"
    }
   ],
   "source": [
    "pi.evalf()\n",
    "pi.evalf(30)\n"
   ]
  },
  {
   "cell_type": "markdown",
   "metadata": {},
   "source": [
    "## 用值代替符号\n",
    "* subs()  \n",
    "    subs(x,1)  \n",
    "    subs({x:1})"
   ]
  },
  {
   "cell_type": "markdown",
   "metadata": {},
   "source": [
    "* Float, Integer, Integers"
   ]
  },
  {
   "cell_type": "code",
   "execution_count": 39,
   "metadata": {},
   "outputs": [
    {
     "data": {
      "image/png": "[encoded data removed]",
      "text/latex": [
       "$\\displaystyle 3.14$"
      ],
      "text/plain": [
       "3.14000000000000"
      ]
     },
     "execution_count": 39,
     "metadata": {},
     "output_type": "execute_result"
    },
    {
     "data": {
      "image/png": "[encoded data removed]",
      "text/latex": [
       "$\\displaystyle 3$"
      ],
      "text/plain": [
       "3"
      ]
     },
     "execution_count": 39,
     "metadata": {},
     "output_type": "execute_result"
    },
    {
     "data": {
      "text/plain": [
       "sympy.core.numbers.Float"
      ]
     },
     "execution_count": 39,
     "metadata": {},
     "output_type": "execute_result"
    },
    {
     "data": {
      "image/png": "[encoded data removed]",
      "text/latex": [
       "$\\displaystyle \\mathbb{R}$"
      ],
      "text/plain": [
       "ℝ"
      ]
     },
     "execution_count": 39,
     "metadata": {},
     "output_type": "execute_result"
    },
    {
     "data": {
      "image/png": "[encoded data removed]",
      "text/latex": [
       "$\\displaystyle \\mathbb{Z}$"
      ],
      "text/plain": [
       "ℤ"
      ]
     },
     "execution_count": 39,
     "metadata": {},
     "output_type": "execute_result"
    },
    {
     "data": {
      "image/png": "[encoded data removed]",
      "text/latex": [
       "$\\displaystyle 0$"
      ],
      "text/plain": [
       "0"
      ]
     },
     "execution_count": 39,
     "metadata": {},
     "output_type": "execute_result"
    },
    {
     "data": {
      "image/png": "[encoded data removed]",
      "text/latex": [
       "$\\displaystyle UniversalSet\\left(\\right)$"
      ],
      "text/plain": [
       "UniversalSet()"
      ]
     },
     "execution_count": 39,
     "metadata": {},
     "output_type": "execute_result"
    },
    {
     "data": {
      "image/png": "[encoded data removed]",
      "text/latex": [
       "$\\displaystyle \\pi$"
      ],
      "text/plain": [
       "π"
      ]
     },
     "execution_count": 39,
     "metadata": {},
     "output_type": "execute_result"
    },
    {
     "data": {
      "image/png": "[encoded data removed]",
      "text/latex": [
       "$\\displaystyle 1$"
      ],
      "text/plain": [
       "1"
      ]
     },
     "execution_count": 39,
     "metadata": {},
     "output_type": "execute_result"
    },
    {
     "data": {
      "image/png": "[encoded data removed]",
      "text/latex": [
       "$\\displaystyle \\infty$"
      ],
      "text/plain": [
       "∞"
      ]
     },
     "execution_count": 39,
     "metadata": {},
     "output_type": "execute_result"
    }
   ],
   "source": [
    "from sympy import Float, Integer, Integers, S\n",
    "Float(\"3.14\")\n",
    "Integer(\"3\")\n",
    "type(Float(\"3.14\"))\n",
    "# help(Integers)\n",
    "S.Reals\n",
    "S.Integers\n",
    "S.Zero\n",
    "S.UniversalSet\n",
    "S.Pi\n",
    "S.One\n",
    "S.Infinity"
   ]
  },
  {
   "cell_type": "code",
   "execution_count": 5,
   "metadata": {},
   "outputs": [
    {
     "data": {
      "text/latex": [
       "$\\displaystyle 33$"
      ],
      "text/plain": [
       "33"
      ]
     },
     "execution_count": 5,
     "metadata": {},
     "output_type": "execute_result"
    },
    {
     "data": {
      "text/latex": [
       "$\\displaystyle 3.33333333333333345669$"
      ],
      "text/plain": [
       "3.33333333333333345669"
      ]
     },
     "execution_count": 5,
     "metadata": {},
     "output_type": "execute_result"
    },
    {
     "data": {
      "text/latex": [
       "$\\displaystyle y^{2} + 2 y \\left(1 - y\\right) + 3 \\left(1 - y\\right)^{2}$"
      ],
      "text/plain": [
       "y**2 + 2*y*(1 - y) + 3*(1 - y)**2"
      ]
     },
     "execution_count": 5,
     "metadata": {},
     "output_type": "execute_result"
    },
    {
     "data": {
      "text/latex": [
       "$\\displaystyle 2 y^{2} - 4 y + 3$"
      ],
      "text/plain": [
       "2*y**2 - 4*y + 3"
      ]
     },
     "execution_count": 5,
     "metadata": {},
     "output_type": "execute_result"
    },
    {
     "data": {
      "text/latex": [
       "$\\displaystyle 1$"
      ],
      "text/plain": [
       "1"
      ]
     },
     "execution_count": 5,
     "metadata": {},
     "output_type": "execute_result"
    }
   ],
   "source": [
    "x, y = symbols('x y')\n",
    "\n",
    "expr = 3*x*x+2*x*y+y*y\n",
    "expr1 = expr.subs({x:(1-y)})\n",
    "expr.subs({x:2, y:3})\n",
    "\n",
    "(1/x).evalf(subs={x: 0.3}, n=21) # n 总位数，精度不够\n",
    "# (1/x).subs({x: 3.0})\n",
    "# (1/x).subs({x: 3.0}, n=21)# 位数不足，与上面相同\n",
    "# (1/x).subs({x: 3.0}).evalf(21)# 不好\n",
    "expr1\n",
    "simplify(expr1)\n",
    "expr1.subs(y,1)"
   ]
  },
  {
   "cell_type": "markdown",
   "metadata": {},
   "source": [
    "## 区间操作\n",
    "* Interval"
   ]
  },
  {
   "cell_type": "code",
   "execution_count": 41,
   "metadata": {},
   "outputs": [
    {
     "data": {
      "image/png": "[encoded data removed]",
      "text/latex": [
       "$\\displaystyle \\left(-\\infty, 0\\right) \\cup \\left(1, \\infty\\right)$"
      ],
      "text/plain": [
       "(-∞, 0) ∪ (1, ∞)"
      ]
     },
     "execution_count": 41,
     "metadata": {},
     "output_type": "execute_result"
    },
    {
     "data": {
      "image/png": "[encoded data removed]",
      "text/latex": [
       "$\\displaystyle \\left[0, 1\\right]$"
      ],
      "text/plain": [
       "[0, 1]"
      ]
     },
     "execution_count": 41,
     "metadata": {},
     "output_type": "execute_result"
    },
    {
     "data": {
      "text/plain": [
       "True"
      ]
     },
     "execution_count": 41,
     "metadata": {},
     "output_type": "execute_result"
    },
    {
     "data": {
      "image/png": "[encoded data removed]",
      "text/latex": [
       "$\\displaystyle 3$"
      ],
      "text/plain": [
       "3"
      ]
     },
     "execution_count": 41,
     "metadata": {},
     "output_type": "execute_result"
    },
    {
     "data": {
      "image/png": "[encoded data removed]",
      "text/latex": [
       "$\\displaystyle \\left[0, 1\\right] \\cup \\left[2, 3\\right]$"
      ],
      "text/plain": [
       "[0, 1] ∪ [2, 3]"
      ]
     },
     "execution_count": 41,
     "metadata": {},
     "output_type": "execute_result"
    },
    {
     "data": {
      "image/png": "[encoded data removed]",
      "text/latex": [
       "$\\displaystyle \\left\\{1\\right\\}$"
      ],
      "text/plain": [
       "{1}"
      ]
     },
     "execution_count": 41,
     "metadata": {},
     "output_type": "execute_result"
    },
    {
     "data": {
      "image/png": "[encoded data removed]",
      "text/latex": [
       "$\\displaystyle \\left[1, 2\\right]$"
      ],
      "text/plain": [
       "[1, 2]"
      ]
     },
     "execution_count": 41,
     "metadata": {},
     "output_type": "execute_result"
    },
    {
     "data": {
      "image/png": "[encoded data removed]",
      "text/latex": [
       "$\\displaystyle \\left(2, 3\\right]$"
      ],
      "text/plain": [
       "(2, 3]"
      ]
     },
     "execution_count": 41,
     "metadata": {},
     "output_type": "execute_result"
    },
    {
     "data": {
      "image/png": "[encoded data removed]",
      "text/latex": [
       "$\\displaystyle \\left(2, 3\\right]$"
      ],
      "text/plain": [
       "(2, 3]"
      ]
     },
     "execution_count": 41,
     "metadata": {},
     "output_type": "execute_result"
    },
    {
     "data": {
      "image/png": "[encoded data removed]",
      "text/latex": [
       "$\\displaystyle \\left\\{-4, -3, \\ldots, 4\\right\\}$"
      ],
      "text/plain": [
       "{-4, -3, …, 4}"
      ]
     },
     "execution_count": 41,
     "metadata": {},
     "output_type": "execute_result"
    },
    {
     "data": {
      "text/latex": [
       "$\\displaystyle \\mathbb{Z} \\setminus \\left[-4, 4\\right]$"
      ],
      "text/plain": [
       "ℤ \\ [-4, 4]"
      ]
     },
     "execution_count": 41,
     "metadata": {},
     "output_type": "execute_result"
    },
    {
     "data": {
      "image/png": "[encoded data removed]",
      "text/latex": [
       "$\\displaystyle 1$"
      ],
      "text/plain": [
       "1"
      ]
     },
     "execution_count": 41,
     "metadata": {},
     "output_type": "execute_result"
    },
    {
     "data": {
      "image/png": "[encoded data removed]",
      "text/latex": [
       "$\\displaystyle 2$"
      ],
      "text/plain": [
       "2"
      ]
     },
     "execution_count": 41,
     "metadata": {},
     "output_type": "execute_result"
    }
   ],
   "source": [
    "from sympy import Interval, Union, Intersection,Complement,UniversalSet,EmptySet\n",
    "Interval(0, 1).complement(S.Reals)\n",
    "Interval(0, 1)\n",
    "0.5 in Interval(0, 1)\n",
    "Union(Interval(0, 1), Interval(2, 3)).sup\n",
    "Union(Interval(0, 1), Interval(2, 3))\n",
    "Intersection(Interval(0, 1), Interval(1, 3))\n",
    "Interval(1, 3).intersect(Interval(1, 2))\n",
    "Complement(Interval(1, 3), Interval(1, 2))\n",
    "Interval(1, 2).complement(Interval(1, 3)) # 注意顺序\n",
    "Interval(1, 3).complement(Interval(1, 2)) \n",
    "S.Integers.intersect(Interval(-4, 4))\n",
    "Interval(-4, 4).complement(S.Integers)\n",
    "Interval(0, 1).measure # 勒贝格常数\n",
    "Union(Interval(0, 1), Interval(2, 3)).measure"
   ]
  },
  {
   "cell_type": "code",
   "execution_count": 42,
   "metadata": {},
   "outputs": [
    {
     "data": {
      "image/png": "[encoded data removed]",
      "text/latex": [
       "$\\displaystyle 0$"
      ],
      "text/plain": [
       "0"
      ]
     },
     "execution_count": 42,
     "metadata": {},
     "output_type": "execute_result"
    },
    {
     "data": {
      "image/png": "[encoded data removed]",
      "text/latex": [
       "$\\displaystyle 3$"
      ],
      "text/plain": [
       "3"
      ]
     },
     "execution_count": 42,
     "metadata": {},
     "output_type": "execute_result"
    },
    {
     "data": {
      "text/plain": [
       "False"
      ]
     },
     "execution_count": 42,
     "metadata": {},
     "output_type": "execute_result"
    },
    {
     "data": {
      "image/png": "[encoded data removed]",
      "text/latex": [
       "$\\displaystyle \\left[0, 1\\right]$"
      ],
      "text/plain": [
       "[0, 1]"
      ]
     },
     "execution_count": 42,
     "metadata": {},
     "output_type": "execute_result"
    },
    {
     "data": {
      "image/png": "[encoded data removed]",
      "text/latex": [
       "$\\displaystyle \\left(0, 1\\right)$"
      ],
      "text/plain": [
       "(0, 1)"
      ]
     },
     "execution_count": 42,
     "metadata": {},
     "output_type": "execute_result"
    },
    {
     "data": {
      "image/png": "[encoded data removed]",
      "text/latex": [
       "$\\displaystyle \\left\\{0, 1\\right\\}$"
      ],
      "text/plain": [
       "{0, 1}"
      ]
     },
     "execution_count": 42,
     "metadata": {},
     "output_type": "execute_result"
    },
    {
     "data": {
      "image/png": "[encoded data removed]",
      "text/latex": [
       "$\\displaystyle \\emptyset$"
      ],
      "text/plain": [
       "∅"
      ]
     },
     "execution_count": 42,
     "metadata": {},
     "output_type": "execute_result"
    }
   ],
   "source": [
    "# infimum 下确界.inf\n",
    "Interval(0, 1).inf\n",
    "# supremum 上确界\n",
    "Interval(2, 3).sup\n",
    "1 in Interval(0, 1).interior\n",
    "Interval(0, 1).closure # 闭集\n",
    "Interval(0, 1).interior  # 开集\n",
    "Interval(0, 1).boundary # 边界\n",
    "Interval(0, 1).boundary.interior"
   ]
  },
  {
   "cell_type": "markdown",
   "metadata": {},
   "source": []
  },
  {
   "cell_type": "markdown",
   "metadata": {},
   "source": [
    "## 表达式乘法\n",
    "* \\*号"
   ]
  },
  {
   "cell_type": "code",
   "execution_count": 43,
   "metadata": {},
   "outputs": [
    {
     "data": {
      "image/png": "[encoded data removed]",
      "text/latex": [
       "$\\displaystyle \\left(x^{2} + 2 x\\right) \\left(x^{3} + 2 x^{2} + 3 x\\right)$"
      ],
      "text/plain": [
       "⎛ 2      ⎞ ⎛ 3      2      ⎞\n",
       "⎝x  + 2⋅x⎠⋅⎝x  + 2⋅x  + 3⋅x⎠"
      ]
     },
     "execution_count": 43,
     "metadata": {},
     "output_type": "execute_result"
    },
    {
     "data": {
      "image/png": "[encoded data removed]",
      "text/latex": [
       "$\\displaystyle x^{2} \\left(x + 2\\right) \\left(x^{2} + 2 x + 3\\right)$"
      ],
      "text/plain": [
       " 2         ⎛ 2          ⎞\n",
       "x ⋅(x + 2)⋅⎝x  + 2⋅x + 3⎠"
      ]
     },
     "execution_count": 43,
     "metadata": {},
     "output_type": "execute_result"
    },
    {
     "data": {
      "image/png": "[encoded data removed]",
      "text/latex": [
       "$\\displaystyle x^{5} + 4 x^{4} + 7 x^{3} + 6 x^{2}$"
      ],
      "text/plain": [
       " 5      4      3      2\n",
       "x  + 4⋅x  + 7⋅x  + 6⋅x "
      ]
     },
     "execution_count": 43,
     "metadata": {},
     "output_type": "execute_result"
    }
   ],
   "source": [
    "expr1 = x**2+2*x\n",
    "expr2 = x**3+2*x**2+3*x\n",
    "expr = expr1*expr2\n",
    "expr\n",
    "simplify(expr)\n",
    "expand(expr)"
   ]
  },
  {
   "cell_type": "markdown",
   "metadata": {},
   "source": [
    "## 使表达式整齐输出\n",
    "* pprint()\n",
    "* pretty()"
   ]
  },
  {
   "cell_type": "code",
   "execution_count": 44,
   "metadata": {},
   "outputs": [
    {
     "data": {
      "image/png": "[encoded data removed]",
      "text/latex": [
       "$\\displaystyle x^{2} + 2 x y + y^{2}$"
      ],
      "text/plain": [
       " 2            2\n",
       "x  + 2⋅x⋅y + y "
      ]
     },
     "execution_count": 44,
     "metadata": {},
     "output_type": "execute_result"
    },
    {
     "name": "stdout",
     "output_type": "stream",
     "text": [
      " 2            2\n",
      "x  + 2⋅x⋅y + y \n"
     ]
    },
    {
     "data": {
      "text/plain": [
       "' 2            2\\nx  + 2⋅x⋅y + y '"
      ]
     },
     "execution_count": 44,
     "metadata": {},
     "output_type": "execute_result"
    }
   ],
   "source": [
    "from sympy import pprint, init_printing, pretty\n",
    "init_printing(use_unicode=True) # 对于某些字符，我们需要启用 unicode 支持。\n",
    "expr = x*x+2*x*y+y*y\n",
    "expr\n",
    "pprint(expr)\n",
    "pretty(expr) # 不太好用"
   ]
  },
  {
   "cell_type": "code",
   "execution_count": 45,
   "metadata": {},
   "outputs": [
    {
     "name": "stdout",
     "output_type": "stream",
     "text": [
      "   2          \n",
      "2⋅x  + 2⋅x + 1\n"
     ]
    }
   ],
   "source": [
    "from sympy import init_printing\n",
    "expr = 1+2*x+2*x**2\n",
    "# pprint(expr)\n",
    "init_printing(order=\"grlex\") # 有问题，没什么作用\n",
    "pprint(expr)"
   ]
  },
  {
   "cell_type": "markdown",
   "metadata": {},
   "source": [
    "## 运算符"
   ]
  },
  {
   "cell_type": "code",
   "execution_count": 7,
   "metadata": {},
   "outputs": [
    {
     "data": {
      "text/latex": [
       "$\\displaystyle x + y$"
      ],
      "text/plain": [
       "x + y"
      ]
     },
     "execution_count": 7,
     "metadata": {},
     "output_type": "execute_result"
    },
    {
     "data": {
      "text/latex": [
       "$\\displaystyle x y$"
      ],
      "text/plain": [
       "x*y"
      ]
     },
     "execution_count": 7,
     "metadata": {},
     "output_type": "execute_result"
    },
    {
     "data": {
      "text/latex": [
       "$\\displaystyle x!$"
      ],
      "text/plain": [
       "factorial(x)"
      ]
     },
     "execution_count": 7,
     "metadata": {},
     "output_type": "execute_result"
    },
    {
     "data": {
      "text/latex": [
       "$\\displaystyle 24$"
      ],
      "text/plain": [
       "24"
      ]
     },
     "execution_count": 7,
     "metadata": {},
     "output_type": "execute_result"
    }
   ],
   "source": [
    "from sympy import Add,  Mul, factorial\n",
    "x,y = symbols(\"x y\")\n",
    "Add(x,y)\n",
    "Mul(x,y)\n",
    "# 阶乘\n",
    "f = factorial(x)\n",
    "f\n",
    "f.subs(x,4)"
   ]
  },
  {
   "cell_type": "code",
   "execution_count": 8,
   "metadata": {},
   "outputs": [
    {
     "data": {
      "text/plain": [
       "{2: 3, 3: 1, 5: 1}"
      ]
     },
     "execution_count": 8,
     "metadata": {},
     "output_type": "execute_result"
    },
    {
     "data": {
      "text/plain": [
       "{2: 3, 3: 1}"
      ]
     },
     "execution_count": 8,
     "metadata": {},
     "output_type": "execute_result"
    },
    {
     "data": {
      "text/plain": [
       "{2: 2, 3: 1}"
      ]
     },
     "execution_count": 8,
     "metadata": {},
     "output_type": "execute_result"
    }
   ],
   "source": [
    "# factorint 整数次方分解\n",
    "factorint(120)\n",
    "factorint(24)\n",
    "factorint(12)"
   ]
  },
  {
   "cell_type": "code",
   "execution_count": 10,
   "metadata": {},
   "outputs": [
    {
     "data": {
      "text/latex": [
       "$\\displaystyle \\max\\left(0, x\\right)$"
      ],
      "text/plain": [
       "Max(0, x)"
      ]
     },
     "execution_count": 10,
     "metadata": {},
     "output_type": "execute_result"
    },
    {
     "data": {
      "text/latex": [
       "$\\displaystyle 1$"
      ],
      "text/plain": [
       "1"
      ]
     },
     "execution_count": 10,
     "metadata": {},
     "output_type": "execute_result"
    }
   ],
   "source": [
    "# Max, Min\n",
    "Max(x,0)\n",
    "Max(x,0).subs(x,1)"
   ]
  },
  {
   "cell_type": "code",
   "execution_count": 47,
   "metadata": {},
   "outputs": [
    {
     "data": {
      "image/png": "[encoded data removed]",
      "text/latex": [
       "$\\displaystyle \\left( 7, \\  \\left( 3 x, \\  3 y, \\  4 x y\\right)\\right)$"
      ],
      "text/plain": [
       "(7, (3⋅x, 3⋅y, 4⋅x⋅y))"
      ]
     },
     "execution_count": 47,
     "metadata": {},
     "output_type": "execute_result"
    },
    {
     "data": {
      "image/png": "[encoded data removed]",
      "text/latex": [
       "$\\displaystyle \\left\\{ 1 : 4, \\  x : 3, \\  a x : 1\\right\\}$"
      ],
      "text/plain": [
       "defaultdict(int, {1: 4, x: 3, a⋅x: 1})"
      ]
     },
     "execution_count": 47,
     "metadata": {},
     "output_type": "execute_result"
    },
    {
     "data": {
      "image/png": "[encoded data removed]",
      "text/latex": [
       "$\\displaystyle \\left( 3, \\  x + 1 + \\sqrt{2}\\right)$"
      ],
      "text/plain": [
       "(3, x + 1 + √2)"
      ]
     },
     "execution_count": 47,
     "metadata": {},
     "output_type": "execute_result"
    },
    {
     "data": {
      "image/png": "[encoded data removed]",
      "text/latex": [
       "$\\displaystyle \\left( 7, \\  9\\right)$"
      ],
      "text/plain": [
       "(7, 9)"
      ]
     },
     "execution_count": 47,
     "metadata": {},
     "output_type": "execute_result"
    },
    {
     "data": {
      "image/png": "[encoded data removed]",
      "text/latex": [
       "$\\displaystyle \\left( 5, \\  3 x - 2 y\\right)$"
      ],
      "text/plain": [
       "(5, 3⋅x - 2⋅y)"
      ]
     },
     "execution_count": 47,
     "metadata": {},
     "output_type": "execute_result"
    },
    {
     "data": {
      "image/png": "[encoded data removed]",
      "text/latex": [
       "$\\displaystyle \\left( \\left( \\frac{1}{x^{5}}, \\  O\\left(\\frac{1}{x^{5}}\\right)\\right)\\right)$"
      ],
      "text/plain": [
       "⎛⎛1    ⎛1 ⎞⎞ ⎞\n",
       "⎜⎜──, O⎜──⎟⎟,⎟\n",
       "⎜⎜ 5   ⎜ 5⎟⎟ ⎟\n",
       "⎝⎝x    ⎝x ⎠⎠ ⎠"
      ]
     },
     "execution_count": 47,
     "metadata": {},
     "output_type": "execute_result"
    },
    {
     "data": {
      "image/png": "[encoded data removed]",
      "text/latex": [
       "$\\displaystyle \\left( 2, \\  x + 2 y\\right)$"
      ],
      "text/plain": [
       "(2, x + 2⋅y)"
      ]
     },
     "execution_count": 47,
     "metadata": {},
     "output_type": "execute_result"
    },
    {
     "data": {
      "image/png": "[encoded data removed]",
      "text/latex": [
       "$\\displaystyle \\left( 2, \\  x \\left(x + 1\\right) + 1\\right)$"
      ],
      "text/plain": [
       "(2, x⋅(x + 1) + 1)"
      ]
     },
     "execution_count": 47,
     "metadata": {},
     "output_type": "execute_result"
    }
   ],
   "source": [
    "from sympy import add, mul, div\n",
    "from sympy.abc import a, x, y\n",
    "# help(add)\n",
    "(3*y+7 + 3*x +4*x*y).as_coeff_add()\n",
    "(3*x + a*x + 4).as_coefficients_dict() # 系数字典\n",
    "(3*x +3 + 3*sqrt(2)).as_content_primitive()\n",
    "(7 + 9*I).as_real_imag()\n",
    "(3*x - 2*y + 5).as_two_terms()\n",
    "(x + 1 + 1/x**5).extract_leading_order(x)\n",
    "(2*x + 4*y).primitive()\n",
    "((2 + 2*x)*x + 2).as_content_primitive()"
   ]
  },
  {
   "cell_type": "code",
   "execution_count": 48,
   "metadata": {},
   "outputs": [
    {
     "data": {
      "image/png": "[encoded data removed]",
      "text/latex": [
       "$\\displaystyle x$"
      ],
      "text/plain": [
       "x"
      ]
     },
     "execution_count": 48,
     "metadata": {},
     "output_type": "execute_result"
    },
    {
     "data": {
      "text/plain": [
       "True"
      ]
     },
     "execution_count": 48,
     "metadata": {},
     "output_type": "execute_result"
    },
    {
     "data": {
      "image/png": "[encoded data removed]",
      "text/latex": [
       "$\\displaystyle \\left\\{ x : b + c\\right\\}$"
      ],
      "text/plain": [
       "{x: b + c}"
      ]
     },
     "execution_count": 48,
     "metadata": {},
     "output_type": "execute_result"
    }
   ],
   "source": [
    "from sympy import symbols, Wild, Basic\n",
    "a, b, c = symbols('a b c')\n",
    "x = Wild('x')\n",
    "x\n",
    "Basic(a + x, x).matches(Basic(a + b, c)) is None\n",
    "Basic(a + x, x).matches(Basic(a + b + c, b + c))\n"
   ]
  },
  {
   "cell_type": "code",
   "execution_count": 49,
   "metadata": {},
   "outputs": [],
   "source": [
    "from sympy import summation, factorial"
   ]
  },
  {
   "cell_type": "code",
   "execution_count": 50,
   "metadata": {},
   "outputs": [
    {
     "data": {
      "image/png": "[encoded data removed]",
      "text/latex": [
       "$\\displaystyle 1.71828182845905$"
      ],
      "text/plain": [
       "1.71828182845905"
      ]
     },
     "execution_count": 50,
     "metadata": {},
     "output_type": "execute_result"
    },
    {
     "data": {
      "text/plain": [
       "'\\nevalf'"
      ]
     },
     "execution_count": 50,
     "metadata": {},
     "output_type": "execute_result"
    },
    {
     "data": {
      "image/png": "[encoded data removed]",
      "text/latex": [
       "$\\displaystyle 0.3333333333$"
      ],
      "text/plain": [
       "0.3333333333"
      ]
     },
     "execution_count": 50,
     "metadata": {},
     "output_type": "execute_result"
    }
   ],
   "source": [
    "n = symbols('n')\n",
    "# 求和\n",
    "s = summation(1 / factorial(n), (n, 1, 100))\n",
    "s.evalf()\n",
    "# print(s.evalf())\n",
    "# 阶乘\n",
    "a = factorial(5)\n",
    "# print(a)\n",
    "'''\n",
    "evalf'''\n",
    "a = sympy.Symbol('a')\n",
    "(1 / a).evalf(subs={a: 3}, n=10)\n",
    "# print((1 / a).evalf(subs={a: 3}, n=10))  # 值代换，保留小数位数\n",
    "\n",
    "# 欧拉公式和复数\n",
    "# E**(I*pi) + 1\n",
    "x = symbols(\"x\", real=True)\n",
    "y = expand(E ** (I * x), complex=True)\n"
   ]
  },
  {
   "cell_type": "markdown",
   "metadata": {},
   "source": [
    "# 序列\n",
    "* sequence()"
   ]
  },
  {
   "cell_type": "code",
   "execution_count": 51,
   "metadata": {},
   "outputs": [
    {
     "data": {
      "image/png": "[encoded data removed]",
      "text/latex": [
       "$\\displaystyle \\left[1, 4, 9, 16, \\ldots\\right]$"
      ],
      "text/plain": [
       "[1, 4, 9, 16, …]"
      ]
     },
     "execution_count": 51,
     "metadata": {},
     "output_type": "execute_result"
    },
    {
     "data": {
      "image/png": "[encoded data removed]",
      "text/latex": [
       "$\\displaystyle \\left[ 1, \\  4, \\  9, \\  16, \\  25, \\  36, \\  49, \\  64, \\  81, \\  100\\right]$"
      ],
      "text/plain": [
       "[1, 4, 9, 16, 25, 36, 49, 64, 81, 100]"
      ]
     },
     "execution_count": 51,
     "metadata": {},
     "output_type": "execute_result"
    },
    {
     "data": {
      "image/png": "[encoded data removed]",
      "text/latex": [
       "$\\displaystyle x^{2}$"
      ],
      "text/plain": [
       " 2\n",
       "x "
      ]
     },
     "execution_count": 51,
     "metadata": {},
     "output_type": "execute_result"
    },
    {
     "data": {
      "image/png": "[encoded data removed]",
      "text/latex": [
       "$\\displaystyle 1$"
      ],
      "text/plain": [
       "1"
      ]
     },
     "execution_count": 51,
     "metadata": {},
     "output_type": "execute_result"
    },
    {
     "data": {
      "image/png": "[encoded data removed]",
      "text/latex": [
       "$\\displaystyle 10$"
      ],
      "text/plain": [
       "10"
      ]
     },
     "execution_count": 51,
     "metadata": {},
     "output_type": "execute_result"
    },
    {
     "data": {
      "image/png": "[encoded data removed]",
      "text/latex": [
       "$\\displaystyle 10$"
      ],
      "text/plain": [
       "10"
      ]
     },
     "execution_count": 51,
     "metadata": {},
     "output_type": "execute_result"
    },
    {
     "data": {
      "image/png": "[encoded data removed]",
      "text/latex": [
       "$\\displaystyle 385$"
      ],
      "text/plain": [
       "385"
      ]
     },
     "execution_count": 51,
     "metadata": {},
     "output_type": "execute_result"
    },
    {
     "data": {
      "image/png": "[encoded data removed]",
      "text/latex": [
       "$\\displaystyle \\left[ 1, \\  2, \\  3, \\  4, \\  1, \\  2, \\  3\\right]$"
      ],
      "text/plain": [
       "[1, 2, 3, 4, 1, 2, 3]"
      ]
     },
     "execution_count": 51,
     "metadata": {},
     "output_type": "execute_result"
    }
   ],
   "source": [
    "from sympy import sequence\n",
    "n = Symbol('n')\n",
    "s = sequence(x**2, (x, 1, 10))\n",
    "s\n",
    "list(s)\n",
    "s.formula\n",
    "s.start\n",
    "s.stop\n",
    "s.length\n",
    "summation(s.formula, (x, s.start, s.stop))\n",
    "s1 = sequence((1, 2, 3, 4), (n, 0, 6))\n",
    "list(s1)\n"
   ]
  },
  {
   "cell_type": "markdown",
   "metadata": {},
   "source": [
    "* SeqPer"
   ]
  },
  {
   "cell_type": "code",
   "execution_count": 52,
   "metadata": {},
   "outputs": [
    {
     "data": {
      "image/png": "[encoded data removed]",
      "text/latex": [
       "$\\displaystyle \\left[1, 4, 27, 4, \\ldots\\right]$"
      ],
      "text/plain": [
       "[1, 4, 27, 4, …]"
      ]
     },
     "execution_count": 52,
     "metadata": {},
     "output_type": "execute_result"
    },
    {
     "data": {
      "image/png": "[encoded data removed]",
      "text/latex": [
       "$\\displaystyle \\left( k, \\  k^{2}, \\  k^{3}\\right)$"
      ],
      "text/plain": [
       "⎛    2   3⎞\n",
       "⎝k, k , k ⎠"
      ]
     },
     "execution_count": 52,
     "metadata": {},
     "output_type": "execute_result"
    },
    {
     "data": {
      "image/png": "[encoded data removed]",
      "text/latex": [
       "$\\displaystyle 3$"
      ],
      "text/plain": [
       "3"
      ]
     },
     "execution_count": 52,
     "metadata": {},
     "output_type": "execute_result"
    },
    {
     "data": {
      "image/png": "[encoded data removed]",
      "text/latex": [
       "$\\displaystyle 4$"
      ],
      "text/plain": [
       "4"
      ]
     },
     "execution_count": 52,
     "metadata": {},
     "output_type": "execute_result"
    },
    {
     "data": {
      "image/png": "[encoded data removed]",
      "text/latex": [
       "$\\displaystyle \\left[ 1, \\  2, \\  3, \\  1, \\  2, \\  3, \\  1, \\  2, \\  3, \\  1\\right]$"
      ],
      "text/plain": [
       "[1, 2, 3, 1, 2, 3, 1, 2, 3, 1]"
      ]
     },
     "execution_count": 52,
     "metadata": {},
     "output_type": "execute_result"
    }
   ],
   "source": [
    "from sympy import SeqPer\n",
    "k = sympy.symbols('k')\n",
    "s = SeqPer((k,k**2,k**3),(k,1,oo))\n",
    "s\n",
    "s.periodical # 周期序列\n",
    "s.period # 周期序列长度\n",
    "s.coeff(2) # 在自变量取特定值时的值\n",
    "s1 = SeqPer((1,2,3),(k,1,10))\n",
    "s1[:]"
   ]
  },
  {
   "cell_type": "markdown",
   "metadata": {},
   "source": [
    "* SeqFormula"
   ]
  },
  {
   "cell_type": "code",
   "execution_count": 53,
   "metadata": {},
   "outputs": [
    {
     "data": {
      "image/png": "[encoded data removed]",
      "text/latex": [
       "$\\displaystyle \\left[\\ldots, -27, -8, -1, 0\\right]$"
      ],
      "text/plain": [
       "[…, -27, -8, -1, 0]"
      ]
     },
     "execution_count": 53,
     "metadata": {},
     "output_type": "execute_result"
    },
    {
     "data": {
      "image/png": "[encoded data removed]",
      "text/latex": [
       "$\\displaystyle n^{3}$"
      ],
      "text/plain": [
       " 3\n",
       "n "
      ]
     },
     "execution_count": 53,
     "metadata": {},
     "output_type": "execute_result"
    }
   ],
   "source": [
    "from sympy import SeqFormula\n",
    "n = Symbol('n')\n",
    "s = SeqFormula(n**3,(n,-oo,0))\n",
    "s\n",
    "s.formula\n",
    "# s[:]"
   ]
  },
  {
   "cell_type": "code",
   "execution_count": 54,
   "metadata": {},
   "outputs": [
    {
     "data": {
      "image/png": "[encoded data removed]",
      "text/latex": [
       "$\\displaystyle \\left[1, 4, 27, 4, \\ldots\\right]$"
      ],
      "text/plain": [
       "[1, 4, 27, 4, …]"
      ]
     },
     "execution_count": 54,
     "metadata": {},
     "output_type": "execute_result"
    },
    {
     "data": {
      "image/png": "[encoded data removed]",
      "text/latex": [
       "$\\displaystyle \\left[1, 4, 27, 4, \\ldots\\right]$"
      ],
      "text/plain": [
       "[1, 4, 27, 4, …]"
      ]
     },
     "execution_count": 54,
     "metadata": {},
     "output_type": "execute_result"
    },
    {
     "data": {
      "image/png": "[encoded data removed]",
      "text/latex": [
       "$\\displaystyle \\left[\\ldots, \\left( 9, \\  -27\\right), \\left( 4, \\  -8\\right), \\left( 1, \\  -1\\right), \\left( 0, \\  0\\right)\\right]$"
      ],
      "text/plain": [
       "[…, (9, -27), (4, -8), (1, -1), (0, 0)]"
      ]
     },
     "execution_count": 54,
     "metadata": {},
     "output_type": "execute_result"
    }
   ],
   "source": [
    "sequence((n,n**2,n**3), (n, 1, 10))\n",
    "SeqPer((k,k**2,k**3),(k,1,oo))\n",
    "SeqFormula((n**2,n**3),(n,-oo,0))"
   ]
  },
  {
   "cell_type": "code",
   "execution_count": 55,
   "metadata": {},
   "outputs": [
    {
     "data": {
      "image/png": "[encoded data removed]",
      "text/latex": [
       "$\\displaystyle \\left[1, 2, 1, 2, \\ldots\\right]$"
      ],
      "text/plain": [
       "[1, 2, 1, 2, …]"
      ]
     },
     "execution_count": 55,
     "metadata": {},
     "output_type": "execute_result"
    },
    {
     "data": {
      "image/png": "[encoded data removed]",
      "text/latex": [
       "$\\displaystyle \\left[2, 4, 2, 4, \\ldots\\right]$"
      ],
      "text/plain": [
       "[2, 4, 2, 4, …]"
      ]
     },
     "execution_count": 55,
     "metadata": {},
     "output_type": "execute_result"
    },
    {
     "data": {
      "image/png": "[encoded data removed]",
      "text/latex": [
       "$\\displaystyle \\left[2, 4\\right]$"
      ],
      "text/plain": [
       "[2, 4]"
      ]
     },
     "execution_count": 55,
     "metadata": {},
     "output_type": "execute_result"
    },
    {
     "data": {
      "image/png": "[encoded data removed]",
      "text/latex": [
       "$\\displaystyle \\left[1, 3, 5, 11, \\ldots\\right]$"
      ],
      "text/plain": [
       "[1, 3, 5, 11, …]"
      ]
     },
     "execution_count": 55,
     "metadata": {},
     "output_type": "execute_result"
    },
    {
     "data": {
      "image/png": "[encoded data removed]",
      "text/latex": [
       "$\\displaystyle \\left[0, 2, 12, 36, \\ldots\\right]$"
      ],
      "text/plain": [
       "[0, 2, 12, 36, …]"
      ]
     },
     "execution_count": 55,
     "metadata": {},
     "output_type": "execute_result"
    },
    {
     "data": {
      "image/png": "[encoded data removed]",
      "text/latex": [
       "$\\displaystyle \\left[1, 3, 5, 11, \\ldots\\right]$"
      ],
      "text/plain": [
       "[1, 3, 5, 11, …]"
      ]
     },
     "execution_count": 55,
     "metadata": {},
     "output_type": "execute_result"
    }
   ],
   "source": [
    "from sympy import SeqAdd\n",
    "SeqAdd(SeqPer((1, 2), (n, 0, oo)), S.EmptySequence)\n",
    "SeqAdd(SeqPer((1, 2), (n, 0, oo)), SeqPer((1, 2), (n, 3, oo)))\n",
    "# SeqPer((1, 2), (n, 0, 5))\n",
    "# SeqPer((1, 2), (n, 4, 10))\n",
    "SeqAdd(SeqPer((1, 2), (n, 0, 5)), SeqPer((1, 2), (n, 4, 10)))\n",
    "SeqAdd(SeqPer((1, 2), (n, 0, oo)), SeqFormula(n ** 2, (n, 0, oo)))\n",
    "SeqAdd(SeqFormula(n ** 3), SeqFormula(n ** 2))\n",
    "SeqAdd(SeqPer((1, 2), (n, 0, oo)), SeqFormula(n ** 2, (n, 0, oo)))"
   ]
  },
  {
   "cell_type": "code",
   "execution_count": 56,
   "metadata": {},
   "outputs": [
    {
     "data": {
      "image/png": "[encoded data removed]",
      "text/latex": [
       "$\\displaystyle EmptySequence\\left(\\right)$"
      ],
      "text/plain": [
       "EmptySequence()"
      ]
     },
     "execution_count": 56,
     "metadata": {},
     "output_type": "execute_result"
    },
    {
     "data": {
      "image/png": "[encoded data removed]",
      "text/latex": [
       "$\\displaystyle \\left[1\\right]$"
      ],
      "text/plain": [
       "[1]"
      ]
     },
     "execution_count": 56,
     "metadata": {},
     "output_type": "execute_result"
    },
    {
     "data": {
      "image/png": "[encoded data removed]",
      "text/latex": [
       "$\\displaystyle \\left[0, 2, 4, 18, \\ldots\\right]$"
      ],
      "text/plain": [
       "[0, 2, 4, 18, …]"
      ]
     },
     "execution_count": 56,
     "metadata": {},
     "output_type": "execute_result"
    },
    {
     "data": {
      "image/png": "[encoded data removed]",
      "text/latex": [
       "$\\displaystyle \\left[0, 1, 32, 243, \\ldots\\right]$"
      ],
      "text/plain": [
       "[0, 1, 32, 243, …]"
      ]
     },
     "execution_count": 56,
     "metadata": {},
     "output_type": "execute_result"
    }
   ],
   "source": [
    "from sympy import SeqMul\n",
    "SeqMul(SeqPer((1, 2), (n, 0, oo)), S.EmptySequence)\n",
    "SeqMul(SeqPer((1, 2), (n, 0, 5)), SeqPer((1, 2), (n, 5, 10)))\n",
    "SeqMul(SeqPer((1, 2), (n, 0, oo)), SeqFormula(n ** 2))\n",
    "SeqMul(SeqFormula(n ** 3), SeqFormula(n ** 2))\n"
   ]
  },
  {
   "cell_type": "markdown",
   "metadata": {},
   "source": [
    "# 函数"
   ]
  },
  {
   "cell_type": "markdown",
   "metadata": {},
   "source": [
    "## 常见函数\n",
    "\n",
    "* 误差函数erf()\n",
    "    $$erf(x)=\\frac{2}{\\sqrt{\\pi}} \\int_0^x {e^{-\\eta^{2}} d\\eta}$$\n",
    "* 正弦积分函数Si()\n",
    "    $$Si(x)=\\int_0^x{\\frac{\\sin(t)}{t}dt}\\quad x>0$$\n",
    "* 伽玛函数gamma()\n",
    "    $$Gamma(x)=\\int_0^\\infty{t^{x-1}e^{-t}dx\\quad(x>0)}$$"
   ]
  },
  {
   "cell_type": "code",
   "execution_count": 57,
   "metadata": {},
   "outputs": [
    {
     "data": {
      "image/png": "[encoded data removed]",
      "text/latex": [
       "$\\displaystyle 0.5204998778$"
      ],
      "text/plain": [
       "0.5204998778"
      ]
     },
     "execution_count": 57,
     "metadata": {},
     "output_type": "execute_result"
    },
    {
     "data": {
      "image/png": "[encoded data removed]",
      "text/latex": [
       "$\\displaystyle 0.9460830704$"
      ],
      "text/plain": [
       "0.9460830704"
      ]
     },
     "execution_count": 57,
     "metadata": {},
     "output_type": "execute_result"
    },
    {
     "data": {
      "image/png": "[encoded data removed]",
      "text/latex": [
       "$\\displaystyle 24$"
      ],
      "text/plain": [
       "24"
      ]
     },
     "execution_count": 57,
     "metadata": {},
     "output_type": "execute_result"
    }
   ],
   "source": [
    "from sympy import erf, Si, gamma\n",
    "#误差函数\n",
    "erf(0.5).evalf(n=10)\n",
    "#正弦积分函数\n",
    "Si(1).evalf(n=10)\n",
    "#伽玛函数\n",
    "gamma(5)"
   ]
  },
  {
   "cell_type": "markdown",
   "metadata": {},
   "source": [
    "## 分段函数\n",
    "* Piecewise"
   ]
  },
  {
   "cell_type": "code",
   "execution_count": 59,
   "metadata": {},
   "outputs": [],
   "source": [
    "from sympy import Piecewise, pi\n",
    "x = symbols('x')"
   ]
  },
  {
   "cell_type": "code",
   "execution_count": 60,
   "metadata": {},
   "outputs": [
    {
     "data": {
      "text/latex": [
       "$\\displaystyle \\begin{cases} x & \\text{for}\\: x > -1 \\wedge x < 1 \\\\- x & \\text{for}\\: x > 1 \\vee x < -1 \\end{cases}$"
      ],
      "text/plain": [
       "⎧x   for x > -1 ∧ x < 1\n",
       "⎨                      \n",
       "⎩-x  for x > 1 ∨ x < -1"
      ]
     },
     "execution_count": 60,
     "metadata": {},
     "output_type": "execute_result"
    },
    {
     "data": {
      "image/png": "[encoded data removed]",
      "text/plain": [
       "<Figure size 432x288 with 1 Axes>"
      ]
     },
     "metadata": {
      "needs_background": "light"
     },
     "output_type": "display_data"
    },
    {
     "data": {
      "text/plain": [
       "<sympy.plotting.plot.Plot at 0x1d6e7963408>"
      ]
     },
     "execution_count": 60,
     "metadata": {},
     "output_type": "execute_result"
    }
   ],
   "source": [
    "f = Piecewise((x,(x>-1) & (x<1)),(-x,(x<-1) | (x>1))) \n",
    "f\n",
    "plot(f)"
   ]
  },
  {
   "cell_type": "code",
   "execution_count": 61,
   "metadata": {},
   "outputs": [
    {
     "data": {
      "text/latex": [
       "$\\displaystyle \\begin{cases} x & \\text{for}\\: x > -1 \\wedge x < 1 \\\\- x & \\text{for}\\: x > -3 \\wedge x < 0 \\end{cases}$"
      ],
      "text/plain": [
       "⎧x   for x > -1 ∧ x < 1\n",
       "⎨                      \n",
       "⎩-x  for x > -3 ∧ x < 0"
      ]
     },
     "execution_count": 61,
     "metadata": {},
     "output_type": "execute_result"
    },
    {
     "data": {
      "image/png": "[encoded data removed]",
      "text/plain": [
       "<Figure size 432x288 with 1 Axes>"
      ]
     },
     "metadata": {
      "needs_background": "light"
     },
     "output_type": "display_data"
    },
    {
     "data": {
      "text/plain": [
       "<sympy.plotting.plot.Plot at 0x1d6ea8cfd48>"
      ]
     },
     "execution_count": 61,
     "metadata": {},
     "output_type": "execute_result"
    }
   ],
   "source": [
    "f = Piecewise((x,(x>-1) & (x<1)),(-x,(x<0) & (x>-3))) # 区间有重叠不报错，但不对\n",
    "f\n",
    "plot(f)\n"
   ]
  },
  {
   "cell_type": "code",
   "execution_count": 62,
   "metadata": {},
   "outputs": [
    {
     "data": {
      "text/latex": [
       "$\\displaystyle \\begin{cases} 1 & \\text{for}\\: x > 0 \\\\0 & \\text{for}\\: x = 0 \\\\-1 & \\text{for}\\: x < 0 \\end{cases}$"
      ],
      "text/plain": [
       "⎧1   for x > 0\n",
       "⎪             \n",
       "⎨0   for x = 0\n",
       "⎪             \n",
       "⎩-1  for x < 0"
      ]
     },
     "execution_count": 62,
     "metadata": {},
     "output_type": "execute_result"
    },
    {
     "data": {
      "image/png": "[encoded data removed]",
      "text/latex": [
       "$\\displaystyle 0$"
      ],
      "text/plain": [
       "0"
      ]
     },
     "execution_count": 62,
     "metadata": {},
     "output_type": "execute_result"
    }
   ],
   "source": [
    "f = Piecewise((1,x>0),(0,(x>=0) & (x<=0)),(-1,x<0)) # ==无效，改用集合交集表示\n",
    "\n",
    "# f = Piecewise((1,x>0),(0,(x==0)),(-1,x<0)) # ==无效\n",
    "f\n",
    "# plot(f) # 带有一个点的分段函数无法这样plot\n",
    "f.subs({x:0}) # 分段函数取值"
   ]
  },
  {
   "cell_type": "code",
   "execution_count": 63,
   "metadata": {},
   "outputs": [
    {
     "data": {
      "text/latex": [
       "$\\displaystyle \\begin{cases} 0 & \\text{for}\\: x < -1 \\\\e^{x} & \\text{for}\\: x \\leq 1 \\\\x & \\text{otherwise} \\end{cases}$"
      ],
      "text/plain": [
       "⎧0   for x < -1\n",
       "⎪              \n",
       "⎪ x            \n",
       "⎨ℯ   for x ≤ 1 \n",
       "⎪              \n",
       "⎪x   otherwise \n",
       "⎩              "
      ]
     },
     "execution_count": 63,
     "metadata": {},
     "output_type": "execute_result"
    },
    {
     "data": {
      "image/png": "[encoded data removed]",
      "text/plain": [
       "<Figure size 432x288 with 1 Axes>"
      ]
     },
     "metadata": {
      "needs_background": "light"
     },
     "output_type": "display_data"
    },
    {
     "data": {
      "text/plain": [
       "<sympy.plotting.plot.Plot at 0x1d6ebdd5488>"
      ]
     },
     "execution_count": 63,
     "metadata": {},
     "output_type": "execute_result"
    }
   ],
   "source": [
    "f = x\n",
    "# g = log(x) # 无法plot\n",
    "g = exp(x)\n",
    "p = Piecewise((0, x < -1), (g, x <= 1), (f, True)) # True代表otherwise\n",
    "p\n",
    "plot(p)"
   ]
  },
  {
   "cell_type": "markdown",
   "metadata": {},
   "source": [
    "## 解方程"
   ]
  },
  {
   "cell_type": "code",
   "execution_count": 64,
   "metadata": {},
   "outputs": [
    {
     "data": {
      "image/png": "[encoded data removed]",
      "text/latex": [
       "$\\displaystyle \\left[ -2, \\  2\\right]$"
      ],
      "text/plain": [
       "[-2, 2]"
      ]
     },
     "execution_count": 64,
     "metadata": {},
     "output_type": "execute_result"
    }
   ],
   "source": [
    "from sympy import solve\n",
    "x, y, a, b, c = symbols(\"x y a b c\")\n",
    "expr = x**2-4\n",
    "solve(expr)"
   ]
  },
  {
   "cell_type": "markdown",
   "metadata": {},
   "source": [
    "### 解二次方程"
   ]
  },
  {
   "cell_type": "code",
   "execution_count": 65,
   "metadata": {},
   "outputs": [
    {
     "data": {
      "image/png": "[encoded data removed]",
      "text/latex": [
       "$\\displaystyle \\left[ \\left\\{ x : 1\\right\\}, \\  \\left\\{ x : 3\\right\\}\\right]$"
      ],
      "text/plain": [
       "[{x: 1}, {x: 3}]"
      ]
     },
     "execution_count": 65,
     "metadata": {},
     "output_type": "execute_result"
    }
   ],
   "source": [
    "x, y, a, b, c = symbols(\"x y a b c\")\n",
    "expr = x**2-4*x+3\n",
    "solve(expr,dict=True)"
   ]
  },
  {
   "cell_type": "markdown",
   "metadata": {},
   "source": [
    "### 用其它变量求解一个变量"
   ]
  },
  {
   "cell_type": "code",
   "execution_count": 66,
   "metadata": {},
   "outputs": [
    {
     "name": "stdout",
     "output_type": "stream",
     "text": [
      "[{x: (b - sqrt(-4*a*c + b**2))/(2*a)}, {x: (b + sqrt(-4*a*c + b**2))/(2*a)}]\n"
     ]
    },
    {
     "data": {
      "image/png": "[encoded data removed]",
      "text/latex": [
       "$\\displaystyle \\left[ \\left\\{ x : \\frac{b - \\sqrt{- 4 a c + b^{2}}}{2 a}\\right\\}, \\  \\left\\{ x : \\frac{b + \\sqrt{- 4 a c + b^{2}}}{2 a}\\right\\}\\right]$"
      ],
      "text/plain": [
       "⎡⎧          _____________⎫  ⎧          _____________⎫⎤\n",
       "⎢⎪         ╱           2 ⎪  ⎪         ╱           2 ⎪⎥\n",
       "⎢⎨   b - ╲╱  -4⋅a⋅c + b  ⎬  ⎨   b + ╲╱  -4⋅a⋅c + b  ⎬⎥\n",
       "⎢⎪x: ────────────────────⎪, ⎪x: ────────────────────⎪⎥\n",
       "⎣⎩           2⋅a         ⎭  ⎩           2⋅a         ⎭⎦"
      ]
     },
     "execution_count": 66,
     "metadata": {},
     "output_type": "execute_result"
    }
   ],
   "source": [
    "expr = a*x**2-b*x+c\n",
    "result = solve(expr,x,dict=True)\n",
    "print(result)\n",
    "result "
   ]
  },
  {
   "cell_type": "markdown",
   "metadata": {},
   "source": [
    "### 解线性方程组"
   ]
  },
  {
   "cell_type": "code",
   "execution_count": 67,
   "metadata": {},
   "outputs": [
    {
     "data": {
      "image/png": "[encoded data removed]",
      "text/latex": [
       "$\\displaystyle \\left[ \\left\\{ x : - \\frac{24}{2 a - 9}, \\  y : \\frac{6 \\left(2 a - 3\\right)}{2 a - 9}\\right\\}\\right]$"
      ],
      "text/plain": [
       "⎡⎧     -24       6⋅(2⋅a - 3)⎫⎤\n",
       "⎢⎨x: ───────, y: ───────────⎬⎥\n",
       "⎣⎩   2⋅a - 9       2⋅a - 9  ⎭⎦"
      ]
     },
     "execution_count": 67,
     "metadata": {},
     "output_type": "execute_result"
    }
   ],
   "source": [
    "expr1= a*x+3*y-6\n",
    "expr2 = 3*x+2*y-12\n",
    "solve((expr1,expr2),(x,y),dict=True)"
   ]
  },
  {
   "cell_type": "markdown",
   "metadata": {},
   "source": [
    "## sympy包绘图"
   ]
  },
  {
   "cell_type": "markdown",
   "metadata": {},
   "source": [
    "#### 颜色参数 \n",
    "\n",
    "参数|对应的颜色\n",
    ":---:|:---:\n",
    "b|蓝色\n",
    "g|绿色\n",
    "r|红色\n",
    "c|青色\n",
    "m|品红色\n",
    "y|黄色\n",
    "k|黑色\n",
    "w|白色"
   ]
  },
  {
   "cell_type": "markdown",
   "metadata": {},
   "source": [
    "### 单函数图形绘制"
   ]
  },
  {
   "cell_type": "code",
   "execution_count": 68,
   "metadata": {},
   "outputs": [],
   "source": [
    "from sympy.plotting import plot\n",
    "x = Symbol('x')"
   ]
  },
  {
   "cell_type": "code",
   "execution_count": 69,
   "metadata": {},
   "outputs": [
    {
     "data": {
      "image/png": "[encoded data removed]",
      "text/plain": [
       "<Figure size 432x288 with 1 Axes>"
      ]
     },
     "metadata": {
      "needs_background": "light"
     },
     "output_type": "display_data"
    },
    {
     "data": {
      "text/plain": [
       "<sympy.plotting.plot.Plot at 0x1d6ea546dc8>"
      ]
     },
     "execution_count": 69,
     "metadata": {},
     "output_type": "execute_result"
    }
   ],
   "source": [
    "plot(x**2)"
   ]
  },
  {
   "cell_type": "code",
   "execution_count": 70,
   "metadata": {},
   "outputs": [
    {
     "data": {
      "image/png": "[encoded data removed]",
      "text/plain": [
       "<Figure size 432x288 with 1 Axes>"
      ]
     },
     "metadata": {
      "needs_background": "light"
     },
     "output_type": "display_data"
    },
    {
     "data": {
      "text/plain": [
       "<sympy.plotting.plot.Plot at 0x1d6ebec0448>"
      ]
     },
     "execution_count": 70,
     "metadata": {},
     "output_type": "execute_result"
    }
   ],
   "source": [
    "y = x**2\n",
    "plot(y,(x,-5,5))"
   ]
  },
  {
   "cell_type": "code",
   "execution_count": 71,
   "metadata": {},
   "outputs": [
    {
     "data": {
      "image/png": "[encoded data removed]",
      "text/plain": [
       "<Figure size 432x288 with 1 Axes>"
      ]
     },
     "metadata": {
      "needs_background": "light"
     },
     "output_type": "display_data"
    },
    {
     "data": {
      "text/plain": [
       "<sympy.plotting.plot.Plot at 0x1d6ea4bcf08>"
      ]
     },
     "execution_count": 71,
     "metadata": {},
     "output_type": "execute_result"
    }
   ],
   "source": [
    "plot(y,(x,-5,5), title=\"a curve\",xlabel=\"x\",ylabel=\"y\",show=True)"
   ]
  },
  {
   "cell_type": "code",
   "execution_count": 72,
   "metadata": {},
   "outputs": [
    {
     "data": {
      "image/png": "[encoded data removed]",
      "text/plain": [
       "<Figure size 432x288 with 1 Axes>"
      ]
     },
     "metadata": {
      "needs_background": "light"
     },
     "output_type": "display_data"
    }
   ],
   "source": [
    "# 保存\n",
    "p = plot(y,(x,-5,5), title=\"a curve\",xlabel=\"x\",ylabel=\"y\",show=False)\n",
    "p.save(r\"./saves/curve.png\")"
   ]
  },
  {
   "cell_type": "markdown",
   "metadata": {},
   "source": [
    "### 多函数图形绘制"
   ]
  },
  {
   "cell_type": "code",
   "execution_count": 9,
   "metadata": {},
   "outputs": [
    {
     "data": {
      "image/png": "[encoded data removed]",
      "text/plain": [
       "<Figure size 432x288 with 1 Axes>"
      ]
     },
     "metadata": {
      "needs_background": "light"
     },
     "output_type": "display_data"
    }
   ],
   "source": [
    "p = plot(x+3,4*x+1,legend=True,show=False)\n",
    "p[0].line_color='b'\n",
    "p[1].line_color='g'\n",
    "p.show()\n",
    "# dir(p)\n",
    "# dir(p[0]) # 查看对象属性"
   ]
  },
  {
   "cell_type": "code",
   "execution_count": 74,
   "metadata": {},
   "outputs": [],
   "source": [
    "from sympy import log,exp,power"
   ]
  },
  {
   "cell_type": "markdown",
   "metadata": {},
   "source": [
    "log 不能作图"
   ]
  },
  {
   "cell_type": "code",
   "execution_count": 75,
   "metadata": {},
   "outputs": [
    {
     "data": {
      "image/png": "[encoded data removed]",
      "text/latex": [
       "$\\displaystyle \\log{\\left(x \\right)}$"
      ],
      "text/plain": [
       "log(x)"
      ]
     },
     "execution_count": 75,
     "metadata": {},
     "output_type": "execute_result"
    },
    {
     "data": {
      "image/png": "[encoded data removed]",
      "text/plain": [
       "<Figure size 432x288 with 1 Axes>"
      ]
     },
     "metadata": {
      "needs_background": "light"
     },
     "output_type": "display_data"
    },
    {
     "data": {
      "text/plain": [
       "<sympy.plotting.plot.Plot at 0x1d6ebe89788>"
      ]
     },
     "execution_count": 75,
     "metadata": {},
     "output_type": "execute_result"
    },
    {
     "data": {
      "image/png": "[encoded data removed]",
      "text/plain": [
       "<Figure size 432x288 with 1 Axes>"
      ]
     },
     "metadata": {
      "needs_background": "light"
     },
     "output_type": "display_data"
    },
    {
     "data": {
      "text/plain": [
       "<sympy.plotting.plot.Plot at 0x1d6ea9ed5c8>"
      ]
     },
     "execution_count": 75,
     "metadata": {},
     "output_type": "execute_result"
    }
   ],
   "source": [
    "log(x)\n",
    "plot(exp(x))\n",
    "plot(log(x))"
   ]
  },
  {
   "cell_type": "code",
   "execution_count": 76,
   "metadata": {},
   "outputs": [
    {
     "data": {
      "image/png": "[encoded data removed]",
      "text/latex": [
       "$\\displaystyle \\left[ e^{4}\\right]$"
      ],
      "text/plain": [
       "⎡ 4⎤\n",
       "⎣ℯ ⎦"
      ]
     },
     "execution_count": 76,
     "metadata": {},
     "output_type": "execute_result"
    }
   ],
   "source": [
    "solve(log(x)-4)"
   ]
  },
  {
   "cell_type": "markdown",
   "metadata": {},
   "source": [
    "## 级数求和\n",
    "* summation"
   ]
  },
  {
   "cell_type": "code",
   "execution_count": 77,
   "metadata": {},
   "outputs": [
    {
     "data": {
      "image/png": "[encoded data removed]",
      "text/latex": [
       "$\\displaystyle \\frac{x^{5}}{5} + \\frac{x^{4}}{4} + \\frac{x^{3}}{3} + \\frac{x^{2}}{2} + x$"
      ],
      "text/plain": [
       " 5    4    3    2    \n",
       "x    x    x    x     \n",
       "── + ── + ── + ── + x\n",
       "5    4    3    2     "
      ]
     },
     "execution_count": 77,
     "metadata": {},
     "output_type": "execute_result"
    },
    {
     "data": {
      "image/png": "[encoded data removed]",
      "text/latex": [
       "$\\displaystyle \\frac{137}{60}$"
      ],
      "text/plain": [
       "137\n",
       "───\n",
       " 60"
      ]
     },
     "execution_count": 77,
     "metadata": {},
     "output_type": "execute_result"
    }
   ],
   "source": [
    "from sympy import summation\n",
    "x,n,s= symbols(\"x n s\")\n",
    "s = summation(x**n/n,(n,1,5))\n",
    "s\n",
    "s.subs({x:1})"
   ]
  },
  {
   "cell_type": "markdown",
   "metadata": {},
   "source": [
    "## 解单变量不等式\n"
   ]
  },
  {
   "cell_type": "code",
   "execution_count": 78,
   "metadata": {},
   "outputs": [
    {
     "data": {
      "image/png": "[encoded data removed]",
      "text/latex": [
       "$\\displaystyle \\operatorname{Poly}{\\left( -x^{2} + 4, x, domain=\\mathbb{Z} \\right)}$"
      ],
      "text/plain": [
       "Poly(-x**2 + 4, x, domain='ZZ')"
      ]
     },
     "execution_count": 78,
     "metadata": {},
     "output_type": "execute_result"
    },
    {
     "data": {
      "image/png": "[encoded data removed]",
      "text/latex": [
       "$\\displaystyle 4 - x^{2}$"
      ],
      "text/plain": [
       "   2    \n",
       "- x  + 4"
      ]
     },
     "execution_count": 78,
     "metadata": {},
     "output_type": "execute_result"
    },
    {
     "data": {
      "text/plain": [
       "'<'"
      ]
     },
     "execution_count": 78,
     "metadata": {},
     "output_type": "execute_result"
    },
    {
     "data": {
      "image/png": "[encoded data removed]",
      "text/latex": [
       "$\\displaystyle \\left[ \\left(-\\infty, -2\\right), \\  \\left(2, \\infty\\right)\\right]$"
      ],
      "text/plain": [
       "[(-∞, -2), (2, ∞)]"
      ]
     },
     "execution_count": 78,
     "metadata": {},
     "output_type": "execute_result"
    }
   ],
   "source": [
    "from sympy import Poly, solve_poly_inequality\n",
    "ineq_obj = -x**2+4<0\n",
    "# dir(inen_obj)\n",
    "lhs = ineq_obj.lhs\n",
    "rel = ineq_obj.rel_op\n",
    "p = Poly(lhs, x)\n",
    "p\n",
    "lhs\n",
    "rel\n",
    "solve_poly_inequality(p,rel)"
   ]
  },
  {
   "cell_type": "code",
   "execution_count": 79,
   "metadata": {},
   "outputs": [
    {
     "data": {
      "image/png": "[encoded data removed]",
      "text/latex": [
       "$\\displaystyle \\frac{x - 1}{x + 2}$"
      ],
      "text/plain": [
       "x - 1\n",
       "─────\n",
       "x + 2"
      ]
     },
     "execution_count": 79,
     "metadata": {},
     "output_type": "execute_result"
    },
    {
     "data": {
      "text/plain": [
       "'>'"
      ]
     },
     "execution_count": 79,
     "metadata": {},
     "output_type": "execute_result"
    },
    {
     "data": {
      "image/png": "[encoded data removed]",
      "text/latex": [
       "$\\displaystyle \\operatorname{Poly}{\\left( x - 1, x, domain=\\mathbb{Z} \\right)}$"
      ],
      "text/plain": [
       "Poly(x - 1, x, domain='ZZ')"
      ]
     },
     "execution_count": 79,
     "metadata": {},
     "output_type": "execute_result"
    },
    {
     "data": {
      "image/png": "[encoded data removed]",
      "text/latex": [
       "$\\displaystyle \\operatorname{Poly}{\\left( x + 2, x, domain=\\mathbb{Z} \\right)}$"
      ],
      "text/plain": [
       "Poly(x + 2, x, domain='ZZ')"
      ]
     },
     "execution_count": 79,
     "metadata": {},
     "output_type": "execute_result"
    },
    {
     "data": {
      "image/png": "[encoded data removed]",
      "text/latex": [
       "$\\displaystyle \\left(-\\infty, -2\\right) \\cup \\left(1, \\infty\\right)$"
      ],
      "text/plain": [
       "(-∞, -2) ∪ (1, ∞)"
      ]
     },
     "execution_count": 79,
     "metadata": {},
     "output_type": "execute_result"
    }
   ],
   "source": [
    "from sympy import Poly, solve_rational_inequalities\n",
    "ineq_obj = ((x-1)/(x+2))>0\n",
    "# dir(inen_obj)\n",
    "lhs = ineq_obj.lhs\n",
    "numer,denom = lhs.as_numer_denom()\n",
    "p1 = Poly(numer)\n",
    "p2 = Poly(denom)\n",
    "rel = ineq_obj.rel_op\n",
    "lhs\n",
    "rel\n",
    "p1\n",
    "p2\n",
    "solve_rational_inequalities([[((p1,p2),rel)]])"
   ]
  },
  {
   "cell_type": "code",
   "execution_count": 80,
   "metadata": {},
   "outputs": [
    {
     "data": {
      "image/png": "[encoded data removed]",
      "text/latex": [
       "$\\displaystyle \\left(0.643501108793284, -0.643501108793284 + \\pi\\right)$"
      ],
      "text/plain": [
       "(0.643501108793284, -0.643501108793284 + π)"
      ]
     },
     "execution_count": 80,
     "metadata": {},
     "output_type": "execute_result"
    }
   ],
   "source": [
    "from sympy import solve_univariate_inequality, sin\n",
    "x = Symbol('x')\n",
    "ineq_obj = sin(x) - 0.6 > 0\n",
    "solve_univariate_inequality(ineq_obj, x, relational=False)"
   ]
  },
  {
   "cell_type": "code",
   "execution_count": 81,
   "metadata": {},
   "outputs": [
    {
     "data": {
      "text/plain": [
       "True"
      ]
     },
     "execution_count": 81,
     "metadata": {},
     "output_type": "execute_result"
    },
    {
     "data": {
      "text/plain": [
       "True"
      ]
     },
     "execution_count": 81,
     "metadata": {},
     "output_type": "execute_result"
    },
    {
     "data": {
      "image/png": "[encoded data removed]",
      "text/latex": [
       "$\\displaystyle x + 3 > 0$"
      ],
      "text/plain": [
       "x + 3 > 0"
      ]
     },
     "execution_count": 81,
     "metadata": {},
     "output_type": "execute_result"
    }
   ],
   "source": [
    "x = Symbol('x')\n",
    "# is_polynomial()函数可用于检查表达式是否为多项式\n",
    "expr1 = x**2 - 4\n",
    "expr1.is_polynomial()\n",
    "# is_rational_function()函数可以用来检查表达式是否为有理式\n",
    "expr2 = (2+x)/(3+x)\n",
    "expr2.is_rational_function()\n",
    "# simplify()函数可以将字符串形式的不等式转换为一个不等式对象\n",
    "simplify(\"x+3>0\")"
   ]
  },
  {
   "cell_type": "markdown",
   "metadata": {},
   "source": [
    "# 微积分"
   ]
  },
  {
   "cell_type": "markdown",
   "metadata": {},
   "source": [
    "* Symbol\n",
    "    * {'commutative': True, 'complex': True, 'hermitian': True, 'imaginary': False, 'negative': False, 'nonnegative':True, 'nonpositive': False, 'nonzero': True, 'positive': True, 'real': True, 'zero': False} \n",
    "    "
   ]
  },
  {
   "cell_type": "code",
   "execution_count": 82,
   "metadata": {},
   "outputs": [
    {
     "data": {
      "text/latex": [
       "$\\displaystyle \\text{True}$"
      ],
      "text/plain": [
       "True"
      ]
     },
     "execution_count": 82,
     "metadata": {},
     "output_type": "execute_result"
    }
   ],
   "source": [
    "x = Symbol('x',positive=True)\n",
    "x>0"
   ]
  },
  {
   "cell_type": "markdown",
   "metadata": {},
   "source": [
    "## 极限"
   ]
  },
  {
   "cell_type": "code",
   "execution_count": 83,
   "metadata": {},
   "outputs": [
    {
     "data": {
      "image/png": "[encoded data removed]",
      "text/latex": [
       "$\\displaystyle 0$"
      ],
      "text/plain": [
       "0"
      ]
     },
     "execution_count": 83,
     "metadata": {},
     "output_type": "execute_result"
    },
    {
     "data": {
      "image/png": "[encoded data removed]",
      "text/latex": [
       "$\\displaystyle \\lim_{x \\to \\infty} \\frac{1}{x}$"
      ],
      "text/plain": [
       "    1\n",
       "lim ─\n",
       "x─→∞x"
      ]
     },
     "execution_count": 83,
     "metadata": {},
     "output_type": "execute_result"
    },
    {
     "data": {
      "image/png": "[encoded data removed]",
      "text/latex": [
       "$\\displaystyle 0$"
      ],
      "text/plain": [
       "0"
      ]
     },
     "execution_count": 83,
     "metadata": {},
     "output_type": "execute_result"
    }
   ],
   "source": [
    "from sympy import limit, Limit, S, oo\n",
    "x = Symbol('x')\n",
    "limit(1/x,x,+oo,dir='-')\n",
    "L = Limit(1/x,x,S.Infinity,dir='-')\n",
    "L\n",
    "L.doit()\n",
    "\n",
    "# S.Infinity和oo都为正无穷"
   ]
  },
  {
   "cell_type": "code",
   "execution_count": 84,
   "metadata": {},
   "outputs": [
    {
     "data": {
      "image/png": "[encoded data removed]",
      "text/latex": [
       "$\\displaystyle 1$"
      ],
      "text/plain": [
       "1"
      ]
     },
     "execution_count": 84,
     "metadata": {},
     "output_type": "execute_result"
    },
    {
     "data": {
      "image/png": "[encoded data removed]",
      "text/latex": [
       "$\\displaystyle e$"
      ],
      "text/plain": [
       "ℯ"
      ]
     },
     "execution_count": 84,
     "metadata": {},
     "output_type": "execute_result"
    }
   ],
   "source": [
    "x = Symbol('x')\n",
    "f1 = sin(x) / x\n",
    "limit(f1, x, 0)\n",
    "f2 = (1 + 1 / x) ** x\n",
    "limit(f2, x, oo)\n"
   ]
  },
  {
   "cell_type": "markdown",
   "metadata": {},
   "source": [
    "###### 连续复利"
   ]
  },
  {
   "cell_type": "code",
   "execution_count": 85,
   "metadata": {},
   "outputs": [
    {
     "data": {
      "image/png": "[encoded data removed]",
      "text/latex": [
       "$\\displaystyle e$"
      ],
      "text/plain": [
       "ℯ"
      ]
     },
     "execution_count": 85,
     "metadata": {},
     "output_type": "execute_result"
    },
    {
     "data": {
      "image/png": "[encoded data removed]",
      "text/latex": [
       "$\\displaystyle \\lim_{n \\to \\infty} \\left(1 + \\frac{1}{n}\\right)^{n}$"
      ],
      "text/plain": [
       "           n\n",
       "    ⎛    1⎞ \n",
       "lim ⎜1 + ─⎟ \n",
       "n─→∞⎝    n⎠ "
      ]
     },
     "execution_count": 85,
     "metadata": {},
     "output_type": "execute_result"
    },
    {
     "data": {
      "image/png": "[encoded data removed]",
      "text/latex": [
       "$\\displaystyle e$"
      ],
      "text/plain": [
       "ℯ"
      ]
     },
     "execution_count": 85,
     "metadata": {},
     "output_type": "execute_result"
    },
    {
     "data": {
      "image/png": "[encoded data removed]",
      "text/latex": [
       "$\\displaystyle e$"
      ],
      "text/plain": [
       "ℯ"
      ]
     },
     "execution_count": 85,
     "metadata": {},
     "output_type": "execute_result"
    }
   ],
   "source": [
    "n = Symbol('n')\n",
    "limit((1+1/n)**n,n,oo)\n",
    "E1 = Limit((1+1/n)**n,n,oo)\n",
    "e1 = E1.doit()\n",
    "E1\n",
    "e1\n",
    "sympy.E"
   ]
  },
  {
   "cell_type": "code",
   "execution_count": 86,
   "metadata": {},
   "outputs": [
    {
     "data": {
      "image/png": "[encoded data removed]",
      "text/latex": [
       "$\\displaystyle p e^{r t}$"
      ],
      "text/plain": [
       "   r⋅t\n",
       "p⋅ℯ   "
      ]
     },
     "execution_count": 86,
     "metadata": {},
     "output_type": "execute_result"
    }
   ],
   "source": [
    "p, r, t = symbols('p r t',positive=True)\n",
    "limit(p*(1+r/n)**(n*t), n, oo)"
   ]
  },
  {
   "cell_type": "markdown",
   "metadata": {},
   "source": [
    "## 函数求导\n",
    "* diff()\n",
    "* Derivative"
   ]
  },
  {
   "cell_type": "code",
   "execution_count": 87,
   "metadata": {},
   "outputs": [],
   "source": [
    "from sympy import diff, Derivative"
   ]
  },
  {
   "cell_type": "code",
   "execution_count": 88,
   "metadata": {},
   "outputs": [],
   "source": [
    "x,y = symbols('x y')"
   ]
  },
  {
   "cell_type": "code",
   "execution_count": 89,
   "metadata": {},
   "outputs": [
    {
     "data": {
      "image/png": "[encoded data removed]",
      "text/latex": [
       "$\\displaystyle \\frac{d}{d x} \\left(x^{3} + 2 x^{2} + 3 x + 4\\right)$"
      ],
      "text/plain": [
       "d ⎛ 3      2          ⎞\n",
       "──⎝x  + 2⋅x  + 3⋅x + 4⎠\n",
       "dx                     "
      ]
     },
     "execution_count": 89,
     "metadata": {},
     "output_type": "execute_result"
    },
    {
     "data": {
      "image/png": "[encoded data removed]",
      "text/latex": [
       "$\\displaystyle 3 x^{2} + 4 x + 3$"
      ],
      "text/plain": [
       "   2          \n",
       "3⋅x  + 4⋅x + 3"
      ]
     },
     "execution_count": 89,
     "metadata": {},
     "output_type": "execute_result"
    },
    {
     "data": {
      "image/png": "[encoded data removed]",
      "text/latex": [
       "$\\displaystyle 10$"
      ],
      "text/plain": [
       "10"
      ]
     },
     "execution_count": 89,
     "metadata": {},
     "output_type": "execute_result"
    },
    {
     "data": {
      "image/png": "[encoded data removed]",
      "text/latex": [
       "$\\displaystyle 3 x^{2} + 4 x + 3$"
      ],
      "text/plain": [
       "   2          \n",
       "3⋅x  + 4⋅x + 3"
      ]
     },
     "execution_count": 89,
     "metadata": {},
     "output_type": "execute_result"
    }
   ],
   "source": [
    "z = x**3+2*x**2+3*x+4\n",
    "d = Derivative(z,x)\n",
    "d\n",
    "d.doit()\n",
    "d.doit().subs({x:1})\n",
    "diff(z,x)"
   ]
  },
  {
   "cell_type": "markdown",
   "metadata": {},
   "source": [
    "#### 求偏导数"
   ]
  },
  {
   "cell_type": "code",
   "execution_count": 90,
   "metadata": {},
   "outputs": [
    {
     "data": {
      "image/png": "[encoded data removed]",
      "text/latex": [
       "$\\displaystyle \\frac{\\partial}{\\partial x} \\left(x^{2} + 2 x y + 3 y^{2}\\right)$"
      ],
      "text/plain": [
       "∂ ⎛ 2              2⎞\n",
       "──⎝x  + 2⋅x⋅y + 3⋅y ⎠\n",
       "∂x                   "
      ]
     },
     "execution_count": 90,
     "metadata": {},
     "output_type": "execute_result"
    },
    {
     "data": {
      "image/png": "[encoded data removed]",
      "text/latex": [
       "$\\displaystyle 2 x + 2 y$"
      ],
      "text/plain": [
       "2⋅x + 2⋅y"
      ]
     },
     "execution_count": 90,
     "metadata": {},
     "output_type": "execute_result"
    },
    {
     "data": {
      "image/png": "[encoded data removed]",
      "text/latex": [
       "$\\displaystyle 2 y + 2$"
      ],
      "text/plain": [
       "2⋅y + 2"
      ]
     },
     "execution_count": 90,
     "metadata": {},
     "output_type": "execute_result"
    },
    {
     "data": {
      "image/png": "[encoded data removed]",
      "text/latex": [
       "$\\displaystyle 6$"
      ],
      "text/plain": [
       "6"
      ]
     },
     "execution_count": 90,
     "metadata": {},
     "output_type": "execute_result"
    },
    {
     "data": {
      "image/png": "[encoded data removed]",
      "text/latex": [
       "$\\displaystyle 2 x + 2 y$"
      ],
      "text/plain": [
       "2⋅x + 2⋅y"
      ]
     },
     "execution_count": 90,
     "metadata": {},
     "output_type": "execute_result"
    },
    {
     "data": {
      "image/png": "[encoded data removed]",
      "text/latex": [
       "$\\displaystyle 2 x + 6 y$"
      ],
      "text/plain": [
       "2⋅x + 6⋅y"
      ]
     },
     "execution_count": 90,
     "metadata": {},
     "output_type": "execute_result"
    }
   ],
   "source": [
    "z = x**2+2*x*y+3*y**2\n",
    "d = Derivative(z,x)\n",
    "d\n",
    "d.doit()\n",
    "d.doit().subs({x:1})\n",
    "d.doit().subs({x:1,y:2})\n",
    "diff(z,x)\n",
    "diff(z,y)"
   ]
  },
  {
   "cell_type": "markdown",
   "metadata": {},
   "source": [
    "#### 高阶导数"
   ]
  },
  {
   "cell_type": "code",
   "execution_count": 91,
   "metadata": {},
   "outputs": [
    {
     "data": {
      "image/png": "[encoded data removed]",
      "text/latex": [
       "$\\displaystyle 2 \\left(3 x + 2\\right)$"
      ],
      "text/plain": [
       "2⋅(3⋅x + 2)"
      ]
     },
     "execution_count": 91,
     "metadata": {},
     "output_type": "execute_result"
    },
    {
     "data": {
      "image/png": "[encoded data removed]",
      "text/latex": [
       "$\\displaystyle 6$"
      ],
      "text/plain": [
       "6"
      ]
     },
     "execution_count": 91,
     "metadata": {},
     "output_type": "execute_result"
    },
    {
     "data": {
      "image/png": "[encoded data removed]",
      "text/latex": [
       "$\\displaystyle \\frac{d^{2}}{d x^{2}} \\left(x^{3} + 2 x^{2} + 3 x + 4\\right)$"
      ],
      "text/plain": [
       "  2                     \n",
       " d ⎛ 3      2          ⎞\n",
       "───⎝x  + 2⋅x  + 3⋅x + 4⎠\n",
       "  2                     \n",
       "dx                      "
      ]
     },
     "execution_count": 91,
     "metadata": {},
     "output_type": "execute_result"
    },
    {
     "data": {
      "image/png": "[encoded data removed]",
      "text/latex": [
       "$\\displaystyle \\frac{d^{3}}{d x^{3}} \\left(x^{3} + 2 x^{2} + 3 x + 4\\right)$"
      ],
      "text/plain": [
       "  3                     \n",
       " d ⎛ 3      2          ⎞\n",
       "───⎝x  + 2⋅x  + 3⋅x + 4⎠\n",
       "  3                     \n",
       "dx                      "
      ]
     },
     "execution_count": 91,
     "metadata": {},
     "output_type": "execute_result"
    },
    {
     "data": {
      "image/png": "[encoded data removed]",
      "text/latex": [
       "$\\displaystyle 2 \\left(3 x + 2\\right)$"
      ],
      "text/plain": [
       "2⋅(3⋅x + 2)"
      ]
     },
     "execution_count": 91,
     "metadata": {},
     "output_type": "execute_result"
    },
    {
     "data": {
      "image/png": "[encoded data removed]",
      "text/latex": [
       "$\\displaystyle 6$"
      ],
      "text/plain": [
       "6"
      ]
     },
     "execution_count": 91,
     "metadata": {},
     "output_type": "execute_result"
    }
   ],
   "source": [
    "z = x**3+2*x**2+3*x+4\n",
    "diff(z,x,2)\n",
    "diff(z,x,3)\n",
    "Derivative(z,x,2)\n",
    "Derivative(z,x,3)\n",
    "Derivative(z,x,2).doit()\n",
    "Derivative(z,x,3).doit()"
   ]
  },
  {
   "cell_type": "markdown",
   "metadata": {},
   "source": [
    "#### 最值"
   ]
  },
  {
   "cell_type": "code",
   "execution_count": 92,
   "metadata": {},
   "outputs": [
    {
     "data": {
      "image/png": "[encoded data removed]",
      "text/latex": [
       "$\\displaystyle \\left[ - \\sqrt{\\sqrt{71} + 9}, \\  - \\sqrt{9 - \\sqrt{71}}, \\  \\sqrt{9 - \\sqrt{71}}, \\  \\sqrt{\\sqrt{71} + 9}\\right]$"
      ],
      "text/plain": [
       "⎡   _________     __________    __________    _________⎤\n",
       "⎣-╲╱ √71 + 9 , -╲╱ -√71 + 9 , ╲╱ -√71 + 9 , ╲╱ √71 + 9 ⎦"
      ]
     },
     "execution_count": 92,
     "metadata": {},
     "output_type": "execute_result"
    },
    {
     "data": {
      "image/png": "[encoded data removed]",
      "text/latex": [
       "$\\displaystyle - \\left(\\sqrt{71} + 9\\right)^{\\frac{5}{2}} - 50 \\sqrt{\\sqrt{71} + 9} + 30 \\left(\\sqrt{71} + 9\\right)^{\\frac{3}{2}}$"
      ],
      "text/plain": [
       "           5/2        _________               3/2\n",
       "- (√71 + 9)    - 50⋅╲╱ √71 + 9  + 30⋅(√71 + 9)   "
      ]
     },
     "execution_count": 92,
     "metadata": {},
     "output_type": "execute_result"
    },
    {
     "data": {
      "image/png": "[encoded data removed]",
      "text/latex": [
       "$\\displaystyle - 50 \\sqrt{9 - \\sqrt{71}} - \\left(9 - \\sqrt{71}\\right)^{\\frac{5}{2}} + 30 \\left(9 - \\sqrt{71}\\right)^{\\frac{3}{2}}$"
      ],
      "text/plain": [
       "       __________             5/2                3/2\n",
       "- 50⋅╲╱ -√71 + 9  - (-√71 + 9)    + 30⋅(-√71 + 9)   "
      ]
     },
     "execution_count": 92,
     "metadata": {},
     "output_type": "execute_result"
    },
    {
     "data": {
      "image/png": "[encoded data removed]",
      "text/latex": [
       "$\\displaystyle - 30 \\left(9 - \\sqrt{71}\\right)^{\\frac{3}{2}} + \\left(9 - \\sqrt{71}\\right)^{\\frac{5}{2}} + 50 \\sqrt{9 - \\sqrt{71}}$"
      ],
      "text/plain": [
       "               3/2             5/2        __________\n",
       "- 30⋅(-√71 + 9)    + (-√71 + 9)    + 50⋅╲╱ -√71 + 9 "
      ]
     },
     "execution_count": 92,
     "metadata": {},
     "output_type": "execute_result"
    },
    {
     "data": {
      "image/png": "[encoded data removed]",
      "text/latex": [
       "$\\displaystyle - 30 \\left(\\sqrt{71} + 9\\right)^{\\frac{3}{2}} + 50 \\sqrt{\\sqrt{71} + 9} + \\left(\\sqrt{71} + 9\\right)^{\\frac{5}{2}}$"
      ],
      "text/plain": [
       "              3/2        _________            5/2\n",
       "- 30⋅(√71 + 9)    + 50⋅╲╱ √71 + 9  + (√71 + 9)   "
      ]
     },
     "execution_count": 92,
     "metadata": {},
     "output_type": "execute_result"
    },
    {
     "data": {
      "image/png": "[encoded data removed]",
      "text/latex": [
       "$\\displaystyle 705.959460380365$"
      ],
      "text/plain": [
       "705.959460380365"
      ]
     },
     "execution_count": 92,
     "metadata": {},
     "output_type": "execute_result"
    },
    {
     "data": {
      "image/png": "[encoded data removed]",
      "text/latex": [
       "$\\displaystyle -25.0846626340294$"
      ],
      "text/plain": [
       "-25.0846626340294"
      ]
     },
     "execution_count": 92,
     "metadata": {},
     "output_type": "execute_result"
    },
    {
     "data": {
      "image/png": "[encoded data removed]",
      "text/latex": [
       "$\\displaystyle 25.0846626340294$"
      ],
      "text/plain": [
       "25.0846626340294"
      ]
     },
     "execution_count": 92,
     "metadata": {},
     "output_type": "execute_result"
    },
    {
     "data": {
      "image/png": "[encoded data removed]",
      "text/latex": [
       "$\\displaystyle -705.959460380365$"
      ],
      "text/plain": [
       "-705.959460380365"
      ]
     },
     "execution_count": 92,
     "metadata": {},
     "output_type": "execute_result"
    }
   ],
   "source": [
    "z = x**5-30*x**3+50*x\n",
    "x_min = -5\n",
    "x_max = -5\n",
    "d1 = diff(z,x)\n",
    "s1 = solve(d1)\n",
    "s1 = sorted(s1)\n",
    "s1\n",
    "z.subs({x:s1[0]})\n",
    "z.subs({x:s1[1]})\n",
    "z.subs({x:s1[2]})\n",
    "z.subs({x:s1[3]})\n",
    "z.subs({x:s1[0]}).evalf()\n",
    "z.subs({x:s1[1]}).evalf()\n",
    "z.subs({x:s1[2]}).evalf()\n",
    "z.subs({x:s1[3]}).evalf()"
   ]
  },
  {
   "cell_type": "markdown",
   "metadata": {},
   "source": [
    "## 积分\n",
    "* Integral\n",
    "* integrate"
   ]
  },
  {
   "cell_type": "code",
   "execution_count": 93,
   "metadata": {},
   "outputs": [],
   "source": [
    "from sympy import integrate, Integral"
   ]
  },
  {
   "cell_type": "code",
   "execution_count": 94,
   "metadata": {},
   "outputs": [],
   "source": [
    "x,y,z = symbols('x y z')"
   ]
  },
  {
   "cell_type": "markdown",
   "metadata": {},
   "source": [
    "### 不定积分"
   ]
  },
  {
   "cell_type": "code",
   "execution_count": 95,
   "metadata": {},
   "outputs": [
    {
     "data": {
      "image/png": "[encoded data removed]",
      "text/latex": [
       "$\\displaystyle \\frac{x^{4}}{4} + \\frac{2 x^{3}}{3} + \\frac{3 x^{2}}{2} + 4 x$"
      ],
      "text/plain": [
       " 4      3      2      \n",
       "x    2⋅x    3⋅x       \n",
       "── + ──── + ──── + 4⋅x\n",
       "4     3      2        "
      ]
     },
     "execution_count": 95,
     "metadata": {},
     "output_type": "execute_result"
    },
    {
     "data": {
      "image/png": "[encoded data removed]",
      "text/latex": [
       "$\\displaystyle \\int \\left(x^{3} + 2 x^{2} + 3 x + 4\\right)\\, dx$"
      ],
      "text/plain": [
       "⌠                         \n",
       "⎮ ⎛ 3      2          ⎞   \n",
       "⎮ ⎝x  + 2⋅x  + 3⋅x + 4⎠ dx\n",
       "⌡                         "
      ]
     },
     "execution_count": 95,
     "metadata": {},
     "output_type": "execute_result"
    },
    {
     "data": {
      "image/png": "[encoded data removed]",
      "text/latex": [
       "$\\displaystyle \\frac{x^{4}}{4} + \\frac{2 x^{3}}{3} + \\frac{3 x^{2}}{2} + 4 x$"
      ],
      "text/plain": [
       " 4      3      2      \n",
       "x    2⋅x    3⋅x       \n",
       "── + ──── + ──── + 4⋅x\n",
       "4     3      2        "
      ]
     },
     "execution_count": 95,
     "metadata": {},
     "output_type": "execute_result"
    }
   ],
   "source": [
    "f = x**3+2*x**2+3*x+4\n",
    "integrate(f, x)\n",
    "Integral(f, x)\n",
    "Integral(f, x).doit()"
   ]
  },
  {
   "cell_type": "markdown",
   "metadata": {},
   "source": [
    "### 定积分"
   ]
  },
  {
   "cell_type": "code",
   "execution_count": 96,
   "metadata": {},
   "outputs": [
    {
     "data": {
      "image/png": "[encoded data removed]",
      "text/latex": [
       "$\\displaystyle \\frac{77}{12}$"
      ],
      "text/plain": [
       "77\n",
       "──\n",
       "12"
      ]
     },
     "execution_count": 96,
     "metadata": {},
     "output_type": "execute_result"
    },
    {
     "data": {
      "image/png": "[encoded data removed]",
      "text/latex": [
       "$\\displaystyle \\int\\limits_{0}^{1} \\left(x^{3} + 2 x^{2} + 3 x + 4\\right)\\, dx$"
      ],
      "text/plain": [
       "1                         \n",
       "⌠                         \n",
       "⎮ ⎛ 3      2          ⎞   \n",
       "⎮ ⎝x  + 2⋅x  + 3⋅x + 4⎠ dx\n",
       "⌡                         \n",
       "0                         "
      ]
     },
     "execution_count": 96,
     "metadata": {},
     "output_type": "execute_result"
    },
    {
     "data": {
      "image/png": "[encoded data removed]",
      "text/latex": [
       "$\\displaystyle \\frac{77}{12}$"
      ],
      "text/plain": [
       "77\n",
       "──\n",
       "12"
      ]
     },
     "execution_count": 96,
     "metadata": {},
     "output_type": "execute_result"
    },
    {
     "data": {
      "image/png": "[encoded data removed]",
      "text/latex": [
       "$\\displaystyle i$"
      ],
      "text/plain": [
       "ⅈ"
      ]
     },
     "execution_count": 96,
     "metadata": {},
     "output_type": "execute_result"
    }
   ],
   "source": [
    "f = x**3+2*x**2+3*x+4\n",
    "integrate(f,(x,0,1))\n",
    "Integral(f,(x,0,1))\n",
    "Integral(f,(x,0,1)).doit()\n",
    "I"
   ]
  },
  {
   "cell_type": "code",
   "execution_count": 97,
   "metadata": {},
   "outputs": [
    {
     "data": {
      "image/png": "[encoded data removed]",
      "text/latex": [
       "$\\displaystyle \\sqrt{\\pi}$"
      ],
      "text/plain": [
       "√π"
      ]
     },
     "execution_count": 97,
     "metadata": {},
     "output_type": "execute_result"
    }
   ],
   "source": [
    "f = exp(-x**2)\n",
    "integrate(f,(x,-oo,oo))"
   ]
  },
  {
   "cell_type": "code",
   "execution_count": 98,
   "metadata": {},
   "outputs": [
    {
     "data": {
      "image/png": "[encoded data removed]",
      "text/latex": [
       "$\\displaystyle 1.0$"
      ],
      "text/plain": [
       "1.00000000000000"
      ]
     },
     "execution_count": 98,
     "metadata": {},
     "output_type": "execute_result"
    },
    {
     "data": {
      "image/png": "[encoded data removed]",
      "text/latex": [
       "$\\displaystyle 0.5 \\operatorname{erf}{\\left(\\frac{\\sqrt{2} x}{2} \\right)} + 0.5$"
      ],
      "text/plain": [
       "       ⎛√2⋅x⎞      \n",
       "0.5⋅erf⎜────⎟ + 0.5\n",
       "       ⎝ 2  ⎠      "
      ]
     },
     "execution_count": 98,
     "metadata": {},
     "output_type": "execute_result"
    },
    {
     "data": {
      "image/png": "[encoded data removed]",
      "text/latex": [
       "$\\displaystyle 0.539827837277029$"
      ],
      "text/plain": [
       "0.539827837277029"
      ]
     },
     "execution_count": 98,
     "metadata": {},
     "output_type": "execute_result"
    },
    {
     "data": {
      "image/png": "[encoded data removed]",
      "text/latex": [
       "$\\displaystyle 0.079655674554058$"
      ],
      "text/plain": [
       "0.0796556745540580"
      ]
     },
     "execution_count": 98,
     "metadata": {},
     "output_type": "execute_result"
    }
   ],
   "source": [
    "# 标准正态分布\n",
    "t = symbols('t')\n",
    "f = (1/((2*pi)**(0.5))*exp(-t**2/2))\n",
    "integrate(f,(t,-oo,oo)).evalf()\n",
    "integrate(f,(t,-oo,x)).evalf()\n",
    "integrate(f,(t,-oo,0.1)).evalf()\n",
    "integrate(f,(t,-0.1,0.1)).evalf()"
   ]
  },
  {
   "cell_type": "markdown",
   "metadata": {},
   "source": [
    "### 二重积分"
   ]
  },
  {
   "cell_type": "markdown",
   "metadata": {},
   "source": [
    "##### 二重不定积分"
   ]
  },
  {
   "cell_type": "code",
   "execution_count": 99,
   "metadata": {},
   "outputs": [
    {
     "data": {
      "image/png": "[encoded data removed]",
      "text/latex": [
       "$\\displaystyle \\frac{x^{2} y}{2} + \\frac{x y^{2}}{2}$"
      ],
      "text/plain": [
       " 2        2\n",
       "x ⋅y   x⋅y \n",
       "──── + ────\n",
       " 2      2  "
      ]
     },
     "execution_count": 99,
     "metadata": {},
     "output_type": "execute_result"
    },
    {
     "data": {
      "image/png": "[encoded data removed]",
      "text/latex": [
       "$\\displaystyle \\frac{x^{3}}{6} + \\frac{x^{2} y}{2}$"
      ],
      "text/plain": [
       " 3    2  \n",
       "x    x ⋅y\n",
       "── + ────\n",
       "6     2  "
      ]
     },
     "execution_count": 99,
     "metadata": {},
     "output_type": "execute_result"
    }
   ],
   "source": [
    "f = x+y\n",
    "integrate(f, x, y)\n",
    "integrate(f, x, x)\n",
    "# Integral(f, (x, -oo, oo), (y, -oo, oo)).doit()"
   ]
  },
  {
   "cell_type": "markdown",
   "metadata": {},
   "source": [
    "##### 二重定积分\n"
   ]
  },
  {
   "cell_type": "code",
   "execution_count": 100,
   "metadata": {},
   "outputs": [
    {
     "data": {
      "image/png": "[encoded data removed]",
      "text/latex": [
       "$\\displaystyle \\pi$"
      ],
      "text/plain": [
       "π"
      ]
     },
     "execution_count": 100,
     "metadata": {},
     "output_type": "execute_result"
    },
    {
     "data": {
      "image/png": "[encoded data removed]",
      "text/latex": [
       "$\\displaystyle \\int\\limits_{-\\infty}^{\\infty}\\int\\limits_{-\\infty}^{\\infty} e^{- x^{2} - y^{2}}\\, dx\\, dy$"
      ],
      "text/plain": [
       "∞  ∞                  \n",
       "⌠  ⌠                  \n",
       "⎮  ⎮      2    2      \n",
       "⎮  ⎮   - x  - y       \n",
       "⎮  ⎮  ℯ          dx dy\n",
       "⌡  ⌡                  \n",
       "-∞ -∞                 "
      ]
     },
     "execution_count": 100,
     "metadata": {},
     "output_type": "execute_result"
    },
    {
     "data": {
      "image/png": "[encoded data removed]",
      "text/latex": [
       "$\\displaystyle \\pi$"
      ],
      "text/plain": [
       "π"
      ]
     },
     "execution_count": 100,
     "metadata": {},
     "output_type": "execute_result"
    }
   ],
   "source": [
    "f = exp(-x**2 - y**2)\n",
    "integrate(f, (x, -oo, oo), (y, -oo, oo))\n",
    "Integral(f, (x, -oo, oo), (y, -oo, oo))\n",
    "Integral(f, (x, -oo, oo), (y, -oo, oo)).doit()"
   ]
  },
  {
   "cell_type": "markdown",
   "metadata": {},
   "source": [
    "### 三重积分"
   ]
  },
  {
   "cell_type": "code",
   "execution_count": 101,
   "metadata": {},
   "outputs": [
    {
     "data": {
      "image/png": "[encoded data removed]",
      "text/latex": [
       "$\\displaystyle \\pi^{\\frac{3}{2}}$"
      ],
      "text/plain": [
       " 3/2\n",
       "π   "
      ]
     },
     "execution_count": 101,
     "metadata": {},
     "output_type": "execute_result"
    },
    {
     "data": {
      "image/png": "[encoded data removed]",
      "text/latex": [
       "$\\displaystyle \\int\\limits_{-\\infty}^{\\infty}\\int\\limits_{-\\infty}^{\\infty}\\int\\limits_{-\\infty}^{\\infty} e^{- x^{2} - y^{2} - z^{2}}\\, dx\\, dy\\, dz$"
      ],
      "text/plain": [
       "∞  ∞  ∞                          \n",
       "⌠  ⌠  ⌠                          \n",
       "⎮  ⎮  ⎮      2    2    2         \n",
       "⎮  ⎮  ⎮   - x  - y  - z          \n",
       "⎮  ⎮  ⎮  ℯ               dx dy dz\n",
       "⌡  ⌡  ⌡                          \n",
       "-∞ -∞ -∞                         "
      ]
     },
     "execution_count": 101,
     "metadata": {},
     "output_type": "execute_result"
    },
    {
     "data": {
      "image/png": "[encoded data removed]",
      "text/latex": [
       "$\\displaystyle \\pi^{\\frac{3}{2}}$"
      ],
      "text/plain": [
       " 3/2\n",
       "π   "
      ]
     },
     "execution_count": 101,
     "metadata": {},
     "output_type": "execute_result"
    }
   ],
   "source": [
    "f = exp(-x**2 - y**2 - z**2)\n",
    "integrate(f, (x, -oo, oo), (y, -oo, oo), (z, -oo, oo))\n",
    "Integral(f, (x, -oo, oo), (y, -oo, oo), (z, -oo, oo))\n",
    "Integral(f, (x, -oo, oo), (y, -oo, oo), (z, -oo, oo)).doit()"
   ]
  },
  {
   "cell_type": "markdown",
   "metadata": {},
   "source": [
    "### 概率密度"
   ]
  },
  {
   "cell_type": "code",
   "execution_count": 102,
   "metadata": {},
   "outputs": [
    {
     "data": {
      "text/latex": [
       "$\\displaystyle \\begin{cases} \\frac{3 x^{2}}{7} & \\text{for}\\: x \\geq 1 \\wedge x \\leq 2 \\\\0 & \\text{otherwise} \\end{cases}$"
      ],
      "text/plain": [
       "⎧   2                   \n",
       "⎪3⋅x                    \n",
       "⎪────  for x ≥ 1 ∧ x ≤ 2\n",
       "⎨ 7                     \n",
       "⎪                       \n",
       "⎪ 0        otherwise    \n",
       "⎩                       "
      ]
     },
     "execution_count": 102,
     "metadata": {},
     "output_type": "execute_result"
    },
    {
     "data": {
      "image/png": "[encoded data removed]",
      "text/latex": [
       "$\\displaystyle 1$"
      ],
      "text/plain": [
       "1"
      ]
     },
     "execution_count": 102,
     "metadata": {},
     "output_type": "execute_result"
    },
    {
     "data": {
      "image/png": "[encoded data removed]",
      "text/plain": [
       "<Figure size 432x288 with 1 Axes>"
      ]
     },
     "metadata": {
      "needs_background": "light"
     },
     "output_type": "display_data"
    },
    {
     "data": {
      "text/plain": [
       "<sympy.plotting.plot.Plot at 0x1d6ec0e0c48>"
      ]
     },
     "execution_count": 102,
     "metadata": {},
     "output_type": "execute_result"
    }
   ],
   "source": [
    "i1 = integrate(x**2,(x,1,2))\n",
    "f = Piecewise(((1/i1)*x**2,(x>=1) & (x<=2)),(0, True))\n",
    "f\n",
    "integrate(f,(x,-oo,oo))\n",
    "plot(f)"
   ]
  },
  {
   "cell_type": "markdown",
   "metadata": {},
   "source": [
    "## 级数"
   ]
  },
  {
   "cell_type": "markdown",
   "metadata": {},
   "source": [
    "### 幂级数"
   ]
  },
  {
   "cell_type": "markdown",
   "metadata": {},
   "source": [
    "#### 级数展开"
   ]
  },
  {
   "cell_type": "code",
   "execution_count": 103,
   "metadata": {},
   "outputs": [
    {
     "data": {
      "image/png": "[encoded data removed]",
      "text/latex": [
       "$\\displaystyle 1 + i x - \\frac{x^{2}}{2} - \\frac{i x^{3}}{6} + \\frac{x^{4}}{24} + \\frac{i x^{5}}{120} - \\frac{x^{6}}{720} - \\frac{i x^{7}}{5040} + \\frac{x^{8}}{40320} + \\frac{i x^{9}}{362880} + O\\left(x^{10}\\right)$"
      ],
      "text/plain": [
       "           2      3    4      5     6      7      8        9          \n",
       "          x    ⅈ⋅x    x    ⅈ⋅x     x    ⅈ⋅x      x      ⅈ⋅x      ⎛ 10⎞\n",
       "1 + ⅈ⋅x - ── - ──── + ── + ──── - ─── - ──── + ───── + ────── + O⎝x  ⎠\n",
       "          2     6     24   120    720   5040   40320   362880         "
      ]
     },
     "execution_count": 103,
     "metadata": {},
     "output_type": "execute_result"
    },
    {
     "name": "stdout",
     "output_type": "stream",
     "text": [
      "-re(x)**8*im(x)/40320 + re(x)**8/40320 + re(x)**6*im(x)**3/4320 - re(x)**6*im(x)**2/1440 + re(x)**6*im(x)/720 - re(x)**6/720 - re(x)**4*im(x)**5/2880 + re(x)**4*im(x)**4/576 - re(x)**4*im(x)**3/144 + re(x)**4*im(x)**2/48 - re(x)**4*im(x)/24 + re(x)**4/24 + re(x)**2*im(x)**7/10080 - re(x)**2*im(x)**6/1440 + re(x)**2*im(x)**5/240 - re(x)**2*im(x)**4/48 + re(x)**2*im(x)**3/12 - re(x)**2*im(x)**2/4 + re(x)**2*im(x)/2 - re(x)**2/2 + re(O(x**10)) - im(x)**9/362880 + im(x)**8/40320 - im(x)**7/5040 + im(x)**6/720 - im(x)**5/120 + im(x)**4/24 - im(x)**3/6 + im(x)**2/2 - im(x) + 1\n",
      "re(x)**9/362880 - re(x)**7*im(x)**2/10080 + re(x)**7*im(x)/5040 - re(x)**7/5040 + re(x)**5*im(x)**4/2880 - re(x)**5*im(x)**3/720 + re(x)**5*im(x)**2/240 - re(x)**5*im(x)/120 + re(x)**5/120 - re(x)**3*im(x)**6/4320 + re(x)**3*im(x)**5/720 - re(x)**3*im(x)**4/144 + re(x)**3*im(x)**3/36 - re(x)**3*im(x)**2/12 + re(x)**3*im(x)/6 - re(x)**3/6 + re(x)*im(x)**8/40320 - re(x)*im(x)**7/5040 + re(x)*im(x)**6/720 - re(x)*im(x)**5/120 + re(x)*im(x)**4/24 - re(x)*im(x)**3/6 + re(x)*im(x)**2/2 - re(x)*im(x) + re(x) + im(O(x**10))\n"
     ]
    }
   ],
   "source": [
    "from sympy import series, re, im\n",
    "x = symbols('x')\n",
    "s = series(exp(I * x), x, 0, 10)\n",
    "s\n",
    "print(re(s))\n",
    "print(im(s))\n",
    "# re(s) # 级数的实部\n",
    "# im(s) # 级数的虚部"
   ]
  },
  {
   "cell_type": "code",
   "execution_count": 104,
   "metadata": {},
   "outputs": [
    {
     "data": {
      "image/png": "[encoded data removed]",
      "text/latex": [
       "$\\displaystyle 1 - \\frac{x^{2}}{2} + \\frac{x^{4}}{24} - \\frac{x^{6}}{720} + \\frac{x^{8}}{40320} + O\\left(x^{10}\\right)$"
      ],
      "text/plain": [
       "     2    4     6      8          \n",
       "    x    x     x      x      ⎛ 10⎞\n",
       "1 - ── + ── - ─── + ───── + O⎝x  ⎠\n",
       "    2    24   720   40320         "
      ]
     },
     "execution_count": 104,
     "metadata": {},
     "output_type": "execute_result"
    }
   ],
   "source": [
    "series(cos(x), x, 0, 10) # 10为余项次数"
   ]
  },
  {
   "cell_type": "code",
   "execution_count": 105,
   "metadata": {},
   "outputs": [
    {
     "data": {
      "image/png": "[encoded data removed]",
      "text/latex": [
       "$\\displaystyle x - \\frac{x^{3}}{6} + \\frac{x^{5}}{120} + O\\left(x^{6}\\right)$"
      ],
      "text/plain": [
       "     3     5        \n",
       "    x     x     ⎛ 6⎞\n",
       "x - ── + ─── + O⎝x ⎠\n",
       "    6    120        "
      ]
     },
     "execution_count": 105,
     "metadata": {},
     "output_type": "execute_result"
    }
   ],
   "source": [
    "series(sin(x)) # 默认余项次数为6，在 x=0 处展开"
   ]
  },
  {
   "cell_type": "code",
   "execution_count": 106,
   "metadata": {},
   "outputs": [
    {
     "data": {
      "image/png": "[encoded data removed]",
      "text/latex": [
       "$\\displaystyle e + e \\left(x - 1\\right) + \\frac{e \\left(x - 1\\right)^{2}}{2} + O\\left(\\left(x - 1\\right)^{3}; x\\rightarrow 1\\right)$"
      ],
      "text/plain": [
       "                         2                     \n",
       "                ℯ⋅(x - 1)     ⎛       3       ⎞\n",
       "ℯ + ℯ⋅(x - 1) + ────────── + O⎝(x - 1) ; x → 1⎠\n",
       "                    2                          "
      ]
     },
     "execution_count": 106,
     "metadata": {},
     "output_type": "execute_result"
    }
   ],
   "source": [
    "series(exp(x), x, 1, n= 3)#在 x=1 处展开，余项次数为3"
   ]
  },
  {
   "cell_type": "code",
   "execution_count": 107,
   "metadata": {},
   "outputs": [
    {
     "data": {
      "image/png": "[encoded data removed]",
      "text/latex": [
       "$\\displaystyle x - \\frac{x^{3}}{6} + O\\left(x^{4}\\right)$"
      ],
      "text/plain": [
       "     3        \n",
       "    x     ⎛ 4⎞\n",
       "x - ── + O⎝x ⎠\n",
       "    6         "
      ]
     },
     "execution_count": 107,
     "metadata": {},
     "output_type": "execute_result"
    }
   ],
   "source": [
    "sin(x).series(x,0,n=4)"
   ]
  },
  {
   "cell_type": "markdown",
   "metadata": {},
   "source": [
    "#### 级数求和"
   ]
  },
  {
   "cell_type": "code",
   "execution_count": 108,
   "metadata": {},
   "outputs": [
    {
     "data": {
      "image/png": "[encoded data removed]",
      "text/latex": [
       "$\\displaystyle \\frac{n^{2}}{2} + \\frac{n}{2}$"
      ],
      "text/plain": [
       " 2    \n",
       "n    n\n",
       "── + ─\n",
       "2    2"
      ]
     },
     "execution_count": 108,
     "metadata": {},
     "output_type": "execute_result"
    }
   ],
   "source": [
    "from sympy import var, summation\n",
    "i, n = var(\"i n\") # Create symbols and inject them into the global namespace.\n",
    "summation(i, (i, 1, n)) # summation函数用于级数求和"
   ]
  },
  {
   "cell_type": "code",
   "execution_count": 109,
   "metadata": {},
   "outputs": [
    {
     "data": {
      "image/png": "[encoded data removed]",
      "text/latex": [
       "$\\displaystyle \\infty$"
      ],
      "text/plain": [
       "∞"
      ]
     },
     "execution_count": 109,
     "metadata": {},
     "output_type": "execute_result"
    }
   ],
   "source": [
    "summation(1/n, (n, 1, +oo)) # 调和级数，发散"
   ]
  },
  {
   "cell_type": "code",
   "execution_count": 110,
   "metadata": {},
   "outputs": [
    {
     "data": {
      "text/latex": [
       "$\\displaystyle \\begin{cases} \\zeta\\left(r\\right) & \\text{for}\\: r > 1 \\\\\\sum_{n=1}^{\\infty} n^{- r} & \\text{otherwise} \\end{cases}$"
      ],
      "text/plain": [
       "⎧  ζ(r)     for r > 1\n",
       "⎪                    \n",
       "⎪  ∞                 \n",
       "⎪ ___                \n",
       "⎪ ╲                  \n",
       "⎨  ╲    -r           \n",
       "⎪  ╱   n    otherwise\n",
       "⎪ ╱                  \n",
       "⎪ ‾‾‾                \n",
       "⎪n = 1               \n",
       "⎩                    "
      ]
     },
     "execution_count": 110,
     "metadata": {},
     "output_type": "execute_result"
    }
   ],
   "source": [
    "r = symbols('r')\n",
    "summation(1/n**r, (n, 1, +oo)) # 仅当r>1时 收敛"
   ]
  },
  {
   "cell_type": "markdown",
   "metadata": {},
   "source": [
    "### 傅里叶级数"
   ]
  },
  {
   "cell_type": "code",
   "execution_count": 111,
   "metadata": {},
   "outputs": [
    {
     "data": {
      "image/png": "[encoded data removed]",
      "text/plain": [
       "<Figure size 432x288 with 1 Axes>"
      ]
     },
     "metadata": {
      "needs_background": "light"
     },
     "output_type": "display_data"
    },
    {
     "data": {
      "text/plain": [
       "<sympy.plotting.plot.Plot at 0x1d6ebf14608>"
      ]
     },
     "execution_count": 111,
     "metadata": {},
     "output_type": "execute_result"
    },
    {
     "data": {
      "image/png": "[encoded data removed]",
      "text/latex": [
       "$\\displaystyle - \\frac{4 \\cos{\\left(x \\right)}}{\\pi} - \\frac{4 \\cos{\\left(3 x \\right)}}{9 \\pi} - \\frac{4 \\cos{\\left(5 x \\right)}}{25 \\pi} - \\frac{4 \\cos{\\left(7 x \\right)}}{49 \\pi} - \\frac{4 \\cos{\\left(9 x \\right)}}{81 \\pi} - \\frac{4 \\cos{\\left(11 x \\right)}}{121 \\pi} - \\frac{4 \\cos{\\left(13 x \\right)}}{169 \\pi} + \\frac{\\pi}{2}$"
      ],
      "text/plain": [
       "  4⋅cos(x)   4⋅cos(3⋅x)   4⋅cos(5⋅x)   4⋅cos(7⋅x)   4⋅cos(9⋅x)   4⋅cos(11⋅x)  \n",
       "- ──────── - ────────── - ────────── - ────────── - ────────── - ─────────── -\n",
       "     π          9⋅π          25⋅π         49⋅π         81⋅π         121⋅π     \n",
       "\n",
       " 4⋅cos(13⋅x)   π\n",
       " ─────────── + ─\n",
       "    169⋅π      2"
      ]
     },
     "execution_count": 111,
     "metadata": {},
     "output_type": "execute_result"
    }
   ],
   "source": [
    "from sympy import fourier_series, plot\n",
    "f = Piecewise((x,(x>0) & (x<pi)),(-x,(x<0) & (x>-pi)))\n",
    "plot(f)\n",
    "fourier_series(f, (x, -pi, pi)).truncate(8)#截断"
   ]
  },
  {
   "cell_type": "code",
   "execution_count": 112,
   "metadata": {},
   "outputs": [
    {
     "data": {
      "image/png": "[encoded data removed]",
      "text/latex": [
       "$\\displaystyle - 4 \\cos{\\left(x \\right)} + \\cos{\\left(2 x \\right)} + \\frac{\\pi^{2}}{3} + \\ldots$"
      ],
      "text/plain": [
       "                        2    \n",
       "                       π     \n",
       "-4⋅cos(x) + cos(2⋅x) + ── + …\n",
       "                       3     "
      ]
     },
     "execution_count": 112,
     "metadata": {},
     "output_type": "execute_result"
    },
    {
     "data": {
      "image/png": "[encoded data removed]",
      "text/latex": [
       "$\\displaystyle - 4 \\cos{\\left(x \\right)} + \\cos{\\left(2 x \\right)} + \\frac{\\pi^{2}}{3} + \\ldots$"
      ],
      "text/plain": [
       "                        2    \n",
       "                       π     \n",
       "-4⋅cos(x) + cos(2⋅x) + ── + …\n",
       "                       3     "
      ]
     },
     "execution_count": 112,
     "metadata": {},
     "output_type": "execute_result"
    },
    {
     "data": {
      "image/png": "[encoded data removed]",
      "text/latex": [
       "$\\displaystyle - 8 \\cos{\\left(x \\right)} + 2 \\cos{\\left(2 x \\right)} + \\frac{2 \\pi^{2}}{3}$"
      ],
      "text/plain": [
       "                            2\n",
       "                         2⋅π \n",
       "-8⋅cos(x) + 2⋅cos(2⋅x) + ────\n",
       "                          3  "
      ]
     },
     "execution_count": 112,
     "metadata": {},
     "output_type": "execute_result"
    },
    {
     "data": {
      "image/png": "[encoded data removed]",
      "text/latex": [
       "$\\displaystyle - 4 \\cos{\\left(2 x \\right)} + \\cos{\\left(4 x \\right)} + \\frac{\\pi^{2}}{3}$"
      ],
      "text/plain": [
       "                          2\n",
       "                         π \n",
       "-4⋅cos(2⋅x) + cos(4⋅x) + ──\n",
       "                         3 "
      ]
     },
     "execution_count": 112,
     "metadata": {},
     "output_type": "execute_result"
    },
    {
     "data": {
      "image/png": "[encoded data removed]",
      "text/latex": [
       "$\\displaystyle 2 \\sin{\\left(x \\right)} - \\sin{\\left(2 x \\right)} + \\frac{2 \\sin{\\left(3 x \\right)}}{3} + \\ldots$"
      ],
      "text/plain": [
       "                      2⋅sin(3⋅x)    \n",
       "2⋅sin(x) - sin(2⋅x) + ────────── + …\n",
       "                          3         "
      ]
     },
     "execution_count": 112,
     "metadata": {},
     "output_type": "execute_result"
    },
    {
     "data": {
      "image/png": "[encoded data removed]",
      "text/latex": [
       "$\\displaystyle 2 \\sin{\\left(x \\right)} - \\sin{\\left(2 x \\right)} + 1$"
      ],
      "text/plain": [
       "2⋅sin(x) - sin(2⋅x) + 1"
      ]
     },
     "execution_count": 112,
     "metadata": {},
     "output_type": "execute_result"
    },
    {
     "data": {
      "image/png": "[encoded data removed]",
      "text/latex": [
       "$\\displaystyle 2 \\sin{\\left(x + 1 \\right)} - \\sin{\\left(2 x + 2 \\right)} + \\frac{2 \\sin{\\left(3 x + 3 \\right)}}{3}$"
      ],
      "text/plain": [
       "                              2⋅sin(3⋅x + 3)\n",
       "2⋅sin(x + 1) - sin(2⋅x + 2) + ──────────────\n",
       "                                    3       "
      ]
     },
     "execution_count": 112,
     "metadata": {},
     "output_type": "execute_result"
    }
   ],
   "source": [
    "s = fourier_series(x**2, (x, -pi, pi))\n",
    "s\n",
    "s.evalf()\n",
    "# dir(s)\n",
    "\n",
    "s.scale(2).truncate() # y幅度\n",
    "s.scalex(2).truncate() # x幅度\n",
    "s = fourier_series(x, (x, -pi, pi))\n",
    "s\n",
    "s.shift(1).truncate() # y平移\n",
    "s.shiftx(1).truncate() # x平移"
   ]
  },
  {
   "cell_type": "code",
   "execution_count": 113,
   "metadata": {},
   "outputs": [
    {
     "data": {
      "image/png": "[encoded data removed]",
      "text/latex": [
       "$\\displaystyle \\sqrt{\\pi} e^{- \\pi^{2} k^{2}}$"
      ],
      "text/plain": [
       "      2  2\n",
       "    -π ⋅k \n",
       "√π⋅ℯ      "
      ]
     },
     "execution_count": 113,
     "metadata": {},
     "output_type": "execute_result"
    },
    {
     "data": {
      "text/latex": [
       "$\\displaystyle \\left( \\begin{cases} \\frac{1}{x^{2} + 1} & \\text{for}\\: \\left(x > 0 \\wedge x < \\pi\\right) \\vee \\left(x > - \\pi \\wedge x < 0\\right) \\end{cases}, \\  0, \\  \\text{True}\\right)$"
      ],
      "text/plain": [
       "⎛⎧  1                                                    ⎞\n",
       "⎜⎪──────  for (x > 0 ∧ x < π) ∨ (x > -π ∧ x < 0)         ⎟\n",
       "⎜⎨ 2                                            , 0, True⎟\n",
       "⎜⎪x  + 1                                                 ⎟\n",
       "⎝⎩                                                       ⎠"
      ]
     },
     "execution_count": 113,
     "metadata": {},
     "output_type": "execute_result"
    }
   ],
   "source": [
    "from sympy.integrals import fourier_transform\n",
    "from sympy.integrals import laplace_transform\n",
    "\n",
    "f1 = fourier_transform(exp(-x**2), x, k)\n",
    "f1\n",
    "f2 = laplace_transform(sin(x),x,f)\n",
    "f2\n"
   ]
  },
  {
   "cell_type": "code",
   "execution_count": 114,
   "metadata": {},
   "outputs": [
    {
     "data": {
      "image/png": "[encoded data removed]",
      "text/latex": [
       "$\\displaystyle \\sin{\\left(x \\right)}$"
      ],
      "text/plain": [
       "sin(x)"
      ]
     },
     "execution_count": 114,
     "metadata": {},
     "output_type": "execute_result"
    },
    {
     "data": {
      "image/png": "[encoded data removed]",
      "text/latex": [
       "$\\displaystyle \\infty \\operatorname{sign}{\\left(e^{- 7 s} \\sin{\\left(x \\right)} \\right)}$"
      ],
      "text/plain": [
       "      ⎛ -7⋅s       ⎞\n",
       "∞⋅sign⎝ℯ    ⋅sin(x)⎠"
      ]
     },
     "execution_count": 114,
     "metadata": {},
     "output_type": "execute_result"
    }
   ],
   "source": [
    "s,t = symbols(\"s t\")\n",
    "f = exp(-t**2)\n",
    "f = sin(x)\n",
    "f\n",
    "integrate(f*exp(-s*7),(t,0,+oo))"
   ]
  },
  {
   "cell_type": "code",
   "execution_count": 115,
   "metadata": {},
   "outputs": [
    {
     "data": {
      "image/png": "[encoded data removed]",
      "text/latex": [
       "$\\displaystyle - \\frac{4 l^{2} \\cos{\\left(\\frac{\\pi x}{l} \\right)}}{\\pi^{2}} + \\frac{l^{2} \\cos{\\left(\\frac{2 \\pi x}{l} \\right)}}{\\pi^{2}} + \\frac{l^{2}}{3} + \\ldots$"
      ],
      "text/plain": [
       "     2    ⎛π⋅x⎞    2    ⎛2⋅π⋅x⎞         \n",
       "  4⋅l ⋅cos⎜───⎟   l ⋅cos⎜─────⎟    2    \n",
       "          ⎝ l ⎠         ⎝  l  ⎠   l     \n",
       "- ───────────── + ───────────── + ── + …\n",
       "         2               2        3     \n",
       "        π               π               "
      ]
     },
     "execution_count": 115,
     "metadata": {},
     "output_type": "execute_result"
    },
    {
     "data": {
      "image/png": "[encoded data removed]",
      "text/latex": [
       "$\\displaystyle - 4 \\cos{\\left(x \\right)} + \\cos{\\left(2 x \\right)} - \\frac{4 \\cos{\\left(3 x \\right)}}{9} + \\frac{\\cos{\\left(4 x \\right)}}{4} - \\frac{4 \\cos{\\left(5 x \\right)}}{25} + \\frac{\\cos{\\left(6 x \\right)}}{9} - \\frac{4 \\cos{\\left(7 x \\right)}}{49} + \\frac{\\cos{\\left(8 x \\right)}}{16} - \\frac{4 \\cos{\\left(9 x \\right)}}{81} + \\frac{\\pi^{2}}{3}$"
      ],
      "text/plain": [
       "                                                                              \n",
       "                       4⋅cos(3⋅x)   cos(4⋅x)   4⋅cos(5⋅x)   cos(6⋅x)   4⋅cos(7\n",
       "-4⋅cos(x) + cos(2⋅x) - ────────── + ──────── - ────────── + ──────── - ───────\n",
       "                           9           4           25          9           49 \n",
       "\n",
       "                               2\n",
       "⋅x)   cos(8⋅x)   4⋅cos(9⋅x)   π \n",
       "─── + ──────── - ────────── + ──\n",
       "         16          81       3 "
      ]
     },
     "execution_count": 115,
     "metadata": {},
     "output_type": "execute_result"
    },
    {
     "data": {
      "image/png": "[encoded data removed]",
      "text/latex": [
       "$\\displaystyle 4.00017110391742$"
      ],
      "text/plain": [
       "4.00017110391742"
      ]
     },
     "execution_count": 115,
     "metadata": {},
     "output_type": "execute_result"
    }
   ],
   "source": [
    "n,l = symbols(\"n l\")\n",
    "s = fourier_series(x**2, (x, -l, l))\n",
    "s\n",
    "s1 = s.subs({l:pi})\n",
    "s1.truncate(10)\n",
    "\n",
    "s2 = s1.truncate(100).subs({x:2})\n",
    "s2.evalf()\n",
    "\n",
    "# summation(s1,(x,0,+oo))"
   ]
  },
  {
   "cell_type": "code",
   "execution_count": 116,
   "metadata": {},
   "outputs": [
    {
     "data": {
      "image/png": "[encoded data removed]",
      "text/latex": [
       "$\\displaystyle \\frac{\\frac{32 \\pi^{7} - 32 i \\pi^{8} + 16 i \\pi^{6}}{64 \\pi^{6}} - \\frac{- 32 \\pi^{7} - 32 i \\pi^{8} + 16 i \\pi^{6}}{64 \\pi^{6}}}{2 \\pi}$"
      ],
      "text/plain": [
       "    7         8         6         7         8         6\n",
       "32⋅π  - 32⋅ⅈ⋅π  + 16⋅ⅈ⋅π    - 32⋅π  - 32⋅ⅈ⋅π  + 16⋅ⅈ⋅π \n",
       "───────────────────────── - ───────────────────────────\n",
       "              6                            6           \n",
       "          64⋅π                         64⋅π            \n",
       "───────────────────────────────────────────────────────\n",
       "                          2⋅π                          "
      ]
     },
     "execution_count": 116,
     "metadata": {},
     "output_type": "execute_result"
    },
    {
     "data": {
      "image/png": "[encoded data removed]",
      "text/latex": [
       "$\\displaystyle \\frac{1}{2}$"
      ],
      "text/plain": [
       "1/2"
      ]
     },
     "execution_count": 116,
     "metadata": {},
     "output_type": "execute_result"
    },
    {
     "data": {
      "image/png": "[encoded data removed]",
      "text/latex": [
       "$\\displaystyle \\frac{\\int\\limits_{- l}^{l} x^{2} e^{\\frac{i \\pi n x}{l}}\\, dx}{2 l}$"
      ],
      "text/plain": [
       "l                \n",
       "⌠                \n",
       "⎮      ⅈ⋅π⋅n⋅x   \n",
       "⎮      ───────   \n",
       "⎮   2     l      \n",
       "⎮  x ⋅ℯ        dx\n",
       "⌡                \n",
       "-l               \n",
       "─────────────────\n",
       "       2⋅l       "
      ]
     },
     "execution_count": 116,
     "metadata": {},
     "output_type": "execute_result"
    },
    {
     "data": {
      "image/png": "[encoded data removed]",
      "text/latex": [
       "$\\displaystyle \\frac{e^{\\frac{2 i \\pi x}{l}}}{2}$"
      ],
      "text/plain": [
       " 2⋅ⅈ⋅π⋅x\n",
       " ───────\n",
       "    l   \n",
       "ℯ       \n",
       "────────\n",
       "   2    "
      ]
     },
     "execution_count": 116,
     "metadata": {},
     "output_type": "execute_result"
    }
   ],
   "source": [
    "from sympy import I\n",
    "f = x**2\n",
    "n,l = symbols(\"n l\")\n",
    "# n=2\n",
    "s = (1/(2*l))*integrate(f*exp(n*pi*x*I/l),(x,-l, l))\n",
    "cn = simplify(s.subs({l:pi}))\n",
    "sn = cn*exp(n*pi*x*I/l)\n",
    "s1 = s.subs({l:pi,n:2})\n",
    "s1\n",
    "simplify(s1)\n",
    "(1/(2*l))*Integral(f*exp(n*pi*x*I/l),(x,-l, l))\n",
    "sn.subs({n:2})"
   ]
  },
  {
   "cell_type": "code",
   "execution_count": 117,
   "metadata": {},
   "outputs": [
    {
     "data": {
      "image/png": "[encoded data removed]",
      "text/latex": [
       "$\\displaystyle 4.00026854145243 + 0.000174659459442799 i$"
      ],
      "text/plain": [
       "4.00026854145243 + 0.000174659459442799⋅ⅈ"
      ]
     },
     "execution_count": 117,
     "metadata": {},
     "output_type": "execute_result"
    }
   ],
   "source": [
    "sns = 0\n",
    "for n_ in range(-100,100):\n",
    "    sns+=sn.subs({l:pi,x:2,n:n_})\n",
    "sns.evalf()"
   ]
  },
  {
   "cell_type": "code",
   "execution_count": 118,
   "metadata": {},
   "outputs": [
    {
     "data": {
      "image/png": "[encoded data removed]",
      "text/latex": [
       "$\\displaystyle 1$"
      ],
      "text/plain": [
       "1"
      ]
     },
     "execution_count": 118,
     "metadata": {},
     "output_type": "execute_result"
    }
   ],
   "source": [
    "e1 = exp(-8*pi*I)\n",
    "e1"
   ]
  },
  {
   "cell_type": "markdown",
   "metadata": {},
   "source": [
    "![](https://gss3.bdstatic.com/7Po3dSag_xI4khGkpoWK1HF6hhy/baike/pic/item/b7fd5266d01609246cd3815fd50735fae7cd34fb.jpg)"
   ]
  },
  {
   "cell_type": "markdown",
   "metadata": {},
   "source": [
    "# 集合\n",
    "FiniteSet"
   ]
  },
  {
   "cell_type": "markdown",
   "metadata": {},
   "source": [
    "### 构建集合"
   ]
  },
  {
   "cell_type": "code",
   "execution_count": 6,
   "metadata": {},
   "outputs": [
    {
     "data": {
      "text/plain": [
       "Fraction(1, 5)"
      ]
     },
     "execution_count": 6,
     "metadata": {},
     "output_type": "execute_result"
    }
   ],
   "source": [
    "from sympy import FiniteSet\n",
    "from fractions import Fraction # 分数"
   ]
  },
  {
   "cell_type": "code",
   "execution_count": 120,
   "metadata": {},
   "outputs": [
    {
     "data": {
      "image/png": "[encoded data removed]",
      "text/latex": [
       "$\\displaystyle \\left\\{\\frac{1}{5}, 2, 4, 6\\right\\}$"
      ],
      "text/plain": [
       "{1/5, 2, 4, 6}"
      ]
     },
     "execution_count": 120,
     "metadata": {},
     "output_type": "execute_result"
    },
    {
     "data": {
      "image/png": "[encoded data removed]",
      "text/latex": [
       "$\\displaystyle 4$"
      ],
      "text/plain": [
       "4"
      ]
     },
     "execution_count": 120,
     "metadata": {},
     "output_type": "execute_result"
    },
    {
     "data": {
      "text/plain": [
       "False"
      ]
     },
     "execution_count": 120,
     "metadata": {},
     "output_type": "execute_result"
    }
   ],
   "source": [
    "s = FiniteSet(2,4,6, Fraction(1,5))\n",
    "s\n",
    "len(s)\n",
    "3 in s"
   ]
  },
  {
   "cell_type": "code",
   "execution_count": 121,
   "metadata": {},
   "outputs": [
    {
     "data": {
      "image/png": "[encoded data removed]",
      "text/latex": [
       "$\\displaystyle \\emptyset$"
      ],
      "text/plain": [
       "∅"
      ]
     },
     "execution_count": 121,
     "metadata": {},
     "output_type": "execute_result"
    }
   ],
   "source": [
    "# 创建一个空集合\n",
    "s = FiniteSet()\n",
    "s"
   ]
  },
  {
   "cell_type": "code",
   "execution_count": 122,
   "metadata": {},
   "outputs": [
    {
     "data": {
      "image/png": "[encoded data removed]",
      "text/latex": [
       "$\\displaystyle \\left\\{1, 2, 3\\right\\}$"
      ],
      "text/plain": [
       "{1, 2, 3}"
      ]
     },
     "execution_count": 122,
     "metadata": {},
     "output_type": "execute_result"
    }
   ],
   "source": [
    "# 通过列表或元组创建集合\n",
    "members= [1,2,3]\n",
    "s = FiniteSet(*members)\n",
    "s"
   ]
  },
  {
   "cell_type": "markdown",
   "metadata": {},
   "source": [
    "##### 集合的重复与排序"
   ]
  },
  {
   "cell_type": "code",
   "execution_count": 123,
   "metadata": {},
   "outputs": [
    {
     "data": {
      "image/png": "[encoded data removed]",
      "text/latex": [
       "$\\displaystyle \\left\\{2, 4, 6\\right\\}$"
      ],
      "text/plain": [
       "{2, 4, 6}"
      ]
     },
     "execution_count": 123,
     "metadata": {},
     "output_type": "execute_result"
    },
    {
     "name": "stdout",
     "output_type": "stream",
     "text": [
      "2\n",
      "4\n",
      "6\n"
     ]
    }
   ],
   "source": [
    "s = FiniteSet(2,4,6,2)\n",
    "s\n",
    "for s_ in s:\n",
    "    print(s_)"
   ]
  },
  {
   "cell_type": "code",
   "execution_count": 124,
   "metadata": {},
   "outputs": [
    {
     "data": {
      "text/plain": [
       "True"
      ]
     },
     "execution_count": 124,
     "metadata": {},
     "output_type": "execute_result"
    }
   ],
   "source": [
    "s1 = FiniteSet(2,4,6)\n",
    "s2 = FiniteSet(6,4,2)\n",
    "s1 == s2"
   ]
  },
  {
   "cell_type": "markdown",
   "metadata": {},
   "source": [
    "### 子集、超集与幂集\n",
    "* 子集: is_subset()\n",
    "* 超集: is_superset()\n",
    "* 幂集: powerset()"
   ]
  },
  {
   "cell_type": "code",
   "execution_count": 125,
   "metadata": {},
   "outputs": [
    {
     "data": {
      "text/plain": [
       "True"
      ]
     },
     "execution_count": 125,
     "metadata": {},
     "output_type": "execute_result"
    },
    {
     "data": {
      "text/plain": [
       "False"
      ]
     },
     "execution_count": 125,
     "metadata": {},
     "output_type": "execute_result"
    },
    {
     "data": {
      "text/plain": [
       "False"
      ]
     },
     "execution_count": 125,
     "metadata": {},
     "output_type": "execute_result"
    },
    {
     "data": {
      "text/plain": [
       "True"
      ]
     },
     "execution_count": 125,
     "metadata": {},
     "output_type": "execute_result"
    },
    {
     "data": {
      "image/png": "[encoded data removed]",
      "text/latex": [
       "$\\displaystyle \\left\\{\\emptyset, \\left\\{1\\right\\}, \\left\\{2\\right\\}, \\left\\{3\\right\\}, \\left\\{4\\right\\}, \\left\\{1, 2\\right\\}, \\left\\{1, 3\\right\\}, \\left\\{1, 4\\right\\}, \\left\\{2, 3\\right\\}, \\left\\{2, 4\\right\\}, \\left\\{3, 4\\right\\}, \\left\\{1, 2, 3\\right\\}, \\left\\{1, 2, 4\\right\\}, \\left\\{1, 3, 4\\right\\}, \\left\\{2, 3, 4\\right\\}, \\left\\{1, 2, 3, 4\\right\\}\\right\\}$"
      ],
      "text/plain": [
       "{∅, {1}, {2}, {3}, {4}, {1, 2}, {1, 3}, {1, 4}, {2, 3}, {2, 4}, {3, 4}, {1, 2,\n",
       " 3}, {1, 2, 4}, {1, 3, 4}, {2, 3, 4}, {1, 2, 3, 4}}"
      ]
     },
     "execution_count": 125,
     "metadata": {},
     "output_type": "execute_result"
    },
    {
     "data": {
      "image/png": "[encoded data removed]",
      "text/latex": [
       "$\\displaystyle 16$"
      ],
      "text/plain": [
       "16"
      ]
     },
     "execution_count": 125,
     "metadata": {},
     "output_type": "execute_result"
    },
    {
     "data": {
      "text/plain": [
       "True"
      ]
     },
     "execution_count": 125,
     "metadata": {},
     "output_type": "execute_result"
    },
    {
     "data": {
      "text/plain": [
       "True"
      ]
     },
     "execution_count": 125,
     "metadata": {},
     "output_type": "execute_result"
    }
   ],
   "source": [
    "s = FiniteSet(1)\n",
    "t = FiniteSet(1,2,3,4)\n",
    "# 子集\n",
    "s.is_subset(t)\n",
    "t.is_subset(s)\n",
    "# 超集\n",
    "s.is_superset(t)\n",
    "t.is_superset(s)\n",
    "# 幂集\n",
    "ps = t.powerset()\n",
    "ps\n",
    "len(ps)\n",
    "# 真子集\n",
    "s.is_proper_subset(t)\n",
    "# 真超集\n",
    "t.is_proper_superset(s)"
   ]
  },
  {
   "cell_type": "markdown",
   "metadata": {},
   "source": [
    "### 集合运算\n",
    "* 并集和交集  \n",
    "    * union\n",
    "    * intersection\n",
    "* 笛卡尔积\n",
    "    * *(乘法运算符号)"
   ]
  },
  {
   "cell_type": "markdown",
   "metadata": {},
   "source": [
    "##### 并集和交集"
   ]
  },
  {
   "cell_type": "code",
   "execution_count": 126,
   "metadata": {},
   "outputs": [
    {
     "data": {
      "image/png": "[encoded data removed]",
      "text/latex": [
       "$\\displaystyle \\left\\{1, 2, 3, 4, 6\\right\\}$"
      ],
      "text/plain": [
       "{1, 2, 3, 4, 6}"
      ]
     },
     "execution_count": 126,
     "metadata": {},
     "output_type": "execute_result"
    },
    {
     "data": {
      "image/png": "[encoded data removed]",
      "text/latex": [
       "$\\displaystyle \\left\\{2\\right\\}$"
      ],
      "text/plain": [
       "{2}"
      ]
     },
     "execution_count": 126,
     "metadata": {},
     "output_type": "execute_result"
    },
    {
     "data": {
      "image/png": "[encoded data removed]",
      "text/latex": [
       "$\\displaystyle \\left\\{1, 2, 3, 4, 5, 6, 7\\right\\}$"
      ],
      "text/plain": [
       "{1, 2, 3, 4, 5, 6, 7}"
      ]
     },
     "execution_count": 126,
     "metadata": {},
     "output_type": "execute_result"
    }
   ],
   "source": [
    "s = FiniteSet(1,2,3)\n",
    "t = FiniteSet(2,4,6)\n",
    "u = FiniteSet(3,5,7)\n",
    "s.union(t)\n",
    "s.intersection(t)\n",
    "# 三个集合的并集\n",
    "s.union(t).union(u)"
   ]
  },
  {
   "cell_type": "markdown",
   "metadata": {},
   "source": [
    "##### 笛卡尔积"
   ]
  },
  {
   "cell_type": "code",
   "execution_count": 127,
   "metadata": {},
   "outputs": [
    {
     "data": {
      "image/png": "[encoded data removed]",
      "text/latex": [
       "$\\displaystyle \\left\\{1, 2\\right\\} \\times \\left\\{3, 4\\right\\}$"
      ],
      "text/plain": [
       "{1, 2} × {3, 4}"
      ]
     },
     "execution_count": 127,
     "metadata": {},
     "output_type": "execute_result"
    },
    {
     "data": {
      "image/png": "[encoded data removed]",
      "text/latex": [
       "$\\displaystyle 4$"
      ],
      "text/plain": [
       "4"
      ]
     },
     "execution_count": 127,
     "metadata": {},
     "output_type": "execute_result"
    },
    {
     "name": "stdout",
     "output_type": "stream",
     "text": [
      "(1, 3)\n",
      "(1, 4)\n",
      "(2, 3)\n",
      "(2, 4)\n"
     ]
    }
   ],
   "source": [
    "s = FiniteSet(1,2)\n",
    "t = FiniteSet(3,4)\n",
    "p = s*t\n",
    "p\n",
    "len(p)\n",
    "for p_ in p:\n",
    "    print(p_)"
   ]
  },
  {
   "cell_type": "markdown",
   "metadata": {},
   "source": [
    "##### 集合与自身的笛卡尔乘积"
   ]
  },
  {
   "cell_type": "code",
   "execution_count": 128,
   "metadata": {},
   "outputs": [
    {
     "data": {
      "image/png": "[encoded data removed]",
      "text/latex": [
       "$\\displaystyle \\left\\{1, 2\\right\\}^{3}$"
      ],
      "text/plain": [
       "      3\n",
       "{1, 2} "
      ]
     },
     "execution_count": 128,
     "metadata": {},
     "output_type": "execute_result"
    },
    {
     "data": {
      "image/png": "[encoded data removed]",
      "text/latex": [
       "$\\displaystyle 8$"
      ],
      "text/plain": [
       "8"
      ]
     },
     "execution_count": 128,
     "metadata": {},
     "output_type": "execute_result"
    },
    {
     "name": "stdout",
     "output_type": "stream",
     "text": [
      "(1, 1, 1)\n",
      "(1, 1, 2)\n",
      "(1, 2, 1)\n",
      "(1, 2, 2)\n",
      "(2, 1, 1)\n",
      "(2, 1, 2)\n",
      "(2, 2, 1)\n",
      "(2, 2, 2)\n"
     ]
    }
   ],
   "source": [
    "s = FiniteSet(1,2)\n",
    "p = s**3\n",
    "p\n",
    "len(p)\n",
    "for p_ in p:\n",
    "    print(p_)"
   ]
  },
  {
   "cell_type": "code",
   "execution_count": 129,
   "metadata": {},
   "outputs": [
    {
     "name": "stdout",
     "output_type": "stream",
     "text": [
      "     15.0           9.78           0.778     \n",
      "     15.0            9.8           0.777     \n",
      "     15.0           9.83           0.776     \n",
      "     18.0           9.78           0.852     \n",
      "     18.0            9.8           0.852     \n",
      "     18.0           9.83           0.850     \n",
      "     21.0           9.78           0.921     \n",
      "     21.0            9.8           0.920     \n",
      "     21.0           9.83           0.918     \n",
      "     22.5           9.78           0.953     \n",
      "     22.5            9.8           0.952     \n",
      "     22.5           9.83           0.951     \n",
      "     25.0           9.78           1.005     \n",
      "     25.0            9.8           1.004     \n",
      "     25.0           9.83           1.002     \n"
     ]
    }
   ],
   "source": [
    "from sympy import pi\n",
    "def time_period(length,g):\n",
    "    T = 2*pi*(length/g)**0.5\n",
    "    return T\n",
    "if __name__=='__main__':\n",
    "    L = FiniteSet(15,18,21,22.5,25)\n",
    "    g_values = FiniteSet(9.8,9.78,9.83)\n",
    "    for elem in L*g_values:\n",
    "        l = elem[0]\n",
    "        g = elem[1]\n",
    "        t = time_period(l/100,g)\n",
    "        print('{0:^15}{1:^15}{2:^15.3f}'.format(float(l),float(g),float(t)))\n"
   ]
  },
  {
   "cell_type": "markdown",
   "metadata": {},
   "source": [
    "# 概率\n",
    "\n",
    "* 均匀分布\n",
    "    * random.uniform\n",
    "    * np.random.uniform"
   ]
  },
  {
   "cell_type": "code",
   "execution_count": null,
   "metadata": {},
   "outputs": [],
   "source": []
  },
  {
   "cell_type": "code",
   "execution_count": null,
   "metadata": {},
   "outputs": [],
   "source": []
  },
  {
   "cell_type": "markdown",
   "metadata": {},
   "source": [
    "###### 估计一个圆的面积"
   ]
  },
  {
   "cell_type": "code",
   "execution_count": 130,
   "metadata": {},
   "outputs": [
    {
     "data": {
      "image/png": "[encoded data removed]",
      "text/latex": [
       "$\\displaystyle 3.1336$"
      ],
      "text/plain": [
       "3.1336"
      ]
     },
     "execution_count": 130,
     "metadata": {},
     "output_type": "execute_result"
    }
   ],
   "source": [
    "N=0\n",
    "M=100000\n",
    "for i in range(M):\n",
    "    x1 = random.uniform(-1,1)\n",
    "    y1 = random.uniform(-1,1)\n",
    "    r1 = x1**2+y1**2\n",
    "    if r1<=1 :\n",
    "        N+=1\n",
    "(N/M)*4"
   ]
  },
  {
   "cell_type": "markdown",
   "metadata": {},
   "source": [
    "### 文氏图\n",
    "pip install matplotlib-venn"
   ]
  },
  {
   "cell_type": "code",
   "execution_count": 131,
   "metadata": {},
   "outputs": [],
   "source": [
    "from matplotlib_venn import venn2,venn2_circles"
   ]
  },
  {
   "cell_type": "code",
   "execution_count": 132,
   "metadata": {},
   "outputs": [
    {
     "data": {
      "image/png": "[encoded data removed]",
      "text/latex": [
       "$\\displaystyle \\left\\{1, 3, 5, 7, 9, 11, 13, 15, 17, 19\\right\\}$"
      ],
      "text/plain": [
       "{1, 3, 5, 7, 9, 11, 13, 15, 17, 19}"
      ]
     },
     "execution_count": 132,
     "metadata": {},
     "output_type": "execute_result"
    },
    {
     "data": {
      "image/png": "[encoded data removed]",
      "text/latex": [
       "$\\displaystyle \\left\\{1, 4, 7, 10, 13, 16, 19\\right\\}$"
      ],
      "text/plain": [
       "{1, 4, 7, 10, 13, 16, 19}"
      ]
     },
     "execution_count": 132,
     "metadata": {},
     "output_type": "execute_result"
    },
    {
     "data": {
      "text/plain": [
       "<matplotlib_venn._common.VennDiagram at 0x1d6fad96f48>"
      ]
     },
     "execution_count": 132,
     "metadata": {},
     "output_type": "execute_result"
    },
    {
     "data": {
      "image/png": "[encoded data removed]",
      "text/plain": [
       "<Figure size 432x288 with 1 Axes>"
      ]
     },
     "metadata": {},
     "output_type": "display_data"
    }
   ],
   "source": [
    "s1 = FiniteSet(*range(1,20,2))\n",
    "s2 = FiniteSet(*range(1,20,3))\n",
    "s1\n",
    "s2\n",
    "venn2(subsets=[s1,s2], set_labels = ('A', 'B'))\n",
    "# dir(venn2())\n",
    "c = venn2_circles(subsets=(1, 2, 2), linestyle='dashed')"
   ]
  },
  {
   "cell_type": "markdown",
   "metadata": {},
   "source": [
    "### random\n",
    "* random.shuffle() 方法将序列的所有元素随机排序。\n",
    "* random.choice() 方法返回一个列表，元组或字符串的随机项。"
   ]
  },
  {
   "cell_type": "code",
   "execution_count": 133,
   "metadata": {},
   "outputs": [
    {
     "data": {
      "image/png": "[encoded data removed]",
      "text/latex": [
       "$\\displaystyle \\left[ 9, \\  5, \\  6, \\  8, \\  4, \\  2, \\  3, \\  7, \\  0, \\  1\\right]$"
      ],
      "text/plain": [
       "[9, 5, 6, 8, 4, 2, 3, 7, 0, 1]"
      ]
     },
     "execution_count": 133,
     "metadata": {},
     "output_type": "execute_result"
    },
    {
     "data": {
      "image/png": "[encoded data removed]",
      "text/latex": [
       "$\\displaystyle 10$"
      ],
      "text/plain": [
       "10"
      ]
     },
     "execution_count": 133,
     "metadata": {},
     "output_type": "execute_result"
    },
    {
     "data": {
      "image/png": "[encoded data removed]",
      "text/latex": [
       "$\\displaystyle \\left[ 0, \\  1, \\  2, \\  3, \\  4, \\  5, \\  6, \\  7, \\  8, \\  9\\right]$"
      ],
      "text/plain": [
       "[0, 1, 2, 3, 4, 5, 6, 7, 8, 9]"
      ]
     },
     "execution_count": 133,
     "metadata": {},
     "output_type": "execute_result"
    },
    {
     "data": {
      "image/png": "[encoded data removed]",
      "text/latex": [
       "$\\displaystyle \\left[ 0, \\  1, \\  2, \\  3, \\  4, \\  5, \\  6, \\  7, \\  8, \\  9\\right]$"
      ],
      "text/plain": [
       "[0, 1, 2, 3, 4, 5, 6, 7, 8, 9]"
      ]
     },
     "execution_count": 133,
     "metadata": {},
     "output_type": "execute_result"
    },
    {
     "data": {
      "image/png": "[encoded data removed]",
      "text/latex": [
       "$\\displaystyle 4$"
      ],
      "text/plain": [
       "4"
      ]
     },
     "execution_count": 133,
     "metadata": {},
     "output_type": "execute_result"
    }
   ],
   "source": [
    "x1 = list(range(10))\n",
    "# 复制列表\n",
    "y1 = x1[:]\n",
    "z1 = x1.copy()\n",
    "random.shuffle(x1)\n",
    "x1\n",
    "len(x1)\n",
    "y1\n",
    "z1\n",
    "random.choice(x1)"
   ]
  },
  {
   "cell_type": "markdown",
   "metadata": {},
   "source": [
    "#### 洗牌\n",
    "* random.shuffle()"
   ]
  },
  {
   "cell_type": "code",
   "execution_count": 134,
   "metadata": {},
   "outputs": [],
   "source": [
    "# 牌类\n",
    "class Card:\n",
    "    def __init__(self,suit,rank):\n",
    "        self.suit = str(suit)\n",
    "        self.rank = int(rank)\n"
   ]
  },
  {
   "cell_type": "code",
   "execution_count": 135,
   "metadata": {},
   "outputs": [
    {
     "data": {
      "image/png": "[encoded data removed]",
      "text/latex": [
       "$\\displaystyle \\left\\{A, B, C, D\\right\\}$"
      ],
      "text/plain": [
       "{A, B, C, D}"
      ]
     },
     "execution_count": 135,
     "metadata": {},
     "output_type": "execute_result"
    },
    {
     "data": {
      "image/png": "[encoded data removed]",
      "text/latex": [
       "$\\displaystyle \\left\\{1, 2, 3, 4, 5, 6, 7, 8, 9, 10, 11, 12, 13\\right\\}$"
      ],
      "text/plain": [
       "{1, 2, 3, 4, 5, 6, 7, 8, 9, 10, 11, 12, 13}"
      ]
     },
     "execution_count": 135,
     "metadata": {},
     "output_type": "execute_result"
    },
    {
     "data": {
      "image/png": "[encoded data removed]",
      "text/latex": [
       "$\\displaystyle \\left\\{A, B, C, D\\right\\} \\times \\left\\{1, 2, 3, 4, 5, 6, 7, 8, 9, 10, 11, 12, 13\\right\\}$"
      ],
      "text/plain": [
       "{A, B, C, D} × {1, 2, 3, 4, 5, 6, 7, 8, 9, 10, 11, 12, 13}"
      ]
     },
     "execution_count": 135,
     "metadata": {},
     "output_type": "execute_result"
    }
   ],
   "source": [
    "# 设定牌\n",
    "suits = FiniteSet(*\"ABCD\")\n",
    "suits\n",
    "ranks = FiniteSet(*range(1,14))\n",
    "ranks\n",
    "cards = suits*ranks\n",
    "cards"
   ]
  },
  {
   "cell_type": "code",
   "execution_count": 136,
   "metadata": {},
   "outputs": [],
   "source": [
    "cardlist=[]\n",
    "for i,card in enumerate(cards):\n",
    "    cardlist.append(Card(card[0],card[1]))"
   ]
  },
  {
   "cell_type": "code",
   "execution_count": 137,
   "metadata": {},
   "outputs": [],
   "source": [
    "# 洗牌\n",
    "random.shuffle(cardlist)\n",
    "# cardlist"
   ]
  },
  {
   "cell_type": "markdown",
   "metadata": {},
   "source": [
    "### 类列表按属性排序\n",
    "operator"
   ]
  },
  {
   "cell_type": "code",
   "execution_count": 138,
   "metadata": {},
   "outputs": [
    {
     "data": {
      "text/plain": [
       "'A1'"
      ]
     },
     "execution_count": 138,
     "metadata": {},
     "output_type": "execute_result"
    },
    {
     "data": {
      "text/plain": [
       "'B2'"
      ]
     },
     "execution_count": 138,
     "metadata": {},
     "output_type": "execute_result"
    },
    {
     "data": {
      "text/plain": [
       "'C2'"
      ]
     },
     "execution_count": 138,
     "metadata": {},
     "output_type": "execute_result"
    },
    {
     "data": {
      "text/plain": [
       "'D2'"
      ]
     },
     "execution_count": 138,
     "metadata": {},
     "output_type": "execute_result"
    },
    {
     "data": {
      "text/plain": [
       "'C3'"
      ]
     },
     "execution_count": 138,
     "metadata": {},
     "output_type": "execute_result"
    },
    {
     "data": {
      "text/plain": [
       "'D5'"
      ]
     },
     "execution_count": 138,
     "metadata": {},
     "output_type": "execute_result"
    },
    {
     "data": {
      "text/plain": [
       "'B5'"
      ]
     },
     "execution_count": 138,
     "metadata": {},
     "output_type": "execute_result"
    },
    {
     "data": {
      "text/plain": [
       "'A7'"
      ]
     },
     "execution_count": 138,
     "metadata": {},
     "output_type": "execute_result"
    },
    {
     "data": {
      "text/plain": [
       "'C7'"
      ]
     },
     "execution_count": 138,
     "metadata": {},
     "output_type": "execute_result"
    },
    {
     "data": {
      "text/plain": [
       "'A9'"
      ]
     },
     "execution_count": 138,
     "metadata": {},
     "output_type": "execute_result"
    },
    {
     "data": {
      "text/plain": [
       "'C10'"
      ]
     },
     "execution_count": 138,
     "metadata": {},
     "output_type": "execute_result"
    },
    {
     "data": {
      "text/plain": [
       "'A12'"
      ]
     },
     "execution_count": 138,
     "metadata": {},
     "output_type": "execute_result"
    },
    {
     "data": {
      "text/plain": [
       "'D12'"
      ]
     },
     "execution_count": 138,
     "metadata": {},
     "output_type": "execute_result"
    }
   ],
   "source": [
    "# 理牌\n",
    "import operator\n",
    "cardlist1 = cardlist[:13]\n",
    "cmpfun = operator.attrgetter('rank')#参数为排序依据的属性，可以有多个，这里优先id，使用时按需求改换参数即可\n",
    "cardlist1.sort(key=cmpfun)#使用时改变列表名即可\n",
    "for l1 in cardlist1:\n",
    "    \"{0}{1}\".format(l1.suit,l1.rank)"
   ]
  },
  {
   "cell_type": "code",
   "execution_count": null,
   "metadata": {},
   "outputs": [],
   "source": [
    "\n"
   ]
  }
 ],
 "metadata": {
  "kernelspec": {
   "display_name": "Python 3",
   "language": "python",
   "name": "python3"
  },
  "language_info": {
   "codemirror_mode": {
    "name": "ipython",
    "version": 3
   },
   "file_extension": ".py",
   "mimetype": "text/x-python",
   "name": "python",
   "nbconvert_exporter": "python",
   "pygments_lexer": "ipython3",
   "version": "3.7.4"
  },
  "toc": {
   "base_numbering": 1,
   "nav_menu": {},
   "number_sections": true,
   "sideBar": true,
   "skip_h1_title": false,
   "title_cell": "Table of Contents",
   "title_sidebar": "Contents",
   "toc_cell": false,
   "toc_position": {
    "height": "calc(100% - 180px)",
    "left": "10px",
    "top": "150px",
    "width": "219.422px"
   },
   "toc_section_display": true,
   "toc_window_display": true
  }
 },
 "nbformat": 4,
 "nbformat_minor": 2
}

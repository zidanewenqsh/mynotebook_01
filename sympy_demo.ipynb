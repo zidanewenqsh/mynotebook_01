{
 "cells": [
  {
   "cell_type": "markdown",
   "metadata": {},
   "source": [
    "[极客教程-sympy](https://geek-docs.com/python/python-tutorial/python-sympy.html)"
   ]
  },
  {
   "cell_type": "code",
   "execution_count": 1,
   "metadata": {},
   "outputs": [],
   "source": [
    "from IPython.core.interactiveshell import InteractiveShell \n",
    "InteractiveShell.ast_node_interactivity = 'all' #默认为'last'\n",
    "%matplotlib inline"
   ]
  },
  {
   "cell_type": "code",
   "execution_count": 2,
   "metadata": {},
   "outputs": [],
   "source": [
    "import numpy as np\n",
    "import sympy\n",
    "import matplotlib.pyplot as plt\n",
    "import pandas as pd\n",
    "import time\n",
    "import os\n",
    "import sys\n",
    "import random"
   ]
  },
  {
   "cell_type": "code",
   "execution_count": 168,
   "metadata": {},
   "outputs": [],
   "source": [
    "from sympy import pi, E, I"
   ]
  },
  {
   "cell_type": "code",
   "execution_count": 12,
   "metadata": {},
   "outputs": [],
   "source": [
    "from sympy import simplify"
   ]
  },
  {
   "cell_type": "markdown",
   "metadata": {},
   "source": [
    "# 符号计算"
   ]
  },
  {
   "cell_type": "markdown",
   "metadata": {},
   "source": [
    "## 定义符号和符号运算\n",
    "* Symbol\n",
    "* symbols"
   ]
  },
  {
   "cell_type": "code",
   "execution_count": 4,
   "metadata": {},
   "outputs": [],
   "source": [
    "from sympy import Symbol,symbols"
   ]
  },
  {
   "cell_type": "code",
   "execution_count": 5,
   "metadata": {},
   "outputs": [
    {
     "data": {
      "text/latex": [
       "$\\displaystyle x$"
      ],
      "text/plain": [
       "x"
      ]
     },
     "execution_count": 5,
     "metadata": {},
     "output_type": "execute_result"
    },
    {
     "data": {
      "text/latex": [
       "$\\displaystyle 2 x + 1$"
      ],
      "text/plain": [
       "2*x + 1"
      ]
     },
     "execution_count": 5,
     "metadata": {},
     "output_type": "execute_result"
    },
    {
     "data": {
      "text/latex": [
       "$\\displaystyle 2 x + 1$"
      ],
      "text/plain": [
       "2*x + 1"
      ]
     },
     "execution_count": 5,
     "metadata": {},
     "output_type": "execute_result"
    }
   ],
   "source": [
    "x = Symbol('x')\n",
    "a = Symbol('x')\n",
    "x\n",
    "2*x+1\n",
    "2*a+1"
   ]
  },
  {
   "cell_type": "code",
   "execution_count": 6,
   "metadata": {},
   "outputs": [
    {
     "data": {
      "text/latex": [
       "$\\displaystyle x$"
      ],
      "text/plain": [
       "x"
      ]
     },
     "execution_count": 6,
     "metadata": {},
     "output_type": "execute_result"
    },
    {
     "data": {
      "text/latex": [
       "$\\displaystyle y$"
      ],
      "text/plain": [
       "y"
      ]
     },
     "execution_count": 6,
     "metadata": {},
     "output_type": "execute_result"
    },
    {
     "data": {
      "text/latex": [
       "$\\displaystyle z$"
      ],
      "text/plain": [
       "z"
      ]
     },
     "execution_count": 6,
     "metadata": {},
     "output_type": "execute_result"
    }
   ],
   "source": [
    "x,y,z=symbols(\"x y z\") # 要以空格或逗号分隔\n",
    "x\n",
    "y\n",
    "z"
   ]
  },
  {
   "cell_type": "markdown",
   "metadata": {},
   "source": [
    "### 使用表达式"
   ]
  },
  {
   "cell_type": "code",
   "execution_count": 7,
   "metadata": {},
   "outputs": [],
   "source": [
    "x,y=symbols(\"x y\")"
   ]
  },
  {
   "cell_type": "markdown",
   "metadata": {},
   "source": [
    "#### 分解和展开表达式\n",
    "* fractor(): 分解表达式\n",
    "* expand(): 展开表达式"
   ]
  },
  {
   "cell_type": "code",
   "execution_count": 8,
   "metadata": {},
   "outputs": [
    {
     "data": {
      "text/latex": [
       "$\\displaystyle \\left(x - y\\right) \\left(x + y\\right)$"
      ],
      "text/plain": [
       "(x - y)*(x + y)"
      ]
     },
     "execution_count": 8,
     "metadata": {},
     "output_type": "execute_result"
    },
    {
     "data": {
      "text/latex": [
       "$\\displaystyle x^{2} - y^{2}$"
      ],
      "text/plain": [
       "x**2 - y**2"
      ]
     },
     "execution_count": 8,
     "metadata": {},
     "output_type": "execute_result"
    }
   ],
   "source": [
    "from sympy import factor,expand\n",
    "expr = x**2-y**2\n",
    "factors = factor(expr)\n",
    "factors\n",
    "expand(factors)"
   ]
  },
  {
   "cell_type": "markdown",
   "metadata": {},
   "source": [
    "#### 使表达式整齐输出\n",
    "* pprint()"
   ]
  },
  {
   "cell_type": "code",
   "execution_count": 9,
   "metadata": {},
   "outputs": [
    {
     "data": {
      "text/latex": [
       "$\\displaystyle x^{2} + 2 x y + y^{2}$"
      ],
      "text/plain": [
       "x**2 + 2*x*y + y**2"
      ]
     },
     "execution_count": 9,
     "metadata": {},
     "output_type": "execute_result"
    },
    {
     "name": "stdout",
     "output_type": "stream",
     "text": [
      " 2            2\n",
      "x  + 2⋅x⋅y + y \n"
     ]
    }
   ],
   "source": [
    "from sympy import pprint\n",
    "expr = x*x+2*x*y+y*y\n",
    "expr\n",
    "pprint(expr)"
   ]
  },
  {
   "cell_type": "code",
   "execution_count": 10,
   "metadata": {},
   "outputs": [
    {
     "name": "stdout",
     "output_type": "stream",
     "text": [
      "   2          \n",
      "2⋅x  + 2⋅x + 1\n"
     ]
    }
   ],
   "source": [
    "from sympy import init_printing\n",
    "expr = 1+2*x+2*x**2\n",
    "# pprint(expr)\n",
    "init_printing(order=\"grlex\") # 有问题，没什么作用\n",
    "pprint(expr)"
   ]
  },
  {
   "cell_type": "markdown",
   "metadata": {},
   "source": [
    "### 级数"
   ]
  },
  {
   "cell_type": "markdown",
   "metadata": {},
   "source": [
    "### 用值代替符号\n",
    "* subs()"
   ]
  },
  {
   "cell_type": "code",
   "execution_count": 200,
   "metadata": {},
   "outputs": [
    {
     "data": {
      "text/plain": [
       "sympy.core.symbol.Symbol"
      ]
     },
     "execution_count": 200,
     "metadata": {},
     "output_type": "execute_result"
    },
    {
     "data": {
      "image/png": "[encoded data removed]",
      "text/latex": [
       "$\\displaystyle 33$"
      ],
      "text/plain": [
       "33"
      ]
     },
     "execution_count": 200,
     "metadata": {},
     "output_type": "execute_result"
    },
    {
     "data": {
      "image/png": "[encoded data removed]",
      "text/latex": [
       "$\\displaystyle 3.33333333333333345669$"
      ],
      "text/plain": [
       "3.33333333333333345669"
      ]
     },
     "execution_count": 200,
     "metadata": {},
     "output_type": "execute_result"
    },
    {
     "data": {
      "image/png": "[encoded data removed]",
      "text/latex": [
       "$\\displaystyle y^{2} + 2 y \\left(1 - y\\right) + 3 \\left(1 - y\\right)^{2}$"
      ],
      "text/plain": [
       " 2                            2\n",
       "y  + 2⋅y⋅(-y + 1) + 3⋅(-y + 1) "
      ]
     },
     "execution_count": 200,
     "metadata": {},
     "output_type": "execute_result"
    },
    {
     "data": {
      "image/png": "[encoded data removed]",
      "text/latex": [
       "$\\displaystyle 2 y^{2} - 4 y + 3$"
      ],
      "text/plain": [
       "   2          \n",
       "2⋅y  - 4⋅y + 3"
      ]
     },
     "execution_count": 200,
     "metadata": {},
     "output_type": "execute_result"
    }
   ],
   "source": [
    "x, y = symbols('x y')\n",
    "\n",
    "type(x)\n",
    "expr = 3*x*x+2*x*y+y*y\n",
    "expr1 = expr.subs({x:(1-y)})\n",
    "expr.subs({x:2, y:3})\n",
    "\n",
    "(1/x).evalf(subs={x: 0.3}, n=21) # n 总位数，精度不够\n",
    "# (1/x).subs({x: 3.0})\n",
    "# (1/x).subs({x: 3.0}, n=21)# 位数不足，与上面相同\n",
    "# (1/x).subs({x: 3.0}).evalf(21)# 不好\n",
    "expr1\n",
    "simplify(expr1)\n"
   ]
  },
  {
   "cell_type": "markdown",
   "metadata": {},
   "source": []
  },
  {
   "cell_type": "markdown",
   "metadata": {},
   "source": [
    "### 将字符串转化为数学表达式\n",
    "* simplify()  \n",
    "    * 简化表达式\n",
    "    * 将字符串转化为数学表达式"
   ]
  },
  {
   "cell_type": "code",
   "execution_count": 14,
   "metadata": {},
   "outputs": [
    {
     "data": {
      "image/png": "[encoded data removed]",
      "text/latex": [
       "$\\displaystyle 3 x^{2} + 2 x y + y^{2}$"
      ],
      "text/plain": [
       "   2            2\n",
       "3⋅x  + 2⋅x⋅y + y "
      ]
     },
     "execution_count": 14,
     "metadata": {},
     "output_type": "execute_result"
    }
   ],
   "source": [
    "expr_str = \"3*x*x+2*x*y+y*y\"\n",
    "expr = simplify(expr_str)\n",
    "expr"
   ]
  },
  {
   "cell_type": "markdown",
   "metadata": {},
   "source": [
    "### 表达式乘法"
   ]
  },
  {
   "cell_type": "code",
   "execution_count": 15,
   "metadata": {},
   "outputs": [
    {
     "data": {
      "image/png": "[encoded data removed]",
      "text/latex": [
       "$\\displaystyle \\left(x^{2} + 2 x\\right) \\left(x^{3} + 2 x^{2} + 3 x\\right)$"
      ],
      "text/plain": [
       "⎛ 2      ⎞ ⎛ 3      2      ⎞\n",
       "⎝x  + 2⋅x⎠⋅⎝x  + 2⋅x  + 3⋅x⎠"
      ]
     },
     "execution_count": 15,
     "metadata": {},
     "output_type": "execute_result"
    },
    {
     "data": {
      "image/png": "[encoded data removed]",
      "text/latex": [
       "$\\displaystyle x^{2} \\left(x + 2\\right) \\left(x^{2} + 2 x + 3\\right)$"
      ],
      "text/plain": [
       " 2         ⎛ 2          ⎞\n",
       "x ⋅(x + 2)⋅⎝x  + 2⋅x + 3⎠"
      ]
     },
     "execution_count": 15,
     "metadata": {},
     "output_type": "execute_result"
    },
    {
     "data": {
      "image/png": "[encoded data removed]",
      "text/latex": [
       "$\\displaystyle x^{5} + 4 x^{4} + 7 x^{3} + 6 x^{2}$"
      ],
      "text/plain": [
       " 5      4      3      2\n",
       "x  + 4⋅x  + 7⋅x  + 6⋅x "
      ]
     },
     "execution_count": 15,
     "metadata": {},
     "output_type": "execute_result"
    }
   ],
   "source": [
    "expr1 = x**2+2*x\n",
    "expr2 = x**3+2*x**2+3*x\n",
    "expr = expr1*expr2\n",
    "expr\n",
    "simplify(expr)\n",
    "expand(expr)"
   ]
  },
  {
   "cell_type": "markdown",
   "metadata": {},
   "source": [
    "## 运算符"
   ]
  },
  {
   "cell_type": "code",
   "execution_count": 163,
   "metadata": {},
   "outputs": [],
   "source": [
    "from sympy import summation, factorial"
   ]
  },
  {
   "cell_type": "code",
   "execution_count": 173,
   "metadata": {},
   "outputs": [
    {
     "data": {
      "image/png": "[encoded data removed]",
      "text/latex": [
       "$\\displaystyle 1.71828182845905$"
      ],
      "text/plain": [
       "1.71828182845905"
      ]
     },
     "execution_count": 173,
     "metadata": {},
     "output_type": "execute_result"
    },
    {
     "data": {
      "text/plain": [
       "'\\nevalf'"
      ]
     },
     "execution_count": 173,
     "metadata": {},
     "output_type": "execute_result"
    },
    {
     "data": {
      "image/png": "[encoded data removed]",
      "text/latex": [
       "$\\displaystyle 0.3333333333$"
      ],
      "text/plain": [
       "0.3333333333"
      ]
     },
     "execution_count": 173,
     "metadata": {},
     "output_type": "execute_result"
    }
   ],
   "source": [
    "n = symbols('n')\n",
    "# 求和\n",
    "s = summation(1 / factorial(n), (n, 1, 100))\n",
    "s.evalf()\n",
    "# print(s.evalf())\n",
    "# 阶乘\n",
    "a = factorial(5)\n",
    "# print(a)\n",
    "'''\n",
    "evalf'''\n",
    "a = sympy.Symbol('a')\n",
    "(1 / a).evalf(subs={a: 3}, n=10)\n",
    "# print((1 / a).evalf(subs={a: 3}, n=10))  # 值代换，保留小数位数\n",
    "\n",
    "# 欧拉公式和复数\n",
    "# E**(I*pi) + 1\n",
    "x = symbols(\"x\", real=True)\n",
    "y = expand(E ** (I * x), complex=True)\n"
   ]
  },
  {
   "cell_type": "markdown",
   "metadata": {},
   "source": []
  },
  {
   "cell_type": "markdown",
   "metadata": {},
   "source": [
    "# 函数"
   ]
  },
  {
   "cell_type": "markdown",
   "metadata": {},
   "source": [
    "## 分段函数\n",
    "* Piecewise"
   ]
  },
  {
   "cell_type": "code",
   "execution_count": 87,
   "metadata": {},
   "outputs": [],
   "source": [
    "from sympy import Piecewise, pi\n",
    "x = symbols('x')"
   ]
  },
  {
   "cell_type": "code",
   "execution_count": 127,
   "metadata": {},
   "outputs": [
    {
     "data": {
      "text/latex": [
       "$\\displaystyle \\begin{cases} x & \\text{for}\\: x > -1 \\wedge x < 1 \\\\- x & \\text{for}\\: x > 1 \\vee x < -1 \\end{cases}$"
      ],
      "text/plain": [
       "⎧x   for x > -1 ∧ x < 1\n",
       "⎨                      \n",
       "⎩-x  for x > 1 ∨ x < -1"
      ]
     },
     "execution_count": 127,
     "metadata": {},
     "output_type": "execute_result"
    },
    {
     "data": {
      "image/png": "[encoded data removed]",
      "text/plain": [
       "<Figure size 432x288 with 1 Axes>"
      ]
     },
     "metadata": {
      "needs_background": "light"
     },
     "output_type": "display_data"
    },
    {
     "data": {
      "text/plain": [
       "<sympy.plotting.plot.Plot at 0x23f63cf7b08>"
      ]
     },
     "execution_count": 127,
     "metadata": {},
     "output_type": "execute_result"
    }
   ],
   "source": [
    "f = Piecewise((x,(x>-1) & (x<1)),(-x,(x<-1) | (x>1))) \n",
    "f\n",
    "plot(f)"
   ]
  },
  {
   "cell_type": "code",
   "execution_count": 144,
   "metadata": {},
   "outputs": [
    {
     "data": {
      "text/latex": [
       "$\\displaystyle \\begin{cases} x & \\text{for}\\: x > -1 \\wedge x < 1 \\\\- x & \\text{for}\\: x > -3 \\wedge x < 0 \\end{cases}$"
      ],
      "text/plain": [
       "⎧x   for x > -1 ∧ x < 1\n",
       "⎨                      \n",
       "⎩-x  for x > -3 ∧ x < 0"
      ]
     },
     "execution_count": 144,
     "metadata": {},
     "output_type": "execute_result"
    },
    {
     "data": {
      "image/png": "[encoded data removed]",
      "text/plain": [
       "<Figure size 432x288 with 1 Axes>"
      ]
     },
     "metadata": {
      "needs_background": "light"
     },
     "output_type": "display_data"
    },
    {
     "data": {
      "text/plain": [
       "<sympy.plotting.plot.Plot at 0x23f6c36ec88>"
      ]
     },
     "execution_count": 144,
     "metadata": {},
     "output_type": "execute_result"
    }
   ],
   "source": [
    "f = Piecewise((x,(x>-1) & (x<1)),(-x,(x<0) & (x>-3))) # 区间有重叠不报错，但不对\n",
    "f\n",
    "plot(f)\n"
   ]
  },
  {
   "cell_type": "code",
   "execution_count": 139,
   "metadata": {},
   "outputs": [
    {
     "data": {
      "text/latex": [
       "$\\displaystyle \\begin{cases} 1 & \\text{for}\\: x > 0 \\\\0 & \\text{for}\\: x = 0 \\\\-1 & \\text{for}\\: x < 0 \\end{cases}$"
      ],
      "text/plain": [
       "⎧1   for x > 0\n",
       "⎪             \n",
       "⎨0   for x = 0\n",
       "⎪             \n",
       "⎩-1  for x < 0"
      ]
     },
     "execution_count": 139,
     "metadata": {},
     "output_type": "execute_result"
    },
    {
     "data": {
      "image/png": "[encoded data removed]",
      "text/latex": [
       "$\\displaystyle 0$"
      ],
      "text/plain": [
       "0"
      ]
     },
     "execution_count": 139,
     "metadata": {},
     "output_type": "execute_result"
    }
   ],
   "source": [
    "f = Piecewise((1,x>0),(0,(x>=0) & (x<=0)),(-1,x<0)) # ==无效，改用集合交集表示\n",
    "# f = Piecewise((1,x>0),(0,(x==0)),(-1,x<0)) # ==无效\n",
    "f\n",
    "# plot(f) # 带有一个点的分段函数无法这样plot\n",
    "f.subs({x:0})"
   ]
  },
  {
   "cell_type": "code",
   "execution_count": 158,
   "metadata": {},
   "outputs": [
    {
     "data": {
      "text/latex": [
       "$\\displaystyle \\begin{cases} 0 & \\text{for}\\: x < -1 \\\\e^{x} & \\text{for}\\: x \\leq 1 \\\\x & \\text{otherwise} \\end{cases}$"
      ],
      "text/plain": [
       "⎧0   for x < -1\n",
       "⎪              \n",
       "⎪ x            \n",
       "⎨ℯ   for x ≤ 1 \n",
       "⎪              \n",
       "⎪x   otherwise \n",
       "⎩              "
      ]
     },
     "execution_count": 158,
     "metadata": {},
     "output_type": "execute_result"
    },
    {
     "data": {
      "image/png": "[encoded data removed]",
      "text/plain": [
       "<Figure size 432x288 with 1 Axes>"
      ]
     },
     "metadata": {
      "needs_background": "light"
     },
     "output_type": "display_data"
    },
    {
     "data": {
      "text/plain": [
       "<sympy.plotting.plot.Plot at 0x23f6d94ae08>"
      ]
     },
     "execution_count": 158,
     "metadata": {},
     "output_type": "execute_result"
    }
   ],
   "source": [
    "from sympy import sqrt\n",
    "f = x\n",
    "# g = log(x) # 无法plot\n",
    "g = exp(x)\n",
    "p = Piecewise((0, x < -1), (g, x <= 1), (f, True)) # True代表otherwise\n",
    "p\n",
    "plot(p)"
   ]
  },
  {
   "cell_type": "markdown",
   "metadata": {},
   "source": [
    "## 解方程"
   ]
  },
  {
   "cell_type": "code",
   "execution_count": 16,
   "metadata": {},
   "outputs": [
    {
     "data": {
      "image/png": "[encoded data removed]",
      "text/latex": [
       "$\\displaystyle \\left[ -2, \\  2\\right]$"
      ],
      "text/plain": [
       "[-2, 2]"
      ]
     },
     "execution_count": 16,
     "metadata": {},
     "output_type": "execute_result"
    }
   ],
   "source": [
    "from sympy import solve\n",
    "x, y, a, b, c = symbols(\"x y a b c\")\n",
    "expr = x**2-4\n",
    "solve(expr)"
   ]
  },
  {
   "cell_type": "markdown",
   "metadata": {},
   "source": [
    "### 解二次方程"
   ]
  },
  {
   "cell_type": "code",
   "execution_count": 17,
   "metadata": {},
   "outputs": [
    {
     "data": {
      "image/png": "[encoded data removed]",
      "text/latex": [
       "$\\displaystyle \\left[ \\left\\{ x : 1\\right\\}, \\  \\left\\{ x : 3\\right\\}\\right]$"
      ],
      "text/plain": [
       "[{x: 1}, {x: 3}]"
      ]
     },
     "execution_count": 17,
     "metadata": {},
     "output_type": "execute_result"
    }
   ],
   "source": [
    "x, y, a, b, c = symbols(\"x y a b c\")\n",
    "expr = x**2-4*x+3\n",
    "solve(expr,dict=True)"
   ]
  },
  {
   "cell_type": "markdown",
   "metadata": {},
   "source": [
    "### 用其它变量求解一个变量"
   ]
  },
  {
   "cell_type": "code",
   "execution_count": 18,
   "metadata": {},
   "outputs": [
    {
     "name": "stdout",
     "output_type": "stream",
     "text": [
      "[{x: (b - sqrt(-4*a*c + b**2))/(2*a)}, {x: (b + sqrt(-4*a*c + b**2))/(2*a)}]\n"
     ]
    },
    {
     "data": {
      "image/png": "[encoded data removed]",
      "text/latex": [
       "$\\displaystyle \\left[ \\left\\{ x : \\frac{b - \\sqrt{- 4 a c + b^{2}}}{2 a}\\right\\}, \\  \\left\\{ x : \\frac{b + \\sqrt{- 4 a c + b^{2}}}{2 a}\\right\\}\\right]$"
      ],
      "text/plain": [
       "⎡⎧          _____________⎫  ⎧          _____________⎫⎤\n",
       "⎢⎪         ╱           2 ⎪  ⎪         ╱           2 ⎪⎥\n",
       "⎢⎨   b - ╲╱  -4⋅a⋅c + b  ⎬  ⎨   b + ╲╱  -4⋅a⋅c + b  ⎬⎥\n",
       "⎢⎪x: ────────────────────⎪, ⎪x: ────────────────────⎪⎥\n",
       "⎣⎩           2⋅a         ⎭  ⎩           2⋅a         ⎭⎦"
      ]
     },
     "execution_count": 18,
     "metadata": {},
     "output_type": "execute_result"
    }
   ],
   "source": [
    "expr = a*x**2-b*x+c\n",
    "result = solve(expr,x,dict=True)\n",
    "print(result)\n",
    "result # pprint"
   ]
  },
  {
   "cell_type": "markdown",
   "metadata": {},
   "source": [
    "### 解线性方程组"
   ]
  },
  {
   "cell_type": "code",
   "execution_count": 19,
   "metadata": {},
   "outputs": [
    {
     "data": {
      "image/png": "[encoded data removed]",
      "text/latex": [
       "$\\displaystyle \\left[ \\left\\{ x : - \\frac{24}{2 a - 9}, \\  y : \\frac{6 \\left(2 a - 3\\right)}{2 a - 9}\\right\\}\\right]$"
      ],
      "text/plain": [
       "⎡⎧     -24       6⋅(2⋅a - 3)⎫⎤\n",
       "⎢⎨x: ───────, y: ───────────⎬⎥\n",
       "⎣⎩   2⋅a - 9       2⋅a - 9  ⎭⎦"
      ]
     },
     "execution_count": 19,
     "metadata": {},
     "output_type": "execute_result"
    }
   ],
   "source": [
    "expr1= a*x+3*y-6\n",
    "expr2 = 3*x+2*y-12\n",
    "solve((expr1,expr2),(x,y),dict=True)"
   ]
  },
  {
   "cell_type": "markdown",
   "metadata": {},
   "source": [
    "## sympy包绘图"
   ]
  },
  {
   "cell_type": "markdown",
   "metadata": {},
   "source": [
    "### 单函数图形绘制"
   ]
  },
  {
   "cell_type": "code",
   "execution_count": 20,
   "metadata": {},
   "outputs": [],
   "source": [
    "from sympy.plotting import plot\n",
    "x = Symbol('x')"
   ]
  },
  {
   "cell_type": "code",
   "execution_count": 21,
   "metadata": {},
   "outputs": [
    {
     "data": {
      "image/png": "[encoded data removed]",
      "text/plain": [
       "<Figure size 432x288 with 1 Axes>"
      ]
     },
     "metadata": {
      "needs_background": "light"
     },
     "output_type": "display_data"
    },
    {
     "data": {
      "text/plain": [
       "<sympy.plotting.plot.Plot at 0x23f42c9f388>"
      ]
     },
     "execution_count": 21,
     "metadata": {},
     "output_type": "execute_result"
    }
   ],
   "source": [
    "plot(x**2)"
   ]
  },
  {
   "cell_type": "code",
   "execution_count": 22,
   "metadata": {},
   "outputs": [
    {
     "data": {
      "image/png": "[encoded data removed]",
      "text/plain": [
       "<Figure size 432x288 with 1 Axes>"
      ]
     },
     "metadata": {
      "needs_background": "light"
     },
     "output_type": "display_data"
    },
    {
     "data": {
      "text/plain": [
       "<sympy.plotting.plot.Plot at 0x23f42d98848>"
      ]
     },
     "execution_count": 22,
     "metadata": {},
     "output_type": "execute_result"
    }
   ],
   "source": [
    "y = x**2\n",
    "plot(y,(x,-5,5))"
   ]
  },
  {
   "cell_type": "code",
   "execution_count": 23,
   "metadata": {},
   "outputs": [
    {
     "data": {
      "image/png": "[encoded data removed]",
      "text/plain": [
       "<Figure size 432x288 with 1 Axes>"
      ]
     },
     "metadata": {
      "needs_background": "light"
     },
     "output_type": "display_data"
    },
    {
     "data": {
      "text/plain": [
       "<sympy.plotting.plot.Plot at 0x23f42df51c8>"
      ]
     },
     "execution_count": 23,
     "metadata": {},
     "output_type": "execute_result"
    }
   ],
   "source": [
    "plot(y,(x,-5,5), title=\"a curve\",xlabel=\"x\",ylabel=\"y\",show=True)"
   ]
  },
  {
   "cell_type": "code",
   "execution_count": 24,
   "metadata": {},
   "outputs": [
    {
     "data": {
      "image/png": "[encoded data removed]",
      "text/plain": [
       "<Figure size 432x288 with 1 Axes>"
      ]
     },
     "metadata": {
      "needs_background": "light"
     },
     "output_type": "display_data"
    }
   ],
   "source": [
    "# 保存\n",
    "p = plot(y,(x,-5,5), title=\"a curve\",xlabel=\"x\",ylabel=\"y\",show=False)\n",
    "p.save(r\"./saves/curve.png\")"
   ]
  },
  {
   "cell_type": "markdown",
   "metadata": {},
   "source": [
    "### 多函数图形绘制"
   ]
  },
  {
   "cell_type": "code",
   "execution_count": 25,
   "metadata": {},
   "outputs": [
    {
     "data": {
      "image/png": "[encoded data removed]",
      "text/plain": [
       "<Figure size 432x288 with 1 Axes>"
      ]
     },
     "metadata": {
      "needs_background": "light"
     },
     "output_type": "display_data"
    },
    {
     "data": {
      "text/plain": [
       "['__class__',\n",
       " '__delattr__',\n",
       " '__dict__',\n",
       " '__dir__',\n",
       " '__doc__',\n",
       " '__eq__',\n",
       " '__format__',\n",
       " '__ge__',\n",
       " '__getattribute__',\n",
       " '__gt__',\n",
       " '__hash__',\n",
       " '__init__',\n",
       " '__init_subclass__',\n",
       " '__le__',\n",
       " '__lt__',\n",
       " '__module__',\n",
       " '__ne__',\n",
       " '__new__',\n",
       " '__reduce__',\n",
       " '__reduce_ex__',\n",
       " '__repr__',\n",
       " '__setattr__',\n",
       " '__sizeof__',\n",
       " '__str__',\n",
       " '__subclasshook__',\n",
       " '__weakref__',\n",
       " '_dim',\n",
       " 'adaptive',\n",
       " 'depth',\n",
       " 'end',\n",
       " 'expr',\n",
       " 'flag',\n",
       " 'get_color_array',\n",
       " 'get_points',\n",
       " 'get_segments',\n",
       " 'is_2Dline',\n",
       " 'is_3D',\n",
       " 'is_3Dline',\n",
       " 'is_3Dsurface',\n",
       " 'is_contour',\n",
       " 'is_implicit',\n",
       " 'is_line',\n",
       " 'is_parametric',\n",
       " 'label',\n",
       " 'line_color',\n",
       " 'nb_of_points',\n",
       " 'only_integers',\n",
       " 'start',\n",
       " 'steps',\n",
       " 'var',\n",
       " 'xscale']"
      ]
     },
     "execution_count": 25,
     "metadata": {},
     "output_type": "execute_result"
    }
   ],
   "source": [
    "p = plot(x+3,4*x+1,legend=True,show=False)\n",
    "p[0].line_color='b'\n",
    "p[1].line_color='g'\n",
    "p.show()\n",
    "# dir(p)\n",
    "dir(p[0]) # 查看对象属性"
   ]
  },
  {
   "cell_type": "code",
   "execution_count": 26,
   "metadata": {},
   "outputs": [],
   "source": [
    "from sympy import log,exp,power"
   ]
  },
  {
   "cell_type": "markdown",
   "metadata": {},
   "source": [
    "log 不能作图"
   ]
  },
  {
   "cell_type": "code",
   "execution_count": 27,
   "metadata": {},
   "outputs": [
    {
     "data": {
      "image/png": "[encoded data removed]",
      "text/latex": [
       "$\\displaystyle \\log{\\left(x \\right)}$"
      ],
      "text/plain": [
       "log(x)"
      ]
     },
     "execution_count": 27,
     "metadata": {},
     "output_type": "execute_result"
    },
    {
     "data": {
      "image/png": "[encoded data removed]",
      "text/plain": [
       "<Figure size 432x288 with 1 Axes>"
      ]
     },
     "metadata": {
      "needs_background": "light"
     },
     "output_type": "display_data"
    },
    {
     "data": {
      "text/plain": [
       "<sympy.plotting.plot.Plot at 0x23f4334fc88>"
      ]
     },
     "execution_count": 27,
     "metadata": {},
     "output_type": "execute_result"
    },
    {
     "data": {
      "image/png": "[encoded data removed]",
      "text/plain": [
       "<Figure size 432x288 with 1 Axes>"
      ]
     },
     "metadata": {
      "needs_background": "light"
     },
     "output_type": "display_data"
    },
    {
     "data": {
      "text/plain": [
       "<sympy.plotting.plot.Plot at 0x23f4336dd88>"
      ]
     },
     "execution_count": 27,
     "metadata": {},
     "output_type": "execute_result"
    }
   ],
   "source": [
    "log(x)\n",
    "plot(exp(x))\n",
    "plot(log(x))"
   ]
  },
  {
   "cell_type": "code",
   "execution_count": 28,
   "metadata": {},
   "outputs": [
    {
     "data": {
      "image/png": "[encoded data removed]",
      "text/latex": [
       "$\\displaystyle \\left[ e^{4}\\right]$"
      ],
      "text/plain": [
       "⎡ 4⎤\n",
       "⎣ℯ ⎦"
      ]
     },
     "execution_count": 28,
     "metadata": {},
     "output_type": "execute_result"
    }
   ],
   "source": [
    "solve(log(x)-4)"
   ]
  },
  {
   "cell_type": "markdown",
   "metadata": {},
   "source": [
    "### 级数求和\n",
    "* summation"
   ]
  },
  {
   "cell_type": "code",
   "execution_count": 29,
   "metadata": {},
   "outputs": [
    {
     "data": {
      "image/png": "[encoded data removed]",
      "text/latex": [
       "$\\displaystyle \\frac{x^{5}}{5} + \\frac{x^{4}}{4} + \\frac{x^{3}}{3} + \\frac{x^{2}}{2} + x$"
      ],
      "text/plain": [
       " 5    4    3    2    \n",
       "x    x    x    x     \n",
       "── + ── + ── + ── + x\n",
       "5    4    3    2     "
      ]
     },
     "execution_count": 29,
     "metadata": {},
     "output_type": "execute_result"
    },
    {
     "data": {
      "image/png": "[encoded data removed]",
      "text/latex": [
       "$\\displaystyle \\frac{137}{60}$"
      ],
      "text/plain": [
       "137\n",
       "───\n",
       " 60"
      ]
     },
     "execution_count": 29,
     "metadata": {},
     "output_type": "execute_result"
    }
   ],
   "source": [
    "from sympy import summation\n",
    "x,n,s= symbols(\"x n s\")\n",
    "s = summation(x**n/n,(n,1,5))\n",
    "s\n",
    "s.subs({x:1})"
   ]
  },
  {
   "cell_type": "markdown",
   "metadata": {},
   "source": [
    "### 解单变量不等式\n"
   ]
  },
  {
   "cell_type": "code",
   "execution_count": 32,
   "metadata": {},
   "outputs": [
    {
     "data": {
      "image/png": "[encoded data removed]",
      "text/latex": [
       "$\\displaystyle \\operatorname{Poly}{\\left( -x^{2} + 4, x, domain=\\mathbb{Z} \\right)}$"
      ],
      "text/plain": [
       "Poly(-x**2 + 4, x, domain='ZZ')"
      ]
     },
     "execution_count": 32,
     "metadata": {},
     "output_type": "execute_result"
    },
    {
     "data": {
      "image/png": "[encoded data removed]",
      "text/latex": [
       "$\\displaystyle 4 - x^{2}$"
      ],
      "text/plain": [
       "   2    \n",
       "- x  + 4"
      ]
     },
     "execution_count": 32,
     "metadata": {},
     "output_type": "execute_result"
    },
    {
     "data": {
      "text/plain": [
       "'<'"
      ]
     },
     "execution_count": 32,
     "metadata": {},
     "output_type": "execute_result"
    },
    {
     "data": {
      "image/png": "[encoded data removed]",
      "text/latex": [
       "$\\displaystyle \\left[ \\left(-\\infty, -2\\right), \\  \\left(2, \\infty\\right)\\right]$"
      ],
      "text/plain": [
       "[(-∞, -2), (2, ∞)]"
      ]
     },
     "execution_count": 32,
     "metadata": {},
     "output_type": "execute_result"
    }
   ],
   "source": [
    "from sympy import Poly, solve_poly_inequality\n",
    "ineq_obj = -x**2+4<0\n",
    "# dir(inen_obj)\n",
    "lhs = ineq_obj.lhs\n",
    "rel = ineq_obj.rel_op\n",
    "p = Poly(lhs, x)\n",
    "p\n",
    "lhs\n",
    "rel\n",
    "solve_poly_inequality(p,rel)"
   ]
  },
  {
   "cell_type": "code",
   "execution_count": 33,
   "metadata": {},
   "outputs": [
    {
     "data": {
      "image/png": "[encoded data removed]",
      "text/latex": [
       "$\\displaystyle \\frac{x - 1}{x + 2}$"
      ],
      "text/plain": [
       "x - 1\n",
       "─────\n",
       "x + 2"
      ]
     },
     "execution_count": 33,
     "metadata": {},
     "output_type": "execute_result"
    },
    {
     "data": {
      "text/plain": [
       "'>'"
      ]
     },
     "execution_count": 33,
     "metadata": {},
     "output_type": "execute_result"
    },
    {
     "data": {
      "image/png": "[encoded data removed]",
      "text/latex": [
       "$\\displaystyle \\operatorname{Poly}{\\left( x - 1, x, domain=\\mathbb{Z} \\right)}$"
      ],
      "text/plain": [
       "Poly(x - 1, x, domain='ZZ')"
      ]
     },
     "execution_count": 33,
     "metadata": {},
     "output_type": "execute_result"
    },
    {
     "data": {
      "image/png": "[encoded data removed]",
      "text/latex": [
       "$\\displaystyle \\operatorname{Poly}{\\left( x + 2, x, domain=\\mathbb{Z} \\right)}$"
      ],
      "text/plain": [
       "Poly(x + 2, x, domain='ZZ')"
      ]
     },
     "execution_count": 33,
     "metadata": {},
     "output_type": "execute_result"
    },
    {
     "data": {
      "image/png": "[encoded data removed]",
      "text/latex": [
       "$\\displaystyle \\left(-\\infty, -2\\right) \\cup \\left(1, \\infty\\right)$"
      ],
      "text/plain": [
       "(-∞, -2) ∪ (1, ∞)"
      ]
     },
     "execution_count": 33,
     "metadata": {},
     "output_type": "execute_result"
    }
   ],
   "source": [
    "from sympy import Poly, solve_rational_inequalities\n",
    "ineq_obj = ((x-1)/(x+2))>0\n",
    "# dir(inen_obj)\n",
    "lhs = ineq_obj.lhs\n",
    "numer,denom = lhs.as_numer_denom()\n",
    "p1 = Poly(numer)\n",
    "p2 = Poly(denom)\n",
    "rel = ineq_obj.rel_op\n",
    "lhs\n",
    "rel\n",
    "p1\n",
    "p2\n",
    "solve_rational_inequalities([[((p1,p2),rel)]])"
   ]
  },
  {
   "cell_type": "code",
   "execution_count": 34,
   "metadata": {},
   "outputs": [
    {
     "data": {
      "image/png": "[encoded data removed]",
      "text/latex": [
       "$\\displaystyle \\left(0.643501108793284, -0.643501108793284 + \\pi\\right)$"
      ],
      "text/plain": [
       "(0.643501108793284, -0.643501108793284 + π)"
      ]
     },
     "execution_count": 34,
     "metadata": {},
     "output_type": "execute_result"
    }
   ],
   "source": [
    "from sympy import solve_univariate_inequality, sin\n",
    "x = Symbol('x')\n",
    "ineq_obj = sin(x) - 0.6 > 0\n",
    "solve_univariate_inequality(ineq_obj, x, relational=False)"
   ]
  },
  {
   "cell_type": "code",
   "execution_count": 35,
   "metadata": {},
   "outputs": [
    {
     "data": {
      "text/plain": [
       "True"
      ]
     },
     "execution_count": 35,
     "metadata": {},
     "output_type": "execute_result"
    },
    {
     "data": {
      "text/plain": [
       "True"
      ]
     },
     "execution_count": 35,
     "metadata": {},
     "output_type": "execute_result"
    },
    {
     "data": {
      "image/png": "[encoded data removed]",
      "text/latex": [
       "$\\displaystyle x + 3 > 0$"
      ],
      "text/plain": [
       "x + 3 > 0"
      ]
     },
     "execution_count": 35,
     "metadata": {},
     "output_type": "execute_result"
    }
   ],
   "source": [
    "x = Symbol('x')\n",
    "# is_polynomial()函数可用于检查表达式是否为多项式\n",
    "expr1 = x**2 - 4\n",
    "expr1.is_polynomial()\n",
    "# is_rational_function()函数可以用来检查表达式是否为有理式\n",
    "expr2 = (2+x)/(3+x)\n",
    "expr2.is_rational_function()\n",
    "# simpify()函数可以将字符串形式的不等式转换为一个不等式对象\n",
    "simplify(\"x+3>0\")"
   ]
  },
  {
   "cell_type": "markdown",
   "metadata": {},
   "source": [
    "# 微积分"
   ]
  },
  {
   "cell_type": "markdown",
   "metadata": {},
   "source": [
    "* Symbol\n",
    "    * {'commutative': True, 'complex': True, 'hermitian': True, 'imaginary': False, 'negative': False, 'nonnegative':True, 'nonpositive': False, 'nonzero': True, 'positive': True, 'real': True, 'zero': False} \n",
    "    "
   ]
  },
  {
   "cell_type": "code",
   "execution_count": 36,
   "metadata": {},
   "outputs": [
    {
     "data": {
      "text/latex": [
       "$\\displaystyle \\text{True}$"
      ],
      "text/plain": [
       "True"
      ]
     },
     "execution_count": 36,
     "metadata": {},
     "output_type": "execute_result"
    }
   ],
   "source": [
    "x = Symbol('x',positive=True)\n",
    "x>0"
   ]
  },
  {
   "cell_type": "markdown",
   "metadata": {},
   "source": [
    "## 极限"
   ]
  },
  {
   "cell_type": "code",
   "execution_count": 37,
   "metadata": {},
   "outputs": [
    {
     "data": {
      "image/png": "[encoded data removed]",
      "text/latex": [
       "$\\displaystyle 0$"
      ],
      "text/plain": [
       "0"
      ]
     },
     "execution_count": 37,
     "metadata": {},
     "output_type": "execute_result"
    },
    {
     "data": {
      "image/png": "[encoded data removed]",
      "text/latex": [
       "$\\displaystyle \\lim_{x \\to \\infty} \\frac{1}{x}$"
      ],
      "text/plain": [
       "    1\n",
       "lim ─\n",
       "x─→∞x"
      ]
     },
     "execution_count": 37,
     "metadata": {},
     "output_type": "execute_result"
    },
    {
     "data": {
      "image/png": "[encoded data removed]",
      "text/latex": [
       "$\\displaystyle 0$"
      ],
      "text/plain": [
       "0"
      ]
     },
     "execution_count": 37,
     "metadata": {},
     "output_type": "execute_result"
    }
   ],
   "source": [
    "from sympy import limit, Limit, S, oo\n",
    "x = Symbol('x')\n",
    "limit(1/x,x,+oo,dir='-')\n",
    "L = Limit(1/x,x,S.Infinity,dir='-')\n",
    "L\n",
    "L.doit()\n",
    "\n",
    "# S.Infinity和oo都为正无穷"
   ]
  },
  {
   "cell_type": "markdown",
   "metadata": {},
   "source": [
    "###### 连续复利"
   ]
  },
  {
   "cell_type": "code",
   "execution_count": 40,
   "metadata": {},
   "outputs": [
    {
     "data": {
      "image/png": "[encoded data removed]",
      "text/latex": [
       "$\\displaystyle e$"
      ],
      "text/plain": [
       "ℯ"
      ]
     },
     "execution_count": 40,
     "metadata": {},
     "output_type": "execute_result"
    },
    {
     "data": {
      "image/png": "[encoded data removed]",
      "text/latex": [
       "$\\displaystyle \\lim_{n \\to \\infty} \\left(1 + \\frac{1}{n}\\right)^{n}$"
      ],
      "text/plain": [
       "           n\n",
       "    ⎛    1⎞ \n",
       "lim ⎜1 + ─⎟ \n",
       "n─→∞⎝    n⎠ "
      ]
     },
     "execution_count": 40,
     "metadata": {},
     "output_type": "execute_result"
    },
    {
     "data": {
      "image/png": "[encoded data removed]",
      "text/latex": [
       "$\\displaystyle e$"
      ],
      "text/plain": [
       "ℯ"
      ]
     },
     "execution_count": 40,
     "metadata": {},
     "output_type": "execute_result"
    },
    {
     "data": {
      "image/png": "[encoded data removed]",
      "text/latex": [
       "$\\displaystyle e$"
      ],
      "text/plain": [
       "ℯ"
      ]
     },
     "execution_count": 40,
     "metadata": {},
     "output_type": "execute_result"
    }
   ],
   "source": [
    "n = Symbol('n')\n",
    "limit((1+1/n)**n,n,oo)\n",
    "E1 = Limit((1+1/n)**n,n,oo)\n",
    "e1 = E1.doit()\n",
    "E1\n",
    "e1\n",
    "sympy.E"
   ]
  },
  {
   "cell_type": "code",
   "execution_count": 41,
   "metadata": {},
   "outputs": [
    {
     "data": {
      "image/png": "[encoded data removed]",
      "text/latex": [
       "$\\displaystyle p e^{r t}$"
      ],
      "text/plain": [
       "   r⋅t\n",
       "p⋅ℯ   "
      ]
     },
     "execution_count": 41,
     "metadata": {},
     "output_type": "execute_result"
    }
   ],
   "source": [
    "p, r, t = symbols('p r t',positive=True)\n",
    "limit(p*(1+r/n)**(n*t), n, oo)"
   ]
  },
  {
   "cell_type": "markdown",
   "metadata": {},
   "source": [
    "## 函数求导\n",
    "* diff()\n",
    "* Derivative"
   ]
  },
  {
   "cell_type": "code",
   "execution_count": 42,
   "metadata": {},
   "outputs": [],
   "source": [
    "from sympy import diff, Derivative"
   ]
  },
  {
   "cell_type": "code",
   "execution_count": 43,
   "metadata": {},
   "outputs": [],
   "source": [
    "x,y = symbols('x y')"
   ]
  },
  {
   "cell_type": "code",
   "execution_count": 44,
   "metadata": {},
   "outputs": [
    {
     "data": {
      "image/png": "[encoded data removed]",
      "text/latex": [
       "$\\displaystyle \\frac{d}{d x} \\left(x^{3} + 2 x^{2} + 3 x + 4\\right)$"
      ],
      "text/plain": [
       "d ⎛ 3      2          ⎞\n",
       "──⎝x  + 2⋅x  + 3⋅x + 4⎠\n",
       "dx                     "
      ]
     },
     "execution_count": 44,
     "metadata": {},
     "output_type": "execute_result"
    },
    {
     "data": {
      "image/png": "[encoded data removed]",
      "text/latex": [
       "$\\displaystyle 3 x^{2} + 4 x + 3$"
      ],
      "text/plain": [
       "   2          \n",
       "3⋅x  + 4⋅x + 3"
      ]
     },
     "execution_count": 44,
     "metadata": {},
     "output_type": "execute_result"
    },
    {
     "data": {
      "image/png": "[encoded data removed]",
      "text/latex": [
       "$\\displaystyle 10$"
      ],
      "text/plain": [
       "10"
      ]
     },
     "execution_count": 44,
     "metadata": {},
     "output_type": "execute_result"
    },
    {
     "data": {
      "image/png": "[encoded data removed]",
      "text/latex": [
       "$\\displaystyle 3 x^{2} + 4 x + 3$"
      ],
      "text/plain": [
       "   2          \n",
       "3⋅x  + 4⋅x + 3"
      ]
     },
     "execution_count": 44,
     "metadata": {},
     "output_type": "execute_result"
    }
   ],
   "source": [
    "z = x**3+2*x**2+3*x+4\n",
    "d = Derivative(z,x)\n",
    "d\n",
    "d.doit()\n",
    "d.doit().subs({x:1})\n",
    "diff(z,x)"
   ]
  },
  {
   "cell_type": "markdown",
   "metadata": {},
   "source": [
    "#### 求偏导数"
   ]
  },
  {
   "cell_type": "code",
   "execution_count": 45,
   "metadata": {},
   "outputs": [
    {
     "data": {
      "image/png": "[encoded data removed]",
      "text/latex": [
       "$\\displaystyle \\frac{\\partial}{\\partial x} \\left(x^{2} + 2 x y + 3 y^{2}\\right)$"
      ],
      "text/plain": [
       "∂ ⎛ 2              2⎞\n",
       "──⎝x  + 2⋅x⋅y + 3⋅y ⎠\n",
       "∂x                   "
      ]
     },
     "execution_count": 45,
     "metadata": {},
     "output_type": "execute_result"
    },
    {
     "data": {
      "image/png": "[encoded data removed]",
      "text/latex": [
       "$\\displaystyle 2 x + 2 y$"
      ],
      "text/plain": [
       "2⋅x + 2⋅y"
      ]
     },
     "execution_count": 45,
     "metadata": {},
     "output_type": "execute_result"
    },
    {
     "data": {
      "image/png": "[encoded data removed]",
      "text/latex": [
       "$\\displaystyle 2 y + 2$"
      ],
      "text/plain": [
       "2⋅y + 2"
      ]
     },
     "execution_count": 45,
     "metadata": {},
     "output_type": "execute_result"
    },
    {
     "data": {
      "image/png": "[encoded data removed]",
      "text/latex": [
       "$\\displaystyle 6$"
      ],
      "text/plain": [
       "6"
      ]
     },
     "execution_count": 45,
     "metadata": {},
     "output_type": "execute_result"
    },
    {
     "data": {
      "image/png": "[encoded data removed]",
      "text/latex": [
       "$\\displaystyle 2 x + 2 y$"
      ],
      "text/plain": [
       "2⋅x + 2⋅y"
      ]
     },
     "execution_count": 45,
     "metadata": {},
     "output_type": "execute_result"
    },
    {
     "data": {
      "image/png": "[encoded data removed]",
      "text/latex": [
       "$\\displaystyle 2 x + 6 y$"
      ],
      "text/plain": [
       "2⋅x + 6⋅y"
      ]
     },
     "execution_count": 45,
     "metadata": {},
     "output_type": "execute_result"
    }
   ],
   "source": [
    "z = x**2+2*x*y+3*y**2\n",
    "d = Derivative(z,x)\n",
    "d\n",
    "d.doit()\n",
    "d.doit().subs({x:1})\n",
    "d.doit().subs({x:1,y:2})\n",
    "diff(z,x)\n",
    "diff(z,y)"
   ]
  },
  {
   "cell_type": "markdown",
   "metadata": {},
   "source": [
    "#### 高阶导数"
   ]
  },
  {
   "cell_type": "code",
   "execution_count": 46,
   "metadata": {},
   "outputs": [
    {
     "data": {
      "image/png": "[encoded data removed]",
      "text/latex": [
       "$\\displaystyle 2 \\left(3 x + 2\\right)$"
      ],
      "text/plain": [
       "2⋅(3⋅x + 2)"
      ]
     },
     "execution_count": 46,
     "metadata": {},
     "output_type": "execute_result"
    },
    {
     "data": {
      "image/png": "[encoded data removed]",
      "text/latex": [
       "$\\displaystyle 6$"
      ],
      "text/plain": [
       "6"
      ]
     },
     "execution_count": 46,
     "metadata": {},
     "output_type": "execute_result"
    },
    {
     "data": {
      "image/png": "[encoded data removed]",
      "text/latex": [
       "$\\displaystyle \\frac{d^{2}}{d x^{2}} \\left(x^{3} + 2 x^{2} + 3 x + 4\\right)$"
      ],
      "text/plain": [
       "  2                     \n",
       " d ⎛ 3      2          ⎞\n",
       "───⎝x  + 2⋅x  + 3⋅x + 4⎠\n",
       "  2                     \n",
       "dx                      "
      ]
     },
     "execution_count": 46,
     "metadata": {},
     "output_type": "execute_result"
    },
    {
     "data": {
      "image/png": "[encoded data removed]",
      "text/latex": [
       "$\\displaystyle \\frac{d^{3}}{d x^{3}} \\left(x^{3} + 2 x^{2} + 3 x + 4\\right)$"
      ],
      "text/plain": [
       "  3                     \n",
       " d ⎛ 3      2          ⎞\n",
       "───⎝x  + 2⋅x  + 3⋅x + 4⎠\n",
       "  3                     \n",
       "dx                      "
      ]
     },
     "execution_count": 46,
     "metadata": {},
     "output_type": "execute_result"
    },
    {
     "data": {
      "image/png": "[encoded data removed]",
      "text/latex": [
       "$\\displaystyle 2 \\left(3 x + 2\\right)$"
      ],
      "text/plain": [
       "2⋅(3⋅x + 2)"
      ]
     },
     "execution_count": 46,
     "metadata": {},
     "output_type": "execute_result"
    },
    {
     "data": {
      "image/png": "[encoded data removed]",
      "text/latex": [
       "$\\displaystyle 6$"
      ],
      "text/plain": [
       "6"
      ]
     },
     "execution_count": 46,
     "metadata": {},
     "output_type": "execute_result"
    }
   ],
   "source": [
    "z = x**3+2*x**2+3*x+4\n",
    "diff(z,x,2)\n",
    "diff(z,x,3)\n",
    "Derivative(z,x,2)\n",
    "Derivative(z,x,3)\n",
    "Derivative(z,x,2).doit()\n",
    "Derivative(z,x,3).doit()"
   ]
  },
  {
   "cell_type": "markdown",
   "metadata": {},
   "source": [
    "#### 最值"
   ]
  },
  {
   "cell_type": "code",
   "execution_count": 47,
   "metadata": {},
   "outputs": [
    {
     "data": {
      "image/png": "[encoded data removed]",
      "text/latex": [
       "$\\displaystyle \\left[ - \\sqrt{\\sqrt{71} + 9}, \\  - \\sqrt{9 - \\sqrt{71}}, \\  \\sqrt{9 - \\sqrt{71}}, \\  \\sqrt{\\sqrt{71} + 9}\\right]$"
      ],
      "text/plain": [
       "⎡   _________     __________    __________    _________⎤\n",
       "⎣-╲╱ √71 + 9 , -╲╱ -√71 + 9 , ╲╱ -√71 + 9 , ╲╱ √71 + 9 ⎦"
      ]
     },
     "execution_count": 47,
     "metadata": {},
     "output_type": "execute_result"
    },
    {
     "data": {
      "image/png": "[encoded data removed]",
      "text/latex": [
       "$\\displaystyle - \\left(\\sqrt{71} + 9\\right)^{\\frac{5}{2}} - 50 \\sqrt{\\sqrt{71} + 9} + 30 \\left(\\sqrt{71} + 9\\right)^{\\frac{3}{2}}$"
      ],
      "text/plain": [
       "           5/2        _________               3/2\n",
       "- (√71 + 9)    - 50⋅╲╱ √71 + 9  + 30⋅(√71 + 9)   "
      ]
     },
     "execution_count": 47,
     "metadata": {},
     "output_type": "execute_result"
    },
    {
     "data": {
      "image/png": "[encoded data removed]",
      "text/latex": [
       "$\\displaystyle - 50 \\sqrt{9 - \\sqrt{71}} - \\left(9 - \\sqrt{71}\\right)^{\\frac{5}{2}} + 30 \\left(9 - \\sqrt{71}\\right)^{\\frac{3}{2}}$"
      ],
      "text/plain": [
       "       __________             5/2                3/2\n",
       "- 50⋅╲╱ -√71 + 9  - (-√71 + 9)    + 30⋅(-√71 + 9)   "
      ]
     },
     "execution_count": 47,
     "metadata": {},
     "output_type": "execute_result"
    },
    {
     "data": {
      "image/png": "[encoded data removed]",
      "text/latex": [
       "$\\displaystyle - 30 \\left(9 - \\sqrt{71}\\right)^{\\frac{3}{2}} + \\left(9 - \\sqrt{71}\\right)^{\\frac{5}{2}} + 50 \\sqrt{9 - \\sqrt{71}}$"
      ],
      "text/plain": [
       "               3/2             5/2        __________\n",
       "- 30⋅(-√71 + 9)    + (-√71 + 9)    + 50⋅╲╱ -√71 + 9 "
      ]
     },
     "execution_count": 47,
     "metadata": {},
     "output_type": "execute_result"
    },
    {
     "data": {
      "image/png": "[encoded data removed]",
      "text/latex": [
       "$\\displaystyle - 30 \\left(\\sqrt{71} + 9\\right)^{\\frac{3}{2}} + 50 \\sqrt{\\sqrt{71} + 9} + \\left(\\sqrt{71} + 9\\right)^{\\frac{5}{2}}$"
      ],
      "text/plain": [
       "              3/2        _________            5/2\n",
       "- 30⋅(√71 + 9)    + 50⋅╲╱ √71 + 9  + (√71 + 9)   "
      ]
     },
     "execution_count": 47,
     "metadata": {},
     "output_type": "execute_result"
    },
    {
     "data": {
      "image/png": "[encoded data removed]",
      "text/latex": [
       "$\\displaystyle 705.959460380365$"
      ],
      "text/plain": [
       "705.959460380365"
      ]
     },
     "execution_count": 47,
     "metadata": {},
     "output_type": "execute_result"
    },
    {
     "data": {
      "image/png": "[encoded data removed]",
      "text/latex": [
       "$\\displaystyle -25.0846626340294$"
      ],
      "text/plain": [
       "-25.0846626340294"
      ]
     },
     "execution_count": 47,
     "metadata": {},
     "output_type": "execute_result"
    },
    {
     "data": {
      "image/png": "[encoded data removed]",
      "text/latex": [
       "$\\displaystyle 25.0846626340294$"
      ],
      "text/plain": [
       "25.0846626340294"
      ]
     },
     "execution_count": 47,
     "metadata": {},
     "output_type": "execute_result"
    },
    {
     "data": {
      "image/png": "[encoded data removed]",
      "text/latex": [
       "$\\displaystyle -705.959460380365$"
      ],
      "text/plain": [
       "-705.959460380365"
      ]
     },
     "execution_count": 47,
     "metadata": {},
     "output_type": "execute_result"
    }
   ],
   "source": [
    "z = x**5-30*x**3+50*x\n",
    "x_min = -5\n",
    "x_max = -5\n",
    "d1 = diff(z,x)\n",
    "s1 = solve(d1)\n",
    "s1 = sorted(s1)\n",
    "s1\n",
    "z.subs({x:s1[0]})\n",
    "z.subs({x:s1[1]})\n",
    "z.subs({x:s1[2]})\n",
    "z.subs({x:s1[3]})\n",
    "z.subs({x:s1[0]}).evalf()\n",
    "z.subs({x:s1[1]}).evalf()\n",
    "z.subs({x:s1[2]}).evalf()\n",
    "z.subs({x:s1[3]}).evalf()"
   ]
  },
  {
   "cell_type": "markdown",
   "metadata": {},
   "source": [
    "## 积分\n",
    "* Integral\n",
    "* integrate"
   ]
  },
  {
   "cell_type": "code",
   "execution_count": 76,
   "metadata": {},
   "outputs": [],
   "source": [
    "from sympy import integrate, Integral"
   ]
  },
  {
   "cell_type": "code",
   "execution_count": 77,
   "metadata": {},
   "outputs": [],
   "source": [
    "x,y,z = symbols('x y z')"
   ]
  },
  {
   "cell_type": "markdown",
   "metadata": {},
   "source": [
    "### 不定积分"
   ]
  },
  {
   "cell_type": "code",
   "execution_count": 50,
   "metadata": {},
   "outputs": [
    {
     "data": {
      "image/png": "[encoded data removed]",
      "text/latex": [
       "$\\displaystyle \\frac{x^{4}}{4} + \\frac{2 x^{3}}{3} + \\frac{3 x^{2}}{2} + 4 x$"
      ],
      "text/plain": [
       " 4      3      2      \n",
       "x    2⋅x    3⋅x       \n",
       "── + ──── + ──── + 4⋅x\n",
       "4     3      2        "
      ]
     },
     "execution_count": 50,
     "metadata": {},
     "output_type": "execute_result"
    },
    {
     "data": {
      "image/png": "[encoded data removed]",
      "text/latex": [
       "$\\displaystyle \\int \\left(x^{3} + 2 x^{2} + 3 x + 4\\right)\\, dx$"
      ],
      "text/plain": [
       "⌠                         \n",
       "⎮ ⎛ 3      2          ⎞   \n",
       "⎮ ⎝x  + 2⋅x  + 3⋅x + 4⎠ dx\n",
       "⌡                         "
      ]
     },
     "execution_count": 50,
     "metadata": {},
     "output_type": "execute_result"
    },
    {
     "data": {
      "image/png": "[encoded data removed]",
      "text/latex": [
       "$\\displaystyle \\frac{x^{4}}{4} + \\frac{2 x^{3}}{3} + \\frac{3 x^{2}}{2} + 4 x$"
      ],
      "text/plain": [
       " 4      3      2      \n",
       "x    2⋅x    3⋅x       \n",
       "── + ──── + ──── + 4⋅x\n",
       "4     3      2        "
      ]
     },
     "execution_count": 50,
     "metadata": {},
     "output_type": "execute_result"
    }
   ],
   "source": [
    "f = x**3+2*x**2+3*x+4\n",
    "integrate(f, x)\n",
    "Integral(f, x)\n",
    "Integral(f, x).doit()"
   ]
  },
  {
   "cell_type": "markdown",
   "metadata": {},
   "source": [
    "### 定积分"
   ]
  },
  {
   "cell_type": "code",
   "execution_count": 51,
   "metadata": {},
   "outputs": [
    {
     "data": {
      "image/png": "[encoded data removed]",
      "text/latex": [
       "$\\displaystyle \\frac{77}{12}$"
      ],
      "text/plain": [
       "77\n",
       "──\n",
       "12"
      ]
     },
     "execution_count": 51,
     "metadata": {},
     "output_type": "execute_result"
    },
    {
     "data": {
      "image/png": "[encoded data removed]",
      "text/latex": [
       "$\\displaystyle \\int\\limits_{0}^{1} \\left(x^{3} + 2 x^{2} + 3 x + 4\\right)\\, dx$"
      ],
      "text/plain": [
       "1                         \n",
       "⌠                         \n",
       "⎮ ⎛ 3      2          ⎞   \n",
       "⎮ ⎝x  + 2⋅x  + 3⋅x + 4⎠ dx\n",
       "⌡                         \n",
       "0                         "
      ]
     },
     "execution_count": 51,
     "metadata": {},
     "output_type": "execute_result"
    },
    {
     "data": {
      "image/png": "[encoded data removed]",
      "text/latex": [
       "$\\displaystyle \\frac{77}{12}$"
      ],
      "text/plain": [
       "77\n",
       "──\n",
       "12"
      ]
     },
     "execution_count": 51,
     "metadata": {},
     "output_type": "execute_result"
    }
   ],
   "source": [
    "f = x**3+2*x**2+3*x+4\n",
    "integrate(f,(x,0,1))\n",
    "Integral(f,(x,0,1))\n",
    "Integral(f,(x,0,1)).doit()"
   ]
  },
  {
   "cell_type": "markdown",
   "metadata": {},
   "source": [
    "### 二重积分"
   ]
  },
  {
   "cell_type": "markdown",
   "metadata": {},
   "source": [
    "##### 二重不定积分"
   ]
  },
  {
   "cell_type": "code",
   "execution_count": 83,
   "metadata": {},
   "outputs": [
    {
     "data": {
      "image/png": "[encoded data removed]",
      "text/latex": [
       "$\\displaystyle \\frac{x^{2} y}{2} + \\frac{x y^{2}}{2}$"
      ],
      "text/plain": [
       " 2        2\n",
       "x ⋅y   x⋅y \n",
       "──── + ────\n",
       " 2      2  "
      ]
     },
     "execution_count": 83,
     "metadata": {},
     "output_type": "execute_result"
    },
    {
     "data": {
      "image/png": "[encoded data removed]",
      "text/latex": [
       "$\\displaystyle \\frac{x^{3}}{6} + \\frac{x^{2} y}{2}$"
      ],
      "text/plain": [
       " 3    2  \n",
       "x    x ⋅y\n",
       "── + ────\n",
       "6     2  "
      ]
     },
     "execution_count": 83,
     "metadata": {},
     "output_type": "execute_result"
    }
   ],
   "source": [
    "f = x+y\n",
    "integrate(f, x, y)\n",
    "integrate(f, x, x)\n",
    "# Integral(f, (x, -oo, oo), (y, -oo, oo)).doit()"
   ]
  },
  {
   "cell_type": "markdown",
   "metadata": {},
   "source": [
    "##### 二重定积分\n"
   ]
  },
  {
   "cell_type": "code",
   "execution_count": 52,
   "metadata": {},
   "outputs": [
    {
     "data": {
      "image/png": "[encoded data removed]",
      "text/latex": [
       "$\\displaystyle \\pi$"
      ],
      "text/plain": [
       "π"
      ]
     },
     "execution_count": 52,
     "metadata": {},
     "output_type": "execute_result"
    },
    {
     "data": {
      "image/png": "[encoded data removed]",
      "text/latex": [
       "$\\displaystyle \\int\\limits_{-\\infty}^{\\infty}\\int\\limits_{-\\infty}^{\\infty} e^{- x^{2} - y^{2}}\\, dx\\, dy$"
      ],
      "text/plain": [
       "∞  ∞                  \n",
       "⌠  ⌠                  \n",
       "⎮  ⎮      2    2      \n",
       "⎮  ⎮   - x  - y       \n",
       "⎮  ⎮  ℯ          dx dy\n",
       "⌡  ⌡                  \n",
       "-∞ -∞                 "
      ]
     },
     "execution_count": 52,
     "metadata": {},
     "output_type": "execute_result"
    },
    {
     "data": {
      "image/png": "[encoded data removed]",
      "text/latex": [
       "$\\displaystyle \\pi$"
      ],
      "text/plain": [
       "π"
      ]
     },
     "execution_count": 52,
     "metadata": {},
     "output_type": "execute_result"
    }
   ],
   "source": [
    "f = exp(-x**2 - y**2)\n",
    "integrate(f, (x, -oo, oo), (y, -oo, oo))\n",
    "Integral(f, (x, -oo, oo), (y, -oo, oo))\n",
    "Integral(f, (x, -oo, oo), (y, -oo, oo)).doit()"
   ]
  },
  {
   "cell_type": "markdown",
   "metadata": {},
   "source": [
    "### 三重积分"
   ]
  },
  {
   "cell_type": "code",
   "execution_count": 53,
   "metadata": {},
   "outputs": [
    {
     "data": {
      "image/png": "[encoded data removed]",
      "text/latex": [
       "$\\displaystyle \\pi^{\\frac{3}{2}}$"
      ],
      "text/plain": [
       " 3/2\n",
       "π   "
      ]
     },
     "execution_count": 53,
     "metadata": {},
     "output_type": "execute_result"
    },
    {
     "data": {
      "image/png": "[encoded data removed]",
      "text/latex": [
       "$\\displaystyle \\int\\limits_{-\\infty}^{\\infty}\\int\\limits_{-\\infty}^{\\infty}\\int\\limits_{-\\infty}^{\\infty} e^{- x^{2} - y^{2} - z^{2}}\\, dx\\, dy\\, dz$"
      ],
      "text/plain": [
       "∞  ∞  ∞                          \n",
       "⌠  ⌠  ⌠                          \n",
       "⎮  ⎮  ⎮      2    2    2         \n",
       "⎮  ⎮  ⎮   - x  - y  - z          \n",
       "⎮  ⎮  ⎮  ℯ               dx dy dz\n",
       "⌡  ⌡  ⌡                          \n",
       "-∞ -∞ -∞                         "
      ]
     },
     "execution_count": 53,
     "metadata": {},
     "output_type": "execute_result"
    },
    {
     "data": {
      "image/png": "[encoded data removed]",
      "text/latex": [
       "$\\displaystyle \\pi^{\\frac{3}{2}}$"
      ],
      "text/plain": [
       " 3/2\n",
       "π   "
      ]
     },
     "execution_count": 53,
     "metadata": {},
     "output_type": "execute_result"
    }
   ],
   "source": [
    "f = exp(-x**2 - y**2 - z**2)\n",
    "integrate(f, (x, -oo, oo), (y, -oo, oo), (z, -oo, oo))\n",
    "Integral(f, (x, -oo, oo), (y, -oo, oo), (z, -oo, oo))\n",
    "Integral(f, (x, -oo, oo), (y, -oo, oo), (z, -oo, oo)).doit()"
   ]
  },
  {
   "cell_type": "markdown",
   "metadata": {},
   "source": [
    "### 概率密度"
   ]
  },
  {
   "cell_type": "code",
   "execution_count": 125,
   "metadata": {},
   "outputs": [
    {
     "data": {
      "text/latex": [
       "$\\displaystyle \\begin{cases} \\frac{3 x^{2}}{7} & \\text{for}\\: x \\geq 1 \\wedge x \\leq 2 \\\\0 & \\text{otherwise} \\end{cases}$"
      ],
      "text/plain": [
       "⎧   2                   \n",
       "⎪3⋅x                    \n",
       "⎪────  for x ≥ 1 ∧ x ≤ 2\n",
       "⎨ 7                     \n",
       "⎪                       \n",
       "⎪ 0        otherwise    \n",
       "⎩                       "
      ]
     },
     "execution_count": 125,
     "metadata": {},
     "output_type": "execute_result"
    },
    {
     "data": {
      "image/png": "[encoded data removed]",
      "text/latex": [
       "$\\displaystyle 1$"
      ],
      "text/plain": [
       "1"
      ]
     },
     "execution_count": 125,
     "metadata": {},
     "output_type": "execute_result"
    },
    {
     "data": {
      "image/png": "[encoded data removed]",
      "text/plain": [
       "<Figure size 432x288 with 1 Axes>"
      ]
     },
     "metadata": {
      "needs_background": "light"
     },
     "output_type": "display_data"
    },
    {
     "data": {
      "text/plain": [
       "<sympy.plotting.plot.Plot at 0x23f63e0f208>"
      ]
     },
     "execution_count": 125,
     "metadata": {},
     "output_type": "execute_result"
    }
   ],
   "source": [
    "i1 = integrate(x**2,(x,1,2))\n",
    "f = Piecewise(((1/i1)*x**2,(x>=1) & (x<=2)),(0, True))\n",
    "f\n",
    "integrate(f,(x,-oo,oo))\n",
    "plot(f)"
   ]
  },
  {
   "cell_type": "markdown",
   "metadata": {},
   "source": [
    "# 集合\n",
    "FiniteSet"
   ]
  },
  {
   "cell_type": "markdown",
   "metadata": {},
   "source": [
    "### 构建集合"
   ]
  },
  {
   "cell_type": "code",
   "execution_count": 54,
   "metadata": {},
   "outputs": [],
   "source": [
    "from sympy import FiniteSet\n",
    "from fractions import Fraction # 分数"
   ]
  },
  {
   "cell_type": "code",
   "execution_count": 55,
   "metadata": {},
   "outputs": [
    {
     "data": {
      "image/png": "[encoded data removed]",
      "text/latex": [
       "$\\displaystyle \\left\\{\\frac{1}{5}, 2, 4, 6\\right\\}$"
      ],
      "text/plain": [
       "{1/5, 2, 4, 6}"
      ]
     },
     "execution_count": 55,
     "metadata": {},
     "output_type": "execute_result"
    },
    {
     "data": {
      "image/png": "[encoded data removed]",
      "text/latex": [
       "$\\displaystyle 4$"
      ],
      "text/plain": [
       "4"
      ]
     },
     "execution_count": 55,
     "metadata": {},
     "output_type": "execute_result"
    },
    {
     "data": {
      "text/plain": [
       "False"
      ]
     },
     "execution_count": 55,
     "metadata": {},
     "output_type": "execute_result"
    }
   ],
   "source": [
    "s = FiniteSet(2,4,6, Fraction(1,5))\n",
    "s\n",
    "len(s)\n",
    "3 in s"
   ]
  },
  {
   "cell_type": "code",
   "execution_count": 56,
   "metadata": {},
   "outputs": [
    {
     "data": {
      "image/png": "[encoded data removed]",
      "text/latex": [
       "$\\displaystyle \\emptyset$"
      ],
      "text/plain": [
       "∅"
      ]
     },
     "execution_count": 56,
     "metadata": {},
     "output_type": "execute_result"
    }
   ],
   "source": [
    "# 创建一个空集合\n",
    "s = FiniteSet()\n",
    "s"
   ]
  },
  {
   "cell_type": "code",
   "execution_count": 57,
   "metadata": {},
   "outputs": [
    {
     "data": {
      "image/png": "[encoded data removed]",
      "text/latex": [
       "$\\displaystyle \\left\\{1, 2, 3\\right\\}$"
      ],
      "text/plain": [
       "{1, 2, 3}"
      ]
     },
     "execution_count": 57,
     "metadata": {},
     "output_type": "execute_result"
    }
   ],
   "source": [
    "# 通过列表或元组创建集合\n",
    "members= [1,2,3]\n",
    "s = FiniteSet(*members)\n",
    "s"
   ]
  },
  {
   "cell_type": "markdown",
   "metadata": {},
   "source": [
    "##### 集合的重复与排序"
   ]
  },
  {
   "cell_type": "code",
   "execution_count": 58,
   "metadata": {},
   "outputs": [
    {
     "data": {
      "image/png": "[encoded data removed]",
      "text/latex": [
       "$\\displaystyle \\left\\{2, 4, 6\\right\\}$"
      ],
      "text/plain": [
       "{2, 4, 6}"
      ]
     },
     "execution_count": 58,
     "metadata": {},
     "output_type": "execute_result"
    },
    {
     "name": "stdout",
     "output_type": "stream",
     "text": [
      "2\n",
      "4\n",
      "6\n"
     ]
    }
   ],
   "source": [
    "s = FiniteSet(2,4,6,2)\n",
    "s\n",
    "for s_ in s:\n",
    "    print(s_)"
   ]
  },
  {
   "cell_type": "code",
   "execution_count": 59,
   "metadata": {},
   "outputs": [
    {
     "data": {
      "text/plain": [
       "True"
      ]
     },
     "execution_count": 59,
     "metadata": {},
     "output_type": "execute_result"
    }
   ],
   "source": [
    "s1 = FiniteSet(2,4,6)\n",
    "s2 = FiniteSet(6,4,2)\n",
    "s1 == s2"
   ]
  },
  {
   "cell_type": "markdown",
   "metadata": {},
   "source": [
    "### 子集、超集与幂集\n",
    "* 子集: is_subset()\n",
    "* 超集: is_superset()\n",
    "* 幂集: powerset()"
   ]
  },
  {
   "cell_type": "code",
   "execution_count": 60,
   "metadata": {},
   "outputs": [
    {
     "data": {
      "text/plain": [
       "True"
      ]
     },
     "execution_count": 60,
     "metadata": {},
     "output_type": "execute_result"
    },
    {
     "data": {
      "text/plain": [
       "False"
      ]
     },
     "execution_count": 60,
     "metadata": {},
     "output_type": "execute_result"
    },
    {
     "data": {
      "text/plain": [
       "False"
      ]
     },
     "execution_count": 60,
     "metadata": {},
     "output_type": "execute_result"
    },
    {
     "data": {
      "text/plain": [
       "True"
      ]
     },
     "execution_count": 60,
     "metadata": {},
     "output_type": "execute_result"
    },
    {
     "data": {
      "image/png": "[encoded data removed]",
      "text/latex": [
       "$\\displaystyle \\left\\{\\emptyset, \\left\\{1\\right\\}, \\left\\{2\\right\\}, \\left\\{3\\right\\}, \\left\\{4\\right\\}, \\left\\{1, 2\\right\\}, \\left\\{1, 3\\right\\}, \\left\\{1, 4\\right\\}, \\left\\{2, 3\\right\\}, \\left\\{2, 4\\right\\}, \\left\\{3, 4\\right\\}, \\left\\{1, 2, 3\\right\\}, \\left\\{1, 2, 4\\right\\}, \\left\\{1, 3, 4\\right\\}, \\left\\{2, 3, 4\\right\\}, \\left\\{1, 2, 3, 4\\right\\}\\right\\}$"
      ],
      "text/plain": [
       "{∅, {1}, {2}, {3}, {4}, {1, 2}, {1, 3}, {1, 4}, {2, 3}, {2, 4}, {3, 4}, {1, 2,\n",
       " 3}, {1, 2, 4}, {1, 3, 4}, {2, 3, 4}, {1, 2, 3, 4}}"
      ]
     },
     "execution_count": 60,
     "metadata": {},
     "output_type": "execute_result"
    },
    {
     "data": {
      "image/png": "[encoded data removed]",
      "text/latex": [
       "$\\displaystyle 16$"
      ],
      "text/plain": [
       "16"
      ]
     },
     "execution_count": 60,
     "metadata": {},
     "output_type": "execute_result"
    },
    {
     "data": {
      "text/plain": [
       "True"
      ]
     },
     "execution_count": 60,
     "metadata": {},
     "output_type": "execute_result"
    },
    {
     "data": {
      "text/plain": [
       "True"
      ]
     },
     "execution_count": 60,
     "metadata": {},
     "output_type": "execute_result"
    }
   ],
   "source": [
    "s = FiniteSet(1)\n",
    "t = FiniteSet(1,2,3,4)\n",
    "# 子集\n",
    "s.is_subset(t)\n",
    "t.is_subset(s)\n",
    "# 超集\n",
    "s.is_superset(t)\n",
    "t.is_superset(s)\n",
    "# 幂集\n",
    "ps = t.powerset()\n",
    "ps\n",
    "len(ps)\n",
    "# 真子集\n",
    "s.is_proper_subset(t)\n",
    "# 真超集\n",
    "t.is_proper_superset(s)"
   ]
  },
  {
   "cell_type": "markdown",
   "metadata": {},
   "source": [
    "### 集合运算\n",
    "* 并集和交集  \n",
    "    * union\n",
    "    * intersection\n",
    "* 笛卡尔积\n",
    "    * *(乘法运算符号)"
   ]
  },
  {
   "cell_type": "markdown",
   "metadata": {},
   "source": [
    "##### 并集和交集"
   ]
  },
  {
   "cell_type": "code",
   "execution_count": 61,
   "metadata": {},
   "outputs": [
    {
     "data": {
      "image/png": "[encoded data removed]",
      "text/latex": [
       "$\\displaystyle \\left\\{1, 2, 3, 4, 6\\right\\}$"
      ],
      "text/plain": [
       "{1, 2, 3, 4, 6}"
      ]
     },
     "execution_count": 61,
     "metadata": {},
     "output_type": "execute_result"
    },
    {
     "data": {
      "image/png": "[encoded data removed]",
      "text/latex": [
       "$\\displaystyle \\left\\{2\\right\\}$"
      ],
      "text/plain": [
       "{2}"
      ]
     },
     "execution_count": 61,
     "metadata": {},
     "output_type": "execute_result"
    },
    {
     "data": {
      "image/png": "[encoded data removed]",
      "text/latex": [
       "$\\displaystyle \\left\\{1, 2, 3, 4, 5, 6, 7\\right\\}$"
      ],
      "text/plain": [
       "{1, 2, 3, 4, 5, 6, 7}"
      ]
     },
     "execution_count": 61,
     "metadata": {},
     "output_type": "execute_result"
    }
   ],
   "source": [
    "s = FiniteSet(1,2,3)\n",
    "t = FiniteSet(2,4,6)\n",
    "u = FiniteSet(3,5,7)\n",
    "s.union(t)\n",
    "s.intersection(t)\n",
    "# 三个集合的并集\n",
    "s.union(t).union(u)"
   ]
  },
  {
   "cell_type": "markdown",
   "metadata": {},
   "source": [
    "##### 笛卡尔积"
   ]
  },
  {
   "cell_type": "code",
   "execution_count": 62,
   "metadata": {},
   "outputs": [
    {
     "data": {
      "image/png": "[encoded data removed]",
      "text/latex": [
       "$\\displaystyle \\left\\{1, 2\\right\\} \\times \\left\\{3, 4\\right\\}$"
      ],
      "text/plain": [
       "{1, 2} × {3, 4}"
      ]
     },
     "execution_count": 62,
     "metadata": {},
     "output_type": "execute_result"
    },
    {
     "data": {
      "image/png": "[encoded data removed]",
      "text/latex": [
       "$\\displaystyle 4$"
      ],
      "text/plain": [
       "4"
      ]
     },
     "execution_count": 62,
     "metadata": {},
     "output_type": "execute_result"
    },
    {
     "name": "stdout",
     "output_type": "stream",
     "text": [
      "(1, 3)\n",
      "(1, 4)\n",
      "(2, 3)\n",
      "(2, 4)\n"
     ]
    }
   ],
   "source": [
    "s = FiniteSet(1,2)\n",
    "t = FiniteSet(3,4)\n",
    "p = s*t\n",
    "p\n",
    "len(p)\n",
    "for p_ in p:\n",
    "    print(p_)"
   ]
  },
  {
   "cell_type": "markdown",
   "metadata": {},
   "source": [
    "##### 集合与自身的笛卡尔乘积"
   ]
  },
  {
   "cell_type": "code",
   "execution_count": 63,
   "metadata": {},
   "outputs": [
    {
     "data": {
      "image/png": "[encoded data removed]",
      "text/latex": [
       "$\\displaystyle \\left\\{1, 2\\right\\}^{3}$"
      ],
      "text/plain": [
       "      3\n",
       "{1, 2} "
      ]
     },
     "execution_count": 63,
     "metadata": {},
     "output_type": "execute_result"
    },
    {
     "data": {
      "image/png": "[encoded data removed]",
      "text/latex": [
       "$\\displaystyle 8$"
      ],
      "text/plain": [
       "8"
      ]
     },
     "execution_count": 63,
     "metadata": {},
     "output_type": "execute_result"
    },
    {
     "name": "stdout",
     "output_type": "stream",
     "text": [
      "(1, 1, 1)\n",
      "(1, 1, 2)\n",
      "(1, 2, 1)\n",
      "(1, 2, 2)\n",
      "(2, 1, 1)\n",
      "(2, 1, 2)\n",
      "(2, 2, 1)\n",
      "(2, 2, 2)\n"
     ]
    }
   ],
   "source": [
    "s = FiniteSet(1,2)\n",
    "p = s**3\n",
    "p\n",
    "len(p)\n",
    "for p_ in p:\n",
    "    print(p_)"
   ]
  },
  {
   "cell_type": "code",
   "execution_count": 109,
   "metadata": {},
   "outputs": [
    {
     "name": "stdout",
     "output_type": "stream",
     "text": [
      "     15.0           9.78           0.778     \n",
      "     15.0            9.8           0.777     \n",
      "     15.0           9.83           0.776     \n",
      "     18.0           9.78           0.852     \n",
      "     18.0            9.8           0.852     \n",
      "     18.0           9.83           0.850     \n",
      "     21.0           9.78           0.921     \n",
      "     21.0            9.8           0.920     \n",
      "     21.0           9.83           0.918     \n",
      "     22.5           9.78           0.953     \n",
      "     22.5            9.8           0.952     \n",
      "     22.5           9.83           0.951     \n",
      "     25.0           9.78           1.005     \n",
      "     25.0            9.8           1.004     \n",
      "     25.0           9.83           1.002     \n"
     ]
    },
    {
     "data": {
      "image/png": "[encoded data removed]",
      "text/latex": [
       "$\\displaystyle 9.83$"
      ],
      "text/plain": [
       "9.83000000000000"
      ]
     },
     "execution_count": 109,
     "metadata": {},
     "output_type": "execute_result"
    }
   ],
   "source": [
    "from sympy import pi\n",
    "def time_period(length,g):\n",
    "    T = 2*pi*(length/g)**0.5\n",
    "    return T\n",
    "if __name__=='__main__':\n",
    "    L = FiniteSet(15,18,21,22.5,25)\n",
    "    g_values = FiniteSet(9.8,9.78,9.83)\n",
    "    for elem in L*g_values:\n",
    "        l = elem[0]\n",
    "        g = elem[1]\n",
    "        t = time_period(l/100,g)\n",
    "        print('{0:^15}{1:^15}{2:^15.3f}'.format(float(l),float(g),float(t)))\n"
   ]
  },
  {
   "cell_type": "markdown",
   "metadata": {},
   "source": [
    "# 概率\n",
    "\n",
    "* 均匀分布\n",
    "    * random.uniform\n",
    "    * np.random.uniform"
   ]
  },
  {
   "cell_type": "code",
   "execution_count": null,
   "metadata": {},
   "outputs": [],
   "source": []
  },
  {
   "cell_type": "code",
   "execution_count": null,
   "metadata": {},
   "outputs": [],
   "source": []
  },
  {
   "cell_type": "markdown",
   "metadata": {},
   "source": [
    "###### 估计一个圆的面积"
   ]
  },
  {
   "cell_type": "code",
   "execution_count": 65,
   "metadata": {},
   "outputs": [
    {
     "data": {
      "image/png": "[encoded data removed]",
      "text/latex": [
       "$\\displaystyle 3.14556$"
      ],
      "text/plain": [
       "3.14556"
      ]
     },
     "execution_count": 65,
     "metadata": {},
     "output_type": "execute_result"
    }
   ],
   "source": [
    "N=0\n",
    "M=100000\n",
    "for i in range(M):\n",
    "    x1 = random.uniform(-1,1)\n",
    "    y1 = random.uniform(-1,1)\n",
    "    r1 = x1**2+y1**2\n",
    "    if r1<=1 :\n",
    "        N+=1\n",
    "(N/M)*4"
   ]
  },
  {
   "cell_type": "markdown",
   "metadata": {},
   "source": [
    "### 文氏图\n",
    "pip install matplotlib-venn"
   ]
  },
  {
   "cell_type": "code",
   "execution_count": 66,
   "metadata": {},
   "outputs": [],
   "source": [
    "from matplotlib_venn import venn2,venn2_circles"
   ]
  },
  {
   "cell_type": "code",
   "execution_count": 67,
   "metadata": {},
   "outputs": [
    {
     "data": {
      "image/png": "[encoded data removed]",
      "text/latex": [
       "$\\displaystyle \\left\\{1, 3, 5, 7, 9, 11, 13, 15, 17, 19\\right\\}$"
      ],
      "text/plain": [
       "{1, 3, 5, 7, 9, 11, 13, 15, 17, 19}"
      ]
     },
     "execution_count": 67,
     "metadata": {},
     "output_type": "execute_result"
    },
    {
     "data": {
      "image/png": "[encoded data removed]",
      "text/latex": [
       "$\\displaystyle \\left\\{1, 4, 7, 10, 13, 16, 19\\right\\}$"
      ],
      "text/plain": [
       "{1, 4, 7, 10, 13, 16, 19}"
      ]
     },
     "execution_count": 67,
     "metadata": {},
     "output_type": "execute_result"
    },
    {
     "data": {
      "text/plain": [
       "<matplotlib_venn._common.VennDiagram at 0x23f54289a48>"
      ]
     },
     "execution_count": 67,
     "metadata": {},
     "output_type": "execute_result"
    },
    {
     "data": {
      "image/png": "[encoded data removed]",
      "text/plain": [
       "<Figure size 432x288 with 1 Axes>"
      ]
     },
     "metadata": {},
     "output_type": "display_data"
    }
   ],
   "source": [
    "s1 = FiniteSet(*range(1,20,2))\n",
    "s2 = FiniteSet(*range(1,20,3))\n",
    "s1\n",
    "s2\n",
    "venn2(subsets=[s1,s2], set_labels = ('A', 'B'))\n",
    "# dir(venn2())\n",
    "c = venn2_circles(subsets=(1, 2, 2), linestyle='dashed')"
   ]
  },
  {
   "cell_type": "markdown",
   "metadata": {},
   "source": [
    "### random\n",
    "* random.shuffle() 方法将序列的所有元素随机排序。\n",
    "* random.choice() 方法返回一个列表，元组或字符串的随机项。"
   ]
  },
  {
   "cell_type": "code",
   "execution_count": 80,
   "metadata": {},
   "outputs": [
    {
     "data": {
      "image/png": "[encoded data removed]",
      "text/latex": [
       "$\\displaystyle \\left[ 6, \\  2, \\  9, \\  3, \\  5, \\  1, \\  0, \\  4, \\  7, \\  8\\right]$"
      ],
      "text/plain": [
       "[6, 2, 9, 3, 5, 1, 0, 4, 7, 8]"
      ]
     },
     "execution_count": 80,
     "metadata": {},
     "output_type": "execute_result"
    },
    {
     "data": {
      "image/png": "[encoded data removed]",
      "text/latex": [
       "$\\displaystyle 10$"
      ],
      "text/plain": [
       "10"
      ]
     },
     "execution_count": 80,
     "metadata": {},
     "output_type": "execute_result"
    },
    {
     "data": {
      "image/png": "[encoded data removed]",
      "text/latex": [
       "$\\displaystyle \\left[ 0, \\  1, \\  2, \\  3, \\  4, \\  5, \\  6, \\  7, \\  8, \\  9\\right]$"
      ],
      "text/plain": [
       "[0, 1, 2, 3, 4, 5, 6, 7, 8, 9]"
      ]
     },
     "execution_count": 80,
     "metadata": {},
     "output_type": "execute_result"
    },
    {
     "data": {
      "image/png": "[encoded data removed]",
      "text/latex": [
       "$\\displaystyle \\left[ 0, \\  1, \\  2, \\  3, \\  4, \\  5, \\  6, \\  7, \\  8, \\  9\\right]$"
      ],
      "text/plain": [
       "[0, 1, 2, 3, 4, 5, 6, 7, 8, 9]"
      ]
     },
     "execution_count": 80,
     "metadata": {},
     "output_type": "execute_result"
    },
    {
     "data": {
      "image/png": "[encoded data removed]",
      "text/latex": [
       "$\\displaystyle 9$"
      ],
      "text/plain": [
       "9"
      ]
     },
     "execution_count": 80,
     "metadata": {},
     "output_type": "execute_result"
    }
   ],
   "source": [
    "x1 = list(range(10))\n",
    "# 复制列表\n",
    "y1 = x1[:]\n",
    "z1 = x1.copy()\n",
    "random.shuffle(x1)\n",
    "x1\n",
    "len(x1)\n",
    "y1\n",
    "z1\n",
    "random.choice(x1)"
   ]
  },
  {
   "cell_type": "markdown",
   "metadata": {},
   "source": [
    "#### 洗牌\n",
    "* random.shuffle()"
   ]
  },
  {
   "cell_type": "code",
   "execution_count": 69,
   "metadata": {},
   "outputs": [],
   "source": [
    "# 牌类\n",
    "class Card:\n",
    "    def __init__(self,suit,rank):\n",
    "        self.suit = str(suit)\n",
    "        self.rank = int(rank)\n"
   ]
  },
  {
   "cell_type": "code",
   "execution_count": 70,
   "metadata": {},
   "outputs": [
    {
     "data": {
      "image/png": "[encoded data removed]",
      "text/latex": [
       "$\\displaystyle \\left\\{A, B, C, D\\right\\}$"
      ],
      "text/plain": [
       "{A, B, C, D}"
      ]
     },
     "execution_count": 70,
     "metadata": {},
     "output_type": "execute_result"
    },
    {
     "data": {
      "image/png": "[encoded data removed]",
      "text/latex": [
       "$\\displaystyle \\left\\{1, 2, 3, 4, 5, 6, 7, 8, 9, 10, 11, 12, 13\\right\\}$"
      ],
      "text/plain": [
       "{1, 2, 3, 4, 5, 6, 7, 8, 9, 10, 11, 12, 13}"
      ]
     },
     "execution_count": 70,
     "metadata": {},
     "output_type": "execute_result"
    },
    {
     "data": {
      "image/png": "[encoded data removed]",
      "text/latex": [
       "$\\displaystyle \\left\\{A, B, C, D\\right\\} \\times \\left\\{1, 2, 3, 4, 5, 6, 7, 8, 9, 10, 11, 12, 13\\right\\}$"
      ],
      "text/plain": [
       "{A, B, C, D} × {1, 2, 3, 4, 5, 6, 7, 8, 9, 10, 11, 12, 13}"
      ]
     },
     "execution_count": 70,
     "metadata": {},
     "output_type": "execute_result"
    }
   ],
   "source": [
    "# 设定牌\n",
    "suits = FiniteSet(*\"ABCD\")\n",
    "suits\n",
    "ranks = FiniteSet(*range(1,14))\n",
    "ranks\n",
    "cards = suits*ranks\n",
    "cards"
   ]
  },
  {
   "cell_type": "code",
   "execution_count": 71,
   "metadata": {},
   "outputs": [],
   "source": [
    "cardlist=[]\n",
    "for i,card in enumerate(cards):\n",
    "    cardlist.append(Card(card[0],card[1]))"
   ]
  },
  {
   "cell_type": "code",
   "execution_count": 72,
   "metadata": {},
   "outputs": [],
   "source": [
    "# 洗牌\n",
    "random.shuffle(cardlist)\n",
    "# cardlist"
   ]
  },
  {
   "cell_type": "markdown",
   "metadata": {},
   "source": [
    "### 类列表按属性排序\n",
    "operator"
   ]
  },
  {
   "cell_type": "code",
   "execution_count": 73,
   "metadata": {},
   "outputs": [
    {
     "data": {
      "text/plain": [
       "'A2'"
      ]
     },
     "execution_count": 73,
     "metadata": {},
     "output_type": "execute_result"
    },
    {
     "data": {
      "text/plain": [
       "'A3'"
      ]
     },
     "execution_count": 73,
     "metadata": {},
     "output_type": "execute_result"
    },
    {
     "data": {
      "text/plain": [
       "'B3'"
      ]
     },
     "execution_count": 73,
     "metadata": {},
     "output_type": "execute_result"
    },
    {
     "data": {
      "text/plain": [
       "'C3'"
      ]
     },
     "execution_count": 73,
     "metadata": {},
     "output_type": "execute_result"
    },
    {
     "data": {
      "text/plain": [
       "'D6'"
      ]
     },
     "execution_count": 73,
     "metadata": {},
     "output_type": "execute_result"
    },
    {
     "data": {
      "text/plain": [
       "'B6'"
      ]
     },
     "execution_count": 73,
     "metadata": {},
     "output_type": "execute_result"
    },
    {
     "data": {
      "text/plain": [
       "'D8'"
      ]
     },
     "execution_count": 73,
     "metadata": {},
     "output_type": "execute_result"
    },
    {
     "data": {
      "text/plain": [
       "'B8'"
      ]
     },
     "execution_count": 73,
     "metadata": {},
     "output_type": "execute_result"
    },
    {
     "data": {
      "text/plain": [
       "'D9'"
      ]
     },
     "execution_count": 73,
     "metadata": {},
     "output_type": "execute_result"
    },
    {
     "data": {
      "text/plain": [
       "'C10'"
      ]
     },
     "execution_count": 73,
     "metadata": {},
     "output_type": "execute_result"
    },
    {
     "data": {
      "text/plain": [
       "'A10'"
      ]
     },
     "execution_count": 73,
     "metadata": {},
     "output_type": "execute_result"
    },
    {
     "data": {
      "text/plain": [
       "'C11'"
      ]
     },
     "execution_count": 73,
     "metadata": {},
     "output_type": "execute_result"
    },
    {
     "data": {
      "text/plain": [
       "'D13'"
      ]
     },
     "execution_count": 73,
     "metadata": {},
     "output_type": "execute_result"
    }
   ],
   "source": [
    "# 理牌\n",
    "import operator\n",
    "cardlist1 = cardlist[:13]\n",
    "cmpfun = operator.attrgetter('rank')#参数为排序依据的属性，可以有多个，这里优先id，使用时按需求改换参数即可\n",
    "cardlist1.sort(key=cmpfun)#使用时改变列表名即可\n",
    "for l1 in cardlist1:\n",
    "    \"{0}{1}\".format(l1.suit,l1.rank)"
   ]
  },
  {
   "cell_type": "code",
   "execution_count": null,
   "metadata": {},
   "outputs": [],
   "source": [
    "\n"
   ]
  }
 ],
 "metadata": {
  "kernelspec": {
   "display_name": "Python 3",
   "language": "python",
   "name": "python3"
  },
  "language_info": {
   "codemirror_mode": {
    "name": "ipython",
    "version": 3
   },
   "file_extension": ".py",
   "mimetype": "text/x-python",
   "name": "python",
   "nbconvert_exporter": "python",
   "pygments_lexer": "ipython3",
   "version": "3.7.4"
  },
  "toc": {
   "base_numbering": 1,
   "nav_menu": {},
   "number_sections": true,
   "sideBar": true,
   "skip_h1_title": false,
   "title_cell": "Table of Contents",
   "title_sidebar": "Contents",
   "toc_cell": false,
   "toc_position": {
    "height": "calc(100% - 180px)",
    "left": "10px",
    "top": "150px",
    "width": "219.429px"
   },
   "toc_section_display": true,
   "toc_window_display": true
  }
 },
 "nbformat": 4,
 "nbformat_minor": 2
}

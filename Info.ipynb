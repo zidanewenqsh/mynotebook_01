{
 "cells": [
  {
   "cell_type": "code",
   "execution_count": null,
   "metadata": {},
   "outputs": [],
   "source": []
  },
  {
   "cell_type": "markdown",
   "metadata": {},
   "source": [
    "# vscode"
   ]
  },
  {
   "cell_type": "markdown",
   "metadata": {},
   "source": [
    "[VScode使用教程大全，看完你一定会谢谢我的](https://blog.csdn.net/qq_38698753/article/details/93190356)  \n",
    "[VSCode详细使用教程](https://blog.csdn.net/weixin_45601379/article/details/100550421)"
   ]
  },
  {
   "cell_type": "markdown",
   "metadata": {},
   "source": [
    "* Auto Close Tag (自动闭合HTML/XML标签)\n",
    "* Beautify (格式化 html ,js,css)  \n",
    "* Bracket Pair Colorizer(给括号加上不同的颜色，便于区分不同的区块)\n",
    "* Debugger for Chrome(映射vscode上的断点到chrome上，方便调试)  \n",
    "* ESLint(js语法纠错，可以自定义配置)  \n",
    "* GitLens(方便查看git日志)  \n",
    "* HTML CSS Support (智能提示CSS类名以及id)\n",
    "* markdownlint(markdown语法纠错)\n",
    "* Markdown PDF(将Markdown输出为PDF)"
   ]
  },
  {
   "cell_type": "markdown",
   "metadata": {},
   "source": [
    "## 已经安装\n",
    "* Theme (主题)\n",
    "* Beautify (格式化 html ,js,css)  \n",
    "* Auto Rename Tag (自动完成另一侧标签的同步修改)\n",
    "* code runner (快捷运行程序)\n",
    "* vscode-icons (美化文件类型图标)\n",
    "* Markdown Preview Enhanced(实时预览markdown)\n",
    "* Path Intellisense(自动提示文件路径)\n",
    "* Settings Sync(将VScode的配置上传到github，以后换机器，重装系统，随时下载，不用重新找教程了)\n",
    "* Bracket Pair Colorizer(代码颜色高亮一般只会帮你区分不同的变量，这款插件给不同的括号换上了不同的颜色，括号的多的时候非常实用。)\n",
    "\n"
   ]
  },
  {
   "cell_type": "markdown",
   "metadata": {},
   "source": [
    "[VSCode安装，配置，编译运行C++（详细整理）](https://www.jianshu.com/p/febbf1e975b6)"
   ]
  },
  {
   "cell_type": "code",
   "execution_count": null,
   "metadata": {},
   "outputs": [],
   "source": []
  },
  {
   "cell_type": "code",
   "execution_count": null,
   "metadata": {},
   "outputs": [],
   "source": []
  },
  {
   "cell_type": "code",
   "execution_count": null,
   "metadata": {},
   "outputs": [],
   "source": []
  }
 ],
 "metadata": {
  "kernelspec": {
   "display_name": "Python 3",
   "language": "python",
   "name": "python3"
  },
  "language_info": {
   "codemirror_mode": {
    "name": "ipython",
    "version": 3
   },
   "file_extension": ".py",
   "mimetype": "text/x-python",
   "name": "python",
   "nbconvert_exporter": "python",
   "pygments_lexer": "ipython3",
   "version": "3.7.6"
  },
  "toc": {
   "base_numbering": 1,
   "nav_menu": {},
   "number_sections": true,
   "sideBar": true,
   "skip_h1_title": false,
   "title_cell": "Table of Contents",
   "title_sidebar": "Contents",
   "toc_cell": false,
   "toc_position": {},
   "toc_section_display": true,
   "toc_window_display": false
  }
 },
 "nbformat": 4,
 "nbformat_minor": 4
}

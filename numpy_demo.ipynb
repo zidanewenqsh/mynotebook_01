{
 "cells": [
  {
   "cell_type": "markdown",
   "metadata": {},
   "source": [
    "[菜鸟教程-numpy](https://www.runoob.com/numpy/numpy-tutorial.html)"
   ]
  },
  {
   "cell_type": "markdown",
   "metadata": {},
   "source": [
    "## 导包"
   ]
  },
  {
   "cell_type": "code",
   "execution_count": 1,
   "metadata": {},
   "outputs": [],
   "source": [
    "from IPython.core.interactiveshell import InteractiveShell\n",
    "InteractiveShell.ast_node_interactivity = 'all'  #默认为'last'\n",
    "%matplotlib inline\n",
    "import numpy as np\n",
    "import matplotlib.pyplot as plt\n",
    "import pandas as pd\n",
    "import time\n",
    "import os\n",
    "import sys\n",
    "import random\n",
    "from numpy import linalg\n",
    "np.set_printoptions(threshold=np.inf, precision=2, suppress=True)"
   ]
  },
  {
   "cell_type": "code",
   "execution_count": null,
   "metadata": {},
   "outputs": [],
   "source": []
  },
  {
   "cell_type": "markdown",
   "metadata": {},
   "source": [
    "# 基本"
   ]
  },
  {
   "cell_type": "code",
   "execution_count": null,
   "metadata": {},
   "outputs": [],
   "source": []
  },
  {
   "cell_type": "markdown",
   "metadata": {},
   "source": [
    "# 线性代数"
   ]
  },
  {
   "cell_type": "markdown",
   "metadata": {},
   "source": [
    "##### 创建矩阵"
   ]
  },
  {
   "cell_type": "code",
   "execution_count": null,
   "metadata": {},
   "outputs": [],
   "source": []
  },
  {
   "cell_type": "code",
   "execution_count": 2,
   "metadata": {},
   "outputs": [
    {
     "data": {
      "text/plain": [
       "array([[0, 8, 3],\n",
       "       [6, 3, 3],\n",
       "       [7, 8, 0]])"
      ]
     },
     "execution_count": 2,
     "metadata": {},
     "output_type": "execute_result"
    }
   ],
   "source": [
    "# a = np.array([])\n",
    "np.random.seed(2020)\n",
    "A = np.random.randint(0, 10, size=(3, 3))\n",
    "A"
   ]
  },
  {
   "cell_type": "markdown",
   "metadata": {},
   "source": [
    "## 行列式\n",
    "* det()"
   ]
  },
  {
   "cell_type": "code",
   "execution_count": 83,
   "metadata": {},
   "outputs": [
    {
     "data": {
      "text/plain": [
       "6.999999999999999"
      ]
     },
     "execution_count": 83,
     "metadata": {},
     "output_type": "execute_result"
    }
   ],
   "source": [
    "A = np.array([3,-2,2,1]).reshape(2,2)\n",
    "linalg.det(A)"
   ]
  },
  {
   "cell_type": "markdown",
   "metadata": {},
   "source": [
    "## 逆矩阵  \n",
    "* inv()"
   ]
  },
  {
   "cell_type": "code",
   "execution_count": 3,
   "metadata": {},
   "outputs": [
    {
     "data": {
      "text/plain": [
       "array([[-0.1 ,  0.1 ,  0.06],\n",
       "       [ 0.08, -0.08,  0.07],\n",
       "       [ 0.11,  0.22, -0.19]])"
      ]
     },
     "execution_count": 3,
     "metadata": {},
     "output_type": "execute_result"
    },
    {
     "data": {
      "text/plain": [
       "array([[ 1.,  0.,  0.],\n",
       "       [ 0.,  1., -0.],\n",
       "       [ 0.,  0.,  1.]])"
      ]
     },
     "execution_count": 3,
     "metadata": {},
     "output_type": "execute_result"
    },
    {
     "data": {
      "text/plain": [
       "array([[ 1.,  0.,  0.],\n",
       "       [ 0.,  1., -0.],\n",
       "       [ 0.,  0.,  1.]])"
      ]
     },
     "execution_count": 3,
     "metadata": {},
     "output_type": "execute_result"
    }
   ],
   "source": [
    "A_1 = linalg.inv(A)\n",
    "A_1\n",
    "A@A_1\n",
    "A_1@A"
   ]
  },
  {
   "cell_type": "markdown",
   "metadata": {},
   "source": [
    "## 广义逆矩阵\n",
    "* pinv()"
   ]
  },
  {
   "cell_type": "code",
   "execution_count": 82,
   "metadata": {},
   "outputs": [
    {
     "data": {
      "text/plain": [
       "matrix([[-0.01,  0.07],\n",
       "        [ 0.02,  0.04],\n",
       "        [ 0.06, -0.06]])"
      ]
     },
     "execution_count": 82,
     "metadata": {},
     "output_type": "execute_result"
    },
    {
     "data": {
      "text/plain": [
       "(2, 3)"
      ]
     },
     "execution_count": 82,
     "metadata": {},
     "output_type": "execute_result"
    },
    {
     "data": {
      "text/plain": [
       "(3, 2)"
      ]
     },
     "execution_count": 82,
     "metadata": {},
     "output_type": "execute_result"
    },
    {
     "data": {
      "text/plain": [
       "matrix([[1., 0.],\n",
       "        [0., 1.]])"
      ]
     },
     "execution_count": 82,
     "metadata": {},
     "output_type": "execute_result"
    },
    {
     "data": {
      "text/plain": [
       "matrix([[ 0.56,  0.44, -0.22],\n",
       "        [ 0.44,  0.56,  0.22],\n",
       "        [-0.22,  0.22,  0.89]])"
      ]
     },
     "execution_count": 82,
     "metadata": {},
     "output_type": "execute_result"
    }
   ],
   "source": [
    "A = np.mat(\"4 11 14;8 7 -2\")\n",
    "# 使用pinv函数计算广义逆矩阵\n",
    "pseudoinv = linalg.pinv(A)\n",
    "pseudoinv\n",
    "A.shape\n",
    "pseudoinv.shape\n",
    "A@pseudoinv\n",
    "pseudoinv@A"
   ]
  },
  {
   "cell_type": "code",
   "execution_count": 74,
   "metadata": {},
   "outputs": [
    {
     "name": "stdout",
     "output_type": "stream",
     "text": [
      "Help on function pinv in module numpy.linalg:\n",
      "\n",
      "pinv(a, rcond=1e-15)\n",
      "    Compute the (Moore-Penrose) pseudo-inverse of a matrix.\n",
      "    \n",
      "    Calculate the generalized inverse of a matrix using its\n",
      "    singular-value decomposition (SVD) and including all\n",
      "    *large* singular values.\n",
      "    \n",
      "    .. versionchanged:: 1.14\n",
      "       Can now operate on stacks of matrices\n",
      "    \n",
      "    Parameters\n",
      "    ----------\n",
      "    a : (..., M, N) array_like\n",
      "        Matrix or stack of matrices to be pseudo-inverted.\n",
      "    rcond : (...) array_like of float\n",
      "        Cutoff for small singular values.\n",
      "        Singular values smaller (in modulus) than\n",
      "        `rcond` * largest_singular_value (again, in modulus)\n",
      "        are set to zero. Broadcasts against the stack of matrices\n",
      "    \n",
      "    Returns\n",
      "    -------\n",
      "    B : (..., N, M) ndarray\n",
      "        The pseudo-inverse of `a`. If `a` is a `matrix` instance, then so\n",
      "        is `B`.\n",
      "    \n",
      "    Raises\n",
      "    ------\n",
      "    LinAlgError\n",
      "        If the SVD computation does not converge.\n",
      "    \n",
      "    Notes\n",
      "    -----\n",
      "    The pseudo-inverse of a matrix A, denoted :math:`A^+`, is\n",
      "    defined as: \"the matrix that 'solves' [the least-squares problem]\n",
      "    :math:`Ax = b`,\" i.e., if :math:`\\bar{x}` is said solution, then\n",
      "    :math:`A^+` is that matrix such that :math:`\\bar{x} = A^+b`.\n",
      "    \n",
      "    It can be shown that if :math:`Q_1 \\Sigma Q_2^T = A` is the singular\n",
      "    value decomposition of A, then\n",
      "    :math:`A^+ = Q_2 \\Sigma^+ Q_1^T`, where :math:`Q_{1,2}` are\n",
      "    orthogonal matrices, :math:`\\Sigma` is a diagonal matrix consisting\n",
      "    of A's so-called singular values, (followed, typically, by\n",
      "    zeros), and then :math:`\\Sigma^+` is simply the diagonal matrix\n",
      "    consisting of the reciprocals of A's singular values\n",
      "    (again, followed by zeros). [1]_\n",
      "    \n",
      "    References\n",
      "    ----------\n",
      "    .. [1] G. Strang, *Linear Algebra and Its Applications*, 2nd Ed., Orlando,\n",
      "           FL, Academic Press, Inc., 1980, pp. 139-142.\n",
      "    \n",
      "    Examples\n",
      "    --------\n",
      "    The following example checks that ``a * a+ * a == a`` and\n",
      "    ``a+ * a * a+ == a+``:\n",
      "    \n",
      "    >>> a = np.random.randn(9, 6)\n",
      "    >>> B = np.linalg.pinv(a)\n",
      "    >>> np.allclose(a, np.dot(a, np.dot(B, a)))\n",
      "    True\n",
      "    >>> np.allclose(B, np.dot(B, np.dot(a, B)))\n",
      "    True\n",
      "\n"
     ]
    }
   ],
   "source": [
    "help(linalg.pinv)"
   ]
  },
  {
   "cell_type": "markdown",
   "metadata": {},
   "source": [
    "## 解线性方程\n",
    "\n",
    "* solve()"
   ]
  },
  {
   "cell_type": "code",
   "execution_count": 8,
   "metadata": {},
   "outputs": [
    {
     "data": {
      "text/plain": [
       "array([29., 16.,  3.])"
      ]
     },
     "execution_count": 8,
     "metadata": {},
     "output_type": "execute_result"
    }
   ],
   "source": [
    "B = np.array([1, -2, 1, 0, 2, -8, -4, 5, 9]).reshape(3, 3)\n",
    "b = np.array([0, 8, -9])\n",
    "# 调用solve函数求解线性方程\n",
    "C = np.linalg.solve(B, b)\n",
    "C"
   ]
  },
  {
   "cell_type": "markdown",
   "metadata": {},
   "source": [
    "## 特征值和特征向量\n",
    "* eigvals() &nbsp;只返回特征值\n",
    "* eig() &nbsp; 返回特征值和特征向量"
   ]
  },
  {
   "cell_type": "code",
   "execution_count": 35,
   "metadata": {},
   "outputs": [
    {
     "data": {
      "text/plain": [
       "array([[-1,  1,  0],\n",
       "       [-4,  3,  0],\n",
       "       [ 1,  0,  2]])"
      ]
     },
     "execution_count": 35,
     "metadata": {},
     "output_type": "execute_result"
    },
    {
     "data": {
      "text/plain": [
       "array([2., 1., 1.])"
      ]
     },
     "execution_count": 35,
     "metadata": {},
     "output_type": "execute_result"
    },
    {
     "data": {
      "text/plain": [
       "array([2., 1., 1.])"
      ]
     },
     "execution_count": 35,
     "metadata": {},
     "output_type": "execute_result"
    },
    {
     "data": {
      "text/plain": [
       "array([[2., 0., 0.],\n",
       "       [0., 1., 0.],\n",
       "       [0., 0., 1.]])"
      ]
     },
     "execution_count": 35,
     "metadata": {},
     "output_type": "execute_result"
    },
    {
     "data": {
      "text/plain": [
       "array([[ 0.  ,  0.41,  0.41],\n",
       "       [ 0.  ,  0.82,  0.82],\n",
       "       [ 1.  , -0.41, -0.41]])"
      ]
     },
     "execution_count": 35,
     "metadata": {},
     "output_type": "execute_result"
    },
    {
     "data": {
      "text/plain": [
       "'***'"
      ]
     },
     "execution_count": 35,
     "metadata": {},
     "output_type": "execute_result"
    },
    {
     "data": {
      "text/plain": [
       "array([[ 0.  ,  0.41,  0.41],\n",
       "       [ 0.  ,  0.82,  0.82],\n",
       "       [ 2.  , -0.41, -0.41]])"
      ]
     },
     "execution_count": 35,
     "metadata": {},
     "output_type": "execute_result"
    },
    {
     "data": {
      "text/plain": [
       "array([[ 0.  ,  0.41,  0.41],\n",
       "       [ 0.  ,  0.82,  0.82],\n",
       "       [ 2.  , -0.41, -0.41]])"
      ]
     },
     "execution_count": 35,
     "metadata": {},
     "output_type": "execute_result"
    }
   ],
   "source": [
    "# A = np.array([3, -1, -1, 3]).reshape(2, 2)\n",
    "# A = np.array([3, -2, 1, 0]).reshape(2, 2)\n",
    "A = np.array([-1,1,0,-4,3,0,1,0,2]).reshape(3, 3)\n",
    "A\n",
    "eigenvalues_ = linalg.eigvals(A)\n",
    "eigenvalues, eigenvectors = linalg.eig(A)\n",
    "eigenvalues_\n",
    "eigenvalues\n",
    "eigenvalues = np.diag(eigenvalues) # 化对角阵\n",
    "eigenvalues\n",
    "eigenvectors # 列向量\n",
    "\"***\"\n",
    "# 验证，注意顺序\n",
    "A@eigenvectors\n",
    "eigenvectors@eigenvalues\n",
    "# for i in eigenvalues_:\n",
    "#     i*eigenvectors.T"
   ]
  },
  {
   "cell_type": "markdown",
   "metadata": {},
   "source": [
    "## 奇异值分解\n",
    "\n",
    "* 函数：np.linalg.svd(a,full_matrices=1,compute_uv=1)。  \n",
    "* 参数：a是一个形如(M,N)矩阵full_matrices的取值是为0或者1，默认值为1，这时u的大小为(M,M)，v的大小为(N,N) 。否则u的大小为(M,K)，v的大小为(K,N) ，K=min(M,N)。compute_uv的取值是为0或者1，默认值为1，表示计算u,s,v。为0的时候只计算s。  \n",
    "* 返回值：总共有三个返回值u,s,v  \n",
    "    u大小为(M,M)，s大小为(M,N)，v大小为(N,N)。\n",
    "\n",
    "<font color=blue>\n",
    "关于奇异值的解释： <br> \n",
    "　　对于方阵而言$A=Q\\sum Q^{-1}$  <br>\n",
    "&emsp;&emsp;其中的$\\sum$就是特征向量。但是对于不是方阵的矩阵而言就没有特征向量。 <br>  \n",
    "&emsp;&emsp;非方阵的矩阵可以用奇异值分解来描述这个矩阵。A=$U\\sum V^T$。其中U叫做左奇异值，$\\sum$叫做奇异值，V叫做右奇异值。因为只有对角线的数不为0，并且数值是从大到小排列，所以一般只取r个，r的值越接近A的列数，那么三个矩阵的乘法得到的矩阵越接近A。   <br>\n",
    "&emsp;&emsp;因为三个矩阵的面积之和远远小于原矩阵A，所以当我们向压缩空间表达A的时候，可以使用这三个矩阵。 <br>  \n",
    "&emsp;&emsp;当A不是矩阵的时候，把A转置变为$A^T$。并且$A^T v=\\lambda v$。其中的$v$就是右奇异值。$\\partial = \\sqrt{\\lambda}$，这里的$\\partial$就是上面的奇异值。$u=\\frac{Av}{\\partial}$，这里的u就是上面的左奇异值。 <br>\n",
    "</font>"
   ]
  },
  {
   "cell_type": "code",
   "execution_count": 71,
   "metadata": {},
   "outputs": [
    {
     "data": {
      "text/plain": [
       "array([[ 4, 11, 14],\n",
       "       [ 8,  7, -2]])"
      ]
     },
     "execution_count": 71,
     "metadata": {},
     "output_type": "execute_result"
    },
    {
     "data": {
      "text/plain": [
       "array([[-0.95, -0.32],\n",
       "       [-0.32,  0.95]])"
      ]
     },
     "execution_count": 71,
     "metadata": {},
     "output_type": "execute_result"
    },
    {
     "data": {
      "text/plain": [
       "array([[18.97,  0.  ],\n",
       "       [ 0.  ,  9.49]])"
      ]
     },
     "execution_count": 71,
     "metadata": {},
     "output_type": "execute_result"
    },
    {
     "data": {
      "text/plain": [
       "array([[-0.33, -0.67, -0.67],\n",
       "       [ 0.67,  0.33, -0.67],\n",
       "       [-0.67,  0.67, -0.33]])"
      ]
     },
     "execution_count": 71,
     "metadata": {},
     "output_type": "execute_result"
    },
    {
     "data": {
      "text/plain": [
       "'***'"
      ]
     },
     "execution_count": 71,
     "metadata": {},
     "output_type": "execute_result"
    },
    {
     "data": {
      "text/plain": [
       "array([1., 1.])"
      ]
     },
     "execution_count": 71,
     "metadata": {},
     "output_type": "execute_result"
    },
    {
     "data": {
      "text/plain": [
       "array([1., 1.])"
      ]
     },
     "execution_count": 71,
     "metadata": {},
     "output_type": "execute_result"
    },
    {
     "data": {
      "text/plain": [
       "array([1., 1., 1.])"
      ]
     },
     "execution_count": 71,
     "metadata": {},
     "output_type": "execute_result"
    },
    {
     "data": {
      "text/plain": [
       "array([[ 1., -0., -0.],\n",
       "       [-0.,  1., -0.],\n",
       "       [-0., -0.,  1.]])"
      ]
     },
     "execution_count": 71,
     "metadata": {},
     "output_type": "execute_result"
    }
   ],
   "source": [
    "A = np.array([4, 11, 14, 8, 7, -2]).reshape(2,-1)\n",
    "U,Sigma,V = np.linalg.svd(A,full_matrices=1)\n",
    "A\n",
    "U\n",
    "Sigma = np.diag(Sigma)\n",
    "Sigma\n",
    "V\n",
    "\"***\"\n",
    "\n",
    "# U@Sigma\n",
    "# U@Sigma@V\n",
    "U[:,0]**2+U[:,1]**2\n",
    "U[0,:]**2+U[1,:]**2\n",
    "V[:,0]**2+V[:,1]**2+V[:,2]**2\n",
    "\n",
    "# V[0,:]**2+V[1,:]**2+V[2,:]**2\n",
    "# V[0,:]**2+V[1,:]**2\n",
    "V@V.T"
   ]
  },
  {
   "cell_type": "code",
   "execution_count": 72,
   "metadata": {},
   "outputs": [
    {
     "data": {
      "text/plain": [
       "matrix([[-0.39, -0.92],\n",
       "        [-0.92,  0.39]])"
      ]
     },
     "execution_count": 72,
     "metadata": {},
     "output_type": "execute_result"
    },
    {
     "data": {
      "text/plain": [
       "array([9.51, 0.77])"
      ]
     },
     "execution_count": 72,
     "metadata": {},
     "output_type": "execute_result"
    },
    {
     "data": {
      "text/plain": [
       "matrix([[-0.43, -0.57, -0.7 ],\n",
       "        [ 0.81,  0.11, -0.58],\n",
       "        [ 0.41, -0.82,  0.41]])"
      ]
     },
     "execution_count": 72,
     "metadata": {},
     "output_type": "execute_result"
    }
   ],
   "source": [
    "data = np.mat([[1,2,3],[4,5,6]])\n",
    "U,sigma,VT = np.linalg.svd(data)\n",
    "U #[[-0.3863177  -0.92236578] [-0.92236578  0.3863177 ]]\n",
    "sigma#[9.508032   0.77286964]\n",
    "VT#[[-0.42866713 -0.56630692 -0.7039467 ] [ 0.80596391  0.11238241 -0.58119908] [ 0.40824829 -0.81649658  0.40824829]]\n"
   ]
  },
  {
   "cell_type": "code",
   "execution_count": 54,
   "metadata": {},
   "outputs": [
    {
     "name": "stdout",
     "output_type": "stream",
     "text": [
      "Help on function svd in module numpy.linalg:\n",
      "\n",
      "svd(a, full_matrices=True, compute_uv=True)\n",
      "    Singular Value Decomposition.\n",
      "    \n",
      "    When `a` is a 2D array, it is factorized as ``u @ np.diag(s) @ vh\n",
      "    = (u * s) @ vh``, where `u` and `vh` are 2D unitary arrays and `s` is a 1D\n",
      "    array of `a`'s singular values. When `a` is higher-dimensional, SVD is\n",
      "    applied in stacked mode as explained below.\n",
      "    \n",
      "    Parameters\n",
      "    ----------\n",
      "    a : (..., M, N) array_like\n",
      "        A real or complex array with ``a.ndim >= 2``.\n",
      "    full_matrices : bool, optional\n",
      "        If True (default), `u` and `vh` have the shapes ``(..., M, M)`` and\n",
      "        ``(..., N, N)``, respectively.  Otherwise, the shapes are\n",
      "        ``(..., M, K)`` and ``(..., K, N)``, respectively, where\n",
      "        ``K = min(M, N)``.\n",
      "    compute_uv : bool, optional\n",
      "        Whether or not to compute `u` and `vh` in addition to `s`.  True\n",
      "        by default.\n",
      "    \n",
      "    Returns\n",
      "    -------\n",
      "    u : { (..., M, M), (..., M, K) } array\n",
      "        Unitary array(s). The first ``a.ndim - 2`` dimensions have the same\n",
      "        size as those of the input `a`. The size of the last two dimensions\n",
      "        depends on the value of `full_matrices`. Only returned when\n",
      "        `compute_uv` is True.\n",
      "    s : (..., K) array\n",
      "        Vector(s) with the singular values, within each vector sorted in\n",
      "        descending order. The first ``a.ndim - 2`` dimensions have the same\n",
      "        size as those of the input `a`.\n",
      "    vh : { (..., N, N), (..., K, N) } array\n",
      "        Unitary array(s). The first ``a.ndim - 2`` dimensions have the same\n",
      "        size as those of the input `a`. The size of the last two dimensions\n",
      "        depends on the value of `full_matrices`. Only returned when\n",
      "        `compute_uv` is True.\n",
      "    \n",
      "    Raises\n",
      "    ------\n",
      "    LinAlgError\n",
      "        If SVD computation does not converge.\n",
      "    \n",
      "    Notes\n",
      "    -----\n",
      "    \n",
      "    .. versionchanged:: 1.8.0\n",
      "       Broadcasting rules apply, see the `numpy.linalg` documentation for\n",
      "       details.\n",
      "    \n",
      "    The decomposition is performed using LAPACK routine ``_gesdd``.\n",
      "    \n",
      "    SVD is usually described for the factorization of a 2D matrix :math:`A`.\n",
      "    The higher-dimensional case will be discussed below. In the 2D case, SVD is\n",
      "    written as :math:`A = U S V^H`, where :math:`A = a`, :math:`U= u`,\n",
      "    :math:`S= \\mathtt{np.diag}(s)` and :math:`V^H = vh`. The 1D array `s`\n",
      "    contains the singular values of `a` and `u` and `vh` are unitary. The rows\n",
      "    of `vh` are the eigenvectors of :math:`A^H A` and the columns of `u` are\n",
      "    the eigenvectors of :math:`A A^H`. In both cases the corresponding\n",
      "    (possibly non-zero) eigenvalues are given by ``s**2``.\n",
      "    \n",
      "    If `a` has more than two dimensions, then broadcasting rules apply, as\n",
      "    explained in :ref:`routines.linalg-broadcasting`. This means that SVD is\n",
      "    working in \"stacked\" mode: it iterates over all indices of the first\n",
      "    ``a.ndim - 2`` dimensions and for each combination SVD is applied to the\n",
      "    last two indices. The matrix `a` can be reconstructed from the\n",
      "    decomposition with either ``(u * s[..., None, :]) @ vh`` or\n",
      "    ``u @ (s[..., None] * vh)``. (The ``@`` operator can be replaced by the\n",
      "    function ``np.matmul`` for python versions below 3.5.)\n",
      "    \n",
      "    If `a` is a ``matrix`` object (as opposed to an ``ndarray``), then so are\n",
      "    all the return values.\n",
      "    \n",
      "    Examples\n",
      "    --------\n",
      "    >>> a = np.random.randn(9, 6) + 1j*np.random.randn(9, 6)\n",
      "    >>> b = np.random.randn(2, 7, 8, 3) + 1j*np.random.randn(2, 7, 8, 3)\n",
      "    \n",
      "    Reconstruction based on full SVD, 2D case:\n",
      "    \n",
      "    >>> u, s, vh = np.linalg.svd(a, full_matrices=True)\n",
      "    >>> u.shape, s.shape, vh.shape\n",
      "    ((9, 9), (6,), (6, 6))\n",
      "    >>> np.allclose(a, np.dot(u[:, :6] * s, vh))\n",
      "    True\n",
      "    >>> smat = np.zeros((9, 6), dtype=complex)\n",
      "    >>> smat[:6, :6] = np.diag(s)\n",
      "    >>> np.allclose(a, np.dot(u, np.dot(smat, vh)))\n",
      "    True\n",
      "    \n",
      "    Reconstruction based on reduced SVD, 2D case:\n",
      "    \n",
      "    >>> u, s, vh = np.linalg.svd(a, full_matrices=False)\n",
      "    >>> u.shape, s.shape, vh.shape\n",
      "    ((9, 6), (6,), (6, 6))\n",
      "    >>> np.allclose(a, np.dot(u * s, vh))\n",
      "    True\n",
      "    >>> smat = np.diag(s)\n",
      "    >>> np.allclose(a, np.dot(u, np.dot(smat, vh)))\n",
      "    True\n",
      "    \n",
      "    Reconstruction based on full SVD, 4D case:\n",
      "    \n",
      "    >>> u, s, vh = np.linalg.svd(b, full_matrices=True)\n",
      "    >>> u.shape, s.shape, vh.shape\n",
      "    ((2, 7, 8, 8), (2, 7, 3), (2, 7, 3, 3))\n",
      "    >>> np.allclose(b, np.matmul(u[..., :3] * s[..., None, :], vh))\n",
      "    True\n",
      "    >>> np.allclose(b, np.matmul(u[..., :3], s[..., None] * vh))\n",
      "    True\n",
      "    \n",
      "    Reconstruction based on reduced SVD, 4D case:\n",
      "    \n",
      "    >>> u, s, vh = np.linalg.svd(b, full_matrices=False)\n",
      "    >>> u.shape, s.shape, vh.shape\n",
      "    ((2, 7, 8, 3), (2, 7, 3), (2, 7, 3, 3))\n",
      "    >>> np.allclose(b, np.matmul(u * s[..., None, :], vh))\n",
      "    True\n",
      "    >>> np.allclose(b, np.matmul(u, s[..., None] * vh))\n",
      "    True\n",
      "\n"
     ]
    }
   ],
   "source": []
  },
  {
   "cell_type": "code",
   "execution_count": null,
   "metadata": {},
   "outputs": [],
   "source": []
  },
  {
   "cell_type": "markdown",
   "metadata": {},
   "source": [
    "# API"
   ]
  },
  {
   "cell_type": "markdown",
   "metadata": {},
   "source": [
    "## 属性  \n",
    "1. nbytes(字节大小)"
   ]
  },
  {
   "cell_type": "markdown",
   "metadata": {},
   "source": [
    "### nbytes"
   ]
  },
  {
   "cell_type": "code",
   "execution_count": 22,
   "metadata": {},
   "outputs": [
    {
     "data": {
      "text/plain": [
       "400"
      ]
     },
     "execution_count": 22,
     "metadata": {},
     "output_type": "execute_result"
    }
   ],
   "source": [
    "a = np.arange(100)\n",
    "a.nbytes"
   ]
  },
  {
   "cell_type": "markdown",
   "metadata": {},
   "source": [
    "## 方法"
   ]
  },
  {
   "cell_type": "markdown",
   "metadata": {},
   "source": [
    "### genfromtxt"
   ]
  },
  {
   "cell_type": "code",
   "execution_count": 19,
   "metadata": {},
   "outputs": [
    {
     "data": {
      "text/plain": [
       "array('1,2,3,4,5', dtype='<U9')"
      ]
     },
     "execution_count": 19,
     "metadata": {},
     "output_type": "execute_result"
    }
   ],
   "source": [
    "data = np.genfromtxt('./datas/genfromtxt_01.txt',encoding='utf-8',dtype=np.dtype(str))\n",
    "data"
   ]
  },
  {
   "cell_type": "code",
   "execution_count": 21,
   "metadata": {},
   "outputs": [
    {
     "data": {
      "text/plain": [
       "array([1., 2., 3., 4., 5.])"
      ]
     },
     "execution_count": 21,
     "metadata": {},
     "output_type": "execute_result"
    },
    {
     "data": {
      "text/plain": [
       "40"
      ]
     },
     "execution_count": 21,
     "metadata": {},
     "output_type": "execute_result"
    }
   ],
   "source": [
    "data = np.genfromtxt('./datas/genfromtxt_01.txt',\n",
    "                     delimiter=',',\n",
    "                     encoding='utf-8',\n",
    "                     dtype=np.dtype(float),\n",
    "                     replace_space='')\n",
    "data\n",
    "data.nbytes # 字节大小"
   ]
  },
  {
   "cell_type": "code",
   "execution_count": 5,
   "metadata": {},
   "outputs": [
    {
     "name": "stdout",
     "output_type": "stream",
     "text": [
      "Help on function genfromtxt in module numpy:\n",
      "\n",
      "genfromtxt(fname, dtype=<class 'float'>, comments='#', delimiter=None, skip_header=0, skip_footer=0, converters=None, missing_values=None, filling_values=None, usecols=None, names=None, excludelist=None, deletechars=\" !#$%&'()*+,-./:;<=>?@[\\\\]^{|}~\", replace_space='_', autostrip=False, case_sensitive=True, defaultfmt='f%i', unpack=None, usemask=False, loose=True, invalid_raise=True, max_rows=None, encoding='bytes')\n",
      "    Load data from a text file, with missing values handled as specified.\n",
      "    \n",
      "    Each line past the first `skip_header` lines is split at the `delimiter`\n",
      "    character, and characters following the `comments` character are discarded.\n",
      "    \n",
      "    Parameters\n",
      "    ----------\n",
      "    fname : file, str, pathlib.Path, list of str, generator\n",
      "        File, filename, list, or generator to read.  If the filename\n",
      "        extension is `.gz` or `.bz2`, the file is first decompressed. Note\n",
      "        that generators must return byte strings. The strings\n",
      "        in a list or produced by a generator are treated as lines.\n",
      "    dtype : dtype, optional\n",
      "        Data type of the resulting array.\n",
      "        If None, the dtypes will be determined by the contents of each\n",
      "        column, individually.\n",
      "    comments : str, optional\n",
      "        The character used to indicate the start of a comment.\n",
      "        All the characters occurring on a line after a comment are discarded\n",
      "    delimiter : str, int, or sequence, optional\n",
      "        The string used to separate values.  By default, any consecutive\n",
      "        whitespaces act as delimiter.  An integer or sequence of integers\n",
      "        can also be provided as width(s) of each field.\n",
      "    skiprows : int, optional\n",
      "        `skiprows` was removed in numpy 1.10. Please use `skip_header` instead.\n",
      "    skip_header : int, optional\n",
      "        The number of lines to skip at the beginning of the file.\n",
      "    skip_footer : int, optional\n",
      "        The number of lines to skip at the end of the file.\n",
      "    converters : variable, optional\n",
      "        The set of functions that convert the data of a column to a value.\n",
      "        The converters can also be used to provide a default value\n",
      "        for missing data: ``converters = {3: lambda s: float(s or 0)}``.\n",
      "    missing : variable, optional\n",
      "        `missing` was removed in numpy 1.10. Please use `missing_values`\n",
      "        instead.\n",
      "    missing_values : variable, optional\n",
      "        The set of strings corresponding to missing data.\n",
      "    filling_values : variable, optional\n",
      "        The set of values to be used as default when the data are missing.\n",
      "    usecols : sequence, optional\n",
      "        Which columns to read, with 0 being the first.  For example,\n",
      "        ``usecols = (1, 4, 5)`` will extract the 2nd, 5th and 6th columns.\n",
      "    names : {None, True, str, sequence}, optional\n",
      "        If `names` is True, the field names are read from the first line after\n",
      "        the first `skip_header` lines.  This line can optionally be proceeded\n",
      "        by a comment delimiter. If `names` is a sequence or a single-string of\n",
      "        comma-separated names, the names will be used to define the field names\n",
      "        in a structured dtype. If `names` is None, the names of the dtype\n",
      "        fields will be used, if any.\n",
      "    excludelist : sequence, optional\n",
      "        A list of names to exclude. This list is appended to the default list\n",
      "        ['return','file','print']. Excluded names are appended an underscore:\n",
      "        for example, `file` would become `file_`.\n",
      "    deletechars : str, optional\n",
      "        A string combining invalid characters that must be deleted from the\n",
      "        names.\n",
      "    defaultfmt : str, optional\n",
      "        A format used to define default field names, such as \"f%i\" or \"f_%02i\".\n",
      "    autostrip : bool, optional\n",
      "        Whether to automatically strip white spaces from the variables.\n",
      "    replace_space : char, optional\n",
      "        Character(s) used in replacement of white spaces in the variables\n",
      "        names. By default, use a '_'.\n",
      "    case_sensitive : {True, False, 'upper', 'lower'}, optional\n",
      "        If True, field names are case sensitive.\n",
      "        If False or 'upper', field names are converted to upper case.\n",
      "        If 'lower', field names are converted to lower case.\n",
      "    unpack : bool, optional\n",
      "        If True, the returned array is transposed, so that arguments may be\n",
      "        unpacked using ``x, y, z = loadtxt(...)``\n",
      "    usemask : bool, optional\n",
      "        If True, return a masked array.\n",
      "        If False, return a regular array.\n",
      "    loose : bool, optional\n",
      "        If True, do not raise errors for invalid values.\n",
      "    invalid_raise : bool, optional\n",
      "        If True, an exception is raised if an inconsistency is detected in the\n",
      "        number of columns.\n",
      "        If False, a warning is emitted and the offending lines are skipped.\n",
      "    max_rows : int,  optional\n",
      "        The maximum number of rows to read. Must not be used with skip_footer\n",
      "        at the same time.  If given, the value must be at least 1. Default is\n",
      "        to read the entire file.\n",
      "    \n",
      "        .. versionadded:: 1.10.0\n",
      "    encoding : str, optional\n",
      "        Encoding used to decode the inputfile. Does not apply when `fname` is\n",
      "        a file object.  The special value 'bytes' enables backward compatibility\n",
      "        workarounds that ensure that you receive byte arrays when possible\n",
      "        and passes latin1 encoded strings to converters. Override this value to\n",
      "        receive unicode arrays and pass strings as input to converters.  If set\n",
      "        to None the system default is used. The default value is 'bytes'.\n",
      "    \n",
      "        .. versionadded:: 1.14.0\n",
      "    \n",
      "    Returns\n",
      "    -------\n",
      "    out : ndarray\n",
      "        Data read from the text file. If `usemask` is True, this is a\n",
      "        masked array.\n",
      "    \n",
      "    See Also\n",
      "    --------\n",
      "    numpy.loadtxt : equivalent function when no data is missing.\n",
      "    \n",
      "    Notes\n",
      "    -----\n",
      "    * When spaces are used as delimiters, or when no delimiter has been given\n",
      "      as input, there should not be any missing data between two fields.\n",
      "    * When the variables are named (either by a flexible dtype or with `names`,\n",
      "      there must not be any header in the file (else a ValueError\n",
      "      exception is raised).\n",
      "    * Individual values are not stripped of spaces by default.\n",
      "      When using a custom converter, make sure the function does remove spaces.\n",
      "    \n",
      "    References\n",
      "    ----------\n",
      "    .. [1] NumPy User Guide, section `I/O with NumPy\n",
      "           <https://docs.scipy.org/doc/numpy/user/basics.io.genfromtxt.html>`_.\n",
      "    \n",
      "    Examples\n",
      "    ---------\n",
      "    >>> from io import StringIO\n",
      "    >>> import numpy as np\n",
      "    \n",
      "    Comma delimited file with mixed dtype\n",
      "    \n",
      "    >>> s = StringIO(u\"1,1.3,abcde\")\n",
      "    >>> data = np.genfromtxt(s, dtype=[('myint','i8'),('myfloat','f8'),\n",
      "    ... ('mystring','S5')], delimiter=\",\")\n",
      "    >>> data\n",
      "    array((1, 1.3, b'abcde'),\n",
      "          dtype=[('myint', '<i8'), ('myfloat', '<f8'), ('mystring', 'S5')])\n",
      "    \n",
      "    Using dtype = None\n",
      "    \n",
      "    >>> _ = s.seek(0) # needed for StringIO example only\n",
      "    >>> data = np.genfromtxt(s, dtype=None,\n",
      "    ... names = ['myint','myfloat','mystring'], delimiter=\",\")\n",
      "    >>> data\n",
      "    array((1, 1.3, b'abcde'),\n",
      "          dtype=[('myint', '<i8'), ('myfloat', '<f8'), ('mystring', 'S5')])\n",
      "    \n",
      "    Specifying dtype and names\n",
      "    \n",
      "    >>> _ = s.seek(0)\n",
      "    >>> data = np.genfromtxt(s, dtype=\"i8,f8,S5\",\n",
      "    ... names=['myint','myfloat','mystring'], delimiter=\",\")\n",
      "    >>> data\n",
      "    array((1, 1.3, b'abcde'),\n",
      "          dtype=[('myint', '<i8'), ('myfloat', '<f8'), ('mystring', 'S5')])\n",
      "    \n",
      "    An example with fixed-width columns\n",
      "    \n",
      "    >>> s = StringIO(u\"11.3abcde\")\n",
      "    >>> data = np.genfromtxt(s, dtype=None, names=['intvar','fltvar','strvar'],\n",
      "    ...     delimiter=[1,3,5])\n",
      "    >>> data\n",
      "    array((1, 1.3, b'abcde'),\n",
      "          dtype=[('intvar', '<i8'), ('fltvar', '<f8'), ('strvar', 'S5')])\n",
      "    \n",
      "    An example to show comments\n",
      "    \n",
      "    >>> f = StringIO('''\n",
      "    ... text,# of chars\n",
      "    ... hello world,11\n",
      "    ... numpy,5''')\n",
      "    >>> np.genfromtxt(f, dtype='S12,S12', delimiter=',')\n",
      "    array([(b'text', b''), (b'hello world', b'11'), (b'numpy', b'5')],\n",
      "      dtype=[('f0', 'S12'), ('f1', 'S12')])\n",
      "\n"
     ]
    }
   ],
   "source": [
    "help(np.genfromtxt)"
   ]
  },
  {
   "cell_type": "code",
   "execution_count": null,
   "metadata": {},
   "outputs": [],
   "source": []
  },
  {
   "cell_type": "code",
   "execution_count": null,
   "metadata": {},
   "outputs": [],
   "source": []
  },
  {
   "cell_type": "markdown",
   "metadata": {},
   "source": [
    "[[Python图像处理] 二十二.Python图像傅里叶变换原理及实现](https://blog.csdn.net/Eastmount/article/details/89474405)"
   ]
  },
  {
   "cell_type": "markdown",
   "metadata": {},
   "source": [
    "### eimsum"
   ]
  },
  {
   "cell_type": "markdown",
   "metadata": {},
   "source": [
    "[NumPy中einsum的基本介绍](https://cloud.tencent.com/developer/article/1369762)  \n",
    "[einsum满足你一切需要：深度学习中的爱因斯坦求和约定](https://zhuanlan.zhihu.com/p/44954540)  "
   ]
  },
  {
   "cell_type": "markdown",
   "metadata": {},
   "source": [
    "\n",
    "* 一维数组  \n",
    "\n",
    "Call signature|Numpy equivalent|Description\n",
    ":---:|:---:|:---:\n",
    "('i',A)|A|返回数组A\n",
    "('i->',A)|sum(A)|返回数组A的值的总和\n",
    "('i,i->i',A,B)|A*B|数组A和数组B的元素依次相乘\n",
    "('i,i',A,B)|inner(A,B)|A和B的点积(内积)\n",
    "('i,j->ij',A,B)|outer(A,B)|A和B的叉积(外积)  \n",
    "\n",
    "* 二维数组  \n",
    "\n",
    "Call signature|Numpy equivalent|Description\n",
    ":---:|:---:|:---:\n",
    "('ij',A)|A|数组A\n",
    "('ji',A)|A.T|数组A的转置\n",
    "('ii->i',A)|diag(A)|数组A的主对角线\n",
    "('ii',A)|trace(A)|数组A的主对角线的和\n",
    "('ij->',A)|sum(A)|数组A的值相加\n",
    "('ij->j',A)|sum(A)|数组A的列求和\n",
    "('ij->i',A)|sum(A)|数组A的行求和\n",
    "('ij,ij->ij',A,B)|A*B|数组A和B逐元素相乘\n",
    "('ij,ji->ij',A,B)|A*B.T|数组A和B的转置逐元素相乘\n",
    "('ij,jk',A,B)|dot(A,B)|数组A的与B的矩阵乘法\n",
    "('ij,kj->ik',A,B)|inner(A,B)|数组A的与B的矩阵乘法\n",
    "('ij,kj->ikj',A,B)|A\\[:,None\\]*B|数组A的每一行乘以B\n",
    "('ij,kl->ijkl',A,B)|A\\[:,:,None,None\\]*B|数组A的每个值乘以B\n"
   ]
  },
  {
   "cell_type": "markdown",
   "metadata": {},
   "source": [
    "#### 一维数组"
   ]
  },
  {
   "cell_type": "code",
   "execution_count": 20,
   "metadata": {},
   "outputs": [
    {
     "data": {
      "text/plain": [
       "3"
      ]
     },
     "execution_count": 20,
     "metadata": {},
     "output_type": "execute_result"
    },
    {
     "data": {
      "text/plain": [
       "array([0, 2, 6])"
      ]
     },
     "execution_count": 20,
     "metadata": {},
     "output_type": "execute_result"
    },
    {
     "data": {
      "text/plain": [
       "8"
      ]
     },
     "execution_count": 20,
     "metadata": {},
     "output_type": "execute_result"
    },
    {
     "data": {
      "text/plain": [
       "array([[0, 0, 0],\n",
       "       [1, 2, 3],\n",
       "       [2, 4, 6]])"
      ]
     },
     "execution_count": 20,
     "metadata": {},
     "output_type": "execute_result"
    }
   ],
   "source": [
    "a = np.array([0,1,2])\n",
    "b = np.array([1,2,3])\n",
    "c = np.arange(9).reshape(3,3)\n",
    "np.einsum('i->',a)\n",
    "np.einsum('i,i->i',a,b)\n",
    "np.einsum('i,i',a,b)\n",
    "np.einsum('i,j->ij',a,b)\n",
    "# np.einsum('i,jk->ijk',a,b)"
   ]
  },
  {
   "cell_type": "markdown",
   "metadata": {},
   "source": [
    "#### 二维数组"
   ]
  },
  {
   "cell_type": "code",
   "execution_count": 29,
   "metadata": {},
   "outputs": [
    {
     "data": {
      "text/plain": [
       "array([[0., 1., 2.],\n",
       "       [3., 4., 5.],\n",
       "       [6., 7., 8.]])"
      ]
     },
     "execution_count": 29,
     "metadata": {},
     "output_type": "execute_result"
    },
    {
     "data": {
      "text/plain": [
       "array([[0., 1., 2.],\n",
       "       [3., 4., 5.],\n",
       "       [6., 7., 8.]])"
      ]
     },
     "execution_count": 29,
     "metadata": {},
     "output_type": "execute_result"
    },
    {
     "data": {
      "text/plain": [
       "36.0"
      ]
     },
     "execution_count": 29,
     "metadata": {},
     "output_type": "execute_result"
    },
    {
     "data": {
      "text/plain": [
       "array([ 9., 12., 15.])"
      ]
     },
     "execution_count": 29,
     "metadata": {},
     "output_type": "execute_result"
    },
    {
     "data": {
      "text/plain": [
       "array([ 3., 12., 21.])"
      ]
     },
     "execution_count": 29,
     "metadata": {},
     "output_type": "execute_result"
    }
   ],
   "source": [
    "a = np.arange(9.).reshape(3,3)\n",
    "b = np.arange(9.).reshape(3,3)\n",
    "a\n",
    "b\n",
    "np.einsum('ij->',a)\n",
    "np.einsum('ij->j',a)\n",
    "np.einsum('ij->i',a)"
   ]
  },
  {
   "cell_type": "code",
   "execution_count": 32,
   "metadata": {},
   "outputs": [
    {
     "data": {
      "text/plain": [
       "array([[ 15.,  18.,  21.],\n",
       "       [ 42.,  54.,  66.],\n",
       "       [ 69.,  90., 111.]])"
      ]
     },
     "execution_count": 32,
     "metadata": {},
     "output_type": "execute_result"
    },
    {
     "data": {
      "text/plain": [
       "array([[ 15.,  18.,  21.],\n",
       "       [ 42.,  54.,  66.],\n",
       "       [ 69.,  90., 111.]])"
      ]
     },
     "execution_count": 32,
     "metadata": {},
     "output_type": "execute_result"
    },
    {
     "data": {
      "text/plain": [
       "204.0"
      ]
     },
     "execution_count": 32,
     "metadata": {},
     "output_type": "execute_result"
    },
    {
     "data": {
      "text/plain": [
       "array([[  5.,  14.,  23.],\n",
       "       [ 14.,  50.,  86.],\n",
       "       [ 23.,  86., 149.]])"
      ]
     },
     "execution_count": 32,
     "metadata": {},
     "output_type": "execute_result"
    }
   ],
   "source": [
    "np.einsum('ij,jk',a,b)\n",
    "np.dot(a,b)\n",
    "np.einsum('ij,ij',a,b)\n",
    "np.inner(a,b)"
   ]
  },
  {
   "cell_type": "code",
   "execution_count": 52,
   "metadata": {},
   "outputs": [
    {
     "data": {
      "text/plain": [
       "array([[0., 1., 2.],\n",
       "       [3., 4., 5.],\n",
       "       [6., 7., 8.]])"
      ]
     },
     "execution_count": 52,
     "metadata": {},
     "output_type": "execute_result"
    },
    {
     "data": {
      "text/plain": [
       "array([[[ 0.,  1.,  4.],\n",
       "        [ 0.,  4., 10.],\n",
       "        [ 0.,  7., 16.]],\n",
       "\n",
       "       [[ 0.,  4., 10.],\n",
       "        [ 9., 16., 25.],\n",
       "        [18., 28., 40.]],\n",
       "\n",
       "       [[ 0.,  7., 16.],\n",
       "        [18., 28., 40.],\n",
       "        [36., 49., 64.]]])"
      ]
     },
     "execution_count": 52,
     "metadata": {},
     "output_type": "execute_result"
    },
    {
     "data": {
      "text/plain": [
       "(3, 1, 3)"
      ]
     },
     "execution_count": 52,
     "metadata": {},
     "output_type": "execute_result"
    },
    {
     "data": {
      "text/plain": [
       "array([[[ 0.,  1.,  4.],\n",
       "        [ 0.,  4., 10.],\n",
       "        [ 0.,  7., 16.]],\n",
       "\n",
       "       [[ 0.,  4., 10.],\n",
       "        [ 9., 16., 25.],\n",
       "        [18., 28., 40.]],\n",
       "\n",
       "       [[ 0.,  7., 16.],\n",
       "        [18., 28., 40.],\n",
       "        [36., 49., 64.]]])"
      ]
     },
     "execution_count": 52,
     "metadata": {},
     "output_type": "execute_result"
    }
   ],
   "source": [
    "a\n",
    "# b\n",
    "np.einsum('ij,kj->ikj',a,b)\n",
    "a[:,None].shape\n",
    "a[:,None]*b\n"
   ]
  },
  {
   "cell_type": "code",
   "execution_count": 60,
   "metadata": {},
   "outputs": [
    {
     "data": {
      "text/plain": [
       "(3, 3, 3, 3)"
      ]
     },
     "execution_count": 60,
     "metadata": {},
     "output_type": "execute_result"
    }
   ],
   "source": [
    "# a[:,:,None,None]\n",
    "# a[:,:,None,None]*b\n",
    "np.einsum('ij,kl->ijkl',a,b).shape"
   ]
  },
  {
   "cell_type": "code",
   "execution_count": 58,
   "metadata": {},
   "outputs": [
    {
     "data": {
      "text/plain": [
       "array([[ 0.,  4.,  8.],\n",
       "       [ 1.,  5.,  9.],\n",
       "       [ 2.,  6., 10.],\n",
       "       [ 3.,  7., 11.]])"
      ]
     },
     "execution_count": 58,
     "metadata": {},
     "output_type": "execute_result"
    },
    {
     "data": {
      "text/plain": [
       "array([[0., 1., 2.],\n",
       "       [3., 4., 5.],\n",
       "       [6., 7., 8.]])"
      ]
     },
     "execution_count": 58,
     "metadata": {},
     "output_type": "execute_result"
    },
    {
     "data": {
      "text/plain": [
       "array([[[ 0.,  0.,  0.],\n",
       "        [ 0.,  1.,  2.],\n",
       "        [ 0.,  2.,  4.],\n",
       "        [ 0.,  3.,  6.]],\n",
       "\n",
       "       [[12., 16., 20.],\n",
       "        [15., 20., 25.],\n",
       "        [18., 24., 30.],\n",
       "        [21., 28., 35.]],\n",
       "\n",
       "       [[48., 56., 64.],\n",
       "        [54., 63., 72.],\n",
       "        [60., 70., 80.],\n",
       "        [66., 77., 88.]]])"
      ]
     },
     "execution_count": 58,
     "metadata": {},
     "output_type": "execute_result"
    }
   ],
   "source": [
    "A = np.arange(12.).reshape(3,4)\n",
    "B = np.arange(9.).reshape(3,3)\n",
    "A.T\n",
    "B\n",
    "np.einsum('ij,ik->ijk',A,B)\n",
    "# np.einsum('ij,kl->ijkl',a,b)"
   ]
  },
  {
   "cell_type": "code",
   "execution_count": null,
   "metadata": {},
   "outputs": [],
   "source": []
  },
  {
   "cell_type": "markdown",
   "metadata": {},
   "source": [
    "# 傅里叶变换  "
   ]
  },
  {
   "cell_type": "markdown",
   "metadata": {},
   "source": [
    "[python做傅里叶变换](https://www.cnblogs.com/LXP-Never/p/11558302.html)"
   ]
  },
  {
   "cell_type": "code",
   "execution_count": 13,
   "metadata": {},
   "outputs": [
    {
     "data": {
      "text/plain": [
       "(1000,)"
      ]
     },
     "execution_count": 13,
     "metadata": {},
     "output_type": "execute_result"
    },
    {
     "name": "stdout",
     "output_type": "stream",
     "text": [
      "(1000,)\n",
      "complex128\n",
      "(-2.1458390619955026e-12+0j)\n"
     ]
    },
    {
     "data": {
      "text/plain": [
       "<matplotlib.axes._subplots.AxesSubplot at 0x19af521b108>"
      ]
     },
     "execution_count": 13,
     "metadata": {},
     "output_type": "execute_result"
    },
    {
     "data": {
      "text/plain": [
       "[<matplotlib.lines.Line2D at 0x19af51fd388>]"
      ]
     },
     "execution_count": 13,
     "metadata": {},
     "output_type": "execute_result"
    },
    {
     "data": {
      "text/plain": [
       "<matplotlib.axes._subplots.AxesSubplot at 0x19af51fd248>"
      ]
     },
     "execution_count": 13,
     "metadata": {},
     "output_type": "execute_result"
    },
    {
     "name": "stderr",
     "output_type": "stream",
     "text": [
      "D:\\MySoft\\Anaconda3\\lib\\site-packages\\numpy\\core\\_asarray.py:85: ComplexWarning: Casting complex values to real discards the imaginary part\n",
      "  return array(a, dtype, copy=False, order=order)\n"
     ]
    },
    {
     "data": {
      "text/plain": [
       "[<matplotlib.lines.Line2D at 0x19af524f788>]"
      ]
     },
     "execution_count": 13,
     "metadata": {},
     "output_type": "execute_result"
    },
    {
     "data": {
      "text/plain": [
       "<matplotlib.axes._subplots.AxesSubplot at 0x19af52569c8>"
      ]
     },
     "execution_count": 13,
     "metadata": {},
     "output_type": "execute_result"
    },
    {
     "data": {
      "text/plain": [
       "Text(0.5, 1.0, 'Frequency Domain')"
      ]
     },
     "execution_count": 13,
     "metadata": {},
     "output_type": "execute_result"
    },
    {
     "data": {
      "text/plain": [
       "Text(0.5, 0, 'Frequency')"
      ]
     },
     "execution_count": 13,
     "metadata": {},
     "output_type": "execute_result"
    },
    {
     "data": {
      "text/plain": [
       "Text(0, 0.5, 'Power')"
      ]
     },
     "execution_count": 13,
     "metadata": {},
     "output_type": "execute_result"
    },
    {
     "data": {
      "text/plain": [
       "[<matplotlib.lines.Line2D at 0x19af52c9fc8>]"
      ]
     },
     "execution_count": 13,
     "metadata": {},
     "output_type": "execute_result"
    },
    {
     "data": {
      "text/plain": [
       "<matplotlib.legend.Legend at 0x19af52c9d88>"
      ]
     },
     "execution_count": 13,
     "metadata": {},
     "output_type": "execute_result"
    },
    {
     "data": {
      "image/png": "[encoded data removed]",
      "text/plain": [
       "<Figure size 432x288 with 3 Axes>"
      ]
     },
     "metadata": {
      "needs_background": "light"
     },
     "output_type": "display_data"
    }
   ],
   "source": [
    "import numpy.fft as fft\n",
    "\n",
    "x = np.linspace(-2 * np.pi, 2 * np.pi, 1000)\n",
    "\n",
    "n = 1000\n",
    "y = np.zeros(x.size)\n",
    "y.shape\n",
    "for i in range(1, n + 1):\n",
    "    y += 4 * np.pi / (2 * i - 1) * np.sin((2 * i - 1) * x)\n",
    "# y\n",
    "complex_array = fft.fft(y)\n",
    "# complex_array\n",
    "print(complex_array.shape)  # (1000,) \n",
    "print(complex_array.dtype)  # complex128 \n",
    "print(complex_array[0])  # (-2.1458390619955026e-12+0j)\n",
    "y_new = fft.ifft(complex_array)\n",
    "# y - y_new\n",
    "plt.subplot(311)\n",
    "plt.grid(linestyle=':')\n",
    "plt.plot(x, y, label='y')  # y是1000个相加后的正弦序列\n",
    "plt.subplot(312)\n",
    "plt.plot(x, y_new, label='y_new', color='orangered')  # y是ifft变换后的序列\n",
    "\n",
    "# 得到分解波的频率序列\n",
    "freqs = fft.fftfreq(x.size, x[1] - x[0])\n",
    "# freqs\n",
    "# 复数的模为信号的振幅（能量大小）\n",
    "complex_array = fft.fft(y)\n",
    "pows = np.abs(complex_array)\n",
    "\n",
    "plt.subplot(313)\n",
    "plt.title('Frequency Domain', fontsize=16)\n",
    "plt.xlabel('Frequency', fontsize=12)\n",
    "plt.ylabel('Power', fontsize=12)\n",
    "plt.tick_params(labelsize=10)\n",
    "plt.grid(linestyle=':')\n",
    "plt.plot(freqs[freqs > 0], pows[freqs > 0], c='orangered', label='Frequency')\n",
    "plt.legend()\n",
    "plt.tight_layout()\n",
    "plt.show()\n"
   ]
  },
  {
   "cell_type": "code",
   "execution_count": null,
   "metadata": {},
   "outputs": [],
   "source": []
  },
  {
   "cell_type": "code",
   "execution_count": null,
   "metadata": {},
   "outputs": [],
   "source": []
  },
  {
   "cell_type": "code",
   "execution_count": null,
   "metadata": {},
   "outputs": [],
   "source": []
  },
  {
   "cell_type": "code",
   "execution_count": null,
   "metadata": {},
   "outputs": [],
   "source": []
  },
  {
   "cell_type": "code",
   "execution_count": null,
   "metadata": {},
   "outputs": [],
   "source": []
  },
  {
   "cell_type": "code",
   "execution_count": null,
   "metadata": {},
   "outputs": [],
   "source": []
  },
  {
   "cell_type": "code",
   "execution_count": null,
   "metadata": {},
   "outputs": [],
   "source": []
  },
  {
   "cell_type": "code",
   "execution_count": null,
   "metadata": {},
   "outputs": [],
   "source": []
  },
  {
   "cell_type": "code",
   "execution_count": null,
   "metadata": {},
   "outputs": [],
   "source": []
  },
  {
   "cell_type": "markdown",
   "metadata": {},
   "source": [
    "# End"
   ]
  }
 ],
 "metadata": {
  "kernelspec": {
   "display_name": "Python 3",
   "language": "python",
   "name": "python3"
  },
  "language_info": {
   "codemirror_mode": {
    "name": "ipython",
    "version": 3
   },
   "file_extension": ".py",
   "mimetype": "text/x-python",
   "name": "python",
   "nbconvert_exporter": "python",
   "pygments_lexer": "ipython3",
   "version": "3.7.6"
  },
  "toc": {
   "base_numbering": 1,
   "nav_menu": {},
   "number_sections": true,
   "sideBar": true,
   "skip_h1_title": false,
   "title_cell": "Table of Contents",
   "title_sidebar": "Contents",
   "toc_cell": false,
   "toc_position": {
    "height": "calc(100% - 180px)",
    "left": "10px",
    "top": "150px",
    "width": "219.427px"
   },
   "toc_section_display": true,
   "toc_window_display": true
  }
 },
 "nbformat": 4,
 "nbformat_minor": 2
}

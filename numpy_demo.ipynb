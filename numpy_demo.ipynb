{
 "cells": [
  {
   "cell_type": "markdown",
   "metadata": {},
   "source": [
    "[菜鸟教程-numpy](https://www.runoob.com/numpy/numpy-tutorial.html)"
   ]
  },
  {
   "cell_type": "markdown",
   "metadata": {},
   "source": [
    "## 导包"
   ]
  },
  {
   "cell_type": "code",
   "execution_count": 1,
   "metadata": {},
   "outputs": [],
   "source": [
    "from IPython.core.interactiveshell import InteractiveShell\n",
    "InteractiveShell.ast_node_interactivity = 'all'  #默认为'last'\n",
    "%matplotlib inline\n",
    "import numpy as np\n",
    "import matplotlib.pyplot as plt\n",
    "import pandas as pd\n",
    "from sympy import *\n",
    "import time\n",
    "import os\n",
    "import sys\n",
    "import random\n",
    "from numpy import linalg\n",
    "np.set_printoptions(threshold=np.inf, precision=2, suppress=True)"
   ]
  },
  {
   "cell_type": "code",
   "execution_count": null,
   "metadata": {},
   "outputs": [],
   "source": []
  },
  {
   "cell_type": "markdown",
   "metadata": {},
   "source": [
    "# 基本"
   ]
  },
  {
   "cell_type": "code",
   "execution_count": null,
   "metadata": {},
   "outputs": [],
   "source": []
  },
  {
   "cell_type": "markdown",
   "metadata": {},
   "source": [
    "# 线性代数"
   ]
  },
  {
   "cell_type": "markdown",
   "metadata": {},
   "source": [
    "##### 创建矩阵"
   ]
  },
  {
   "cell_type": "code",
   "execution_count": null,
   "metadata": {},
   "outputs": [],
   "source": []
  },
  {
   "cell_type": "code",
   "execution_count": 2,
   "metadata": {},
   "outputs": [
    {
     "data": {
      "text/plain": [
       "array([[0, 8, 3],\n",
       "       [6, 3, 3],\n",
       "       [7, 8, 0]])"
      ]
     },
     "execution_count": 2,
     "metadata": {},
     "output_type": "execute_result"
    }
   ],
   "source": [
    "# a = np.array([])\n",
    "np.random.seed(2020)\n",
    "A = np.random.randint(0, 10, size=(3, 3))\n",
    "A"
   ]
  },
  {
   "cell_type": "markdown",
   "metadata": {},
   "source": [
    "## 行列式\n",
    "* det()"
   ]
  },
  {
   "cell_type": "code",
   "execution_count": 83,
   "metadata": {},
   "outputs": [
    {
     "data": {
      "text/plain": [
       "6.999999999999999"
      ]
     },
     "execution_count": 83,
     "metadata": {},
     "output_type": "execute_result"
    }
   ],
   "source": [
    "A = np.array([3,-2,2,1]).reshape(2,2)\n",
    "linalg.det(A)"
   ]
  },
  {
   "cell_type": "markdown",
   "metadata": {},
   "source": [
    "## 逆矩阵  \n",
    "* inv()"
   ]
  },
  {
   "cell_type": "code",
   "execution_count": 3,
   "metadata": {},
   "outputs": [
    {
     "data": {
      "text/plain": [
       "array([[-0.1 ,  0.1 ,  0.06],\n",
       "       [ 0.08, -0.08,  0.07],\n",
       "       [ 0.11,  0.22, -0.19]])"
      ]
     },
     "execution_count": 3,
     "metadata": {},
     "output_type": "execute_result"
    },
    {
     "data": {
      "text/plain": [
       "array([[ 1.,  0.,  0.],\n",
       "       [ 0.,  1., -0.],\n",
       "       [ 0.,  0.,  1.]])"
      ]
     },
     "execution_count": 3,
     "metadata": {},
     "output_type": "execute_result"
    },
    {
     "data": {
      "text/plain": [
       "array([[ 1.,  0.,  0.],\n",
       "       [ 0.,  1., -0.],\n",
       "       [ 0.,  0.,  1.]])"
      ]
     },
     "execution_count": 3,
     "metadata": {},
     "output_type": "execute_result"
    }
   ],
   "source": [
    "A_1 = linalg.inv(A)\n",
    "A_1\n",
    "A@A_1\n",
    "A_1@A"
   ]
  },
  {
   "cell_type": "markdown",
   "metadata": {},
   "source": [
    "## 广义逆矩阵\n",
    "* pinv()"
   ]
  },
  {
   "cell_type": "code",
   "execution_count": 82,
   "metadata": {},
   "outputs": [
    {
     "data": {
      "text/plain": [
       "matrix([[-0.01,  0.07],\n",
       "        [ 0.02,  0.04],\n",
       "        [ 0.06, -0.06]])"
      ]
     },
     "execution_count": 82,
     "metadata": {},
     "output_type": "execute_result"
    },
    {
     "data": {
      "text/plain": [
       "(2, 3)"
      ]
     },
     "execution_count": 82,
     "metadata": {},
     "output_type": "execute_result"
    },
    {
     "data": {
      "text/plain": [
       "(3, 2)"
      ]
     },
     "execution_count": 82,
     "metadata": {},
     "output_type": "execute_result"
    },
    {
     "data": {
      "text/plain": [
       "matrix([[1., 0.],\n",
       "        [0., 1.]])"
      ]
     },
     "execution_count": 82,
     "metadata": {},
     "output_type": "execute_result"
    },
    {
     "data": {
      "text/plain": [
       "matrix([[ 0.56,  0.44, -0.22],\n",
       "        [ 0.44,  0.56,  0.22],\n",
       "        [-0.22,  0.22,  0.89]])"
      ]
     },
     "execution_count": 82,
     "metadata": {},
     "output_type": "execute_result"
    }
   ],
   "source": [
    "A = np.mat(\"4 11 14;8 7 -2\")\n",
    "# 使用pinv函数计算广义逆矩阵\n",
    "pseudoinv = linalg.pinv(A)\n",
    "pseudoinv\n",
    "A.shape\n",
    "pseudoinv.shape\n",
    "A@pseudoinv\n",
    "pseudoinv@A"
   ]
  },
  {
   "cell_type": "code",
   "execution_count": 74,
   "metadata": {},
   "outputs": [
    {
     "name": "stdout",
     "output_type": "stream",
     "text": [
      "Help on function pinv in module numpy.linalg:\n",
      "\n",
      "pinv(a, rcond=1e-15)\n",
      "    Compute the (Moore-Penrose) pseudo-inverse of a matrix.\n",
      "    \n",
      "    Calculate the generalized inverse of a matrix using its\n",
      "    singular-value decomposition (SVD) and including all\n",
      "    *large* singular values.\n",
      "    \n",
      "    .. versionchanged:: 1.14\n",
      "       Can now operate on stacks of matrices\n",
      "    \n",
      "    Parameters\n",
      "    ----------\n",
      "    a : (..., M, N) array_like\n",
      "        Matrix or stack of matrices to be pseudo-inverted.\n",
      "    rcond : (...) array_like of float\n",
      "        Cutoff for small singular values.\n",
      "        Singular values smaller (in modulus) than\n",
      "        `rcond` * largest_singular_value (again, in modulus)\n",
      "        are set to zero. Broadcasts against the stack of matrices\n",
      "    \n",
      "    Returns\n",
      "    -------\n",
      "    B : (..., N, M) ndarray\n",
      "        The pseudo-inverse of `a`. If `a` is a `matrix` instance, then so\n",
      "        is `B`.\n",
      "    \n",
      "    Raises\n",
      "    ------\n",
      "    LinAlgError\n",
      "        If the SVD computation does not converge.\n",
      "    \n",
      "    Notes\n",
      "    -----\n",
      "    The pseudo-inverse of a matrix A, denoted :math:`A^+`, is\n",
      "    defined as: \"the matrix that 'solves' [the least-squares problem]\n",
      "    :math:`Ax = b`,\" i.e., if :math:`\\bar{x}` is said solution, then\n",
      "    :math:`A^+` is that matrix such that :math:`\\bar{x} = A^+b`.\n",
      "    \n",
      "    It can be shown that if :math:`Q_1 \\Sigma Q_2^T = A` is the singular\n",
      "    value decomposition of A, then\n",
      "    :math:`A^+ = Q_2 \\Sigma^+ Q_1^T`, where :math:`Q_{1,2}` are\n",
      "    orthogonal matrices, :math:`\\Sigma` is a diagonal matrix consisting\n",
      "    of A's so-called singular values, (followed, typically, by\n",
      "    zeros), and then :math:`\\Sigma^+` is simply the diagonal matrix\n",
      "    consisting of the reciprocals of A's singular values\n",
      "    (again, followed by zeros). [1]_\n",
      "    \n",
      "    References\n",
      "    ----------\n",
      "    .. [1] G. Strang, *Linear Algebra and Its Applications*, 2nd Ed., Orlando,\n",
      "           FL, Academic Press, Inc., 1980, pp. 139-142.\n",
      "    \n",
      "    Examples\n",
      "    --------\n",
      "    The following example checks that ``a * a+ * a == a`` and\n",
      "    ``a+ * a * a+ == a+``:\n",
      "    \n",
      "    >>> a = np.random.randn(9, 6)\n",
      "    >>> B = np.linalg.pinv(a)\n",
      "    >>> np.allclose(a, np.dot(a, np.dot(B, a)))\n",
      "    True\n",
      "    >>> np.allclose(B, np.dot(B, np.dot(a, B)))\n",
      "    True\n",
      "\n"
     ]
    }
   ],
   "source": [
    "help(linalg.pinv)"
   ]
  },
  {
   "cell_type": "markdown",
   "metadata": {},
   "source": [
    "## 解线性方程\n",
    "\n",
    "* solve()"
   ]
  },
  {
   "cell_type": "code",
   "execution_count": 8,
   "metadata": {},
   "outputs": [
    {
     "data": {
      "text/plain": [
       "array([29., 16.,  3.])"
      ]
     },
     "execution_count": 8,
     "metadata": {},
     "output_type": "execute_result"
    }
   ],
   "source": [
    "B = np.array([1, -2, 1, 0, 2, -8, -4, 5, 9]).reshape(3, 3)\n",
    "b = np.array([0, 8, -9])\n",
    "# 调用solve函数求解线性方程\n",
    "C = np.linalg.solve(B, b)\n",
    "C"
   ]
  },
  {
   "cell_type": "markdown",
   "metadata": {},
   "source": [
    "## 特征值和特征向量\n",
    "* eigvals() &nbsp;只返回特征值\n",
    "* eig() &nbsp; 返回特征值和特征向量"
   ]
  },
  {
   "cell_type": "code",
   "execution_count": 35,
   "metadata": {},
   "outputs": [
    {
     "data": {
      "text/plain": [
       "array([[-1,  1,  0],\n",
       "       [-4,  3,  0],\n",
       "       [ 1,  0,  2]])"
      ]
     },
     "execution_count": 35,
     "metadata": {},
     "output_type": "execute_result"
    },
    {
     "data": {
      "text/plain": [
       "array([2., 1., 1.])"
      ]
     },
     "execution_count": 35,
     "metadata": {},
     "output_type": "execute_result"
    },
    {
     "data": {
      "text/plain": [
       "array([2., 1., 1.])"
      ]
     },
     "execution_count": 35,
     "metadata": {},
     "output_type": "execute_result"
    },
    {
     "data": {
      "text/plain": [
       "array([[2., 0., 0.],\n",
       "       [0., 1., 0.],\n",
       "       [0., 0., 1.]])"
      ]
     },
     "execution_count": 35,
     "metadata": {},
     "output_type": "execute_result"
    },
    {
     "data": {
      "text/plain": [
       "array([[ 0.  ,  0.41,  0.41],\n",
       "       [ 0.  ,  0.82,  0.82],\n",
       "       [ 1.  , -0.41, -0.41]])"
      ]
     },
     "execution_count": 35,
     "metadata": {},
     "output_type": "execute_result"
    },
    {
     "data": {
      "text/plain": [
       "'***'"
      ]
     },
     "execution_count": 35,
     "metadata": {},
     "output_type": "execute_result"
    },
    {
     "data": {
      "text/plain": [
       "array([[ 0.  ,  0.41,  0.41],\n",
       "       [ 0.  ,  0.82,  0.82],\n",
       "       [ 2.  , -0.41, -0.41]])"
      ]
     },
     "execution_count": 35,
     "metadata": {},
     "output_type": "execute_result"
    },
    {
     "data": {
      "text/plain": [
       "array([[ 0.  ,  0.41,  0.41],\n",
       "       [ 0.  ,  0.82,  0.82],\n",
       "       [ 2.  , -0.41, -0.41]])"
      ]
     },
     "execution_count": 35,
     "metadata": {},
     "output_type": "execute_result"
    }
   ],
   "source": [
    "# A = np.array([3, -1, -1, 3]).reshape(2, 2)\n",
    "# A = np.array([3, -2, 1, 0]).reshape(2, 2)\n",
    "A = np.array([-1,1,0,-4,3,0,1,0,2]).reshape(3, 3)\n",
    "A\n",
    "eigenvalues_ = linalg.eigvals(A)\n",
    "eigenvalues, eigenvectors = linalg.eig(A)\n",
    "eigenvalues_\n",
    "eigenvalues\n",
    "eigenvalues = np.diag(eigenvalues) # 化对角阵\n",
    "eigenvalues\n",
    "eigenvectors # 列向量\n",
    "\"***\"\n",
    "# 验证，注意顺序\n",
    "A@eigenvectors\n",
    "eigenvectors@eigenvalues\n",
    "# for i in eigenvalues_:\n",
    "#     i*eigenvectors.T"
   ]
  },
  {
   "cell_type": "markdown",
   "metadata": {},
   "source": [
    "## 奇异值分解\n",
    "\n",
    "* 函数：np.linalg.svd(a,full_matrices=1,compute_uv=1)。  \n",
    "* 参数：a是一个形如(M,N)矩阵full_matrices的取值是为0或者1，默认值为1，这时u的大小为(M,M)，v的大小为(N,N) 。否则u的大小为(M,K)，v的大小为(K,N) ，K=min(M,N)。compute_uv的取值是为0或者1，默认值为1，表示计算u,s,v。为0的时候只计算s。  \n",
    "* 返回值：总共有三个返回值u,s,v  \n",
    "    u大小为(M,M)，s大小为(M,N)，v大小为(N,N)。\n",
    "\n",
    "<font color=blue>\n",
    "关于奇异值的解释： <br> \n",
    "　　对于方阵而言$A=Q\\sum Q^{-1}$  <br>\n",
    "&emsp;&emsp;其中的$\\sum$就是特征向量。但是对于不是方阵的矩阵而言就没有特征向量。 <br>  \n",
    "&emsp;&emsp;非方阵的矩阵可以用奇异值分解来描述这个矩阵。A=$U\\sum V^T$。其中U叫做左奇异值，$\\sum$叫做奇异值，V叫做右奇异值。因为只有对角线的数不为0，并且数值是从大到小排列，所以一般只取r个，r的值越接近A的列数，那么三个矩阵的乘法得到的矩阵越接近A。   <br>\n",
    "&emsp;&emsp;因为三个矩阵的面积之和远远小于原矩阵A，所以当我们向压缩空间表达A的时候，可以使用这三个矩阵。 <br>  \n",
    "&emsp;&emsp;当A不是矩阵的时候，把A转置变为$A^T$。并且$A^T v=\\lambda v$。其中的$v$就是右奇异值。$\\partial = \\sqrt{\\lambda}$，这里的$\\partial$就是上面的奇异值。$u=\\frac{Av}{\\partial}$，这里的u就是上面的左奇异值。 <br>\n",
    "</font>"
   ]
  },
  {
   "cell_type": "code",
   "execution_count": 71,
   "metadata": {},
   "outputs": [
    {
     "data": {
      "text/plain": [
       "array([[ 4, 11, 14],\n",
       "       [ 8,  7, -2]])"
      ]
     },
     "execution_count": 71,
     "metadata": {},
     "output_type": "execute_result"
    },
    {
     "data": {
      "text/plain": [
       "array([[-0.95, -0.32],\n",
       "       [-0.32,  0.95]])"
      ]
     },
     "execution_count": 71,
     "metadata": {},
     "output_type": "execute_result"
    },
    {
     "data": {
      "text/plain": [
       "array([[18.97,  0.  ],\n",
       "       [ 0.  ,  9.49]])"
      ]
     },
     "execution_count": 71,
     "metadata": {},
     "output_type": "execute_result"
    },
    {
     "data": {
      "text/plain": [
       "array([[-0.33, -0.67, -0.67],\n",
       "       [ 0.67,  0.33, -0.67],\n",
       "       [-0.67,  0.67, -0.33]])"
      ]
     },
     "execution_count": 71,
     "metadata": {},
     "output_type": "execute_result"
    },
    {
     "data": {
      "text/plain": [
       "'***'"
      ]
     },
     "execution_count": 71,
     "metadata": {},
     "output_type": "execute_result"
    },
    {
     "data": {
      "text/plain": [
       "array([1., 1.])"
      ]
     },
     "execution_count": 71,
     "metadata": {},
     "output_type": "execute_result"
    },
    {
     "data": {
      "text/plain": [
       "array([1., 1.])"
      ]
     },
     "execution_count": 71,
     "metadata": {},
     "output_type": "execute_result"
    },
    {
     "data": {
      "text/plain": [
       "array([1., 1., 1.])"
      ]
     },
     "execution_count": 71,
     "metadata": {},
     "output_type": "execute_result"
    },
    {
     "data": {
      "text/plain": [
       "array([[ 1., -0., -0.],\n",
       "       [-0.,  1., -0.],\n",
       "       [-0., -0.,  1.]])"
      ]
     },
     "execution_count": 71,
     "metadata": {},
     "output_type": "execute_result"
    }
   ],
   "source": [
    "A = np.array([4, 11, 14, 8, 7, -2]).reshape(2,-1)\n",
    "U,Sigma,V = np.linalg.svd(A,full_matrices=1)\n",
    "A\n",
    "U\n",
    "Sigma = np.diag(Sigma)\n",
    "Sigma\n",
    "V\n",
    "\"***\"\n",
    "\n",
    "# U@Sigma\n",
    "# U@Sigma@V\n",
    "U[:,0]**2+U[:,1]**2\n",
    "U[0,:]**2+U[1,:]**2\n",
    "V[:,0]**2+V[:,1]**2+V[:,2]**2\n",
    "\n",
    "# V[0,:]**2+V[1,:]**2+V[2,:]**2\n",
    "# V[0,:]**2+V[1,:]**2\n",
    "V@V.T"
   ]
  },
  {
   "cell_type": "code",
   "execution_count": 72,
   "metadata": {},
   "outputs": [
    {
     "data": {
      "text/plain": [
       "matrix([[-0.39, -0.92],\n",
       "        [-0.92,  0.39]])"
      ]
     },
     "execution_count": 72,
     "metadata": {},
     "output_type": "execute_result"
    },
    {
     "data": {
      "text/plain": [
       "array([9.51, 0.77])"
      ]
     },
     "execution_count": 72,
     "metadata": {},
     "output_type": "execute_result"
    },
    {
     "data": {
      "text/plain": [
       "matrix([[-0.43, -0.57, -0.7 ],\n",
       "        [ 0.81,  0.11, -0.58],\n",
       "        [ 0.41, -0.82,  0.41]])"
      ]
     },
     "execution_count": 72,
     "metadata": {},
     "output_type": "execute_result"
    }
   ],
   "source": [
    "data = np.mat([[1,2,3],[4,5,6]])\n",
    "U,sigma,VT = np.linalg.svd(data)\n",
    "U #[[-0.3863177  -0.92236578] [-0.92236578  0.3863177 ]]\n",
    "sigma#[9.508032   0.77286964]\n",
    "VT#[[-0.42866713 -0.56630692 -0.7039467 ] [ 0.80596391  0.11238241 -0.58119908] [ 0.40824829 -0.81649658  0.40824829]]\n"
   ]
  },
  {
   "cell_type": "code",
   "execution_count": 54,
   "metadata": {},
   "outputs": [
    {
     "name": "stdout",
     "output_type": "stream",
     "text": [
      "Help on function svd in module numpy.linalg:\n",
      "\n",
      "svd(a, full_matrices=True, compute_uv=True)\n",
      "    Singular Value Decomposition.\n",
      "    \n",
      "    When `a` is a 2D array, it is factorized as ``u @ np.diag(s) @ vh\n",
      "    = (u * s) @ vh``, where `u` and `vh` are 2D unitary arrays and `s` is a 1D\n",
      "    array of `a`'s singular values. When `a` is higher-dimensional, SVD is\n",
      "    applied in stacked mode as explained below.\n",
      "    \n",
      "    Parameters\n",
      "    ----------\n",
      "    a : (..., M, N) array_like\n",
      "        A real or complex array with ``a.ndim >= 2``.\n",
      "    full_matrices : bool, optional\n",
      "        If True (default), `u` and `vh` have the shapes ``(..., M, M)`` and\n",
      "        ``(..., N, N)``, respectively.  Otherwise, the shapes are\n",
      "        ``(..., M, K)`` and ``(..., K, N)``, respectively, where\n",
      "        ``K = min(M, N)``.\n",
      "    compute_uv : bool, optional\n",
      "        Whether or not to compute `u` and `vh` in addition to `s`.  True\n",
      "        by default.\n",
      "    \n",
      "    Returns\n",
      "    -------\n",
      "    u : { (..., M, M), (..., M, K) } array\n",
      "        Unitary array(s). The first ``a.ndim - 2`` dimensions have the same\n",
      "        size as those of the input `a`. The size of the last two dimensions\n",
      "        depends on the value of `full_matrices`. Only returned when\n",
      "        `compute_uv` is True.\n",
      "    s : (..., K) array\n",
      "        Vector(s) with the singular values, within each vector sorted in\n",
      "        descending order. The first ``a.ndim - 2`` dimensions have the same\n",
      "        size as those of the input `a`.\n",
      "    vh : { (..., N, N), (..., K, N) } array\n",
      "        Unitary array(s). The first ``a.ndim - 2`` dimensions have the same\n",
      "        size as those of the input `a`. The size of the last two dimensions\n",
      "        depends on the value of `full_matrices`. Only returned when\n",
      "        `compute_uv` is True.\n",
      "    \n",
      "    Raises\n",
      "    ------\n",
      "    LinAlgError\n",
      "        If SVD computation does not converge.\n",
      "    \n",
      "    Notes\n",
      "    -----\n",
      "    \n",
      "    .. versionchanged:: 1.8.0\n",
      "       Broadcasting rules apply, see the `numpy.linalg` documentation for\n",
      "       details.\n",
      "    \n",
      "    The decomposition is performed using LAPACK routine ``_gesdd``.\n",
      "    \n",
      "    SVD is usually described for the factorization of a 2D matrix :math:`A`.\n",
      "    The higher-dimensional case will be discussed below. In the 2D case, SVD is\n",
      "    written as :math:`A = U S V^H`, where :math:`A = a`, :math:`U= u`,\n",
      "    :math:`S= \\mathtt{np.diag}(s)` and :math:`V^H = vh`. The 1D array `s`\n",
      "    contains the singular values of `a` and `u` and `vh` are unitary. The rows\n",
      "    of `vh` are the eigenvectors of :math:`A^H A` and the columns of `u` are\n",
      "    the eigenvectors of :math:`A A^H`. In both cases the corresponding\n",
      "    (possibly non-zero) eigenvalues are given by ``s**2``.\n",
      "    \n",
      "    If `a` has more than two dimensions, then broadcasting rules apply, as\n",
      "    explained in :ref:`routines.linalg-broadcasting`. This means that SVD is\n",
      "    working in \"stacked\" mode: it iterates over all indices of the first\n",
      "    ``a.ndim - 2`` dimensions and for each combination SVD is applied to the\n",
      "    last two indices. The matrix `a` can be reconstructed from the\n",
      "    decomposition with either ``(u * s[..., None, :]) @ vh`` or\n",
      "    ``u @ (s[..., None] * vh)``. (The ``@`` operator can be replaced by the\n",
      "    function ``np.matmul`` for python versions below 3.5.)\n",
      "    \n",
      "    If `a` is a ``matrix`` object (as opposed to an ``ndarray``), then so are\n",
      "    all the return values.\n",
      "    \n",
      "    Examples\n",
      "    --------\n",
      "    >>> a = np.random.randn(9, 6) + 1j*np.random.randn(9, 6)\n",
      "    >>> b = np.random.randn(2, 7, 8, 3) + 1j*np.random.randn(2, 7, 8, 3)\n",
      "    \n",
      "    Reconstruction based on full SVD, 2D case:\n",
      "    \n",
      "    >>> u, s, vh = np.linalg.svd(a, full_matrices=True)\n",
      "    >>> u.shape, s.shape, vh.shape\n",
      "    ((9, 9), (6,), (6, 6))\n",
      "    >>> np.allclose(a, np.dot(u[:, :6] * s, vh))\n",
      "    True\n",
      "    >>> smat = np.zeros((9, 6), dtype=complex)\n",
      "    >>> smat[:6, :6] = np.diag(s)\n",
      "    >>> np.allclose(a, np.dot(u, np.dot(smat, vh)))\n",
      "    True\n",
      "    \n",
      "    Reconstruction based on reduced SVD, 2D case:\n",
      "    \n",
      "    >>> u, s, vh = np.linalg.svd(a, full_matrices=False)\n",
      "    >>> u.shape, s.shape, vh.shape\n",
      "    ((9, 6), (6,), (6, 6))\n",
      "    >>> np.allclose(a, np.dot(u * s, vh))\n",
      "    True\n",
      "    >>> smat = np.diag(s)\n",
      "    >>> np.allclose(a, np.dot(u, np.dot(smat, vh)))\n",
      "    True\n",
      "    \n",
      "    Reconstruction based on full SVD, 4D case:\n",
      "    \n",
      "    >>> u, s, vh = np.linalg.svd(b, full_matrices=True)\n",
      "    >>> u.shape, s.shape, vh.shape\n",
      "    ((2, 7, 8, 8), (2, 7, 3), (2, 7, 3, 3))\n",
      "    >>> np.allclose(b, np.matmul(u[..., :3] * s[..., None, :], vh))\n",
      "    True\n",
      "    >>> np.allclose(b, np.matmul(u[..., :3], s[..., None] * vh))\n",
      "    True\n",
      "    \n",
      "    Reconstruction based on reduced SVD, 4D case:\n",
      "    \n",
      "    >>> u, s, vh = np.linalg.svd(b, full_matrices=False)\n",
      "    >>> u.shape, s.shape, vh.shape\n",
      "    ((2, 7, 8, 3), (2, 7, 3), (2, 7, 3, 3))\n",
      "    >>> np.allclose(b, np.matmul(u * s[..., None, :], vh))\n",
      "    True\n",
      "    >>> np.allclose(b, np.matmul(u, s[..., None] * vh))\n",
      "    True\n",
      "\n"
     ]
    }
   ],
   "source": []
  },
  {
   "cell_type": "code",
   "execution_count": null,
   "metadata": {},
   "outputs": [],
   "source": []
  },
  {
   "cell_type": "markdown",
   "metadata": {},
   "source": [
    "# API"
   ]
  },
  {
   "cell_type": "markdown",
   "metadata": {},
   "source": [
    "## 属性  \n",
    "1. nbytes(字节大小)"
   ]
  },
  {
   "cell_type": "markdown",
   "metadata": {},
   "source": [
    "### nbytes"
   ]
  },
  {
   "cell_type": "code",
   "execution_count": 22,
   "metadata": {},
   "outputs": [
    {
     "data": {
      "text/plain": [
       "400"
      ]
     },
     "execution_count": 22,
     "metadata": {},
     "output_type": "execute_result"
    }
   ],
   "source": [
    "a = np.arange(100)\n",
    "a.nbytes"
   ]
  },
  {
   "cell_type": "markdown",
   "metadata": {},
   "source": [
    "## 方法"
   ]
  },
  {
   "cell_type": "code",
   "execution_count": null,
   "metadata": {},
   "outputs": [],
   "source": []
  },
  {
   "cell_type": "markdown",
   "metadata": {},
   "source": [
    "### np.random"
   ]
  },
  {
   "cell_type": "markdown",
   "metadata": {},
   "source": [
    "#### np.random.choice"
   ]
  },
  {
   "cell_type": "code",
   "execution_count": 51,
   "metadata": {},
   "outputs": [
    {
     "data": {
      "text/plain": [
       "array([4, 3, 1])"
      ]
     },
     "execution_count": 51,
     "metadata": {},
     "output_type": "execute_result"
    }
   ],
   "source": [
    "np.random.choice([1,2,3,4,5], 3, replace=False, p=[0.1, 0, 0.3, 0.6, 0])"
   ]
  },
  {
   "cell_type": "code",
   "execution_count": 86,
   "metadata": {
    "scrolled": true
   },
   "outputs": [
    {
     "data": {
      "text/plain": [
       "0"
      ]
     },
     "execution_count": 86,
     "metadata": {},
     "output_type": "execute_result"
    }
   ],
   "source": [
    "np.random.randint(0, 1)"
   ]
  },
  {
   "cell_type": "code",
   "execution_count": 87,
   "metadata": {},
   "outputs": [
    {
     "data": {
      "text/plain": [
       "1"
      ]
     },
     "execution_count": 87,
     "metadata": {},
     "output_type": "execute_result"
    }
   ],
   "source": [
    "random.randint(0, 1)"
   ]
  },
  {
   "cell_type": "code",
   "execution_count": 99,
   "metadata": {},
   "outputs": [
    {
     "data": {
      "text/plain": [
       "0.8576706591475731"
      ]
     },
     "execution_count": 99,
     "metadata": {},
     "output_type": "execute_result"
    }
   ],
   "source": [
    "random.random()"
   ]
  },
  {
   "cell_type": "code",
   "execution_count": 108,
   "metadata": {},
   "outputs": [
    {
     "data": {
      "text/plain": [
       "[55, 13, 11, 28, 3]"
      ]
     },
     "execution_count": 108,
     "metadata": {},
     "output_type": "execute_result"
    }
   ],
   "source": [
    "random.sample(range(100),5)"
   ]
  },
  {
   "cell_type": "code",
   "execution_count": 100,
   "metadata": {},
   "outputs": [
    {
     "name": "stdout",
     "output_type": "stream",
     "text": [
      "Help on method sample in module random:\n",
      "\n",
      "sample(population, k) method of random.Random instance\n",
      "    Chooses k unique random elements from a population sequence or set.\n",
      "    \n",
      "    Returns a new list containing elements from the population while\n",
      "    leaving the original population unchanged.  The resulting list is\n",
      "    in selection order so that all sub-slices will also be valid random\n",
      "    samples.  This allows raffle winners (the sample) to be partitioned\n",
      "    into grand prize and second place winners (the subslices).\n",
      "    \n",
      "    Members of the population need not be hashable or unique.  If the\n",
      "    population contains repeats, then each occurrence is a possible\n",
      "    selection in the sample.\n",
      "    \n",
      "    To choose a sample in a range of integers, use range as an argument.\n",
      "    This is especially fast and space efficient for sampling from a\n",
      "    large population:   sample(range(10000000), 60)\n",
      "\n"
     ]
    }
   ],
   "source": [
    "help(random.sample)"
   ]
  },
  {
   "cell_type": "markdown",
   "metadata": {},
   "source": [
    "### genfromtxt"
   ]
  },
  {
   "cell_type": "code",
   "execution_count": 19,
   "metadata": {},
   "outputs": [
    {
     "data": {
      "text/plain": [
       "array('1,2,3,4,5', dtype='<U9')"
      ]
     },
     "execution_count": 19,
     "metadata": {},
     "output_type": "execute_result"
    }
   ],
   "source": [
    "data = np.genfromtxt('./datas/genfromtxt_01.txt',encoding='utf-8',dtype=np.dtype(str))\n",
    "data"
   ]
  },
  {
   "cell_type": "code",
   "execution_count": 21,
   "metadata": {},
   "outputs": [
    {
     "data": {
      "text/plain": [
       "array([1., 2., 3., 4., 5.])"
      ]
     },
     "execution_count": 21,
     "metadata": {},
     "output_type": "execute_result"
    },
    {
     "data": {
      "text/plain": [
       "40"
      ]
     },
     "execution_count": 21,
     "metadata": {},
     "output_type": "execute_result"
    }
   ],
   "source": [
    "data = np.genfromtxt('./datas/genfromtxt_01.txt',\n",
    "                     delimiter=',',\n",
    "                     encoding='utf-8',\n",
    "                     dtype=np.dtype(float),\n",
    "                     replace_space='')\n",
    "data\n",
    "data.nbytes # 字节大小"
   ]
  },
  {
   "cell_type": "code",
   "execution_count": 5,
   "metadata": {},
   "outputs": [
    {
     "name": "stdout",
     "output_type": "stream",
     "text": [
      "Help on function genfromtxt in module numpy:\n",
      "\n",
      "genfromtxt(fname, dtype=<class 'float'>, comments='#', delimiter=None, skip_header=0, skip_footer=0, converters=None, missing_values=None, filling_values=None, usecols=None, names=None, excludelist=None, deletechars=\" !#$%&'()*+,-./:;<=>?@[\\\\]^{|}~\", replace_space='_', autostrip=False, case_sensitive=True, defaultfmt='f%i', unpack=None, usemask=False, loose=True, invalid_raise=True, max_rows=None, encoding='bytes')\n",
      "    Load data from a text file, with missing values handled as specified.\n",
      "    \n",
      "    Each line past the first `skip_header` lines is split at the `delimiter`\n",
      "    character, and characters following the `comments` character are discarded.\n",
      "    \n",
      "    Parameters\n",
      "    ----------\n",
      "    fname : file, str, pathlib.Path, list of str, generator\n",
      "        File, filename, list, or generator to read.  If the filename\n",
      "        extension is `.gz` or `.bz2`, the file is first decompressed. Note\n",
      "        that generators must return byte strings. The strings\n",
      "        in a list or produced by a generator are treated as lines.\n",
      "    dtype : dtype, optional\n",
      "        Data type of the resulting array.\n",
      "        If None, the dtypes will be determined by the contents of each\n",
      "        column, individually.\n",
      "    comments : str, optional\n",
      "        The character used to indicate the start of a comment.\n",
      "        All the characters occurring on a line after a comment are discarded\n",
      "    delimiter : str, int, or sequence, optional\n",
      "        The string used to separate values.  By default, any consecutive\n",
      "        whitespaces act as delimiter.  An integer or sequence of integers\n",
      "        can also be provided as width(s) of each field.\n",
      "    skiprows : int, optional\n",
      "        `skiprows` was removed in numpy 1.10. Please use `skip_header` instead.\n",
      "    skip_header : int, optional\n",
      "        The number of lines to skip at the beginning of the file.\n",
      "    skip_footer : int, optional\n",
      "        The number of lines to skip at the end of the file.\n",
      "    converters : variable, optional\n",
      "        The set of functions that convert the data of a column to a value.\n",
      "        The converters can also be used to provide a default value\n",
      "        for missing data: ``converters = {3: lambda s: float(s or 0)}``.\n",
      "    missing : variable, optional\n",
      "        `missing` was removed in numpy 1.10. Please use `missing_values`\n",
      "        instead.\n",
      "    missing_values : variable, optional\n",
      "        The set of strings corresponding to missing data.\n",
      "    filling_values : variable, optional\n",
      "        The set of values to be used as default when the data are missing.\n",
      "    usecols : sequence, optional\n",
      "        Which columns to read, with 0 being the first.  For example,\n",
      "        ``usecols = (1, 4, 5)`` will extract the 2nd, 5th and 6th columns.\n",
      "    names : {None, True, str, sequence}, optional\n",
      "        If `names` is True, the field names are read from the first line after\n",
      "        the first `skip_header` lines.  This line can optionally be proceeded\n",
      "        by a comment delimiter. If `names` is a sequence or a single-string of\n",
      "        comma-separated names, the names will be used to define the field names\n",
      "        in a structured dtype. If `names` is None, the names of the dtype\n",
      "        fields will be used, if any.\n",
      "    excludelist : sequence, optional\n",
      "        A list of names to exclude. This list is appended to the default list\n",
      "        ['return','file','print']. Excluded names are appended an underscore:\n",
      "        for example, `file` would become `file_`.\n",
      "    deletechars : str, optional\n",
      "        A string combining invalid characters that must be deleted from the\n",
      "        names.\n",
      "    defaultfmt : str, optional\n",
      "        A format used to define default field names, such as \"f%i\" or \"f_%02i\".\n",
      "    autostrip : bool, optional\n",
      "        Whether to automatically strip white spaces from the variables.\n",
      "    replace_space : char, optional\n",
      "        Character(s) used in replacement of white spaces in the variables\n",
      "        names. By default, use a '_'.\n",
      "    case_sensitive : {True, False, 'upper', 'lower'}, optional\n",
      "        If True, field names are case sensitive.\n",
      "        If False or 'upper', field names are converted to upper case.\n",
      "        If 'lower', field names are converted to lower case.\n",
      "    unpack : bool, optional\n",
      "        If True, the returned array is transposed, so that arguments may be\n",
      "        unpacked using ``x, y, z = loadtxt(...)``\n",
      "    usemask : bool, optional\n",
      "        If True, return a masked array.\n",
      "        If False, return a regular array.\n",
      "    loose : bool, optional\n",
      "        If True, do not raise errors for invalid values.\n",
      "    invalid_raise : bool, optional\n",
      "        If True, an exception is raised if an inconsistency is detected in the\n",
      "        number of columns.\n",
      "        If False, a warning is emitted and the offending lines are skipped.\n",
      "    max_rows : int,  optional\n",
      "        The maximum number of rows to read. Must not be used with skip_footer\n",
      "        at the same time.  If given, the value must be at least 1. Default is\n",
      "        to read the entire file.\n",
      "    \n",
      "        .. versionadded:: 1.10.0\n",
      "    encoding : str, optional\n",
      "        Encoding used to decode the inputfile. Does not apply when `fname` is\n",
      "        a file object.  The special value 'bytes' enables backward compatibility\n",
      "        workarounds that ensure that you receive byte arrays when possible\n",
      "        and passes latin1 encoded strings to converters. Override this value to\n",
      "        receive unicode arrays and pass strings as input to converters.  If set\n",
      "        to None the system default is used. The default value is 'bytes'.\n",
      "    \n",
      "        .. versionadded:: 1.14.0\n",
      "    \n",
      "    Returns\n",
      "    -------\n",
      "    out : ndarray\n",
      "        Data read from the text file. If `usemask` is True, this is a\n",
      "        masked array.\n",
      "    \n",
      "    See Also\n",
      "    --------\n",
      "    numpy.loadtxt : equivalent function when no data is missing.\n",
      "    \n",
      "    Notes\n",
      "    -----\n",
      "    * When spaces are used as delimiters, or when no delimiter has been given\n",
      "      as input, there should not be any missing data between two fields.\n",
      "    * When the variables are named (either by a flexible dtype or with `names`,\n",
      "      there must not be any header in the file (else a ValueError\n",
      "      exception is raised).\n",
      "    * Individual values are not stripped of spaces by default.\n",
      "      When using a custom converter, make sure the function does remove spaces.\n",
      "    \n",
      "    References\n",
      "    ----------\n",
      "    .. [1] NumPy User Guide, section `I/O with NumPy\n",
      "           <https://docs.scipy.org/doc/numpy/user/basics.io.genfromtxt.html>`_.\n",
      "    \n",
      "    Examples\n",
      "    ---------\n",
      "    >>> from io import StringIO\n",
      "    >>> import numpy as np\n",
      "    \n",
      "    Comma delimited file with mixed dtype\n",
      "    \n",
      "    >>> s = StringIO(u\"1,1.3,abcde\")\n",
      "    >>> data = np.genfromtxt(s, dtype=[('myint','i8'),('myfloat','f8'),\n",
      "    ... ('mystring','S5')], delimiter=\",\")\n",
      "    >>> data\n",
      "    array((1, 1.3, b'abcde'),\n",
      "          dtype=[('myint', '<i8'), ('myfloat', '<f8'), ('mystring', 'S5')])\n",
      "    \n",
      "    Using dtype = None\n",
      "    \n",
      "    >>> _ = s.seek(0) # needed for StringIO example only\n",
      "    >>> data = np.genfromtxt(s, dtype=None,\n",
      "    ... names = ['myint','myfloat','mystring'], delimiter=\",\")\n",
      "    >>> data\n",
      "    array((1, 1.3, b'abcde'),\n",
      "          dtype=[('myint', '<i8'), ('myfloat', '<f8'), ('mystring', 'S5')])\n",
      "    \n",
      "    Specifying dtype and names\n",
      "    \n",
      "    >>> _ = s.seek(0)\n",
      "    >>> data = np.genfromtxt(s, dtype=\"i8,f8,S5\",\n",
      "    ... names=['myint','myfloat','mystring'], delimiter=\",\")\n",
      "    >>> data\n",
      "    array((1, 1.3, b'abcde'),\n",
      "          dtype=[('myint', '<i8'), ('myfloat', '<f8'), ('mystring', 'S5')])\n",
      "    \n",
      "    An example with fixed-width columns\n",
      "    \n",
      "    >>> s = StringIO(u\"11.3abcde\")\n",
      "    >>> data = np.genfromtxt(s, dtype=None, names=['intvar','fltvar','strvar'],\n",
      "    ...     delimiter=[1,3,5])\n",
      "    >>> data\n",
      "    array((1, 1.3, b'abcde'),\n",
      "          dtype=[('intvar', '<i8'), ('fltvar', '<f8'), ('strvar', 'S5')])\n",
      "    \n",
      "    An example to show comments\n",
      "    \n",
      "    >>> f = StringIO('''\n",
      "    ... text,# of chars\n",
      "    ... hello world,11\n",
      "    ... numpy,5''')\n",
      "    >>> np.genfromtxt(f, dtype='S12,S12', delimiter=',')\n",
      "    array([(b'text', b''), (b'hello world', b'11'), (b'numpy', b'5')],\n",
      "      dtype=[('f0', 'S12'), ('f1', 'S12')])\n",
      "\n"
     ]
    }
   ],
   "source": [
    "help(np.genfromtxt)"
   ]
  },
  {
   "cell_type": "code",
   "execution_count": null,
   "metadata": {},
   "outputs": [],
   "source": []
  },
  {
   "cell_type": "code",
   "execution_count": null,
   "metadata": {},
   "outputs": [],
   "source": []
  },
  {
   "cell_type": "markdown",
   "metadata": {},
   "source": [
    "[[Python图像处理] 二十二.Python图像傅里叶变换原理及实现](https://blog.csdn.net/Eastmount/article/details/89474405)"
   ]
  },
  {
   "cell_type": "markdown",
   "metadata": {},
   "source": [
    "### eimsum"
   ]
  },
  {
   "cell_type": "markdown",
   "metadata": {},
   "source": [
    "[NumPy中einsum的基本介绍](https://cloud.tencent.com/developer/article/1369762)  \n",
    "[einsum满足你一切需要：深度学习中的爱因斯坦求和约定](https://zhuanlan.zhihu.com/p/44954540)  "
   ]
  },
  {
   "cell_type": "markdown",
   "metadata": {},
   "source": [
    "\n",
    "* 一维数组  \n",
    "\n",
    "Call signature|Numpy equivalent|Description\n",
    ":---:|:---:|:---:\n",
    "('i',A)|A|返回数组A\n",
    "('i->',A)|sum(A)|返回数组A的值的总和\n",
    "('i,i->i',A,B)|A*B|数组A和数组B的元素依次相乘\n",
    "('i,i',A,B)|inner(A,B)|A和B的点积(内积)\n",
    "('i,j->ij',A,B)|outer(A,B)|A和B的叉积(外积)  \n",
    "\n",
    "* 二维数组  \n",
    "\n",
    "Call signature|Numpy equivalent|Description\n",
    ":---:|:---:|:---:\n",
    "('ij',A)|A|数组A\n",
    "('ji',A)|A.T|数组A的转置\n",
    "('ii->i',A)|diag(A)|数组A的主对角线\n",
    "('ii',A)|trace(A)|数组A的主对角线的和\n",
    "('ij->',A)|sum(A)|数组A的值相加\n",
    "('ij->j',A)|sum(A)|数组A的列求和\n",
    "('ij->i',A)|sum(A)|数组A的行求和\n",
    "('ij,ij->ij',A,B)|A*B|数组A和B逐元素相乘\n",
    "('ij,ji->ij',A,B)|A*B.T|数组A和B的转置逐元素相乘\n",
    "('ij,jk',A,B)|dot(A,B)|数组A的与B的矩阵乘法\n",
    "('ij,kj->ik',A,B)|inner(A,B)|数组A的与B的矩阵乘法\n",
    "('ij,kj->ikj',A,B)|A\\[:,None\\]*B|数组A的每一行乘以B\n",
    "('ij,kl->ijkl',A,B)|A\\[:,:,None,None\\]*B|数组A的每个值乘以B\n"
   ]
  },
  {
   "cell_type": "markdown",
   "metadata": {},
   "source": [
    "#### 一维数组"
   ]
  },
  {
   "cell_type": "code",
   "execution_count": 20,
   "metadata": {},
   "outputs": [
    {
     "data": {
      "text/plain": [
       "3"
      ]
     },
     "execution_count": 20,
     "metadata": {},
     "output_type": "execute_result"
    },
    {
     "data": {
      "text/plain": [
       "array([0, 2, 6])"
      ]
     },
     "execution_count": 20,
     "metadata": {},
     "output_type": "execute_result"
    },
    {
     "data": {
      "text/plain": [
       "8"
      ]
     },
     "execution_count": 20,
     "metadata": {},
     "output_type": "execute_result"
    },
    {
     "data": {
      "text/plain": [
       "array([[0, 0, 0],\n",
       "       [1, 2, 3],\n",
       "       [2, 4, 6]])"
      ]
     },
     "execution_count": 20,
     "metadata": {},
     "output_type": "execute_result"
    }
   ],
   "source": [
    "a = np.array([0,1,2])\n",
    "b = np.array([1,2,3])\n",
    "c = np.arange(9).reshape(3,3)\n",
    "np.einsum('i->',a)\n",
    "np.einsum('i,i->i',a,b)\n",
    "np.einsum('i,i',a,b)\n",
    "np.einsum('i,j->ij',a,b)\n",
    "# np.einsum('i,jk->ijk',a,b)"
   ]
  },
  {
   "cell_type": "markdown",
   "metadata": {},
   "source": [
    "#### 二维数组"
   ]
  },
  {
   "cell_type": "code",
   "execution_count": 29,
   "metadata": {},
   "outputs": [
    {
     "data": {
      "text/plain": [
       "array([[0., 1., 2.],\n",
       "       [3., 4., 5.],\n",
       "       [6., 7., 8.]])"
      ]
     },
     "execution_count": 29,
     "metadata": {},
     "output_type": "execute_result"
    },
    {
     "data": {
      "text/plain": [
       "array([[0., 1., 2.],\n",
       "       [3., 4., 5.],\n",
       "       [6., 7., 8.]])"
      ]
     },
     "execution_count": 29,
     "metadata": {},
     "output_type": "execute_result"
    },
    {
     "data": {
      "text/plain": [
       "36.0"
      ]
     },
     "execution_count": 29,
     "metadata": {},
     "output_type": "execute_result"
    },
    {
     "data": {
      "text/plain": [
       "array([ 9., 12., 15.])"
      ]
     },
     "execution_count": 29,
     "metadata": {},
     "output_type": "execute_result"
    },
    {
     "data": {
      "text/plain": [
       "array([ 3., 12., 21.])"
      ]
     },
     "execution_count": 29,
     "metadata": {},
     "output_type": "execute_result"
    }
   ],
   "source": [
    "a = np.arange(9.).reshape(3,3)\n",
    "b = np.arange(9.).reshape(3,3)\n",
    "a\n",
    "b\n",
    "np.einsum('ij->',a)\n",
    "np.einsum('ij->j',a)\n",
    "np.einsum('ij->i',a)"
   ]
  },
  {
   "cell_type": "code",
   "execution_count": 32,
   "metadata": {},
   "outputs": [
    {
     "data": {
      "text/plain": [
       "array([[ 15.,  18.,  21.],\n",
       "       [ 42.,  54.,  66.],\n",
       "       [ 69.,  90., 111.]])"
      ]
     },
     "execution_count": 32,
     "metadata": {},
     "output_type": "execute_result"
    },
    {
     "data": {
      "text/plain": [
       "array([[ 15.,  18.,  21.],\n",
       "       [ 42.,  54.,  66.],\n",
       "       [ 69.,  90., 111.]])"
      ]
     },
     "execution_count": 32,
     "metadata": {},
     "output_type": "execute_result"
    },
    {
     "data": {
      "text/plain": [
       "204.0"
      ]
     },
     "execution_count": 32,
     "metadata": {},
     "output_type": "execute_result"
    },
    {
     "data": {
      "text/plain": [
       "array([[  5.,  14.,  23.],\n",
       "       [ 14.,  50.,  86.],\n",
       "       [ 23.,  86., 149.]])"
      ]
     },
     "execution_count": 32,
     "metadata": {},
     "output_type": "execute_result"
    }
   ],
   "source": [
    "np.einsum('ij,jk',a,b)\n",
    "np.dot(a,b)\n",
    "np.einsum('ij,ij',a,b)\n",
    "np.inner(a,b)"
   ]
  },
  {
   "cell_type": "code",
   "execution_count": 52,
   "metadata": {},
   "outputs": [
    {
     "data": {
      "text/plain": [
       "array([[0., 1., 2.],\n",
       "       [3., 4., 5.],\n",
       "       [6., 7., 8.]])"
      ]
     },
     "execution_count": 52,
     "metadata": {},
     "output_type": "execute_result"
    },
    {
     "data": {
      "text/plain": [
       "array([[[ 0.,  1.,  4.],\n",
       "        [ 0.,  4., 10.],\n",
       "        [ 0.,  7., 16.]],\n",
       "\n",
       "       [[ 0.,  4., 10.],\n",
       "        [ 9., 16., 25.],\n",
       "        [18., 28., 40.]],\n",
       "\n",
       "       [[ 0.,  7., 16.],\n",
       "        [18., 28., 40.],\n",
       "        [36., 49., 64.]]])"
      ]
     },
     "execution_count": 52,
     "metadata": {},
     "output_type": "execute_result"
    },
    {
     "data": {
      "text/plain": [
       "(3, 1, 3)"
      ]
     },
     "execution_count": 52,
     "metadata": {},
     "output_type": "execute_result"
    },
    {
     "data": {
      "text/plain": [
       "array([[[ 0.,  1.,  4.],\n",
       "        [ 0.,  4., 10.],\n",
       "        [ 0.,  7., 16.]],\n",
       "\n",
       "       [[ 0.,  4., 10.],\n",
       "        [ 9., 16., 25.],\n",
       "        [18., 28., 40.]],\n",
       "\n",
       "       [[ 0.,  7., 16.],\n",
       "        [18., 28., 40.],\n",
       "        [36., 49., 64.]]])"
      ]
     },
     "execution_count": 52,
     "metadata": {},
     "output_type": "execute_result"
    }
   ],
   "source": [
    "a\n",
    "# b\n",
    "np.einsum('ij,kj->ikj',a,b)\n",
    "a[:,None].shape\n",
    "a[:,None]*b\n"
   ]
  },
  {
   "cell_type": "code",
   "execution_count": 60,
   "metadata": {},
   "outputs": [
    {
     "data": {
      "text/plain": [
       "(3, 3, 3, 3)"
      ]
     },
     "execution_count": 60,
     "metadata": {},
     "output_type": "execute_result"
    }
   ],
   "source": [
    "# a[:,:,None,None]\n",
    "# a[:,:,None,None]*b\n",
    "np.einsum('ij,kl->ijkl',a,b).shape"
   ]
  },
  {
   "cell_type": "code",
   "execution_count": 58,
   "metadata": {},
   "outputs": [
    {
     "data": {
      "text/plain": [
       "array([[ 0.,  4.,  8.],\n",
       "       [ 1.,  5.,  9.],\n",
       "       [ 2.,  6., 10.],\n",
       "       [ 3.,  7., 11.]])"
      ]
     },
     "execution_count": 58,
     "metadata": {},
     "output_type": "execute_result"
    },
    {
     "data": {
      "text/plain": [
       "array([[0., 1., 2.],\n",
       "       [3., 4., 5.],\n",
       "       [6., 7., 8.]])"
      ]
     },
     "execution_count": 58,
     "metadata": {},
     "output_type": "execute_result"
    },
    {
     "data": {
      "text/plain": [
       "array([[[ 0.,  0.,  0.],\n",
       "        [ 0.,  1.,  2.],\n",
       "        [ 0.,  2.,  4.],\n",
       "        [ 0.,  3.,  6.]],\n",
       "\n",
       "       [[12., 16., 20.],\n",
       "        [15., 20., 25.],\n",
       "        [18., 24., 30.],\n",
       "        [21., 28., 35.]],\n",
       "\n",
       "       [[48., 56., 64.],\n",
       "        [54., 63., 72.],\n",
       "        [60., 70., 80.],\n",
       "        [66., 77., 88.]]])"
      ]
     },
     "execution_count": 58,
     "metadata": {},
     "output_type": "execute_result"
    }
   ],
   "source": [
    "A = np.arange(12.).reshape(3,4)\n",
    "B = np.arange(9.).reshape(3,3)\n",
    "A.T\n",
    "B\n",
    "np.einsum('ij,ik->ijk',A,B)\n",
    "# np.einsum('ij,kl->ijkl',a,b)"
   ]
  },
  {
   "cell_type": "markdown",
   "metadata": {},
   "source": [
    "## np.poly1d\n"
   ]
  },
  {
   "cell_type": "code",
   "execution_count": 21,
   "metadata": {},
   "outputs": [
    {
     "data": {
      "text/plain": [
       "array([ 6, 11, 18])"
      ]
     },
     "execution_count": 21,
     "metadata": {},
     "output_type": "execute_result"
    },
    {
     "data": {
      "text/plain": [
       "array([ 6, 17, 34])"
      ]
     },
     "execution_count": 21,
     "metadata": {},
     "output_type": "execute_result"
    },
    {
     "data": {
      "text/plain": [
       "array([ 6, 11, 18])"
      ]
     },
     "execution_count": 21,
     "metadata": {},
     "output_type": "execute_result"
    },
    {
     "data": {
      "text/plain": [
       "array([1, 2, 3])"
      ]
     },
     "execution_count": 21,
     "metadata": {},
     "output_type": "execute_result"
    },
    {
     "data": {
      "text/plain": [
       "2"
      ]
     },
     "execution_count": 21,
     "metadata": {},
     "output_type": "execute_result"
    },
    {
     "data": {
      "text/plain": [
       "array([-1.+1.41j, -1.-1.41j])"
      ]
     },
     "execution_count": 21,
     "metadata": {},
     "output_type": "execute_result"
    },
    {
     "data": {
      "text/plain": [
       "poly1d([ 1,  4, 10, 12,  9])"
      ]
     },
     "execution_count": 21,
     "metadata": {},
     "output_type": "execute_result"
    }
   ],
   "source": [
    "p = np.poly1d([1, 2, 3])\n",
    "a = np.array([1,2,3])\n",
    "p(a)\n",
    "1+2*a+3*a**2\n",
    "3+2*a+a**2 # 结果\n",
    "p.c # array([1, 2, 3])\n",
    "p.order # 2\n",
    "p.r # array([-1.+1.41j, -1.-1.41j])\n",
    "p**2"
   ]
  },
  {
   "cell_type": "code",
   "execution_count": null,
   "metadata": {},
   "outputs": [],
   "source": []
  },
  {
   "cell_type": "code",
   "execution_count": 3,
   "metadata": {},
   "outputs": [
    {
     "data": {
      "text/plain": [
       "array([0.63])"
      ]
     },
     "execution_count": 3,
     "metadata": {},
     "output_type": "execute_result"
    }
   ],
   "source": [
    "np.random.rand(1)"
   ]
  },
  {
   "cell_type": "code",
   "execution_count": 19,
   "metadata": {},
   "outputs": [
    {
     "name": "stdout",
     "output_type": "stream",
     "text": [
      "Help on class poly1d in module numpy:\n",
      "\n",
      "class poly1d(builtins.object)\n",
      " |  poly1d(c_or_r, r=False, variable=None)\n",
      " |  \n",
      " |  A one-dimensional polynomial class.\n",
      " |  \n",
      " |  A convenience class, used to encapsulate \"natural\" operations on\n",
      " |  polynomials so that said operations may take on their customary\n",
      " |  form in code (see Examples).\n",
      " |  \n",
      " |  Parameters\n",
      " |  ----------\n",
      " |  c_or_r : array_like\n",
      " |      The polynomial's coefficients, in decreasing powers, or if\n",
      " |      the value of the second parameter is True, the polynomial's\n",
      " |      roots (values where the polynomial evaluates to 0).  For example,\n",
      " |      ``poly1d([1, 2, 3])`` returns an object that represents\n",
      " |      :math:`x^2 + 2x + 3`, whereas ``poly1d([1, 2, 3], True)`` returns\n",
      " |      one that represents :math:`(x-1)(x-2)(x-3) = x^3 - 6x^2 + 11x -6`.\n",
      " |  r : bool, optional\n",
      " |      If True, `c_or_r` specifies the polynomial's roots; the default\n",
      " |      is False.\n",
      " |  variable : str, optional\n",
      " |      Changes the variable used when printing `p` from `x` to `variable`\n",
      " |      (see Examples).\n",
      " |  \n",
      " |  Examples\n",
      " |  --------\n",
      " |  Construct the polynomial :math:`x^2 + 2x + 3`:\n",
      " |  \n",
      " |  >>> p = np.poly1d([1, 2, 3])\n",
      " |  >>> print(np.poly1d(p))\n",
      " |     2\n",
      " |  1 x + 2 x + 3\n",
      " |  \n",
      " |  Evaluate the polynomial at :math:`x = 0.5`:\n",
      " |  \n",
      " |  >>> p(0.5)\n",
      " |  4.25\n",
      " |  \n",
      " |  Find the roots:\n",
      " |  \n",
      " |  >>> p.r\n",
      " |  array([-1.+1.41421356j, -1.-1.41421356j])\n",
      " |  >>> p(p.r)\n",
      " |  array([ -4.44089210e-16+0.j,  -4.44089210e-16+0.j]) # may vary\n",
      " |  \n",
      " |  These numbers in the previous line represent (0, 0) to machine precision\n",
      " |  \n",
      " |  Show the coefficients:\n",
      " |  \n",
      " |  >>> p.c\n",
      " |  array([1, 2, 3])\n",
      " |  \n",
      " |  Display the order (the leading zero-coefficients are removed):\n",
      " |  \n",
      " |  >>> p.order\n",
      " |  2\n",
      " |  \n",
      " |  Show the coefficient of the k-th power in the polynomial\n",
      " |  (which is equivalent to ``p.c[-(i+1)]``):\n",
      " |  \n",
      " |  >>> p[1]\n",
      " |  2\n",
      " |  \n",
      " |  Polynomials can be added, subtracted, multiplied, and divided\n",
      " |  (returns quotient and remainder):\n",
      " |  \n",
      " |  >>> p * p\n",
      " |  poly1d([ 1,  4, 10, 12,  9])\n",
      " |  \n",
      " |  >>> (p**3 + 4) / p\n",
      " |  (poly1d([ 1.,  4., 10., 12.,  9.]), poly1d([4.]))\n",
      " |  \n",
      " |  ``asarray(p)`` gives the coefficient array, so polynomials can be\n",
      " |  used in all functions that accept arrays:\n",
      " |  \n",
      " |  >>> p**2 # square of polynomial\n",
      " |  poly1d([ 1,  4, 10, 12,  9])\n",
      " |  \n",
      " |  >>> np.square(p) # square of individual coefficients\n",
      " |  array([1, 4, 9])\n",
      " |  \n",
      " |  The variable used in the string representation of `p` can be modified,\n",
      " |  using the `variable` parameter:\n",
      " |  \n",
      " |  >>> p = np.poly1d([1,2,3], variable='z')\n",
      " |  >>> print(p)\n",
      " |     2\n",
      " |  1 z + 2 z + 3\n",
      " |  \n",
      " |  Construct a polynomial from its roots:\n",
      " |  \n",
      " |  >>> np.poly1d([1, 2], True)\n",
      " |  poly1d([ 1., -3.,  2.])\n",
      " |  \n",
      " |  This is the same polynomial as obtained by:\n",
      " |  \n",
      " |  >>> np.poly1d([1, -1]) * np.poly1d([1, -2])\n",
      " |  poly1d([ 1, -3,  2])\n",
      " |  \n",
      " |  Methods defined here:\n",
      " |  \n",
      " |  __add__(self, other)\n",
      " |  \n",
      " |  __array__(self, t=None)\n",
      " |  \n",
      " |  __call__(self, val)\n",
      " |      Call self as a function.\n",
      " |  \n",
      " |  __div__(self, other)\n",
      " |  \n",
      " |  __eq__(self, other)\n",
      " |      Return self==value.\n",
      " |  \n",
      " |  __getitem__(self, val)\n",
      " |  \n",
      " |  __init__(self, c_or_r, r=False, variable=None)\n",
      " |      Initialize self.  See help(type(self)) for accurate signature.\n",
      " |  \n",
      " |  __iter__(self)\n",
      " |  \n",
      " |  __len__(self)\n",
      " |  \n",
      " |  __mul__(self, other)\n",
      " |  \n",
      " |  __ne__(self, other)\n",
      " |      Return self!=value.\n",
      " |  \n",
      " |  __neg__(self)\n",
      " |  \n",
      " |  __pos__(self)\n",
      " |  \n",
      " |  __pow__(self, val)\n",
      " |  \n",
      " |  __radd__(self, other)\n",
      " |  \n",
      " |  __rdiv__(self, other)\n",
      " |  \n",
      " |  __repr__(self)\n",
      " |      Return repr(self).\n",
      " |  \n",
      " |  __rmul__(self, other)\n",
      " |  \n",
      " |  __rsub__(self, other)\n",
      " |  \n",
      " |  __rtruediv__ = __rdiv__(self, other)\n",
      " |  \n",
      " |  __setitem__(self, key, val)\n",
      " |  \n",
      " |  __str__(self)\n",
      " |      Return str(self).\n",
      " |  \n",
      " |  __sub__(self, other)\n",
      " |  \n",
      " |  __truediv__ = __div__(self, other)\n",
      " |  \n",
      " |  deriv(self, m=1)\n",
      " |      Return a derivative of this polynomial.\n",
      " |      \n",
      " |      Refer to `polyder` for full documentation.\n",
      " |      \n",
      " |      See Also\n",
      " |      --------\n",
      " |      polyder : equivalent function\n",
      " |  \n",
      " |  integ(self, m=1, k=0)\n",
      " |      Return an antiderivative (indefinite integral) of this polynomial.\n",
      " |      \n",
      " |      Refer to `polyint` for full documentation.\n",
      " |      \n",
      " |      See Also\n",
      " |      --------\n",
      " |      polyint : equivalent function\n",
      " |  \n",
      " |  ----------------------------------------------------------------------\n",
      " |  Data descriptors defined here:\n",
      " |  \n",
      " |  __dict__\n",
      " |      dictionary for instance variables (if defined)\n",
      " |  \n",
      " |  __weakref__\n",
      " |      list of weak references to the object (if defined)\n",
      " |  \n",
      " |  c\n",
      " |      The polynomial coefficients\n",
      " |  \n",
      " |  coef\n",
      " |      The polynomial coefficients\n",
      " |  \n",
      " |  coefficients\n",
      " |      The polynomial coefficients\n",
      " |  \n",
      " |  coeffs\n",
      " |      The polynomial coefficients\n",
      " |  \n",
      " |  o\n",
      " |      The order or degree of the polynomial\n",
      " |  \n",
      " |  order\n",
      " |      The order or degree of the polynomial\n",
      " |  \n",
      " |  r\n",
      " |      The roots of the polynomial, where self(x) == 0\n",
      " |  \n",
      " |  roots\n",
      " |      The roots of the polynomial, where self(x) == 0\n",
      " |  \n",
      " |  variable\n",
      " |      The name of the polynomial variable\n",
      " |  \n",
      " |  ----------------------------------------------------------------------\n",
      " |  Data and other attributes defined here:\n",
      " |  \n",
      " |  __hash__ = None\n",
      "\n"
     ]
    }
   ],
   "source": [
    "help(np.poly1d)"
   ]
  },
  {
   "cell_type": "code",
   "execution_count": null,
   "metadata": {},
   "outputs": [],
   "source": []
  },
  {
   "cell_type": "markdown",
   "metadata": {},
   "source": [
    "# 傅里叶变换  "
   ]
  },
  {
   "cell_type": "markdown",
   "metadata": {},
   "source": [
    "[python做傅里叶变换](https://www.cnblogs.com/LXP-Never/p/11558302.html)"
   ]
  },
  {
   "cell_type": "code",
   "execution_count": 2,
   "metadata": {},
   "outputs": [
    {
     "data": {
      "text/plain": [
       "(1000,)"
      ]
     },
     "execution_count": 2,
     "metadata": {},
     "output_type": "execute_result"
    },
    {
     "name": "stdout",
     "output_type": "stream",
     "text": [
      "(1000,)\n",
      "complex128\n",
      "(-2.1458390619955026e-12+0j)\n"
     ]
    },
    {
     "data": {
      "text/plain": [
       "<matplotlib.axes._subplots.AxesSubplot at 0x24f968a47c8>"
      ]
     },
     "execution_count": 2,
     "metadata": {},
     "output_type": "execute_result"
    },
    {
     "data": {
      "text/plain": [
       "[<matplotlib.lines.Line2D at 0x24f9693ae88>]"
      ]
     },
     "execution_count": 2,
     "metadata": {},
     "output_type": "execute_result"
    },
    {
     "data": {
      "text/plain": [
       "<matplotlib.axes._subplots.AxesSubplot at 0x24f94d54d08>"
      ]
     },
     "execution_count": 2,
     "metadata": {},
     "output_type": "execute_result"
    },
    {
     "name": "stderr",
     "output_type": "stream",
     "text": [
      "D:\\MySoft\\Anaconda3\\lib\\site-packages\\numpy\\core\\_asarray.py:85: ComplexWarning: Casting complex values to real discards the imaginary part\n",
      "  return array(a, dtype, copy=False, order=order)\n"
     ]
    },
    {
     "data": {
      "text/plain": [
       "[<matplotlib.lines.Line2D at 0x24f97037ec8>]"
      ]
     },
     "execution_count": 2,
     "metadata": {},
     "output_type": "execute_result"
    },
    {
     "data": {
      "text/plain": [
       "<matplotlib.axes._subplots.AxesSubplot at 0x24f9805b108>"
      ]
     },
     "execution_count": 2,
     "metadata": {},
     "output_type": "execute_result"
    },
    {
     "data": {
      "text/plain": [
       "Text(0.5, 1.0, 'Frequency Domain')"
      ]
     },
     "execution_count": 2,
     "metadata": {},
     "output_type": "execute_result"
    },
    {
     "data": {
      "text/plain": [
       "Text(0.5, 0, 'Frequency')"
      ]
     },
     "execution_count": 2,
     "metadata": {},
     "output_type": "execute_result"
    },
    {
     "data": {
      "text/plain": [
       "Text(0, 0.5, 'Power')"
      ]
     },
     "execution_count": 2,
     "metadata": {},
     "output_type": "execute_result"
    },
    {
     "data": {
      "text/plain": [
       "[<matplotlib.lines.Line2D at 0x24f97078fc8>]"
      ]
     },
     "execution_count": 2,
     "metadata": {},
     "output_type": "execute_result"
    },
    {
     "data": {
      "text/plain": [
       "<matplotlib.legend.Legend at 0x24f980a0fc8>"
      ]
     },
     "execution_count": 2,
     "metadata": {},
     "output_type": "execute_result"
    },
    {
     "data": {
      "image/png": "[encoded data removed]",
      "text/plain": [
       "<Figure size 432x288 with 3 Axes>"
      ]
     },
     "metadata": {
      "needs_background": "light"
     },
     "output_type": "display_data"
    }
   ],
   "source": [
    "import numpy.fft as fft\n",
    "\n",
    "x = np.linspace(-2 * np.pi, 2 * np.pi, 1000)\n",
    "\n",
    "n = 1000\n",
    "y = np.zeros(x.size)\n",
    "y.shape\n",
    "for i in range(1, n + 1):\n",
    "    y += 4 * np.pi / (2 * i - 1) * np.sin((2 * i - 1) * x)\n",
    "# y\n",
    "complex_array = fft.fft(y)\n",
    "# complex_array\n",
    "print(complex_array.shape)  # (1000,) \n",
    "print(complex_array.dtype)  # complex128 \n",
    "print(complex_array[0])  # (-2.1458390619955026e-12+0j)\n",
    "y_new = fft.ifft(complex_array)\n",
    "# y - y_new\n",
    "plt.subplot(311)\n",
    "plt.grid(linestyle=':')\n",
    "plt.plot(x, y, label='y')  # y是1000个相加后的正弦序列\n",
    "plt.subplot(312)\n",
    "plt.plot(x, y_new, label='y_new', color='orangered')  # y是ifft变换后的序列\n",
    "\n",
    "# 得到分解波的频率序列\n",
    "freqs = fft.fftfreq(x.size, x[1] - x[0])\n",
    "# freqs\n",
    "# 复数的模为信号的振幅（能量大小）\n",
    "complex_array = fft.fft(y)\n",
    "pows = np.abs(complex_array)\n",
    "\n",
    "plt.subplot(313)\n",
    "plt.title('Frequency Domain', fontsize=16)\n",
    "plt.xlabel('Frequency', fontsize=12)\n",
    "plt.ylabel('Power', fontsize=12)\n",
    "plt.tick_params(labelsize=10)\n",
    "plt.grid(linestyle=':')\n",
    "plt.plot(freqs[freqs > 0], pows[freqs > 0], c='orangered', label='Frequency')\n",
    "plt.legend()\n",
    "plt.tight_layout()\n",
    "plt.show()\n"
   ]
  },
  {
   "cell_type": "markdown",
   "metadata": {},
   "source": [
    "## 频域信号处理"
   ]
  },
  {
   "cell_type": "code",
   "execution_count": 7,
   "metadata": {},
   "outputs": [
    {
     "data": {
      "text/plain": [
       "array([0.92, 0.57, 0.92, 0.8 , 0.29, 0.47, 0.17, 0.57])"
      ]
     },
     "execution_count": 7,
     "metadata": {},
     "output_type": "execute_result"
    },
    {
     "data": {
      "text/plain": [
       "array([ 4.71+0.j  ,  0.54-0.98j,  0.12+0.33j,  0.72+0.53j, -0.1 +0.j  ,\n",
       "        0.72-0.53j,  0.12-0.33j,  0.54+0.98j])"
      ]
     },
     "execution_count": 7,
     "metadata": {},
     "output_type": "execute_result"
    },
    {
     "data": {
      "text/plain": [
       "array([0.92, 0.57, 0.92, 0.8 , 0.29, 0.47, 0.17, 0.57])"
      ]
     },
     "execution_count": 7,
     "metadata": {},
     "output_type": "execute_result"
    }
   ],
   "source": [
    "x = np.random.rand(8)\n",
    "xf = np.fft.fft(x)\n",
    "x\n",
    "xf\n",
    "np.real(np.fft.ifft(xf))"
   ]
  },
  {
   "cell_type": "code",
   "execution_count": null,
   "metadata": {},
   "outputs": [],
   "source": [
    "x = np.ones(8)\n",
    "# x = np.arange(8)\n",
    "xf = np.fft.fft(x)\n",
    "x\n",
    "xf"
   ]
  },
  {
   "cell_type": "code",
   "execution_count": 12,
   "metadata": {
    "scrolled": true
   },
   "outputs": [
    {
     "data": {
      "text/plain": [
       "array([ 0.  ,  0.71,  1.  ,  0.71,  0.  , -0.71, -1.  , -0.71])"
      ]
     },
     "execution_count": 12,
     "metadata": {},
     "output_type": "execute_result"
    },
    {
     "data": {
      "text/plain": [
       "array([ 0.+0.j, -0.-4.j,  0.-0.j,  0.+0.j,  0.+0.j,  0.+0.j,  0.+0.j,\n",
       "       -0.+4.j])"
      ]
     },
     "execution_count": 12,
     "metadata": {},
     "output_type": "execute_result"
    },
    {
     "data": {
      "text/plain": [
       "array([ 0.+0.j , -0.-0.5j,  0.-0.j ,  0.+0.j ,  0.+0.j ,  0.+0.j ,\n",
       "        0.+0.j , -0.+0.5j])"
      ]
     },
     "execution_count": 12,
     "metadata": {},
     "output_type": "execute_result"
    }
   ],
   "source": [
    "x0 = np.arange(0,2*np.pi,2*np.pi/8)\n",
    "x = np.sin(x0)\n",
    "xf = np.fft.fft(x)\n",
    "x\n",
    "xf\n",
    "xf/len(x)"
   ]
  },
  {
   "cell_type": "code",
   "execution_count": 13,
   "metadata": {},
   "outputs": [
    {
     "data": {
      "text/plain": [
       "array([ 1.  ,  0.71,  0.  , -0.71, -1.  , -0.71, -0.  ,  0.71])"
      ]
     },
     "execution_count": 13,
     "metadata": {},
     "output_type": "execute_result"
    },
    {
     "data": {
      "text/plain": [
       "array([-0.+0.j,  4.-0.j,  0.+0.j,  0.+0.j,  0.+0.j,  0.-0.j,  0.+0.j,\n",
       "        4.+0.j])"
      ]
     },
     "execution_count": 13,
     "metadata": {},
     "output_type": "execute_result"
    },
    {
     "data": {
      "text/plain": [
       "array([-0. +0.j,  0.5-0.j,  0. +0.j,  0. +0.j,  0. +0.j,  0. -0.j,\n",
       "        0. +0.j,  0.5+0.j])"
      ]
     },
     "execution_count": 13,
     "metadata": {},
     "output_type": "execute_result"
    }
   ],
   "source": [
    "x0 = np.arange(0,2*np.pi,2*np.pi/8)\n",
    "x = np.cos(x0)\n",
    "xf = np.fft.fft(x)\n",
    "x\n",
    "xf\n",
    "xf/len(x)"
   ]
  },
  {
   "cell_type": "code",
   "execution_count": 22,
   "metadata": {},
   "outputs": [
    {
     "data": {
      "text/plain": [
       "'[ 0.+0.j  0.+0.j -0.-1.j  0.-0.j  0.+0.j  0.+0.j -0.+1.j  0.-0.j]'"
      ]
     },
     "execution_count": 22,
     "metadata": {},
     "output_type": "execute_result"
    },
    {
     "data": {
      "text/plain": [
       "'[-0.+0.j  0.-0.j  0.+0.j -0.-1.j  0.+0.j -0.+1.j  0.-0.j  0.+0.j]'"
      ]
     },
     "execution_count": 22,
     "metadata": {},
     "output_type": "execute_result"
    },
    {
     "data": {
      "text/plain": [
       "'[-0. +0.j   0.5-0.5j  0. -0.j   0. -0.j   0. +0.j   0. +0.j   0. +0.j\\n  0.5+0.5j]'"
      ]
     },
     "execution_count": 22,
     "metadata": {},
     "output_type": "execute_result"
    },
    {
     "data": {
      "text/plain": [
       "'[ 55.99 +0.j    13.59+38.25j -11.5 +25.22j -19.12+11.63j -20.92 +0.j\\n -19.12-11.63j -11.5 -25.22j  13.59-38.25j]'"
      ]
     },
     "execution_count": 22,
     "metadata": {},
     "output_type": "execute_result"
    }
   ],
   "source": [
    "x = np.arange(0,2*np.pi,2*np.pi/8)\n",
    "tmp = np.fft.fft(2*np.sin(2*x))/len(x)\n",
    "np.array_str(tmp,suppress_small=True)\n",
    "\n",
    "tmp = np.fft.fft(2*np.sin(3*x))/len(x)\n",
    "np.array_str(tmp,suppress_small=True)\n",
    "\n",
    "tmp = np.fft.fft(np.sin(1*x)+np.cos(x))/len(x)\n",
    "np.array_str(tmp,suppress_small=True)\n",
    "\n",
    "tmp = np.fft.fft(np.exp(x))/len(x)\n",
    "np.array_str(tmp,suppress_small=True)"
   ]
  },
  {
   "cell_type": "code",
   "execution_count": 21,
   "metadata": {},
   "outputs": [
    {
     "data": {
      "text/plain": [
       "[<matplotlib.lines.Line2D at 0x24fad151488>]"
      ]
     },
     "execution_count": 21,
     "metadata": {},
     "output_type": "execute_result"
    },
    {
     "data": {
      "text/plain": [
       "1.4138130495871821"
      ]
     },
     "execution_count": 21,
     "metadata": {},
     "output_type": "execute_result"
    },
    {
     "data": {
      "image/png": "[encoded data removed]",
      "text/plain": [
       "<Figure size 432x288 with 1 Axes>"
      ]
     },
     "metadata": {
      "needs_background": "light"
     },
     "output_type": "display_data"
    }
   ],
   "source": [
    "x = np.linspace(0,2*np.pi,100)\n",
    "y = np.sin(x)+np.cos(x)\n",
    "plt.plot(x,y)\n",
    "np.max(y)"
   ]
  },
  {
   "cell_type": "code",
   "execution_count": 46,
   "metadata": {},
   "outputs": [
    {
     "data": {
      "text/plain": [
       "'[ 0.  +0.j    0.15-0.j    0.18+0.18j  0.2 -0.35j  0.  -0.j    0.  +0.j\\n  0.  +0.j   -0.  +0.j  ]'"
      ]
     },
     "execution_count": 46,
     "metadata": {},
     "output_type": "execute_result"
    },
    {
     "data": {
      "text/plain": [
       "(0.17677669529663692+0.17677669529663698j)"
      ]
     },
     "execution_count": 46,
     "metadata": {},
     "output_type": "execute_result"
    },
    {
     "data": {
      "text/plain": [
       "0.2500000000000001"
      ]
     },
     "execution_count": 46,
     "metadata": {},
     "output_type": "execute_result"
    },
    {
     "data": {
      "text/plain": [
       "0.7853981633974485"
      ]
     },
     "execution_count": 46,
     "metadata": {},
     "output_type": "execute_result"
    },
    {
     "data": {
      "text/plain": [
       "45.000000000000014"
      ]
     },
     "execution_count": 46,
     "metadata": {},
     "output_type": "execute_result"
    }
   ],
   "source": [
    "x = np.arange(0,2*np.pi,2*np.pi/128)\n",
    "y = 0.3*np.cos(x)+0.5*np.cos(2*x+np.pi/4)+0.8*np.cos(3*x-np.pi/3)\n",
    "yf = np.fft.fft(y)/len(y)\n",
    "np.array_str(yf[:8],suppress_small=True)\n",
    "i = 2\n",
    "yf[i]\n",
    "np.abs(yf[i]) # 模\n",
    "np.angle(yf[i]) # 弧度\n",
    "np.rad2deg(np.angle(yf[i])) # 角度"
   ]
  },
  {
   "cell_type": "code",
   "execution_count": 29,
   "metadata": {},
   "outputs": [
    {
     "name": "stdout",
     "output_type": "stream",
     "text": [
      "Help on function angle in module numpy:\n",
      "\n",
      "angle(z, deg=False)\n",
      "    Return the angle of the complex argument.\n",
      "    \n",
      "    Parameters\n",
      "    ----------\n",
      "    z : array_like\n",
      "        A complex number or sequence of complex numbers.\n",
      "    deg : bool, optional\n",
      "        Return angle in degrees if True, radians if False (default).\n",
      "    \n",
      "    Returns\n",
      "    -------\n",
      "    angle : ndarray or scalar\n",
      "        The counterclockwise angle from the positive real axis on the complex\n",
      "        plane in the range ``(-pi, pi]``, with dtype as numpy.float64.\n",
      "    \n",
      "        ..versionchanged:: 1.16.0\n",
      "            This function works on subclasses of ndarray like `ma.array`.\n",
      "    \n",
      "    See Also\n",
      "    --------\n",
      "    arctan2\n",
      "    absolute\n",
      "    \n",
      "    Examples\n",
      "    --------\n",
      "    >>> np.angle([1.0, 1.0j, 1+1j])               # in radians\n",
      "    array([ 0.        ,  1.57079633,  0.78539816]) # may vary\n",
      "    >>> np.angle(1+1j, deg=True)                  # in degrees\n",
      "    45.0\n",
      "\n"
     ]
    }
   ],
   "source": [
    "help(np.angle)"
   ]
  },
  {
   "cell_type": "markdown",
   "metadata": {},
   "source": [
    "### 合成时域信号"
   ]
  },
  {
   "cell_type": "code",
   "execution_count": 80,
   "metadata": {},
   "outputs": [
    {
     "name": "stderr",
     "output_type": "stream",
     "text": [
      "D:\\MySoft\\Anaconda3\\lib\\site-packages\\ipykernel_launcher.py:33: RuntimeWarning: divide by zero encountered in log10\n"
     ]
    },
    {
     "data": {
      "text/plain": [
       "[<matplotlib.lines.Line2D at 0x24fb4f36ac8>]"
      ]
     },
     "execution_count": 80,
     "metadata": {},
     "output_type": "execute_result"
    },
    {
     "data": {
      "text/plain": [
       "Text(0.5, 0, 'frequency bin')"
      ]
     },
     "execution_count": 80,
     "metadata": {},
     "output_type": "execute_result"
    },
    {
     "data": {
      "text/plain": [
       "Text(0, 0.5, 'dB')"
      ]
     },
     "execution_count": 80,
     "metadata": {},
     "output_type": "execute_result"
    },
    {
     "data": {
      "text/plain": [
       "[<matplotlib.lines.Line2D at 0x24fb4efe348>]"
      ]
     },
     "execution_count": 80,
     "metadata": {},
     "output_type": "execute_result"
    },
    {
     "data": {
      "text/plain": [
       "[<matplotlib.lines.Line2D at 0x24fb4ef96c8>]"
      ]
     },
     "execution_count": 80,
     "metadata": {},
     "output_type": "execute_result"
    },
    {
     "data": {
      "text/plain": [
       "[<matplotlib.lines.Line2D at 0x24fb4ef9188>]"
      ]
     },
     "execution_count": 80,
     "metadata": {},
     "output_type": "execute_result"
    },
    {
     "data": {
      "text/plain": [
       "[<matplotlib.lines.Line2D at 0x24fb4decd48>]"
      ]
     },
     "execution_count": 80,
     "metadata": {},
     "output_type": "execute_result"
    },
    {
     "data": {
      "text/plain": [
       "[<matplotlib.lines.Line2D at 0x24fb4e0b308>]"
      ]
     },
     "execution_count": 80,
     "metadata": {},
     "output_type": "execute_result"
    },
    {
     "data": {
      "text/plain": [
       "[<matplotlib.lines.Line2D at 0x24fb4ef9948>]"
      ]
     },
     "execution_count": 80,
     "metadata": {},
     "output_type": "execute_result"
    },
    {
     "data": {
      "text/plain": [
       "[<matplotlib.lines.Line2D at 0x24fb4d48a08>]"
      ]
     },
     "execution_count": 80,
     "metadata": {},
     "output_type": "execute_result"
    },
    {
     "data": {
      "text/plain": [
       "<matplotlib.legend.Legend at 0x24fb4ef9248>"
      ]
     },
     "execution_count": 80,
     "metadata": {},
     "output_type": "execute_result"
    },
    {
     "data": {
      "image/png": "[encoded data removed]",
      "text/plain": [
       "<Figure size 576x432 with 2 Axes>"
      ]
     },
     "metadata": {
      "needs_background": "light"
     },
     "output_type": "display_data"
    }
   ],
   "source": [
    "def triangle_wave(size):\n",
    "    x = np.arange(0, 1, 1.0 / size)\n",
    "    y = np.where(x < 0.5, x, 0)\n",
    "    #     print(\"y1\",y)\n",
    "    y = np.where(x >= 0.5, 1 - x, y)\n",
    "    #     print(\"y2\",y)\n",
    "    return x, y\n",
    "\n",
    "\n",
    "def fft_combine(bins, n, loops=1):\n",
    "    length = len(bins) * loops\n",
    "    #     print(\"length\",length)\n",
    "    data = np.zeros(length)\n",
    "\n",
    "#     index = loops * np.arange(0, length, 1.0) / length * (2 * np.pi)\n",
    "    index = np.arange(0, length, 1.0) / len(bins) * (2 * np.pi)\n",
    "#     index = np.linspace(0,2*np.pi,length)\n",
    "#     print(\"index\", index)\n",
    "    for k, p in enumerate(bins[:n]):\n",
    "        if k != 0:\n",
    "            p *= 2\n",
    "        data += np.real(p) * np.cos(k * index)\n",
    "        data -= np.imag(p) * np.sin(k * index)\n",
    "    return index, data\n",
    "\n",
    "\n",
    "fft_size = 256\n",
    "x, y = triangle_wave(fft_size)\n",
    "fy = np.fft.fft(y) / fft_size\n",
    "# print(fy*20)\n",
    "# print(\"fy\", len(fy), fy.shape)\n",
    "fig, axes = plt.subplots(2, 1, figsize=(8, 6))\n",
    "axes[0].plot(np.clip(20 * np.log10(np.abs(fy[:20])), -120, 120), 'o')\n",
    "axes[0].set_xlabel(u\"frequency bin\")\n",
    "axes[0].set_ylabel(u\"dB\")\n",
    "\n",
    "axes[1].plot(y, label=u\"origin triagel_wave\", linewidth=2)\n",
    "for i in [0, 1, 3, 5, 7, 9]:\n",
    "    index, data = fft_combine(fy, i + 1, 2)\n",
    "    axes[1].plot(data, label=\"N=%s\" % i, alpha=0.6)\n",
    "axes[1].legend(loc=\"best\")"
   ]
  },
  {
   "cell_type": "code",
   "execution_count": 82,
   "metadata": {},
   "outputs": [
    {
     "name": "stderr",
     "output_type": "stream",
     "text": [
      "D:\\MySoft\\Anaconda3\\lib\\site-packages\\ipykernel_launcher.py:33: RuntimeWarning: divide by zero encountered in log10\n"
     ]
    },
    {
     "data": {
      "text/plain": [
       "[<matplotlib.lines.Line2D at 0x24fb2983788>]"
      ]
     },
     "execution_count": 82,
     "metadata": {},
     "output_type": "execute_result"
    },
    {
     "data": {
      "text/plain": [
       "Text(0.5, 0, 'frequency bin')"
      ]
     },
     "execution_count": 82,
     "metadata": {},
     "output_type": "execute_result"
    },
    {
     "data": {
      "text/plain": [
       "Text(0, 0.5, 'dB')"
      ]
     },
     "execution_count": 82,
     "metadata": {},
     "output_type": "execute_result"
    },
    {
     "data": {
      "text/plain": [
       "[<matplotlib.lines.Line2D at 0x24fafce0788>]"
      ]
     },
     "execution_count": 82,
     "metadata": {},
     "output_type": "execute_result"
    },
    {
     "data": {
      "text/plain": [
       "[<matplotlib.lines.Line2D at 0x24fb29aa2c8>]"
      ]
     },
     "execution_count": 82,
     "metadata": {},
     "output_type": "execute_result"
    },
    {
     "data": {
      "text/plain": [
       "[<matplotlib.lines.Line2D at 0x24fb29aa848>]"
      ]
     },
     "execution_count": 82,
     "metadata": {},
     "output_type": "execute_result"
    },
    {
     "data": {
      "text/plain": [
       "[<matplotlib.lines.Line2D at 0x24fafcca848>]"
      ]
     },
     "execution_count": 82,
     "metadata": {},
     "output_type": "execute_result"
    },
    {
     "data": {
      "text/plain": [
       "[<matplotlib.lines.Line2D at 0x24fb29a7a08>]"
      ]
     },
     "execution_count": 82,
     "metadata": {},
     "output_type": "execute_result"
    },
    {
     "data": {
      "text/plain": [
       "[<matplotlib.lines.Line2D at 0x24fb230eac8>]"
      ]
     },
     "execution_count": 82,
     "metadata": {},
     "output_type": "execute_result"
    },
    {
     "data": {
      "text/plain": [
       "[<matplotlib.lines.Line2D at 0x24fb2808808>]"
      ]
     },
     "execution_count": 82,
     "metadata": {},
     "output_type": "execute_result"
    },
    {
     "data": {
      "text/plain": [
       "<matplotlib.legend.Legend at 0x24fb29aa908>"
      ]
     },
     "execution_count": 82,
     "metadata": {},
     "output_type": "execute_result"
    },
    {
     "data": {
      "image/png": "[encoded data removed]",
      "text/plain": [
       "<Figure size 576x432 with 2 Axes>"
      ]
     },
     "metadata": {
      "needs_background": "light"
     },
     "output_type": "display_data"
    }
   ],
   "source": [
    "def triangle_wave(size):\n",
    "    x = np.arange(0, 1, 1.0 / size)\n",
    "    y = np.where(x < 0.5, 1.0, -1.0)\n",
    "    #     print(\"y1\",y)\n",
    "#     y = np.where(x >= 0.5, 1 - x, y)\n",
    "    #     print(\"y2\",y)\n",
    "    return x, y\n",
    "\n",
    "\n",
    "def fft_combine(bins, n, loops=1):\n",
    "    length = len(bins) * loops\n",
    "    #     print(\"length\",length)\n",
    "    data = np.zeros(length)\n",
    "\n",
    "#     index = loops * np.arange(0, length, 1.0) / length * (2 * np.pi)\n",
    "    index = np.arange(0, length, 1.0) / len(bins) * (2 * np.pi)\n",
    "#     index = np.linspace(0,2*np.pi,length)\n",
    "#     print(\"index\", index)\n",
    "    for k, p in enumerate(bins[:n]):\n",
    "        if k != 0:\n",
    "            p *= 2\n",
    "        data += np.real(p) * np.cos(k * index)\n",
    "        data -= np.imag(p) * np.sin(k * index)\n",
    "    return index, data\n",
    "\n",
    "\n",
    "fft_size = 256\n",
    "x, y = triangle_wave(fft_size)\n",
    "fy = np.fft.fft(y) / fft_size\n",
    "# print(fy*20)\n",
    "# print(\"fy\", len(fy), fy.shape)\n",
    "fig, axes = plt.subplots(2, 1, figsize=(8, 6))\n",
    "axes[0].plot(np.clip(20 * np.log10(np.abs(fy[:20])), -120, 120), 'o')\n",
    "axes[0].set_xlabel(u\"frequency bin\")\n",
    "axes[0].set_ylabel(u\"dB\")\n",
    "\n",
    "axes[1].plot(y, label=u\"origin triagel_wave\", linewidth=2)\n",
    "for i in [0, 1, 3, 5, 7, 9]:\n",
    "    index, data = fft_combine(fy, i + 1, 2)\n",
    "    axes[1].plot(data, label=\"N=%s\" % i, alpha=0.6)\n",
    "axes[1].legend(loc=\"best\")"
   ]
  },
  {
   "cell_type": "markdown",
   "metadata": {},
   "source": [
    "### 观察信号的频谱"
   ]
  },
  {
   "cell_type": "code",
   "execution_count": 116,
   "metadata": {},
   "outputs": [
    {
     "name": "stdout",
     "output_type": "stream",
     "text": [
      "freqs (257,)\n",
      "index (array([10, 15], dtype=int64),)\n",
      "[-6.02 -0.  ]\n"
     ]
    },
    {
     "data": {
      "image/png": "[encoded data removed]",
      "text/plain": [
       "<Figure size 576x288 with 2 Axes>"
      ]
     },
     "metadata": {
      "needs_background": "light"
     },
     "output_type": "display_data"
    }
   ],
   "source": [
    "sampling_rate, fft_size = 8000, 512\n",
    "t = np.arange(0, 1.0, 1.0 / sampling_rate)\n",
    "x = np.sin(2 * np.pi * 156.25 * t) + 2 * np.sin(2 * np.pi * 234.375 * t)\n",
    "\n",
    "\n",
    "def show_fft(x):\n",
    "    xs = x[:fft_size]\n",
    "    xf = np.fft.rfft(xs) / fft_size\n",
    "#     xf = np.fft.fft(xs) / fft_size\n",
    "#     print(\"xf\",xf.shape,xf1.shape)\n",
    "#     print(sampling_rate // 2, fft_size // 2 + 1)\n",
    "    \n",
    "    freqs = np.linspace(0, sampling_rate / 2, int(fft_size / 2 + 1))\n",
    "    print(\"freqs\",freqs.shape)\n",
    "#     print(\"np.abs(xf)\",20*np.abs(xf))\n",
    "    xf_abs = np.abs(xf)\n",
    "#     print(xf_abs)\n",
    "    idx = np.nonzero(np.abs(xf)>0.01)\n",
    "    print(\"index\",idx)# 大于阈值的索引\n",
    "    \n",
    "    xfp = 20 * np.log10(np.clip(np.abs(xf),1e-20,1e100))\n",
    "    \n",
    "    print(xfp[idx])\n",
    "#     print(\"xft\",xf.shape,xfp.shape,xfp)\n",
    "    plt.figure(figsize=(8, 4))\n",
    "    plt.subplot(211)\n",
    "    plt.plot(t[:fft_size], xs)\n",
    "    plt.xlabel(u\"time\")\n",
    "    plt.subplot(212)\n",
    "    plt.plot(freqs, xfp)\n",
    "    plt.xlabel(u\"freqs(Hz)\")\n",
    "    plt.subplots_adjust(hspace=0.4)\n",
    "#     plt.show()\n",
    "\n",
    "\n",
    "show_fft(x)\n"
   ]
  },
  {
   "cell_type": "code",
   "execution_count": 92,
   "metadata": {},
   "outputs": [
    {
     "data": {
      "text/plain": [
       "array([ 1.92+0.j  , -0.03-0.25j, -2.45-1.1j , -1.52+1.18j, -3.05+0.j  ,\n",
       "       -1.52-1.18j, -2.45+1.1j , -0.03+0.25j])"
      ]
     },
     "execution_count": 92,
     "metadata": {},
     "output_type": "execute_result"
    },
    {
     "data": {
      "text/plain": [
       "array([ 1.92+0.j  , -0.03-0.25j, -2.45-1.1j , -1.52+1.18j, -3.05+0.j  ])"
      ]
     },
     "execution_count": 92,
     "metadata": {},
     "output_type": "execute_result"
    }
   ],
   "source": [
    "x = np.random.randn(8)\n",
    "np.fft.fft(x)\n",
    "np.fft.rfft(x)"
   ]
  },
  {
   "cell_type": "code",
   "execution_count": 93,
   "metadata": {},
   "outputs": [
    {
     "name": "stdout",
     "output_type": "stream",
     "text": [
      "Help on function rfft in module numpy.fft:\n",
      "\n",
      "rfft(a, n=None, axis=-1, norm=None)\n",
      "    Compute the one-dimensional discrete Fourier Transform for real input.\n",
      "    \n",
      "    This function computes the one-dimensional *n*-point discrete Fourier\n",
      "    Transform (DFT) of a real-valued array by means of an efficient algorithm\n",
      "    called the Fast Fourier Transform (FFT).\n",
      "    \n",
      "    Parameters\n",
      "    ----------\n",
      "    a : array_like\n",
      "        Input array\n",
      "    n : int, optional\n",
      "        Number of points along transformation axis in the input to use.\n",
      "        If `n` is smaller than the length of the input, the input is cropped.\n",
      "        If it is larger, the input is padded with zeros. If `n` is not given,\n",
      "        the length of the input along the axis specified by `axis` is used.\n",
      "    axis : int, optional\n",
      "        Axis over which to compute the FFT. If not given, the last axis is\n",
      "        used.\n",
      "    norm : {None, \"ortho\"}, optional\n",
      "        .. versionadded:: 1.10.0\n",
      "    \n",
      "        Normalization mode (see `numpy.fft`). Default is None.\n",
      "    \n",
      "    Returns\n",
      "    -------\n",
      "    out : complex ndarray\n",
      "        The truncated or zero-padded input, transformed along the axis\n",
      "        indicated by `axis`, or the last one if `axis` is not specified.\n",
      "        If `n` is even, the length of the transformed axis is ``(n/2)+1``.\n",
      "        If `n` is odd, the length is ``(n+1)/2``.\n",
      "    \n",
      "    Raises\n",
      "    ------\n",
      "    IndexError\n",
      "        If `axis` is larger than the last axis of `a`.\n",
      "    \n",
      "    See Also\n",
      "    --------\n",
      "    numpy.fft : For definition of the DFT and conventions used.\n",
      "    irfft : The inverse of `rfft`.\n",
      "    fft : The one-dimensional FFT of general (complex) input.\n",
      "    fftn : The *n*-dimensional FFT.\n",
      "    rfftn : The *n*-dimensional FFT of real input.\n",
      "    \n",
      "    Notes\n",
      "    -----\n",
      "    When the DFT is computed for purely real input, the output is\n",
      "    Hermitian-symmetric, i.e. the negative frequency terms are just the complex\n",
      "    conjugates of the corresponding positive-frequency terms, and the\n",
      "    negative-frequency terms are therefore redundant.  This function does not\n",
      "    compute the negative frequency terms, and the length of the transformed\n",
      "    axis of the output is therefore ``n//2 + 1``.\n",
      "    \n",
      "    When ``A = rfft(a)`` and fs is the sampling frequency, ``A[0]`` contains\n",
      "    the zero-frequency term 0*fs, which is real due to Hermitian symmetry.\n",
      "    \n",
      "    If `n` is even, ``A[-1]`` contains the term representing both positive\n",
      "    and negative Nyquist frequency (+fs/2 and -fs/2), and must also be purely\n",
      "    real. If `n` is odd, there is no term at fs/2; ``A[-1]`` contains\n",
      "    the largest positive frequency (fs/2*(n-1)/n), and is complex in the\n",
      "    general case.\n",
      "    \n",
      "    If the input `a` contains an imaginary part, it is silently discarded.\n",
      "    \n",
      "    Examples\n",
      "    --------\n",
      "    >>> np.fft.fft([0, 1, 0, 0])\n",
      "    array([ 1.+0.j,  0.-1.j, -1.+0.j,  0.+1.j]) # may vary\n",
      "    >>> np.fft.rfft([0, 1, 0, 0])\n",
      "    array([ 1.+0.j,  0.-1.j, -1.+0.j]) # may vary\n",
      "    \n",
      "    Notice how the final element of the `fft` output is the complex conjugate\n",
      "    of the second element, for real input. For `rfft`, this symmetry is\n",
      "    exploited to compute only the non-negative frequency terms.\n",
      "\n"
     ]
    }
   ],
   "source": [
    "help(np.fft.rfft)"
   ]
  },
  {
   "cell_type": "code",
   "execution_count": null,
   "metadata": {},
   "outputs": [],
   "source": []
  },
  {
   "cell_type": "code",
   "execution_count": null,
   "metadata": {},
   "outputs": [],
   "source": []
  },
  {
   "cell_type": "code",
   "execution_count": null,
   "metadata": {},
   "outputs": [],
   "source": []
  },
  {
   "cell_type": "code",
   "execution_count": null,
   "metadata": {},
   "outputs": [],
   "source": []
  },
  {
   "cell_type": "markdown",
   "metadata": {},
   "source": [
    "# End"
   ]
  },
  {
   "cell_type": "code",
   "execution_count": 3,
   "metadata": {},
   "outputs": [
    {
     "data": {
      "text/plain": [
       "0.999999327347282"
      ]
     },
     "execution_count": 3,
     "metadata": {},
     "output_type": "execute_result"
    },
    {
     "data": {
      "text/plain": [
       "1.0"
      ]
     },
     "execution_count": 3,
     "metadata": {},
     "output_type": "execute_result"
    },
    {
     "data": {
      "text/plain": [
       "1.0"
      ]
     },
     "execution_count": 3,
     "metadata": {},
     "output_type": "execute_result"
    }
   ],
   "source": [
    "np.log(2.71828)\n",
    "np.log2(2)\n",
    "np.log10(10)\n"
   ]
  },
  {
   "cell_type": "code",
   "execution_count": 7,
   "metadata": {},
   "outputs": [
    {
     "data": {
      "text/plain": [
       "1.4649735207179269"
      ]
     },
     "execution_count": 7,
     "metadata": {},
     "output_type": "execute_result"
    },
    {
     "data": {
      "text/plain": [
       "1.464973520717927"
      ]
     },
     "execution_count": 7,
     "metadata": {},
     "output_type": "execute_result"
    }
   ],
   "source": [
    "np.log(5)/np.log(3)\n",
    "np.log2(5)/np.log2(3)"
   ]
  }
 ],
 "metadata": {
  "kernelspec": {
   "display_name": "Python 3",
   "language": "python",
   "name": "python3"
  },
  "language_info": {
   "codemirror_mode": {
    "name": "ipython",
    "version": 3
   },
   "file_extension": ".py",
   "mimetype": "text/x-python",
   "name": "python",
   "nbconvert_exporter": "python",
   "pygments_lexer": "ipython3",
   "version": "3.7.6"
  },
  "toc": {
   "base_numbering": 1,
   "nav_menu": {},
   "number_sections": true,
   "sideBar": true,
   "skip_h1_title": false,
   "title_cell": "Table of Contents",
   "title_sidebar": "Contents",
   "toc_cell": false,
   "toc_position": {
    "height": "calc(100% - 180px)",
    "left": "10px",
    "top": "150px",
    "width": "219.427px"
   },
   "toc_section_display": true,
   "toc_window_display": true
  }
 },
 "nbformat": 4,
 "nbformat_minor": 2
}

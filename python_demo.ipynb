{
 "cells": [
  {
   "cell_type": "markdown",
   "metadata": {},
   "source": [
    "## 导包"
   ]
  },
  {
   "cell_type": "code",
   "execution_count": 1,
   "metadata": {},
   "outputs": [],
   "source": [
    "from IPython.core.interactiveshell import InteractiveShell\n",
    "InteractiveShell.ast_node_interactivity = 'all'  #默认为'last'\n",
    "%matplotlib inline\n",
    "import torch\n",
    "import os\n",
    "import re\n",
    "import sys\n",
    "import numpy as np\n",
    "# from urllib import request\n",
    "import urllib\n",
    "import json"
   ]
  },
  {
   "cell_type": "code",
   "execution_count": 79,
   "metadata": {},
   "outputs": [
    {
     "data": {
      "application/javascript": [
       "IPython.notebook.set_autosave_interval(120000)"
      ]
     },
     "metadata": {},
     "output_type": "display_data"
    },
    {
     "name": "stdout",
     "output_type": "stream",
     "text": [
      "Autosaving every 120 seconds\n"
     ]
    }
   ],
   "source": [
    "%autosave 120"
   ]
  },
  {
   "cell_type": "markdown",
   "metadata": {},
   "source": [
    "## 占用内存大小\n",
    "sys.getsizeof()  \n",
    "sys.getsizeof(int())结果得到 24，python在64位机器上的int占24个 bytes！  \n",
    "按理说64位的机器应该得到8 bytes，这里的原因是python的int类是比较成熟的，带有其他信息，这些其他信息在64位机器上占16个 bytes。"
   ]
  },
  {
   "cell_type": "code",
   "execution_count": 3,
   "metadata": {},
   "outputs": [],
   "source": [
    "sizeof = sys.getsizeof\n",
    "# def sizeof()"
   ]
  },
  {
   "cell_type": "code",
   "execution_count": 5,
   "metadata": {},
   "outputs": [
    {
     "data": {
      "text/plain": [
       "400"
      ]
     },
     "execution_count": 5,
     "metadata": {},
     "output_type": "execute_result"
    },
    {
     "data": {
      "text/plain": [
       "24"
      ]
     },
     "execution_count": 5,
     "metadata": {},
     "output_type": "execute_result"
    }
   ],
   "source": [
    "sizeof(int)\n",
    "sizeof(int())"
   ]
  },
  {
   "cell_type": "code",
   "execution_count": 9,
   "metadata": {},
   "outputs": [
    {
     "data": {
      "text/plain": [
       "400"
      ]
     },
     "execution_count": 9,
     "metadata": {},
     "output_type": "execute_result"
    },
    {
     "data": {
      "text/plain": [
       "400"
      ]
     },
     "execution_count": 9,
     "metadata": {},
     "output_type": "execute_result"
    },
    {
     "data": {
      "text/plain": [
       "72"
      ]
     },
     "execution_count": 9,
     "metadata": {},
     "output_type": "execute_result"
    }
   ],
   "source": [
    "sizeof(str)\n",
    "sizeof(float)\n",
    "sizeof(chr)"
   ]
  },
  {
   "cell_type": "code",
   "execution_count": 12,
   "metadata": {},
   "outputs": [
    {
     "data": {
      "text/plain": [
       "50"
      ]
     },
     "execution_count": 12,
     "metadata": {},
     "output_type": "execute_result"
    },
    {
     "data": {
      "text/plain": [
       "50"
      ]
     },
     "execution_count": 12,
     "metadata": {},
     "output_type": "execute_result"
    },
    {
     "data": {
      "text/plain": [
       "53"
      ]
     },
     "execution_count": 12,
     "metadata": {},
     "output_type": "execute_result"
    }
   ],
   "source": [
    "sizeof('a')\n",
    "sizeof(\"a\")\n",
    "sizeof('abcd')"
   ]
  },
  {
   "cell_type": "code",
   "execution_count": 14,
   "metadata": {},
   "outputs": [
    {
     "data": {
      "text/plain": [
       "28"
      ]
     },
     "execution_count": 14,
     "metadata": {},
     "output_type": "execute_result"
    },
    {
     "data": {
      "text/plain": [
       "24"
      ]
     },
     "execution_count": 14,
     "metadata": {},
     "output_type": "execute_result"
    }
   ],
   "source": [
    "sizeof(100000000)\n",
    "sizeof(100000000.)"
   ]
  },
  {
   "cell_type": "code",
   "execution_count": 17,
   "metadata": {},
   "outputs": [
    {
     "data": {
      "text/plain": [
       "4096"
      ]
     },
     "execution_count": 17,
     "metadata": {},
     "output_type": "execute_result"
    },
    {
     "data": {
      "text/plain": [
       "72"
      ]
     },
     "execution_count": 17,
     "metadata": {},
     "output_type": "execute_result"
    }
   ],
   "source": [
    "sizeof(np.arange(1000))\n",
    "sizeof(torch.arange(1000))"
   ]
  },
  {
   "cell_type": "code",
   "execution_count": 18,
   "metadata": {},
   "outputs": [],
   "source": [
    "from scipy.sparse import csc_matrix, csr_matrix, coo_matrix"
   ]
  },
  {
   "cell_type": "code",
   "execution_count": 27,
   "metadata": {},
   "outputs": [
    {
     "data": {
      "text/plain": [
       "56"
      ]
     },
     "execution_count": 27,
     "metadata": {},
     "output_type": "execute_result"
    },
    {
     "data": {
      "text/plain": [
       "56"
      ]
     },
     "execution_count": 27,
     "metadata": {},
     "output_type": "execute_result"
    },
    {
     "data": {
      "text/plain": [
       "56"
      ]
     },
     "execution_count": 27,
     "metadata": {},
     "output_type": "execute_result"
    }
   ],
   "source": [
    "data = np.eye(1000)\n",
    "sizeof(csc_matrix(data))\n",
    "sizeof(csr_matrix(data))\n",
    "sizeof(coo_matrix(data))"
   ]
  },
  {
   "cell_type": "code",
   "execution_count": 78,
   "metadata": {},
   "outputs": [
    {
     "data": {
      "text/plain": [
       "array([ 0,  1,  2,  3,  4,  5,  6,  7,  8,  9, 10, 11, 12, 13, 14, 15, 16,\n",
       "       17, 18, 19, 20, 21, 22, 23, 24, 25, 26, 27, 28, 29, 30, 31, 32, 33,\n",
       "       34, 35, 36, 37, 38, 39, 40, 41, 42, 43, 44, 45, 46, 47, 48, 49, 50,\n",
       "       51, 52, 53, 54, 55, 56, 57, 58, 59, 60, 61, 62, 63, 64, 65, 66, 67,\n",
       "       68, 69, 70, 71, 72, 73, 74, 75, 76, 77, 78, 79, 80, 81, 82, 83, 84,\n",
       "       85, 86, 87, 88, 89, 90, 91, 92, 93, 94, 95, 96, 97, 98, 99],\n",
       "      dtype=int32)"
      ]
     },
     "execution_count": 78,
     "metadata": {},
     "output_type": "execute_result"
    },
    {
     "data": {
      "text/plain": [
       "72"
      ]
     },
     "execution_count": 78,
     "metadata": {},
     "output_type": "execute_result"
    },
    {
     "data": {
      "text/plain": [
       "72"
      ]
     },
     "execution_count": 78,
     "metadata": {},
     "output_type": "execute_result"
    },
    {
     "data": {
      "text/plain": [
       "torch.Tensor"
      ]
     },
     "execution_count": 78,
     "metadata": {},
     "output_type": "execute_result"
    },
    {
     "data": {
      "text/plain": [
       "torch.Tensor"
      ]
     },
     "execution_count": 78,
     "metadata": {},
     "output_type": "execute_result"
    }
   ],
   "source": [
    "# data = np.eye(1000)\n",
    "coo = coo_matrix(np.eye(100))\n",
    "row = coo.row\n",
    "col = coo.col\n",
    "row\n",
    "i = torch.from_numpy(np.stack([row, col]))\n",
    "# i\n",
    "data = coo.data\n",
    "v = torch.from_numpy(data)\n",
    "t1 = torch.sparse_coo_tensor(i, v, [100, 100])\n",
    "t2 = torch.sparse.FloatTensor(i.long(), v, [100, 100])\n",
    "sizeof(t1)\n",
    "sizeof(t2)\n",
    "type(t1)\n",
    "type(t2)\n"
   ]
  },
  {
   "cell_type": "code",
   "execution_count": 60,
   "metadata": {},
   "outputs": [
    {
     "name": "stdout",
     "output_type": "stream",
     "text": [
      "Help on layout object:\n",
      "\n",
      "class layout(builtins.object)\n",
      " |  Methods defined here:\n",
      " |  \n",
      " |  __repr__(self, /)\n",
      " |      Return repr(self).\n",
      "\n",
      "Help on built-in function sparse_coo_tensor:\n",
      "\n",
      "sparse_coo_tensor(...)\n",
      "    sparse_coo_tensor(indices, values, size=None, dtype=None, device=None, requires_grad=False) -> Tensor\n",
      "    \n",
      "    Constructs a sparse tensors in COO(rdinate) format with non-zero elements at the given :attr:`indices`\n",
      "    with the given :attr:`values`. A sparse tensor can be `uncoalesced`, in that case, there are duplicate\n",
      "    coordinates in the indices, and the value at that index is the sum of all duplicate value entries:\n",
      "    `torch.sparse`_.\n",
      "    \n",
      "    Args:\n",
      "        indices (array_like): Initial data for the tensor. Can be a list, tuple,\n",
      "            NumPy ``ndarray``, scalar, and other types. Will be cast to a :class:`torch.LongTensor`\n",
      "            internally. The indices are the coordinates of the non-zero values in the matrix, and thus\n",
      "            should be two-dimensional where the first dimension is the number of tensor dimensions and\n",
      "            the second dimension is the number of non-zero values.\n",
      "        values (array_like): Initial values for the tensor. Can be a list, tuple,\n",
      "            NumPy ``ndarray``, scalar, and other types.\n",
      "        size (list, tuple, or :class:`torch.Size`, optional): Size of the sparse tensor. If not\n",
      "            provided the size will be inferred as the minimum size big enough to hold all non-zero\n",
      "            elements.\n",
      "        dtype (:class:`torch.dtype`, optional): the desired data type of returned tensor.\n",
      "            Default: if None, infers data type from :attr:`values`.\n",
      "        device (:class:`torch.device`, optional): the desired device of returned tensor.\n",
      "            Default: if None, uses the current device for the default tensor type\n",
      "            (see :func:`torch.set_default_tensor_type`). :attr:`device` will be the CPU\n",
      "            for CPU tensor types and the current CUDA device for CUDA tensor types.\n",
      "        requires_grad (bool, optional): If autograd should record operations on the\n",
      "            returned tensor. Default: ``False``.\n",
      "    \n",
      "    \n",
      "    Example::\n",
      "    \n",
      "        >>> i = torch.tensor([[0, 1, 1],\n",
      "                              [2, 0, 2]])\n",
      "        >>> v = torch.tensor([3, 4, 5], dtype=torch.float32)\n",
      "        >>> torch.sparse_coo_tensor(i, v, [2, 4])\n",
      "        tensor(indices=tensor([[0, 1, 1],\n",
      "                               [2, 0, 2]]),\n",
      "               values=tensor([3., 4., 5.]),\n",
      "               size=(2, 4), nnz=3, layout=torch.sparse_coo)\n",
      "    \n",
      "        >>> torch.sparse_coo_tensor(i, v)  # Shape inference\n",
      "        tensor(indices=tensor([[0, 1, 1],\n",
      "                               [2, 0, 2]]),\n",
      "               values=tensor([3., 4., 5.]),\n",
      "               size=(2, 3), nnz=3, layout=torch.sparse_coo)\n",
      "    \n",
      "        >>> torch.sparse_coo_tensor(i, v, [2, 4],\n",
      "                                    dtype=torch.float64,\n",
      "                                    device=torch.device('cuda:0'))\n",
      "        tensor(indices=tensor([[0, 1, 1],\n",
      "                               [2, 0, 2]]),\n",
      "               values=tensor([3., 4., 5.]),\n",
      "               device='cuda:0', size=(2, 4), nnz=3, dtype=torch.float64,\n",
      "               layout=torch.sparse_coo)\n",
      "    \n",
      "        # Create an empty sparse tensor with the following invariants:\n",
      "        #   1. sparse_dim + dense_dim = len(SparseTensor.shape)\n",
      "        #   2. SparseTensor._indices().shape = (sparse_dim, nnz)\n",
      "        #   3. SparseTensor._values().shape = (nnz, SparseTensor.shape[sparse_dim:])\n",
      "        #\n",
      "        # For instance, to create an empty sparse tensor with nnz = 0, dense_dim = 0 and\n",
      "        # sparse_dim = 1 (hence indices is a 2D tensor of shape = (1, 0))\n",
      "        >>> S = torch.sparse_coo_tensor(torch.empty([1, 0]), [], [1])\n",
      "        tensor(indices=tensor([], size=(1, 0)),\n",
      "               values=tensor([], size=(0,)),\n",
      "               size=(1,), nnz=0, layout=torch.sparse_coo)\n",
      "    \n",
      "        # and to create an empty sparse tensor with nnz = 0, dense_dim = 1 and\n",
      "        # sparse_dim = 1\n",
      "        >>> S = torch.sparse_coo_tensor(torch.empty([1, 0]), torch.empty([0, 2]), [1, 2])\n",
      "        tensor(indices=tensor([], size=(1, 0)),\n",
      "               values=tensor([], size=(0, 2)),\n",
      "               size=(1, 2), nnz=0, layout=torch.sparse_coo)\n",
      "    \n",
      "    .. _torch.sparse: https://pytorch.org/docs/stable/sparse.html\n",
      "\n"
     ]
    }
   ],
   "source": [
    "help(torch.sparse_coo)\n",
    "help(torch.sparse_coo_tensor)"
   ]
  },
  {
   "cell_type": "code",
   "execution_count": 56,
   "metadata": {},
   "outputs": [
    {
     "data": {
      "text/plain": [
       "11.730957135558128"
      ]
     },
     "execution_count": 56,
     "metadata": {},
     "output_type": "execute_result"
    },
    {
     "data": {
      "text/plain": [
       "72"
      ]
     },
     "execution_count": 56,
     "metadata": {},
     "output_type": "execute_result"
    }
   ],
   "source": [
    "sizeof(np.eye(39680))/(1024**3) # 试验numpy最大维度\n",
    "sizeof(torch.eye(50000)) # pytorch可以很大"
   ]
  },
  {
   "cell_type": "markdown",
   "metadata": {},
   "source": [
    "# modules"
   ]
  },
  {
   "cell_type": "markdown",
   "metadata": {},
   "source": [
    "* TVTK\n"
   ]
  },
  {
   "cell_type": "markdown",
   "metadata": {},
   "source": [
    "# 字典"
   ]
  },
  {
   "cell_type": "markdown",
   "metadata": {},
   "source": [
    "[Python创建字典的八种方式](https://www.jb51.net/article/157029.htm)"
   ]
  },
  {
   "cell_type": "code",
   "execution_count": 111,
   "metadata": {},
   "outputs": [
    {
     "data": {
      "text/plain": [
       "{0: [1, 2, 3, 4], 1: [1, 2, 3, 4], 2: [1, 2, 3, 4], 3: [1, 2, 3, 4]}"
      ]
     },
     "execution_count": 111,
     "metadata": {},
     "output_type": "execute_result"
    }
   ],
   "source": [
    "a = 'abcd'\n",
    "a = [1, 2, 3, 4]\n",
    "b = dict.fromkeys(range(4), a)\n",
    "b"
   ]
  },
  {
   "cell_type": "code",
   "execution_count": 112,
   "metadata": {},
   "outputs": [
    {
     "data": {
      "text/plain": [
       "{0: 1, 1: 2, 2: 3, 3: 4}"
      ]
     },
     "execution_count": 112,
     "metadata": {},
     "output_type": "execute_result"
    }
   ],
   "source": [
    "dict(zip(range(4),a))"
   ]
  },
  {
   "cell_type": "code",
   "execution_count": 104,
   "metadata": {},
   "outputs": [
    {
     "data": {
      "text/plain": [
       "['__class__',\n",
       " '__contains__',\n",
       " '__delattr__',\n",
       " '__delitem__',\n",
       " '__dir__',\n",
       " '__doc__',\n",
       " '__eq__',\n",
       " '__format__',\n",
       " '__ge__',\n",
       " '__getattribute__',\n",
       " '__getitem__',\n",
       " '__gt__',\n",
       " '__hash__',\n",
       " '__init__',\n",
       " '__init_subclass__',\n",
       " '__iter__',\n",
       " '__le__',\n",
       " '__len__',\n",
       " '__lt__',\n",
       " '__ne__',\n",
       " '__new__',\n",
       " '__reduce__',\n",
       " '__reduce_ex__',\n",
       " '__repr__',\n",
       " '__setattr__',\n",
       " '__setitem__',\n",
       " '__sizeof__',\n",
       " '__str__',\n",
       " '__subclasshook__',\n",
       " 'clear',\n",
       " 'copy',\n",
       " 'fromkeys',\n",
       " 'get',\n",
       " 'items',\n",
       " 'keys',\n",
       " 'pop',\n",
       " 'popitem',\n",
       " 'setdefault',\n",
       " 'update',\n",
       " 'values']"
      ]
     },
     "execution_count": 104,
     "metadata": {},
     "output_type": "execute_result"
    }
   ],
   "source": [
    "dir(dict)"
   ]
  },
  {
   "cell_type": "markdown",
   "metadata": {},
   "source": [
    "# 文件操作"
   ]
  },
  {
   "cell_type": "code",
   "execution_count": 113,
   "metadata": {},
   "outputs": [],
   "source": [
    "import shutil"
   ]
  },
  {
   "cell_type": "code",
   "execution_count": 116,
   "metadata": {},
   "outputs": [],
   "source": [
    "# path_todel = r\"D:\\PycharmProjects\\pdb_02\\saves\\1\"\n",
    "# shutil.rmtree(path_todel)"
   ]
  },
  {
   "cell_type": "code",
   "execution_count": null,
   "metadata": {},
   "outputs": [],
   "source": []
  },
  {
   "cell_type": "code",
   "execution_count": null,
   "metadata": {},
   "outputs": [],
   "source": []
  },
  {
   "cell_type": "markdown",
   "metadata": {},
   "source": [
    "# 面向对象"
   ]
  },
  {
   "cell_type": "code",
   "execution_count": null,
   "metadata": {},
   "outputs": [],
   "source": []
  },
  {
   "cell_type": "code",
   "execution_count": 26,
   "metadata": {},
   "outputs": [
    {
     "data": {
      "text/plain": [
       "1"
      ]
     },
     "execution_count": 26,
     "metadata": {},
     "output_type": "execute_result"
    },
    {
     "data": {
      "text/plain": [
       "1"
      ]
     },
     "execution_count": 26,
     "metadata": {},
     "output_type": "execute_result"
    },
    {
     "data": {
      "text/plain": [
       "3"
      ]
     },
     "execution_count": 26,
     "metadata": {},
     "output_type": "execute_result"
    }
   ],
   "source": [
    "class V1:\n",
    "    def __init__(self, x, y):\n",
    "        self.__x = x\n",
    "        self.__y = y\n",
    "\n",
    "    @property\n",
    "    def x(self):\n",
    "        return self.__x\n",
    "\n",
    "    @x.setter\n",
    "    def x(self, v):\n",
    "        self.__x = v\n",
    "\n",
    "    @property\n",
    "    def y(self):\n",
    "        return self.__y\n",
    "\n",
    "\n",
    "v1 = V1(1, 2)\n",
    "v1.x\n",
    "v1._V1__x\n",
    "v1.x = 3\n",
    "v1.x"
   ]
  },
  {
   "cell_type": "code",
   "execution_count": 19,
   "metadata": {},
   "outputs": [
    {
     "ename": "AttributeError",
     "evalue": "'V2' object has no attribute 'x'",
     "output_type": "error",
     "traceback": [
      "\u001b[1;31m---------------------------------------------------------------------------\u001b[0m",
      "\u001b[1;31mAttributeError\u001b[0m                            Traceback (most recent call last)",
      "\u001b[1;32m<ipython-input-19-1b62a6112c82>\u001b[0m in \u001b[0;36m<module>\u001b[1;34m\u001b[0m\n\u001b[0;32m      3\u001b[0m         \u001b[0mself\u001b[0m\u001b[1;33m.\u001b[0m\u001b[0m__x\u001b[0m \u001b[1;33m=\u001b[0m \u001b[0mx\u001b[0m\u001b[1;33m\u001b[0m\u001b[1;33m\u001b[0m\u001b[0m\n\u001b[0;32m      4\u001b[0m \u001b[0mv2\u001b[0m \u001b[1;33m=\u001b[0m \u001b[0mV2\u001b[0m\u001b[1;33m(\u001b[0m\u001b[1;36m1\u001b[0m\u001b[1;33m)\u001b[0m\u001b[1;33m\u001b[0m\u001b[1;33m\u001b[0m\u001b[0m\n\u001b[1;32m----> 5\u001b[1;33m \u001b[0mv2\u001b[0m\u001b[1;33m.\u001b[0m\u001b[0mx\u001b[0m\u001b[1;33m\u001b[0m\u001b[1;33m\u001b[0m\u001b[0m\n\u001b[0m",
      "\u001b[1;31mAttributeError\u001b[0m: 'V2' object has no attribute 'x'"
     ]
    }
   ],
   "source": [
    "class V2:\n",
    "    def __init__(self,x):\n",
    "        self.__x = x\n",
    "v2 = V2(1)\n",
    "# v2.x"
   ]
  },
  {
   "cell_type": "markdown",
   "metadata": {},
   "source": [
    "# 正则表达式  \n",
    "* search  \n",
    "    search(pattern, string, flags=0)\n",
    "* match  \n",
    "    match(pattern, string, flags=0)"
   ]
  },
  {
   "cell_type": "markdown",
   "metadata": {},
   "source": [
    "[Python 正则表达式](https://www.runoob.com/python/python-reg-expressions.html)"
   ]
  },
  {
   "cell_type": "code",
   "execution_count": 1,
   "metadata": {},
   "outputs": [],
   "source": [
    "import re"
   ]
  },
  {
   "cell_type": "markdown",
   "metadata": {},
   "source": [
    "## re.match函数  \n",
    "re.match 尝试从字符串的起始位置匹配一个模式，如果不是起始位置匹配成功的话，match()就返回none。  \n",
    "函数语法：\n",
    "re.match(pattern, string, flags=0)"
   ]
  },
  {
   "cell_type": "code",
   "execution_count": 23,
   "metadata": {},
   "outputs": [
    {
     "name": "stdout",
     "output_type": "stream",
     "text": [
      "(0, 3)\n",
      "None\n"
     ]
    }
   ],
   "source": [
    "print(re.match('www', 'www.runoob.com').span())  # 在起始位置匹配\n",
    "print(re.match('com', 'www.runoob.com'))         # 不在起始位置匹配"
   ]
  },
  {
   "cell_type": "code",
   "execution_count": 8,
   "metadata": {},
   "outputs": [
    {
     "data": {
      "text/plain": [
       "(0, 3)"
      ]
     },
     "execution_count": 8,
     "metadata": {},
     "output_type": "execute_result"
    }
   ],
   "source": [
    "re.match('www', 'www.runoob.com').span()"
   ]
  },
  {
   "cell_type": "code",
   "execution_count": 17,
   "metadata": {},
   "outputs": [
    {
     "data": {
      "text/plain": [
       "'a Cats are smarter than dogs'"
      ]
     },
     "execution_count": 17,
     "metadata": {},
     "output_type": "execute_result"
    },
    {
     "data": {
      "text/plain": [
       "'Cats'"
      ]
     },
     "execution_count": 17,
     "metadata": {},
     "output_type": "execute_result"
    },
    {
     "data": {
      "text/plain": [
       "'smarter'"
      ]
     },
     "execution_count": 17,
     "metadata": {},
     "output_type": "execute_result"
    }
   ],
   "source": [
    "line = \"a Cats are smarter than dogs\"\n",
    "\n",
    "matchObj = re.match( r'a (.*) are (.*?) .*', line, re.M|re.I)\n",
    "if matchObj:\n",
    "    print(\"matchObj.group() : \", matchObj.group())\n",
    "    print(\"matchObj.group(1) : \", matchObj.group(1))\n",
    "    print(\"matchObj.group(2) : \", matchObj.group(2))\n",
    "else:\n",
    "    print(\"No match!!\")"
   ]
  },
  {
   "cell_type": "markdown",
   "metadata": {},
   "source": [
    "## re.search方法  \n",
    "re.search 扫描整个字符串并返回第一个成功的匹配。  \n",
    "函数语法：\n",
    "re.search(pattern, string, flags=0)"
   ]
  },
  {
   "cell_type": "code",
   "execution_count": 21,
   "metadata": {},
   "outputs": [
    {
     "data": {
      "text/plain": [
       "(0, 3)"
      ]
     },
     "execution_count": 21,
     "metadata": {},
     "output_type": "execute_result"
    },
    {
     "data": {
      "text/plain": [
       "<re.Match object; span=(11, 14), match='com'>"
      ]
     },
     "execution_count": 21,
     "metadata": {},
     "output_type": "execute_result"
    }
   ],
   "source": [
    "re.search('www', 'www.runoob.com').span()  # 在起始位置匹配\n",
    "re.search('com', 'www.runoob.com').span()  # 不在起始位置匹配"
   ]
  },
  {
   "cell_type": "code",
   "execution_count": 20,
   "metadata": {},
   "outputs": [
    {
     "name": "stdout",
     "output_type": "stream",
     "text": [
      "searchObj.group() :  Cats are smarter than dogs\n",
      "searchObj.group(1) :  Cats\n",
      "searchObj.group(2) :  smarter\n"
     ]
    }
   ],
   "source": [
    "line = \"Cats are smarter than dogs\";\n",
    " \n",
    "searchObj = re.search( r'(.*) are (.*?) .*', line, re.M|re.I)\n",
    "\n",
    "if searchObj:\n",
    "    print(\"searchObj.group() : \", searchObj.group())\n",
    "    print(\"searchObj.group(1) : \", searchObj.group(1))\n",
    "    print(\"searchObj.group(2) : \", searchObj.group(2))\n",
    "else:\n",
    "    print(\"Nothing found!!\")"
   ]
  },
  {
   "cell_type": "markdown",
   "metadata": {},
   "source": [
    "## re.match与re.search的区别  \n",
    "re.match只匹配字符串的开始，如果字符串开始不符合正则表达式，则匹配失败，函数返回None；而re.search匹配整个字符串，直到找到一个匹配。"
   ]
  },
  {
   "cell_type": "code",
   "execution_count": 25,
   "metadata": {},
   "outputs": [
    {
     "name": "stdout",
     "output_type": "stream",
     "text": [
      "No match!!\n",
      "search --> searchObj.group() :  dogs\n"
     ]
    }
   ],
   "source": [
    "line = \"Cats are smarter than dogs\";\n",
    " \n",
    "matchObj = re.match( r'dogs', line, re.M|re.I)\n",
    "if matchObj:\n",
    "    print(\"match --> matchObj.group() : \", matchObj.group())\n",
    "else:\n",
    "    print(\"No match!!\")\n",
    "\n",
    "matchObj = re.search( r'dogs', line, re.M|re.I)\n",
    "if matchObj:\n",
    "    print(\"search --> searchObj.group() : \", matchObj.group())\n",
    "else:\n",
    "    print(\"No match!!\")"
   ]
  },
  {
   "cell_type": "markdown",
   "metadata": {},
   "source": [
    "## 检索和替换\n",
    "Python 的 re 模块提供了re.sub用于替换字符串中的匹配项。  \n",
    "语法：\n",
    "re.sub(pattern, repl, string, count=0, flags=0)  \n",
    "参数：  \n",
    "* pattern : 正则中的模式字符串。\n",
    "* repl : 替换的字符串，也可为一个函数。\n",
    "* string : 要被查找替换的原始字符串。\n",
    "* count : 模式匹配后替换的最大次数，默认 0 表示替换所有的匹配。"
   ]
  },
  {
   "cell_type": "code",
   "execution_count": 26,
   "metadata": {},
   "outputs": [
    {
     "name": "stdout",
     "output_type": "stream",
     "text": [
      "电话号码是:  2004-959-559 \n",
      "电话号码是 :  2004959559\n"
     ]
    }
   ],
   "source": [
    "phone = \"2004-959-559 # 这是一个国外电话号码\"\n",
    " \n",
    "# 删除字符串中的 Python注释 \n",
    "num = re.sub(r'#.*$', \"\", phone)\n",
    "print(\"电话号码是: \", num)\n",
    " \n",
    "# 删除非数字(-)的字符串 \n",
    "num = re.sub(r'\\D', \"\", phone)\n",
    "print(\"电话号码是 : \", num)"
   ]
  },
  {
   "cell_type": "code",
   "execution_count": 27,
   "metadata": {},
   "outputs": [
    {
     "name": "stdout",
     "output_type": "stream",
     "text": [
      "A46G8HFD1134\n"
     ]
    }
   ],
   "source": [
    "# 将匹配的数字乘以 2\n",
    "def double(matched):\n",
    "    value = int(matched.group('value'))\n",
    "    return str(value * 2)\n",
    " \n",
    "s = 'A23G4HFD567'\n",
    "print(re.sub('(?P<value>\\d+)', double, s))"
   ]
  },
  {
   "cell_type": "markdown",
   "metadata": {},
   "source": [
    "## re.compile 函数\n",
    "compile 函数用于编译正则表达式，生成一个正则表达式（ Pattern ）对象，供 match() 和 search() 这两个函数使用。  \n",
    "语法格式为：\n",
    "re.compile(pattern\\[, flags\\])  \n",
    "参数：\n",
    "\n",
    "* pattern : 一个字符串形式的正则表达式\n",
    "* flags : 可选，表示匹配模式，比如忽略大小写，多行模式等，具体参数为：\n",
    "    * re.I 忽略大小写\n",
    "    * re.L 表示特殊字符集 \\w, \\W, \\b, \\B, \\s, \\S 依赖于当前环境\n",
    "    * re.M 多行模式\n",
    "    * re.S 即为 . 并且包括换行符在内的任意字符（. 不包括换行符）\n",
    "    * re.U 表示特殊字符集 \\w, \\W, \\b, \\B, \\d, \\D, \\s, \\S 依赖于 Unicode 字符属性数据库\n",
    "    * re.X 为了增加可读性，忽略空格和 # 后面的注释"
   ]
  },
  {
   "cell_type": "code",
   "execution_count": 28,
   "metadata": {},
   "outputs": [
    {
     "name": "stdout",
     "output_type": "stream",
     "text": [
      "None\n",
      "None\n",
      "<re.Match object; span=(3, 5), match='12'>\n"
     ]
    },
    {
     "data": {
      "text/plain": [
       "'12'"
      ]
     },
     "execution_count": 28,
     "metadata": {},
     "output_type": "execute_result"
    },
    {
     "data": {
      "text/plain": [
       "3"
      ]
     },
     "execution_count": 28,
     "metadata": {},
     "output_type": "execute_result"
    },
    {
     "data": {
      "text/plain": [
       "5"
      ]
     },
     "execution_count": 28,
     "metadata": {},
     "output_type": "execute_result"
    },
    {
     "data": {
      "text/plain": [
       "(3, 5)"
      ]
     },
     "execution_count": 28,
     "metadata": {},
     "output_type": "execute_result"
    }
   ],
   "source": [
    "pattern = re.compile(r'\\d+')                    # 用于匹配至少一个数字\n",
    "m = pattern.match('one12twothree34four')        # 查找头部，没有匹配\n",
    "print(m)\n",
    "# None\n",
    "m = pattern.match('one12twothree34four', 2, 10) # 从'e'的位置开始匹配，没有匹配\n",
    "print(m)\n",
    "# None\n",
    "m = pattern.match('one12twothree34four', 3, 10) # 从'1'的位置开始匹配，正好匹配\n",
    "print(m)                                        # 返回一个 Match 对象\n",
    "# <_sre.SRE_Match object at 0x10a42aac0>\n",
    "m.group(0)   # 可省略 0\n",
    "# '12'\n",
    "m.start(0)   # 可省略 0\n",
    "# 3\n",
    "m.end(0)     # 可省略 0\n",
    "# 5\n",
    "m.span(0)    # 可省略 0\n",
    "# (3, 5)"
   ]
  },
  {
   "cell_type": "code",
   "execution_count": 29,
   "metadata": {},
   "outputs": [
    {
     "data": {
      "text/plain": [
       "<re.Match object; span=(0, 11), match='Hello World'>"
      ]
     },
     "execution_count": 29,
     "metadata": {},
     "output_type": "execute_result"
    },
    {
     "data": {
      "text/plain": [
       "'Hello World'"
      ]
     },
     "execution_count": 29,
     "metadata": {},
     "output_type": "execute_result"
    },
    {
     "data": {
      "text/plain": [
       "(0, 11)"
      ]
     },
     "execution_count": 29,
     "metadata": {},
     "output_type": "execute_result"
    },
    {
     "data": {
      "text/plain": [
       "'Hello'"
      ]
     },
     "execution_count": 29,
     "metadata": {},
     "output_type": "execute_result"
    },
    {
     "data": {
      "text/plain": [
       "(0, 5)"
      ]
     },
     "execution_count": 29,
     "metadata": {},
     "output_type": "execute_result"
    },
    {
     "data": {
      "text/plain": [
       "'World'"
      ]
     },
     "execution_count": 29,
     "metadata": {},
     "output_type": "execute_result"
    },
    {
     "data": {
      "text/plain": [
       "(6, 11)"
      ]
     },
     "execution_count": 29,
     "metadata": {},
     "output_type": "execute_result"
    },
    {
     "data": {
      "text/plain": [
       "('Hello', 'World')"
      ]
     },
     "execution_count": 29,
     "metadata": {},
     "output_type": "execute_result"
    }
   ],
   "source": [
    "pattern = re.compile(r'([a-z]+) ([a-z]+)', re.I)   # re.I 表示忽略大小写\n",
    "m = pattern.match('Hello World Wide Web')\n",
    "m                               # 匹配成功，返回一个 Match 对象\n",
    "# <_sre.SRE_Match object at 0x10bea83e8>\n",
    "m.group(0)                            # 返回匹配成功的整个子串\n",
    "# 'Hello World'\n",
    "m.span(0)                             # 返回匹配成功的整个子串的索引\n",
    "# (0, 11)\n",
    "m.group(1)                            # 返回第一个分组匹配成功的子串\n",
    "# 'Hello'\n",
    "m.span(1)                             # 返回第一个分组匹配成功的子串的索引\n",
    "# (0, 5)\n",
    "m.group(2)                            # 返回第二个分组匹配成功的子串\n",
    "# 'World'\n",
    "m.span(2)                             # 返回第二个分组匹配成功的子串\n",
    "# (6, 11)\n",
    "m.groups()                            # 等价于 (m.group(1), m.group(2), ...)\n",
    "# ('Hello', 'World')"
   ]
  },
  {
   "cell_type": "markdown",
   "metadata": {},
   "source": [
    "## findall\n",
    "在字符串中找到正则表达式所匹配的所有子串，并返回一个列表，如果没有找到匹配的，则返回空列表。  \n",
    "注意： match 和 search 是匹配一次 findall 匹配所有。  \n",
    "语法格式为：\n",
    "findall(string\\[, pos\\[, endpos\\]\\])  \n",
    "* 参数：\n",
    "    * string : 待匹配的字符串。\n",
    "    * pos : 可选参数，指定字符串的起始位置，默认为 0。\n",
    "    * endpos : 可选参数，指定字符串的结束位置，默认为字符串的长度。"
   ]
  },
  {
   "cell_type": "code",
   "execution_count": 30,
   "metadata": {},
   "outputs": [
    {
     "name": "stdout",
     "output_type": "stream",
     "text": [
      "['123', '456']\n",
      "['88', '12']\n"
     ]
    }
   ],
   "source": [
    "pattern = re.compile(r'\\d+')   # 查找数字\n",
    "result1 = pattern.findall('runoob 123 google 456')\n",
    "result2 = pattern.findall('run88oob123google456', 0, 10)\n",
    " \n",
    "print(result1)\n",
    "print(result2)"
   ]
  },
  {
   "cell_type": "markdown",
   "metadata": {},
   "source": [
    "## re.finditer\n",
    "和 findall 类似，在字符串中找到正则表达式所匹配的所有子串，并把它们作为一个迭代器返回。\n",
    "\n",
    "re.finditer(pattern, string, flags=0)"
   ]
  },
  {
   "cell_type": "code",
   "execution_count": 31,
   "metadata": {},
   "outputs": [
    {
     "name": "stdout",
     "output_type": "stream",
     "text": [
      "12\n",
      "32\n",
      "43\n",
      "3\n"
     ]
    }
   ],
   "source": [
    "it = re.finditer(r\"\\d+\",\"12a32bc43jf3\") \n",
    "for match in it: \n",
    "    print (match.group() )"
   ]
  },
  {
   "cell_type": "markdown",
   "metadata": {},
   "source": [
    "## re.split\n",
    "split 方法按照能够匹配的子串将字符串分割后返回列表，它的使用形式如下：\n",
    "\n",
    "re.split(pattern, string[, maxsplit=0, flags=0])"
   ]
  },
  {
   "cell_type": "code",
   "execution_count": 32,
   "metadata": {},
   "outputs": [
    {
     "data": {
      "text/plain": [
       "['runoob', 'runoob', 'runoob', '']"
      ]
     },
     "execution_count": 32,
     "metadata": {},
     "output_type": "execute_result"
    },
    {
     "data": {
      "text/plain": [
       "['', ' ', 'runoob', ', ', 'runoob', ', ', 'runoob', '.', '']"
      ]
     },
     "execution_count": 32,
     "metadata": {},
     "output_type": "execute_result"
    },
    {
     "data": {
      "text/plain": [
       "['', 'runoob, runoob, runoob.']"
      ]
     },
     "execution_count": 32,
     "metadata": {},
     "output_type": "execute_result"
    },
    {
     "data": {
      "text/plain": [
       "['', 'h', 'e', 'l', 'l', 'o', ' ', 'w', 'o', 'r', 'l', 'd', '']"
      ]
     },
     "execution_count": 32,
     "metadata": {},
     "output_type": "execute_result"
    }
   ],
   "source": [
    "re.split('\\W+', 'runoob, runoob, runoob.')\n",
    "# ['runoob', 'runoob', 'runoob', '']\n",
    "re.split('(\\W+)', ' runoob, runoob, runoob.') \n",
    "# ['', ' ', 'runoob', ', ', 'runoob', ', ', 'runoob', '.', '']\n",
    "re.split('\\W+', ' runoob, runoob, runoob.', 1) \n",
    "# ['', 'runoob, runoob, runoob.']\n",
    " \n",
    "re.split('a*', 'hello world')   # 对于一个找不到匹配的字符串而言，split 不会对其作出分割"
   ]
  },
  {
   "cell_type": "markdown",
   "metadata": {},
   "source": [
    "## 正则表达式修饰符 - 可选标志\n",
    "正则表达式可以包含一些可选标志修饰符来控制匹配的模式。修饰符被指定为一个可选的标志。多个标志可以通过按位 OR(|) 它们来指定。如 re.I | re.M 被设置成 I 和 M 标志：  \n",
    "\n",
    "修饰符|描述\n",
    ":---:|:---\n",
    "re.I|使匹配对大小写不敏感\n",
    "re.L|做本地化识别（locale-aware）匹配\n",
    "re.M|多行匹配，影响 \\^ 和 \\$\n",
    "re.S|使 . 匹配包括换行在内的所有字符\n",
    "re.U|根据Unicode字符集解析字符。这个标志影响 \\w, \\W, \\b, \\B.\n",
    "re.X|该标志通过给予你更灵活的格式以便你将正则表达式写得更易于理解。"
   ]
  },
  {
   "cell_type": "markdown",
   "metadata": {},
   "source": [
    "## 正则表达式模式\n",
    "模式字符串使用特殊的语法来表示一个正则表达式：\n",
    "\n",
    "字母和数字表示他们自身。一个正则表达式模式中的字母和数字匹配同样的字符串。\n",
    "\n",
    "多数字母和数字前加一个反斜杠时会拥有不同的含义。\n",
    "\n",
    "标点符号只有被转义时才匹配自身，否则它们表示特殊的含义。\n",
    "\n",
    "反斜杠本身需要使用反斜杠转义。\n",
    "\n",
    "由于正则表达式通常都包含反斜杠，所以你最好使用原始字符串来表示它们。模式元素(如 r'\\t'，等价于 '\\\\t')匹配相应的特殊字符。\n",
    "\n",
    "下表列出了正则表达式模式语法中的特殊元素。如果你使用模式的同时提供了可选的标志参数，某些模式元素的含义会改变。  \n",
    "\n",
    "模式|描述\n",
    ":---:|:---\n",
    "\\^|匹配字符串的开头\n",
    "\\$|匹配字符串的末尾。\n",
    ".|匹配任意字符，除了换行符，当re.DOTALL标记被指定时，则可以匹配包括换行符的任意字符。\n",
    "\\[...\\]|用来表示一组字符,单独列出：[amk] 匹配 'a'，'m'或'k'\n",
    "\\[^...\\]|不在\\[\\]中的字符：\\[^abc\\] 匹配除了a,b,c之外的字符。\n",
    "re*|匹配0个或多个的表达式。\n",
    "re+|匹配1个或多个的表达式。\n",
    "re?|匹配0个或1个由前面的正则表达式定义的片段，非贪婪方式\n",
    "re\\{ n\\}|精确匹配 n 个前面表达式。例如， o\\{2\\} 不能匹配 \"Bob\" 中的 \"o\"，但是能匹配 \"food\" 中的两个 o。\n",
    "re\\{ n,\\}|匹配 n 个前面表达式。例如， o\\{2,\\} 不能匹配\"Bob\"中的\"o\"，但能匹配 \"foooood\"中的所有 o。\"o{1,}\" 等价于 \"o+\"。\"o\\{0,\\}\" 则等价于 \"o*\"。\n",
    "re\\{ n, m\\}|匹配 n 到 m 次由前面的正则表达式定义的片段，贪婪方式\n",
    "a| b|匹配a或b\n",
    "(re)|对正则表达式分组并记住匹配的文本\n",
    "(?imx)|正则表达式包含三种可选标志：i, m, 或 x 。只影响括号中的区域。\n",
    "(?-imx)|正则表达式关闭 i, m, 或 x 可选标志。只影响括号中的区域。\n",
    "(?: re)|类似 (...), 但是不表示一个组\n",
    "(?imx: re)|在括号中使用i, m, 或 x 可选标志\n",
    "(?-imx: re)|在括号中不使用i, m, 或 x 可选标志\n",
    "(?#...)|注释.\n",
    "(?= re)|前向肯定界定符。如果所含正则表达式，以 ... 表示，在当前位置成功匹配时成功，否则失败。但一旦所含表达式已经尝试，匹配引擎根本没有提高；模式的剩余部分还要尝试界定符的右边。\n",
    "(?! re)|前向否定界定符。与肯定界定符相反；当所含表达式不能在字符串当前位置匹配时成功\n",
    "(?> re)|匹配的独立模式，省去回溯。\n",
    "\\w|匹配字母数字及下划线\n",
    "\\W|匹配非字母数字及下划线\n",
    "\\s|匹配任意空白字符，等价于 \\[\\t\\n\\r\\f\\].\n",
    "\\S|匹配任意非空字符\n",
    "\\d|匹配任意数字，等价于 [0-9].\n",
    "\\D|匹配任意非数字\n",
    "\\A|匹配字符串开始\n",
    "\\Z|匹配字符串结束，如果是存在换行，只匹配到换行前的结束字符串。\n",
    "\\z|匹配字符串结束\n",
    "\\G|匹配最后匹配完成的位置。\n",
    "\\b|匹配一个单词边界，也就是指单词和空格间的位置。例如， 'er\\b' 可以匹配\"never\" 中的 'er'，但不能匹配 \"verb\" 中的 'er'。\n",
    "\\B|匹配非单词边界。'er\\B' 能匹配 \"verb\" 中的 'er'，但不能匹配 \"never\" 中的 'er'。\n",
    "\\n, \\t, 等.|匹配一个换行符。匹配一个制表符。等\n",
    "\\1...\\9|匹配第n个分组的内容。\n",
    "\\10|匹配第n个分组的内容，如果它经匹配。否则指的是八进制字符码的表达式。\n"
   ]
  },
  {
   "cell_type": "markdown",
   "metadata": {},
   "source": [
    "## 正则表达式实例\n",
    "字符匹配\n",
    "\n",
    "实例|描述\n",
    ":---:|:---\n",
    "python|匹配 \"python\".\n",
    "字符类\n",
    "实例|描述\n",
    "\\[Pp\\]ython|匹配 \"Python\" 或 \"python\"\n",
    "rub\\[ye\\]|匹配 \"ruby\" 或 \"rube\"\n",
    "\\[aeiou\\]|匹配中括号内的任意一个字母\n",
    "\\[0-9\\]|匹配任何数字。类似于 \\[0123456789\\]\n",
    "\\[a-z\\]|匹配任何小写字母\n",
    "\\[A-Z\\]|匹配任何大写字母\n",
    "\\[a-zA-Z0-9\\]|匹配任何字母及数字\n",
    "\\[^aeiou\\]|除了aeiou字母以外的所有字符\n",
    "\\[^0-9\\]|匹配除了数字外的字符\n",
    "特殊字符类\n",
    "实例|描述\n",
    ".|匹配除 \"\\n\" 之外的任何单个字符。要匹配包括 '\\n' 在内的任何字符，请使用象 '\\[.\\n\\]' 的模式。\n",
    "\\d|匹配一个数字字符。等价于 \\[0-9\\]。\n",
    "\\D|匹配一个非数字字符。等价于 \\[^0-9\\]。\n",
    "\\s|匹配任何空白字符，包括空格、制表符、换页符等等。等价于 \\[ \\f\\n\\r\\t\\v\\]。\n",
    "\\S|匹配任何非空白字符。等价于 \\[^ \\f\\n\\r\\t\\v\\]。\n",
    "\\w|匹配包括下划线的任何单词字符。等价于'\\[A-Za-z0-9_\\]'。\n",
    "\\W|匹配任何非单词字符。等价于 '\\[^A-Za-z0-9_\\]'。"
   ]
  },
  {
   "cell_type": "code",
   "execution_count": null,
   "metadata": {},
   "outputs": [],
   "source": []
  },
  {
   "cell_type": "code",
   "execution_count": 38,
   "metadata": {},
   "outputs": [
    {
     "data": {
      "text/plain": [
       "'00001'"
      ]
     },
     "execution_count": 38,
     "metadata": {},
     "output_type": "execute_result"
    },
    {
     "data": {
      "text/plain": [
       "'000001'"
      ]
     },
     "execution_count": 38,
     "metadata": {},
     "output_type": "execute_result"
    },
    {
     "data": {
      "text/plain": [
       "'265242'"
      ]
     },
     "execution_count": 38,
     "metadata": {},
     "output_type": "execute_result"
    }
   ],
   "source": [
    "i = 1\n",
    "\"%05d\" % i\n",
    "\"{0:06d}\".format(i)\n",
    "'265242'\n"
   ]
  },
  {
   "cell_type": "code",
   "execution_count": 44,
   "metadata": {},
   "outputs": [
    {
     "data": {
      "text/plain": [
       "'1\\n'"
      ]
     },
     "execution_count": 44,
     "metadata": {},
     "output_type": "execute_result"
    },
    {
     "data": {
      "text/plain": [
       "1"
      ]
     },
     "execution_count": 44,
     "metadata": {},
     "output_type": "execute_result"
    },
    {
     "data": {
      "text/plain": [
       "'SItclcactv03061213133D 0   0.00000     0.00000     1\\n'"
      ]
     },
     "execution_count": 44,
     "metadata": {},
     "output_type": "execute_result"
    },
    {
     "data": {
      "text/plain": [
       "52"
      ]
     },
     "execution_count": 44,
     "metadata": {},
     "output_type": "execute_result"
    },
    {
     "data": {
      "text/plain": [
       "'\\n'"
      ]
     },
     "execution_count": 44,
     "metadata": {},
     "output_type": "execute_result"
    },
    {
     "data": {
      "text/plain": [
       "0"
      ]
     },
     "execution_count": 44,
     "metadata": {},
     "output_type": "execute_result"
    },
    {
     "data": {
      "text/plain": [
       "'15 15  0  0  0  0  0  0  0  0999 V2000\\n'"
      ]
     },
     "execution_count": 44,
     "metadata": {},
     "output_type": "execute_result"
    },
    {
     "data": {
      "text/plain": [
       "38"
      ]
     },
     "execution_count": 44,
     "metadata": {},
     "output_type": "execute_result"
    },
    {
     "data": {
      "text/plain": [
       "'-2.2423   -1.0418   -0.0019 O   0  0  0  0  0  0  0  0  0  0  0  0\\n'"
      ]
     },
     "execution_count": 44,
     "metadata": {},
     "output_type": "execute_result"
    },
    {
     "data": {
      "text/plain": [
       "66"
      ]
     },
     "execution_count": 44,
     "metadata": {},
     "output_type": "execute_result"
    },
    {
     "data": {
      "text/plain": [
       "'2.7534    0.5594   -0.0014 O   0  0  0  0  0  0  0  0  0  0  0  0\\n'"
      ]
     },
     "execution_count": 44,
     "metadata": {},
     "output_type": "execute_result"
    },
    {
     "data": {
      "text/plain": [
       "65"
      ]
     },
     "execution_count": 44,
     "metadata": {},
     "output_type": "execute_result"
    },
    {
     "data": {
      "text/plain": [
       "'-1.0858   -0.6711   -0.0020 C   0  0  0  0  0  0  0  0  0  0  0  0\\n'"
      ]
     },
     "execution_count": 44,
     "metadata": {},
     "output_type": "execute_result"
    },
    {
     "data": {
      "text/plain": [
       "66"
      ]
     },
     "execution_count": 44,
     "metadata": {},
     "output_type": "execute_result"
    },
    {
     "data": {
      "text/plain": [
       "'-0.7730    0.7725    0.0002 C   0  0  0  0  0  0  0  0  0  0  0  0\\n'"
      ]
     },
     "execution_count": 44,
     "metadata": {},
     "output_type": "execute_result"
    },
    {
     "data": {
      "text/plain": [
       "66"
      ]
     },
     "execution_count": 44,
     "metadata": {},
     "output_type": "execute_result"
    },
    {
     "data": {
      "text/plain": [
       "'0.0079   -1.6639    0.0018 C   0  0  0  0  0  0  0  0  0  0  0  0\\n'"
      ]
     },
     "execution_count": 44,
     "metadata": {},
     "output_type": "execute_result"
    },
    {
     "data": {
      "text/plain": [
       "65"
      ]
     },
     "execution_count": 44,
     "metadata": {},
     "output_type": "execute_result"
    },
    {
     "data": {
      "text/plain": [
       "'0.5032    1.1815    0.0005 C   0  0  0  0  0  0  0  0  0  0  0  0\\n'"
      ]
     },
     "execution_count": 44,
     "metadata": {},
     "output_type": "execute_result"
    },
    {
     "data": {
      "text/plain": [
       "65"
      ]
     },
     "execution_count": 44,
     "metadata": {},
     "output_type": "execute_result"
    },
    {
     "data": {
      "text/plain": [
       "'1.2841   -1.2548    0.0021 C   0  0  0  0  0  0  0  0  0  0  0  0\\n'"
      ]
     },
     "execution_count": 44,
     "metadata": {},
     "output_type": "execute_result"
    },
    {
     "data": {
      "text/plain": [
       "65"
      ]
     },
     "execution_count": 44,
     "metadata": {},
     "output_type": "execute_result"
    },
    {
     "data": {
      "text/plain": [
       "'1.5970    0.1888   -0.0013 C   0  0  0  0  0  0  0  0  0  0  0  0\\n'"
      ]
     },
     "execution_count": 44,
     "metadata": {},
     "output_type": "execute_result"
    },
    {
     "data": {
      "text/plain": [
       "65"
      ]
     },
     "execution_count": 44,
     "metadata": {},
     "output_type": "execute_result"
    },
    {
     "data": {
      "text/plain": [
       "'-1.8888    1.7853    0.0016 C   0  0  0  0  0  0  0  0  0  0  0  0\\n'"
      ]
     },
     "execution_count": 44,
     "metadata": {},
     "output_type": "execute_result"
    },
    {
     "data": {
      "text/plain": [
       "66"
      ]
     },
     "execution_count": 44,
     "metadata": {},
     "output_type": "execute_result"
    },
    {
     "data": {
      "text/plain": [
       "'-0.2208   -2.7193    0.0047 H   0  0  0  0  0  0  0  0  0  0  0  0\\n'"
      ]
     },
     "execution_count": 44,
     "metadata": {},
     "output_type": "execute_result"
    },
    {
     "data": {
      "text/plain": [
       "66"
      ]
     },
     "execution_count": 44,
     "metadata": {},
     "output_type": "execute_result"
    },
    {
     "data": {
      "text/plain": [
       "'0.7320    2.2370    0.0018 H   0  0  0  0  0  0  0  0  0  0  0  0\\n'"
      ]
     },
     "execution_count": 44,
     "metadata": {},
     "output_type": "execute_result"
    },
    {
     "data": {
      "text/plain": [
       "65"
      ]
     },
     "execution_count": 44,
     "metadata": {},
     "output_type": "execute_result"
    },
    {
     "data": {
      "text/plain": [
       "'2.0838   -1.9807    0.0049 H   0  0  0  0  0  0  0  0  0  0  0  0\\n'"
      ]
     },
     "execution_count": 44,
     "metadata": {},
     "output_type": "execute_result"
    },
    {
     "data": {
      "text/plain": [
       "65"
      ]
     },
     "execution_count": 44,
     "metadata": {},
     "output_type": "execute_result"
    },
    {
     "data": {
      "text/plain": [
       "'-2.1580    2.0280    1.0296 H   0  0  0  0  0  0  0  0  0  0  0  0\\n'"
      ]
     },
     "execution_count": 44,
     "metadata": {},
     "output_type": "execute_result"
    },
    {
     "data": {
      "text/plain": [
       "66"
      ]
     },
     "execution_count": 44,
     "metadata": {},
     "output_type": "execute_result"
    },
    {
     "data": {
      "text/plain": [
       "'-1.5597    2.6893   -0.5108 H   0  0  0  0  0  0  0  0  0  0  0  0\\n'"
      ]
     },
     "execution_count": 44,
     "metadata": {},
     "output_type": "execute_result"
    },
    {
     "data": {
      "text/plain": [
       "66"
      ]
     },
     "execution_count": 44,
     "metadata": {},
     "output_type": "execute_result"
    },
    {
     "data": {
      "text/plain": [
       "'-2.7560    1.3713   -0.5129 H   0  0  0  0  0  0  0  0  0  0  0  0\\n'"
      ]
     },
     "execution_count": 44,
     "metadata": {},
     "output_type": "execute_result"
    },
    {
     "data": {
      "text/plain": [
       "66"
      ]
     },
     "execution_count": 44,
     "metadata": {},
     "output_type": "execute_result"
    },
    {
     "data": {
      "text/plain": [
       "'1  3  2  0  0  0  0\\n'"
      ]
     },
     "execution_count": 44,
     "metadata": {},
     "output_type": "execute_result"
    },
    {
     "data": {
      "text/plain": [
       "19"
      ]
     },
     "execution_count": 44,
     "metadata": {},
     "output_type": "execute_result"
    },
    {
     "data": {
      "text/plain": [
       "'2  8  2  0  0  0  0\\n'"
      ]
     },
     "execution_count": 44,
     "metadata": {},
     "output_type": "execute_result"
    },
    {
     "data": {
      "text/plain": [
       "19"
      ]
     },
     "execution_count": 44,
     "metadata": {},
     "output_type": "execute_result"
    },
    {
     "data": {
      "text/plain": [
       "'3  4  1  0  0  0  0\\n'"
      ]
     },
     "execution_count": 44,
     "metadata": {},
     "output_type": "execute_result"
    },
    {
     "data": {
      "text/plain": [
       "19"
      ]
     },
     "execution_count": 44,
     "metadata": {},
     "output_type": "execute_result"
    },
    {
     "data": {
      "text/plain": [
       "'3  5  1  0  0  0  0\\n'"
      ]
     },
     "execution_count": 44,
     "metadata": {},
     "output_type": "execute_result"
    },
    {
     "data": {
      "text/plain": [
       "19"
      ]
     },
     "execution_count": 44,
     "metadata": {},
     "output_type": "execute_result"
    },
    {
     "data": {
      "text/plain": [
       "'4  6  2  0  0  0  0\\n'"
      ]
     },
     "execution_count": 44,
     "metadata": {},
     "output_type": "execute_result"
    },
    {
     "data": {
      "text/plain": [
       "19"
      ]
     },
     "execution_count": 44,
     "metadata": {},
     "output_type": "execute_result"
    },
    {
     "data": {
      "text/plain": [
       "'4  9  1  0  0  0  0\\n'"
      ]
     },
     "execution_count": 44,
     "metadata": {},
     "output_type": "execute_result"
    },
    {
     "data": {
      "text/plain": [
       "19"
      ]
     },
     "execution_count": 44,
     "metadata": {},
     "output_type": "execute_result"
    },
    {
     "data": {
      "text/plain": [
       "'5  7  2  0  0  0  0\\n'"
      ]
     },
     "execution_count": 44,
     "metadata": {},
     "output_type": "execute_result"
    },
    {
     "data": {
      "text/plain": [
       "19"
      ]
     },
     "execution_count": 44,
     "metadata": {},
     "output_type": "execute_result"
    },
    {
     "data": {
      "text/plain": [
       "'6  8  1  0  0  0  0\\n'"
      ]
     },
     "execution_count": 44,
     "metadata": {},
     "output_type": "execute_result"
    },
    {
     "data": {
      "text/plain": [
       "19"
      ]
     },
     "execution_count": 44,
     "metadata": {},
     "output_type": "execute_result"
    },
    {
     "data": {
      "text/plain": [
       "'7  8  1  0  0  0  0\\n'"
      ]
     },
     "execution_count": 44,
     "metadata": {},
     "output_type": "execute_result"
    },
    {
     "data": {
      "text/plain": [
       "19"
      ]
     },
     "execution_count": 44,
     "metadata": {},
     "output_type": "execute_result"
    },
    {
     "data": {
      "text/plain": [
       "'5 10  1  0  0  0  0\\n'"
      ]
     },
     "execution_count": 44,
     "metadata": {},
     "output_type": "execute_result"
    },
    {
     "data": {
      "text/plain": [
       "19"
      ]
     },
     "execution_count": 44,
     "metadata": {},
     "output_type": "execute_result"
    },
    {
     "data": {
      "text/plain": [
       "'6 11  1  0  0  0  0\\n'"
      ]
     },
     "execution_count": 44,
     "metadata": {},
     "output_type": "execute_result"
    },
    {
     "data": {
      "text/plain": [
       "19"
      ]
     },
     "execution_count": 44,
     "metadata": {},
     "output_type": "execute_result"
    },
    {
     "data": {
      "text/plain": [
       "'7 12  1  0  0  0  0\\n'"
      ]
     },
     "execution_count": 44,
     "metadata": {},
     "output_type": "execute_result"
    },
    {
     "data": {
      "text/plain": [
       "19"
      ]
     },
     "execution_count": 44,
     "metadata": {},
     "output_type": "execute_result"
    },
    {
     "data": {
      "text/plain": [
       "'9 13  1  0  0  0  0\\n'"
      ]
     },
     "execution_count": 44,
     "metadata": {},
     "output_type": "execute_result"
    },
    {
     "data": {
      "text/plain": [
       "19"
      ]
     },
     "execution_count": 44,
     "metadata": {},
     "output_type": "execute_result"
    },
    {
     "data": {
      "text/plain": [
       "'9 14  1  0  0  0  0\\n'"
      ]
     },
     "execution_count": 44,
     "metadata": {},
     "output_type": "execute_result"
    },
    {
     "data": {
      "text/plain": [
       "19"
      ]
     },
     "execution_count": 44,
     "metadata": {},
     "output_type": "execute_result"
    },
    {
     "data": {
      "text/plain": [
       "'9 15  1  0  0  0  0\\n'"
      ]
     },
     "execution_count": 44,
     "metadata": {},
     "output_type": "execute_result"
    },
    {
     "data": {
      "text/plain": [
       "19"
      ]
     },
     "execution_count": 44,
     "metadata": {},
     "output_type": "execute_result"
    },
    {
     "data": {
      "text/plain": [
       "'M  END\\n'"
      ]
     },
     "execution_count": 44,
     "metadata": {},
     "output_type": "execute_result"
    },
    {
     "data": {
      "text/plain": [
       "6"
      ]
     },
     "execution_count": 44,
     "metadata": {},
     "output_type": "execute_result"
    },
    {
     "data": {
      "text/plain": [
       "'> <NSC>\\n'"
      ]
     },
     "execution_count": 44,
     "metadata": {},
     "output_type": "execute_result"
    },
    {
     "data": {
      "text/plain": [
       "7"
      ]
     },
     "execution_count": 44,
     "metadata": {},
     "output_type": "execute_result"
    },
    {
     "data": {
      "text/plain": [
       "'1\\n'"
      ]
     },
     "execution_count": 44,
     "metadata": {},
     "output_type": "execute_result"
    },
    {
     "data": {
      "text/plain": [
       "1"
      ]
     },
     "execution_count": 44,
     "metadata": {},
     "output_type": "execute_result"
    },
    {
     "data": {
      "text/plain": [
       "'> <Release>\\n'"
      ]
     },
     "execution_count": 44,
     "metadata": {},
     "output_type": "execute_result"
    },
    {
     "data": {
      "text/plain": [
       "11"
      ]
     },
     "execution_count": 44,
     "metadata": {},
     "output_type": "execute_result"
    },
    {
     "data": {
      "text/plain": [
       "'December 2010\\n'"
      ]
     },
     "execution_count": 44,
     "metadata": {},
     "output_type": "execute_result"
    },
    {
     "data": {
      "text/plain": [
       "13"
      ]
     },
     "execution_count": 44,
     "metadata": {},
     "output_type": "execute_result"
    },
    {
     "data": {
      "text/plain": [
       "'> <Structure Source>\\n'"
      ]
     },
     "execution_count": 44,
     "metadata": {},
     "output_type": "execute_result"
    },
    {
     "data": {
      "text/plain": [
       "20"
      ]
     },
     "execution_count": 44,
     "metadata": {},
     "output_type": "execute_result"
    },
    {
     "data": {
      "text/plain": [
       "'DTP/NCI DIS export via molfile\\n'"
      ]
     },
     "execution_count": 44,
     "metadata": {},
     "output_type": "execute_result"
    },
    {
     "data": {
      "text/plain": [
       "30"
      ]
     },
     "execution_count": 44,
     "metadata": {},
     "output_type": "execute_result"
    },
    {
     "data": {
      "text/plain": [
       "'> <Number of atom stereocenters>\\n'"
      ]
     },
     "execution_count": 44,
     "metadata": {},
     "output_type": "execute_result"
    },
    {
     "data": {
      "text/plain": [
       "32"
      ]
     },
     "execution_count": 44,
     "metadata": {},
     "output_type": "execute_result"
    },
    {
     "data": {
      "text/plain": [
       "'0\\n'"
      ]
     },
     "execution_count": 44,
     "metadata": {},
     "output_type": "execute_result"
    },
    {
     "data": {
      "text/plain": [
       "1"
      ]
     },
     "execution_count": 44,
     "metadata": {},
     "output_type": "execute_result"
    },
    {
     "data": {
      "text/plain": [
       "'> <Number of bond stereocenters>\\n'"
      ]
     },
     "execution_count": 44,
     "metadata": {},
     "output_type": "execute_result"
    },
    {
     "data": {
      "text/plain": [
       "32"
      ]
     },
     "execution_count": 44,
     "metadata": {},
     "output_type": "execute_result"
    },
    {
     "data": {
      "text/plain": [
       "'0\\n'"
      ]
     },
     "execution_count": 44,
     "metadata": {},
     "output_type": "execute_result"
    },
    {
     "data": {
      "text/plain": [
       "1"
      ]
     },
     "execution_count": 44,
     "metadata": {},
     "output_type": "execute_result"
    },
    {
     "data": {
      "text/plain": [
       "'> <CAS>\\n'"
      ]
     },
     "execution_count": 44,
     "metadata": {},
     "output_type": "execute_result"
    },
    {
     "data": {
      "text/plain": [
       "7"
      ]
     },
     "execution_count": 44,
     "metadata": {},
     "output_type": "execute_result"
    },
    {
     "data": {
      "text/plain": [
       "'553-97-9\\n'"
      ]
     },
     "execution_count": 44,
     "metadata": {},
     "output_type": "execute_result"
    },
    {
     "data": {
      "text/plain": [
       "8"
      ]
     },
     "execution_count": 44,
     "metadata": {},
     "output_type": "execute_result"
    },
    {
     "data": {
      "text/plain": [
       "'> <Structure Evaluation>\\n'"
      ]
     },
     "execution_count": 44,
     "metadata": {},
     "output_type": "execute_result"
    },
    {
     "data": {
      "text/plain": [
       "24"
      ]
     },
     "execution_count": 44,
     "metadata": {},
     "output_type": "execute_result"
    },
    {
     "data": {
      "text/plain": [
       "'Consistent with Molecular Formula\\n'"
      ]
     },
     "execution_count": 44,
     "metadata": {},
     "output_type": "execute_result"
    },
    {
     "data": {
      "text/plain": [
       "33"
      ]
     },
     "execution_count": 44,
     "metadata": {},
     "output_type": "execute_result"
    },
    {
     "data": {
      "text/plain": [
       "'> <Formula>\\n'"
      ]
     },
     "execution_count": 44,
     "metadata": {},
     "output_type": "execute_result"
    },
    {
     "data": {
      "text/plain": [
       "11"
      ]
     },
     "execution_count": 44,
     "metadata": {},
     "output_type": "execute_result"
    },
    {
     "data": {
      "text/plain": [
       "'C7H6O2\\n'"
      ]
     },
     "execution_count": 44,
     "metadata": {},
     "output_type": "execute_result"
    },
    {
     "data": {
      "text/plain": [
       "6"
      ]
     },
     "execution_count": 44,
     "metadata": {},
     "output_type": "execute_result"
    },
    {
     "data": {
      "text/plain": [
       "'> <Molecular Weight>\\n'"
      ]
     },
     "execution_count": 44,
     "metadata": {},
     "output_type": "execute_result"
    },
    {
     "data": {
      "text/plain": [
       "20"
      ]
     },
     "execution_count": 44,
     "metadata": {},
     "output_type": "execute_result"
    },
    {
     "data": {
      "text/plain": [
       "'122.1232\\n'"
      ]
     },
     "execution_count": 44,
     "metadata": {},
     "output_type": "execute_result"
    },
    {
     "data": {
      "text/plain": [
       "8"
      ]
     },
     "execution_count": 44,
     "metadata": {},
     "output_type": "execute_result"
    },
    {
     "data": {
      "text/plain": [
       "'> <DTP names>\\n'"
      ]
     },
     "execution_count": 44,
     "metadata": {},
     "output_type": "execute_result"
    },
    {
     "data": {
      "text/plain": [
       "13"
      ]
     },
     "execution_count": 44,
     "metadata": {},
     "output_type": "execute_result"
    },
    {
     "data": {
      "text/plain": [
       "'Tolylquinone\\n'"
      ]
     },
     "execution_count": 44,
     "metadata": {},
     "output_type": "execute_result"
    },
    {
     "data": {
      "text/plain": [
       "12"
      ]
     },
     "execution_count": 44,
     "metadata": {},
     "output_type": "execute_result"
    },
    {
     "data": {
      "text/plain": [
       "'p-Toluquinone\\n'"
      ]
     },
     "execution_count": 44,
     "metadata": {},
     "output_type": "execute_result"
    },
    {
     "data": {
      "text/plain": [
       "13"
      ]
     },
     "execution_count": 44,
     "metadata": {},
     "output_type": "execute_result"
    },
    {
     "data": {
      "text/plain": [
       "'Methylquinone\\n'"
      ]
     },
     "execution_count": 44,
     "metadata": {},
     "output_type": "execute_result"
    },
    {
     "data": {
      "text/plain": [
       "13"
      ]
     },
     "execution_count": 44,
     "metadata": {},
     "output_type": "execute_result"
    },
    {
     "data": {
      "text/plain": [
       "'1,4-Toluquinone\\n'"
      ]
     },
     "execution_count": 44,
     "metadata": {},
     "output_type": "execute_result"
    },
    {
     "data": {
      "text/plain": [
       "15"
      ]
     },
     "execution_count": 44,
     "metadata": {},
     "output_type": "execute_result"
    },
    {
     "data": {
      "text/plain": [
       "'2-Methylquinone\\n'"
      ]
     },
     "execution_count": 44,
     "metadata": {},
     "output_type": "execute_result"
    },
    {
     "data": {
      "text/plain": [
       "15"
      ]
     },
     "execution_count": 44,
     "metadata": {},
     "output_type": "execute_result"
    },
    {
     "data": {
      "text/plain": [
       "'Methylbenzoquinone\\n'"
      ]
     },
     "execution_count": 44,
     "metadata": {},
     "output_type": "execute_result"
    },
    {
     "data": {
      "text/plain": [
       "18"
      ]
     },
     "execution_count": 44,
     "metadata": {},
     "output_type": "execute_result"
    },
    {
     "data": {
      "text/plain": [
       "'2-Methyl-1,4-quinone\\n'"
      ]
     },
     "execution_count": 44,
     "metadata": {},
     "output_type": "execute_result"
    },
    {
     "data": {
      "text/plain": [
       "20"
      ]
     },
     "execution_count": 44,
     "metadata": {},
     "output_type": "execute_result"
    },
    {
     "data": {
      "text/plain": [
       "'2-Methylbenzoquinone\\n'"
      ]
     },
     "execution_count": 44,
     "metadata": {},
     "output_type": "execute_result"
    },
    {
     "data": {
      "text/plain": [
       "20"
      ]
     },
     "execution_count": 44,
     "metadata": {},
     "output_type": "execute_result"
    },
    {
     "data": {
      "text/plain": [
       "'Methyl-p-benzoquinone\\n'"
      ]
     },
     "execution_count": 44,
     "metadata": {},
     "output_type": "execute_result"
    },
    {
     "data": {
      "text/plain": [
       "21"
      ]
     },
     "execution_count": 44,
     "metadata": {},
     "output_type": "execute_result"
    },
    {
     "data": {
      "text/plain": [
       "'Methyl-1,4-benzoquinone\\n'"
      ]
     },
     "execution_count": 44,
     "metadata": {},
     "output_type": "execute_result"
    },
    {
     "data": {
      "text/plain": [
       "23"
      ]
     },
     "execution_count": 44,
     "metadata": {},
     "output_type": "execute_result"
    },
    {
     "data": {
      "text/plain": [
       "'2-Methyl-p-benzoquinone\\n'"
      ]
     },
     "execution_count": 44,
     "metadata": {},
     "output_type": "execute_result"
    },
    {
     "data": {
      "text/plain": [
       "23"
      ]
     },
     "execution_count": 44,
     "metadata": {},
     "output_type": "execute_result"
    },
    {
     "data": {
      "text/plain": [
       "'2-Methylbenzoquinone-1,4\\n'"
      ]
     },
     "execution_count": 44,
     "metadata": {},
     "output_type": "execute_result"
    },
    {
     "data": {
      "text/plain": [
       "24"
      ]
     },
     "execution_count": 44,
     "metadata": {},
     "output_type": "execute_result"
    },
    {
     "data": {
      "text/plain": [
       "'2-Methyl-1,4-benzoquinone\\n'"
      ]
     },
     "execution_count": 44,
     "metadata": {},
     "output_type": "execute_result"
    },
    {
     "data": {
      "text/plain": [
       "25"
      ]
     },
     "execution_count": 44,
     "metadata": {},
     "output_type": "execute_result"
    },
    {
     "data": {
      "text/plain": [
       "'WLN: L6V DVJ B1\\n'"
      ]
     },
     "execution_count": 44,
     "metadata": {},
     "output_type": "execute_result"
    },
    {
     "data": {
      "text/plain": [
       "15"
      ]
     },
     "execution_count": 44,
     "metadata": {},
     "output_type": "execute_result"
    },
    {
     "data": {
      "text/plain": [
       "'2,5-Cyclohexadiene-1,4-dione, 2-methyl-\\n'"
      ]
     },
     "execution_count": 44,
     "metadata": {},
     "output_type": "execute_result"
    },
    {
     "data": {
      "text/plain": [
       "39"
      ]
     },
     "execution_count": 44,
     "metadata": {},
     "output_type": "execute_result"
    },
    {
     "data": {
      "text/plain": [
       "'p-Benzoquinone, 2-methyl-\\n'"
      ]
     },
     "execution_count": 44,
     "metadata": {},
     "output_type": "execute_result"
    },
    {
     "data": {
      "text/plain": [
       "25"
      ]
     },
     "execution_count": 44,
     "metadata": {},
     "output_type": "execute_result"
    },
    {
     "data": {
      "text/plain": [
       "'Toluquinone\\n'"
      ]
     },
     "execution_count": 44,
     "metadata": {},
     "output_type": "execute_result"
    },
    {
     "data": {
      "text/plain": [
       "11"
      ]
     },
     "execution_count": 44,
     "metadata": {},
     "output_type": "execute_result"
    },
    {
     "data": {
      "text/plain": [
       "'> <NCICADD_FICUS_ID>\\n'"
      ]
     },
     "execution_count": 44,
     "metadata": {},
     "output_type": "execute_result"
    },
    {
     "data": {
      "text/plain": [
       "20"
      ]
     },
     "execution_count": 44,
     "metadata": {},
     "output_type": "execute_result"
    },
    {
     "data": {
      "text/plain": [
       "'A427F1A8BCD067F6-FICuS-01-77\\n'"
      ]
     },
     "execution_count": 44,
     "metadata": {},
     "output_type": "execute_result"
    },
    {
     "data": {
      "text/plain": [
       "28"
      ]
     },
     "execution_count": 44,
     "metadata": {},
     "output_type": "execute_result"
    },
    {
     "data": {
      "text/plain": [
       "'> <NCICADD_FICTS_ID>\\n'"
      ]
     },
     "execution_count": 44,
     "metadata": {},
     "output_type": "execute_result"
    },
    {
     "data": {
      "text/plain": [
       "20"
      ]
     },
     "execution_count": 44,
     "metadata": {},
     "output_type": "execute_result"
    },
    {
     "data": {
      "text/plain": [
       "'A427F1A8BCD067F6-FICTS-01-56\\n'"
      ]
     },
     "execution_count": 44,
     "metadata": {},
     "output_type": "execute_result"
    },
    {
     "data": {
      "text/plain": [
       "28"
      ]
     },
     "execution_count": 44,
     "metadata": {},
     "output_type": "execute_result"
    },
    {
     "data": {
      "text/plain": [
       "'> <NCICADD_UUUUU_ID>\\n'"
      ]
     },
     "execution_count": 44,
     "metadata": {},
     "output_type": "execute_result"
    },
    {
     "data": {
      "text/plain": [
       "20"
      ]
     },
     "execution_count": 44,
     "metadata": {},
     "output_type": "execute_result"
    },
    {
     "data": {
      "text/plain": [
       "'A427F1A8BCD067F6-uuuuu-01-26\\n'"
      ]
     },
     "execution_count": 44,
     "metadata": {},
     "output_type": "execute_result"
    },
    {
     "data": {
      "text/plain": [
       "28"
      ]
     },
     "execution_count": 44,
     "metadata": {},
     "output_type": "execute_result"
    },
    {
     "data": {
      "text/plain": [
       "'> <Standard InChI>\\n'"
      ]
     },
     "execution_count": 44,
     "metadata": {},
     "output_type": "execute_result"
    },
    {
     "data": {
      "text/plain": [
       "18"
      ]
     },
     "execution_count": 44,
     "metadata": {},
     "output_type": "execute_result"
    },
    {
     "data": {
      "text/plain": [
       "'InChI=1S/C7H6O2/c1-5-4-6(8)2-3-7(5)9/h2-4H,1H3\\n'"
      ]
     },
     "execution_count": 44,
     "metadata": {},
     "output_type": "execute_result"
    },
    {
     "data": {
      "text/plain": [
       "46"
      ]
     },
     "execution_count": 44,
     "metadata": {},
     "output_type": "execute_result"
    },
    {
     "data": {
      "text/plain": [
       "'> <Standard InChIKey>\\n'"
      ]
     },
     "execution_count": 44,
     "metadata": {},
     "output_type": "execute_result"
    },
    {
     "data": {
      "text/plain": [
       "21"
      ]
     },
     "execution_count": 44,
     "metadata": {},
     "output_type": "execute_result"
    },
    {
     "data": {
      "text/plain": [
       "'InChIKey=VTWDKFNVVLAELH-UHFFFAOYSA-N\\n'"
      ]
     },
     "execution_count": 44,
     "metadata": {},
     "output_type": "execute_result"
    },
    {
     "data": {
      "text/plain": [
       "36"
      ]
     },
     "execution_count": 44,
     "metadata": {},
     "output_type": "execute_result"
    },
    {
     "data": {
      "text/plain": [
       "'>  <GUSAR Human Liver Microsomal Stability Prediction>\\n'"
      ]
     },
     "execution_count": 44,
     "metadata": {},
     "output_type": "execute_result"
    },
    {
     "data": {
      "text/plain": [
       "54"
      ]
     },
     "execution_count": 44,
     "metadata": {},
     "output_type": "execute_result"
    },
    {
     "data": {
      "text/plain": [
       "'stable\\n'"
      ]
     },
     "execution_count": 44,
     "metadata": {},
     "output_type": "execute_result"
    },
    {
     "data": {
      "text/plain": [
       "6"
      ]
     },
     "execution_count": 44,
     "metadata": {},
     "output_type": "execute_result"
    },
    {
     "data": {
      "text/plain": [
       "'>  <GUSAR Human Liver Microsomal Stability Prediction AD>\\n'"
      ]
     },
     "execution_count": 44,
     "metadata": {},
     "output_type": "execute_result"
    },
    {
     "data": {
      "text/plain": [
       "57"
      ]
     },
     "execution_count": 44,
     "metadata": {},
     "output_type": "execute_result"
    },
    {
     "data": {
      "text/plain": [
       "'out of AD\\n'"
      ]
     },
     "execution_count": 44,
     "metadata": {},
     "output_type": "execute_result"
    },
    {
     "data": {
      "text/plain": [
       "9"
      ]
     },
     "execution_count": 44,
     "metadata": {},
     "output_type": "execute_result"
    },
    {
     "data": {
      "text/plain": [
       "'$$$$\\n'"
      ]
     },
     "execution_count": 44,
     "metadata": {},
     "output_type": "execute_result"
    },
    {
     "data": {
      "text/plain": [
       "4"
      ]
     },
     "execution_count": 44,
     "metadata": {},
     "output_type": "execute_result"
    },
    {
     "data": {
      "text/plain": [
       "''"
      ]
     },
     "execution_count": 44,
     "metadata": {},
     "output_type": "execute_result"
    },
    {
     "data": {
      "text/plain": [
       "-1"
      ]
     },
     "execution_count": 44,
     "metadata": {},
     "output_type": "execute_result"
    }
   ],
   "source": [
    "sdffile = r\"D:\\PycharmProjects\\pdb_02\\saves\\1\\2012-05-01_000000.txt\"\n",
    "with open(sdffile,encoding='utf-8') as sdf:\n",
    "    i = 0\n",
    "    j = 0\n",
    "    # savefile = os.path.join(savedir, \"{0}_{1:06d}.txt\".format(label,i))\n",
    "    # f1 = open(savefile, 'w', encoding='utf-8')\n",
    "    while True:\n",
    "        line1 = sdf.readline()\n",
    "        line1\n",
    "        line1.find('\\n')\n",
    "        if line1 == '':\n",
    "            break"
   ]
  },
  {
   "cell_type": "code",
   "execution_count": 3,
   "metadata": {},
   "outputs": [
    {
     "data": {
      "text/plain": [
       "'1\\n'"
      ]
     },
     "execution_count": 3,
     "metadata": {},
     "output_type": "execute_result"
    },
    {
     "data": {
      "text/plain": [
       "'SItclcactv03061213133D 0   0.00000     0.00000     1\\n'"
      ]
     },
     "execution_count": 3,
     "metadata": {},
     "output_type": "execute_result"
    },
    {
     "data": {
      "text/plain": [
       "' \\n'"
      ]
     },
     "execution_count": 3,
     "metadata": {},
     "output_type": "execute_result"
    },
    {
     "data": {
      "text/plain": [
       "' 15 15  0  0  0  0  0  0  0  0999 V2000\\n'"
      ]
     },
     "execution_count": 3,
     "metadata": {},
     "output_type": "execute_result"
    },
    {
     "data": {
      "text/plain": [
       "'   -2.2423   -1.0418   -0.0019 O   0  0  0  0  0  0  0  0  0  0  0  0\\n'"
      ]
     },
     "execution_count": 3,
     "metadata": {},
     "output_type": "execute_result"
    },
    {
     "data": {
      "text/plain": [
       "'    2.7534    0.5594   -0.0014 O   0  0  0  0  0  0  0  0  0  0  0  0\\n'"
      ]
     },
     "execution_count": 3,
     "metadata": {},
     "output_type": "execute_result"
    },
    {
     "data": {
      "text/plain": [
       "'   -1.0858   -0.6711   -0.0020 C   0  0  0  0  0  0  0  0  0  0  0  0\\n'"
      ]
     },
     "execution_count": 3,
     "metadata": {},
     "output_type": "execute_result"
    },
    {
     "data": {
      "text/plain": [
       "'   -0.7730    0.7725    0.0002 C   0  0  0  0  0  0  0  0  0  0  0  0\\n'"
      ]
     },
     "execution_count": 3,
     "metadata": {},
     "output_type": "execute_result"
    },
    {
     "data": {
      "text/plain": [
       "'    0.0079   -1.6639    0.0018 C   0  0  0  0  0  0  0  0  0  0  0  0\\n'"
      ]
     },
     "execution_count": 3,
     "metadata": {},
     "output_type": "execute_result"
    },
    {
     "data": {
      "text/plain": [
       "'    0.5032    1.1815    0.0005 C   0  0  0  0  0  0  0  0  0  0  0  0\\n'"
      ]
     },
     "execution_count": 3,
     "metadata": {},
     "output_type": "execute_result"
    },
    {
     "data": {
      "text/plain": [
       "'    1.2841   -1.2548    0.0021 C   0  0  0  0  0  0  0  0  0  0  0  0\\n'"
      ]
     },
     "execution_count": 3,
     "metadata": {},
     "output_type": "execute_result"
    },
    {
     "data": {
      "text/plain": [
       "'    1.5970    0.1888   -0.0013 C   0  0  0  0  0  0  0  0  0  0  0  0\\n'"
      ]
     },
     "execution_count": 3,
     "metadata": {},
     "output_type": "execute_result"
    },
    {
     "data": {
      "text/plain": [
       "'   -1.8888    1.7853    0.0016 C   0  0  0  0  0  0  0  0  0  0  0  0\\n'"
      ]
     },
     "execution_count": 3,
     "metadata": {},
     "output_type": "execute_result"
    },
    {
     "data": {
      "text/plain": [
       "'   -0.2208   -2.7193    0.0047 H   0  0  0  0  0  0  0  0  0  0  0  0\\n'"
      ]
     },
     "execution_count": 3,
     "metadata": {},
     "output_type": "execute_result"
    },
    {
     "data": {
      "text/plain": [
       "'    0.7320    2.2370    0.0018 H   0  0  0  0  0  0  0  0  0  0  0  0\\n'"
      ]
     },
     "execution_count": 3,
     "metadata": {},
     "output_type": "execute_result"
    },
    {
     "data": {
      "text/plain": [
       "'    2.0838   -1.9807    0.0049 H   0  0  0  0  0  0  0  0  0  0  0  0\\n'"
      ]
     },
     "execution_count": 3,
     "metadata": {},
     "output_type": "execute_result"
    },
    {
     "data": {
      "text/plain": [
       "'   -2.1580    2.0280    1.0296 H   0  0  0  0  0  0  0  0  0  0  0  0\\n'"
      ]
     },
     "execution_count": 3,
     "metadata": {},
     "output_type": "execute_result"
    },
    {
     "data": {
      "text/plain": [
       "'   -1.5597    2.6893   -0.5108 H   0  0  0  0  0  0  0  0  0  0  0  0\\n'"
      ]
     },
     "execution_count": 3,
     "metadata": {},
     "output_type": "execute_result"
    },
    {
     "data": {
      "text/plain": [
       "'   -2.7560    1.3713   -0.5129 H   0  0  0  0  0  0  0  0  0  0  0  0\\n'"
      ]
     },
     "execution_count": 3,
     "metadata": {},
     "output_type": "execute_result"
    },
    {
     "data": {
      "text/plain": [
       "'  1  3  2  0  0  0  0\\n'"
      ]
     },
     "execution_count": 3,
     "metadata": {},
     "output_type": "execute_result"
    },
    {
     "data": {
      "text/plain": [
       "'  2  8  2  0  0  0  0\\n'"
      ]
     },
     "execution_count": 3,
     "metadata": {},
     "output_type": "execute_result"
    },
    {
     "data": {
      "text/plain": [
       "'  3  4  1  0  0  0  0\\n'"
      ]
     },
     "execution_count": 3,
     "metadata": {},
     "output_type": "execute_result"
    },
    {
     "data": {
      "text/plain": [
       "'  3  5  1  0  0  0  0\\n'"
      ]
     },
     "execution_count": 3,
     "metadata": {},
     "output_type": "execute_result"
    },
    {
     "data": {
      "text/plain": [
       "'  4  6  2  0  0  0  0\\n'"
      ]
     },
     "execution_count": 3,
     "metadata": {},
     "output_type": "execute_result"
    },
    {
     "data": {
      "text/plain": [
       "'  4  9  1  0  0  0  0\\n'"
      ]
     },
     "execution_count": 3,
     "metadata": {},
     "output_type": "execute_result"
    },
    {
     "data": {
      "text/plain": [
       "'  5  7  2  0  0  0  0\\n'"
      ]
     },
     "execution_count": 3,
     "metadata": {},
     "output_type": "execute_result"
    },
    {
     "data": {
      "text/plain": [
       "'  6  8  1  0  0  0  0\\n'"
      ]
     },
     "execution_count": 3,
     "metadata": {},
     "output_type": "execute_result"
    },
    {
     "data": {
      "text/plain": [
       "'  7  8  1  0  0  0  0\\n'"
      ]
     },
     "execution_count": 3,
     "metadata": {},
     "output_type": "execute_result"
    },
    {
     "data": {
      "text/plain": [
       "'  5 10  1  0  0  0  0\\n'"
      ]
     },
     "execution_count": 3,
     "metadata": {},
     "output_type": "execute_result"
    },
    {
     "data": {
      "text/plain": [
       "'  6 11  1  0  0  0  0\\n'"
      ]
     },
     "execution_count": 3,
     "metadata": {},
     "output_type": "execute_result"
    },
    {
     "data": {
      "text/plain": [
       "'  7 12  1  0  0  0  0\\n'"
      ]
     },
     "execution_count": 3,
     "metadata": {},
     "output_type": "execute_result"
    },
    {
     "data": {
      "text/plain": [
       "'  9 13  1  0  0  0  0\\n'"
      ]
     },
     "execution_count": 3,
     "metadata": {},
     "output_type": "execute_result"
    },
    {
     "data": {
      "text/plain": [
       "'  9 14  1  0  0  0  0\\n'"
      ]
     },
     "execution_count": 3,
     "metadata": {},
     "output_type": "execute_result"
    },
    {
     "data": {
      "text/plain": [
       "'  9 15  1  0  0  0  0\\n'"
      ]
     },
     "execution_count": 3,
     "metadata": {},
     "output_type": "execute_result"
    },
    {
     "data": {
      "text/plain": [
       "'M  END\\n'"
      ]
     },
     "execution_count": 3,
     "metadata": {},
     "output_type": "execute_result"
    },
    {
     "data": {
      "text/plain": [
       "'> <NSC>\\n'"
      ]
     },
     "execution_count": 3,
     "metadata": {},
     "output_type": "execute_result"
    },
    {
     "data": {
      "text/plain": [
       "'1\\n'"
      ]
     },
     "execution_count": 3,
     "metadata": {},
     "output_type": "execute_result"
    },
    {
     "data": {
      "text/plain": [
       "'\\n'"
      ]
     },
     "execution_count": 3,
     "metadata": {},
     "output_type": "execute_result"
    },
    {
     "data": {
      "text/plain": [
       "'> <Release>\\n'"
      ]
     },
     "execution_count": 3,
     "metadata": {},
     "output_type": "execute_result"
    },
    {
     "data": {
      "text/plain": [
       "'December 2010\\n'"
      ]
     },
     "execution_count": 3,
     "metadata": {},
     "output_type": "execute_result"
    },
    {
     "data": {
      "text/plain": [
       "'\\n'"
      ]
     },
     "execution_count": 3,
     "metadata": {},
     "output_type": "execute_result"
    },
    {
     "data": {
      "text/plain": [
       "'> <Structure Source>\\n'"
      ]
     },
     "execution_count": 3,
     "metadata": {},
     "output_type": "execute_result"
    },
    {
     "data": {
      "text/plain": [
       "'DTP/NCI DIS export via molfile\\n'"
      ]
     },
     "execution_count": 3,
     "metadata": {},
     "output_type": "execute_result"
    },
    {
     "data": {
      "text/plain": [
       "'\\n'"
      ]
     },
     "execution_count": 3,
     "metadata": {},
     "output_type": "execute_result"
    },
    {
     "data": {
      "text/plain": [
       "'> <Number of atom stereocenters>\\n'"
      ]
     },
     "execution_count": 3,
     "metadata": {},
     "output_type": "execute_result"
    },
    {
     "data": {
      "text/plain": [
       "'0\\n'"
      ]
     },
     "execution_count": 3,
     "metadata": {},
     "output_type": "execute_result"
    },
    {
     "data": {
      "text/plain": [
       "'\\n'"
      ]
     },
     "execution_count": 3,
     "metadata": {},
     "output_type": "execute_result"
    },
    {
     "data": {
      "text/plain": [
       "'> <Number of bond stereocenters>\\n'"
      ]
     },
     "execution_count": 3,
     "metadata": {},
     "output_type": "execute_result"
    },
    {
     "data": {
      "text/plain": [
       "'0\\n'"
      ]
     },
     "execution_count": 3,
     "metadata": {},
     "output_type": "execute_result"
    },
    {
     "data": {
      "text/plain": [
       "'\\n'"
      ]
     },
     "execution_count": 3,
     "metadata": {},
     "output_type": "execute_result"
    },
    {
     "data": {
      "text/plain": [
       "'> <CAS>\\n'"
      ]
     },
     "execution_count": 3,
     "metadata": {},
     "output_type": "execute_result"
    },
    {
     "data": {
      "text/plain": [
       "'553-97-9\\n'"
      ]
     },
     "execution_count": 3,
     "metadata": {},
     "output_type": "execute_result"
    },
    {
     "data": {
      "text/plain": [
       "'\\n'"
      ]
     },
     "execution_count": 3,
     "metadata": {},
     "output_type": "execute_result"
    },
    {
     "data": {
      "text/plain": [
       "'> <Structure Evaluation>\\n'"
      ]
     },
     "execution_count": 3,
     "metadata": {},
     "output_type": "execute_result"
    },
    {
     "data": {
      "text/plain": [
       "'Consistent with Molecular Formula\\n'"
      ]
     },
     "execution_count": 3,
     "metadata": {},
     "output_type": "execute_result"
    },
    {
     "data": {
      "text/plain": [
       "'\\n'"
      ]
     },
     "execution_count": 3,
     "metadata": {},
     "output_type": "execute_result"
    },
    {
     "data": {
      "text/plain": [
       "'> <Formula>\\n'"
      ]
     },
     "execution_count": 3,
     "metadata": {},
     "output_type": "execute_result"
    },
    {
     "data": {
      "text/plain": [
       "'C7H6O2\\n'"
      ]
     },
     "execution_count": 3,
     "metadata": {},
     "output_type": "execute_result"
    },
    {
     "data": {
      "text/plain": [
       "'\\n'"
      ]
     },
     "execution_count": 3,
     "metadata": {},
     "output_type": "execute_result"
    },
    {
     "data": {
      "text/plain": [
       "'> <Molecular Weight>\\n'"
      ]
     },
     "execution_count": 3,
     "metadata": {},
     "output_type": "execute_result"
    },
    {
     "data": {
      "text/plain": [
       "'122.1232\\n'"
      ]
     },
     "execution_count": 3,
     "metadata": {},
     "output_type": "execute_result"
    },
    {
     "data": {
      "text/plain": [
       "'\\n'"
      ]
     },
     "execution_count": 3,
     "metadata": {},
     "output_type": "execute_result"
    },
    {
     "data": {
      "text/plain": [
       "'> <DTP names>\\n'"
      ]
     },
     "execution_count": 3,
     "metadata": {},
     "output_type": "execute_result"
    },
    {
     "data": {
      "text/plain": [
       "'Tolylquinone\\n'"
      ]
     },
     "execution_count": 3,
     "metadata": {},
     "output_type": "execute_result"
    },
    {
     "data": {
      "text/plain": [
       "'p-Toluquinone\\n'"
      ]
     },
     "execution_count": 3,
     "metadata": {},
     "output_type": "execute_result"
    },
    {
     "data": {
      "text/plain": [
       "'Methylquinone\\n'"
      ]
     },
     "execution_count": 3,
     "metadata": {},
     "output_type": "execute_result"
    },
    {
     "data": {
      "text/plain": [
       "'1,4-Toluquinone\\n'"
      ]
     },
     "execution_count": 3,
     "metadata": {},
     "output_type": "execute_result"
    },
    {
     "data": {
      "text/plain": [
       "'2-Methylquinone\\n'"
      ]
     },
     "execution_count": 3,
     "metadata": {},
     "output_type": "execute_result"
    },
    {
     "data": {
      "text/plain": [
       "'Methylbenzoquinone\\n'"
      ]
     },
     "execution_count": 3,
     "metadata": {},
     "output_type": "execute_result"
    },
    {
     "data": {
      "text/plain": [
       "'2-Methyl-1,4-quinone\\n'"
      ]
     },
     "execution_count": 3,
     "metadata": {},
     "output_type": "execute_result"
    },
    {
     "data": {
      "text/plain": [
       "'2-Methylbenzoquinone\\n'"
      ]
     },
     "execution_count": 3,
     "metadata": {},
     "output_type": "execute_result"
    },
    {
     "data": {
      "text/plain": [
       "'Methyl-p-benzoquinone\\n'"
      ]
     },
     "execution_count": 3,
     "metadata": {},
     "output_type": "execute_result"
    },
    {
     "data": {
      "text/plain": [
       "'Methyl-1,4-benzoquinone\\n'"
      ]
     },
     "execution_count": 3,
     "metadata": {},
     "output_type": "execute_result"
    },
    {
     "data": {
      "text/plain": [
       "'2-Methyl-p-benzoquinone\\n'"
      ]
     },
     "execution_count": 3,
     "metadata": {},
     "output_type": "execute_result"
    },
    {
     "data": {
      "text/plain": [
       "'2-Methylbenzoquinone-1,4\\n'"
      ]
     },
     "execution_count": 3,
     "metadata": {},
     "output_type": "execute_result"
    },
    {
     "data": {
      "text/plain": [
       "'2-Methyl-1,4-benzoquinone\\n'"
      ]
     },
     "execution_count": 3,
     "metadata": {},
     "output_type": "execute_result"
    },
    {
     "data": {
      "text/plain": [
       "'WLN: L6V DVJ B1\\n'"
      ]
     },
     "execution_count": 3,
     "metadata": {},
     "output_type": "execute_result"
    },
    {
     "data": {
      "text/plain": [
       "'2,5-Cyclohexadiene-1,4-dione, 2-methyl-\\n'"
      ]
     },
     "execution_count": 3,
     "metadata": {},
     "output_type": "execute_result"
    },
    {
     "data": {
      "text/plain": [
       "'p-Benzoquinone, 2-methyl-\\n'"
      ]
     },
     "execution_count": 3,
     "metadata": {},
     "output_type": "execute_result"
    },
    {
     "data": {
      "text/plain": [
       "'Toluquinone\\n'"
      ]
     },
     "execution_count": 3,
     "metadata": {},
     "output_type": "execute_result"
    },
    {
     "data": {
      "text/plain": [
       "'\\n'"
      ]
     },
     "execution_count": 3,
     "metadata": {},
     "output_type": "execute_result"
    },
    {
     "data": {
      "text/plain": [
       "'> <NCICADD_FICUS_ID>\\n'"
      ]
     },
     "execution_count": 3,
     "metadata": {},
     "output_type": "execute_result"
    },
    {
     "data": {
      "text/plain": [
       "'A427F1A8BCD067F6-FICuS-01-77\\n'"
      ]
     },
     "execution_count": 3,
     "metadata": {},
     "output_type": "execute_result"
    },
    {
     "data": {
      "text/plain": [
       "'\\n'"
      ]
     },
     "execution_count": 3,
     "metadata": {},
     "output_type": "execute_result"
    },
    {
     "data": {
      "text/plain": [
       "'> <NCICADD_FICTS_ID>\\n'"
      ]
     },
     "execution_count": 3,
     "metadata": {},
     "output_type": "execute_result"
    },
    {
     "data": {
      "text/plain": [
       "'A427F1A8BCD067F6-FICTS-01-56\\n'"
      ]
     },
     "execution_count": 3,
     "metadata": {},
     "output_type": "execute_result"
    },
    {
     "data": {
      "text/plain": [
       "'\\n'"
      ]
     },
     "execution_count": 3,
     "metadata": {},
     "output_type": "execute_result"
    },
    {
     "data": {
      "text/plain": [
       "'> <NCICADD_UUUUU_ID>\\n'"
      ]
     },
     "execution_count": 3,
     "metadata": {},
     "output_type": "execute_result"
    },
    {
     "data": {
      "text/plain": [
       "'A427F1A8BCD067F6-uuuuu-01-26\\n'"
      ]
     },
     "execution_count": 3,
     "metadata": {},
     "output_type": "execute_result"
    },
    {
     "data": {
      "text/plain": [
       "'\\n'"
      ]
     },
     "execution_count": 3,
     "metadata": {},
     "output_type": "execute_result"
    },
    {
     "data": {
      "text/plain": [
       "'> <Standard InChI>\\n'"
      ]
     },
     "execution_count": 3,
     "metadata": {},
     "output_type": "execute_result"
    },
    {
     "data": {
      "text/plain": [
       "'InChI=1S/C7H6O2/c1-5-4-6(8)2-3-7(5)9/h2-4H,1H3\\n'"
      ]
     },
     "execution_count": 3,
     "metadata": {},
     "output_type": "execute_result"
    },
    {
     "data": {
      "text/plain": [
       "'\\n'"
      ]
     },
     "execution_count": 3,
     "metadata": {},
     "output_type": "execute_result"
    },
    {
     "data": {
      "text/plain": [
       "'> <Standard InChIKey>\\n'"
      ]
     },
     "execution_count": 3,
     "metadata": {},
     "output_type": "execute_result"
    },
    {
     "data": {
      "text/plain": [
       "'InChIKey=VTWDKFNVVLAELH-UHFFFAOYSA-N\\n'"
      ]
     },
     "execution_count": 3,
     "metadata": {},
     "output_type": "execute_result"
    },
    {
     "data": {
      "text/plain": [
       "'\\n'"
      ]
     },
     "execution_count": 3,
     "metadata": {},
     "output_type": "execute_result"
    },
    {
     "data": {
      "text/plain": [
       "'>  <GUSAR Human Liver Microsomal Stability Prediction>\\n'"
      ]
     },
     "execution_count": 3,
     "metadata": {},
     "output_type": "execute_result"
    },
    {
     "data": {
      "text/plain": [
       "'stable\\n'"
      ]
     },
     "execution_count": 3,
     "metadata": {},
     "output_type": "execute_result"
    },
    {
     "data": {
      "text/plain": [
       "'\\n'"
      ]
     },
     "execution_count": 3,
     "metadata": {},
     "output_type": "execute_result"
    },
    {
     "data": {
      "text/plain": [
       "'>  <GUSAR Human Liver Microsomal Stability Prediction AD>\\n'"
      ]
     },
     "execution_count": 3,
     "metadata": {},
     "output_type": "execute_result"
    },
    {
     "data": {
      "text/plain": [
       "'out of AD\\n'"
      ]
     },
     "execution_count": 3,
     "metadata": {},
     "output_type": "execute_result"
    },
    {
     "data": {
      "text/plain": [
       "'\\n'"
      ]
     },
     "execution_count": 3,
     "metadata": {},
     "output_type": "execute_result"
    },
    {
     "data": {
      "text/plain": [
       "'$$$$\\n'"
      ]
     },
     "execution_count": 3,
     "metadata": {},
     "output_type": "execute_result"
    },
    {
     "data": {
      "text/plain": [
       "'2\\n'"
      ]
     },
     "execution_count": 3,
     "metadata": {},
     "output_type": "execute_result"
    },
    {
     "data": {
      "text/plain": [
       "'SItclcactv03061213133D 0   0.00000     0.00000     1\\n'"
      ]
     },
     "execution_count": 3,
     "metadata": {},
     "output_type": "execute_result"
    },
    {
     "data": {
      "text/plain": [
       "' \\n'"
      ]
     },
     "execution_count": 3,
     "metadata": {},
     "output_type": "execute_result"
    },
    {
     "data": {
      "text/plain": [
       "' 28 31  0  0  0  0  0  0  0  0999 V2000\\n'"
      ]
     },
     "execution_count": 3,
     "metadata": {},
     "output_type": "execute_result"
    },
    {
     "data": {
      "text/plain": [
       "'   -4.9482    0.0862    0.5424 C   0  0  0  0  0  0  0  0  0  0  0  0\\n'"
      ]
     },
     "execution_count": 3,
     "metadata": {},
     "output_type": "execute_result"
    },
    {
     "data": {
      "text/plain": [
       "'    4.9480    0.0863   -0.5428 C   0  0  0  0  0  0  0  0  0  0  0  0\\n'"
      ]
     },
     "execution_count": 3,
     "metadata": {},
     "output_type": "execute_result"
    },
    {
     "data": {
      "text/plain": [
       "'   -5.5981   -1.1191    0.6310 C   0  0  0  0  0  0  0  0  0  0  0  0\\n'"
      ]
     },
     "execution_count": 3,
     "metadata": {},
     "output_type": "execute_result"
    },
    {
     "data": {
      "text/plain": [
       "'   -3.6337    0.1539    0.0332 C   0  0  0  0  0  0  0  0  0  0  0  0\\n'"
      ]
     },
     "execution_count": 3,
     "metadata": {},
     "output_type": "execute_result"
    },
    {
     "data": {
      "text/plain": [
       "'   -1.6662    1.0553   -0.6190 C   0  0  0  0  0  0  0  0  0  0  0  0\\n'"
      ]
     },
     "execution_count": 3,
     "metadata": {},
     "output_type": "execute_result"
    },
    {
     "data": {
      "text/plain": [
       "'    1.6661    1.0552    0.6190 C   0  0  0  0  0  0  0  0  0  0  0  0\\n'"
      ]
     },
     "execution_count": 3,
     "metadata": {},
     "output_type": "execute_result"
    },
    {
     "data": {
      "text/plain": [
       "'    3.6338    0.1539   -0.0330 C   0  0  0  0  0  0  0  0  0  0  0  0\\n'"
      ]
     },
     "execution_count": 3,
     "metadata": {},
     "output_type": "execute_result"
    },
    {
     "data": {
      "text/plain": [
       "'    5.5979   -1.1189   -0.6318 C   0  0  0  0  0  0  0  0  0  0  0  0\\n'"
      ]
     },
     "execution_count": 3,
     "metadata": {},
     "output_type": "execute_result"
    },
    {
     "data": {
      "text/plain": [
       "'   -4.9748   -2.2889    0.2227 C   0  0  0  0  0  0  0  0  0  0  0  0\\n'"
      ]
     },
     "execution_count": 3,
     "metadata": {},
     "output_type": "execute_result"
    },
    {
     "data": {
      "text/plain": [
       "'   -3.0174   -1.0327   -0.3751 C   0  0  0  0  0  0  0  0  0  0  0  0\\n'"
      ]
     },
     "execution_count": 3,
     "metadata": {},
     "output_type": "execute_result"
    },
    {
     "data": {
      "text/plain": [
       "'    3.0176   -1.0327    0.3755 C   0  0  0  0  0  0  0  0  0  0  0  0\\n'"
      ]
     },
     "execution_count": 3,
     "metadata": {},
     "output_type": "execute_result"
    },
    {
     "data": {
      "text/plain": [
       "'    4.9749   -2.2887   -0.2230 C   0  0  0  0  0  0  0  0  0  0  0  0\\n'"
      ]
     },
     "execution_count": 3,
     "metadata": {},
     "output_type": "execute_result"
    },
    {
     "data": {
      "text/plain": [
       "'   -3.6919   -2.2468   -0.2775 C   0  0  0  0  0  0  0  0  0  0  0  0\\n'"
      ]
     },
     "execution_count": 3,
     "metadata": {},
     "output_type": "execute_result"
    },
    {
     "data": {
      "text/plain": [
       "'    3.6922   -2.2467    0.2778 C   0  0  0  0  0  0  0  0  0  0  0  0\\n'"
      ]
     },
     "execution_count": 3,
     "metadata": {},
     "output_type": "execute_result"
    },
    {
     "data": {
      "text/plain": [
       "'    2.8468    1.2359    0.1274 N   0  0  0  0  0  0  0  0  0  0  0  0\\n'"
      ]
     },
     "execution_count": 3,
     "metadata": {},
     "output_type": "execute_result"
    },
    {
     "data": {
      "text/plain": [
       "'    1.4007   -0.6487    0.9608 S   0  0  0  0  0  0  0  0  0  0  0  0\\n'"
      ]
     },
     "execution_count": 3,
     "metadata": {},
     "output_type": "execute_result"
    },
    {
     "data": {
      "text/plain": [
       "'    0.4891    2.3345    0.9066 S   0  0  0  0  0  0  0  0  0  0  0  0\\n'"
      ]
     },
     "execution_count": 3,
     "metadata": {},
     "output_type": "execute_result"
    },
    {
     "data": {
      "text/plain": [
       "'   -0.4892    2.3347   -0.9063 S   0  0  0  0  0  0  0  0  0  0  0  0\\n'"
      ]
     },
     "execution_count": 3,
     "metadata": {},
     "output_type": "execute_result"
    },
    {
     "data": {
      "text/plain": [
       "'   -1.4006   -0.6486   -0.9606 S   0  0  0  0  0  0  0  0  0  0  0  0\\n'"
      ]
     },
     "execution_count": 3,
     "metadata": {},
     "output_type": "execute_result"
    },
    {
     "data": {
      "text/plain": [
       "'   -2.8469    1.2359   -0.1274 N   0  0  0  0  0  0  0  0  0  0  0  0\\n'"
      ]
     },
     "execution_count": 3,
     "metadata": {},
     "output_type": "execute_result"
    },
    {
     "data": {
      "text/plain": [
       "'   -5.4475    0.9895    0.8603 H   0  0  0  0  0  0  0  0  0  0  0  0\\n'"
      ]
     },
     "execution_count": 3,
     "metadata": {},
     "output_type": "execute_result"
    },
    {
     "data": {
      "text/plain": [
       "'    5.4437    0.9885   -0.8694 H   0  0  0  0  0  0  0  0  0  0  0  0\\n'"
      ]
     },
     "execution_count": 3,
     "metadata": {},
     "output_type": "execute_result"
    },
    {
     "data": {
      "text/plain": [
       "'   -6.6039   -1.1572    1.0225 H   0  0  0  0  0  0  0  0  0  0  0  0\\n'"
      ]
     },
     "execution_count": 3,
     "metadata": {},
     "output_type": "execute_result"
    },
    {
     "data": {
      "text/plain": [
       "'    6.6035   -1.1570   -1.0238 H   0  0  0  0  0  0  0  0  0  0  0  0\\n'"
      ]
     },
     "execution_count": 3,
     "metadata": {},
     "output_type": "execute_result"
    },
    {
     "data": {
      "text/plain": [
       "'   -5.4948   -3.2325    0.2973 H   0  0  0  0  0  0  0  0  0  0  0  0\\n'"
      ]
     },
     "execution_count": 3,
     "metadata": {},
     "output_type": "execute_result"
    },
    {
     "data": {
      "text/plain": [
       "'    5.4949   -3.2323   -0.2979 H   0  0  0  0  0  0  0  0  0  0  0  0\\n'"
      ]
     },
     "execution_count": 3,
     "metadata": {},
     "output_type": "execute_result"
    },
    {
     "data": {
      "text/plain": [
       "'   -3.2077   -3.1585   -0.5950 H   0  0  0  0  0  0  0  0  0  0  0  0\\n'"
      ]
     },
     "execution_count": 3,
     "metadata": {},
     "output_type": "execute_result"
    },
    {
     "data": {
      "text/plain": [
       "'    3.2085   -3.1584    0.5961 H   0  0  0  0  0  0  0  0  0  0  0  0\\n'"
      ]
     },
     "execution_count": 3,
     "metadata": {},
     "output_type": "execute_result"
    },
    {
     "data": {
      "text/plain": [
       "'  1  3  2  0  0  0  0\\n'"
      ]
     },
     "execution_count": 3,
     "metadata": {},
     "output_type": "execute_result"
    },
    {
     "data": {
      "text/plain": [
       "'  1  4  1  0  0  0  0\\n'"
      ]
     },
     "execution_count": 3,
     "metadata": {},
     "output_type": "execute_result"
    },
    {
     "data": {
      "text/plain": [
       "'  2  8  2  0  0  0  0\\n'"
      ]
     },
     "execution_count": 3,
     "metadata": {},
     "output_type": "execute_result"
    },
    {
     "data": {
      "text/plain": [
       "'  2  7  1  0  0  0  0\\n'"
      ]
     },
     "execution_count": 3,
     "metadata": {},
     "output_type": "execute_result"
    },
    {
     "data": {
      "text/plain": [
       "'  3  9  1  0  0  0  0\\n'"
      ]
     },
     "execution_count": 3,
     "metadata": {},
     "output_type": "execute_result"
    },
    {
     "data": {
      "text/plain": [
       "'  4 20  1  0  0  0  0\\n'"
      ]
     },
     "execution_count": 3,
     "metadata": {},
     "output_type": "execute_result"
    },
    {
     "data": {
      "text/plain": [
       "'  4 10  2  0  0  0  0\\n'"
      ]
     },
     "execution_count": 3,
     "metadata": {},
     "output_type": "execute_result"
    },
    {
     "data": {
      "text/plain": [
       "'  5 18  1  0  0  0  0\\n'"
      ]
     },
     "execution_count": 3,
     "metadata": {},
     "output_type": "execute_result"
    },
    {
     "data": {
      "text/plain": [
       "'  5 20  2  0  0  0  0\\n'"
      ]
     },
     "execution_count": 3,
     "metadata": {},
     "output_type": "execute_result"
    },
    {
     "data": {
      "text/plain": [
       "'  5 19  1  0  0  0  0\\n'"
      ]
     },
     "execution_count": 3,
     "metadata": {},
     "output_type": "execute_result"
    },
    {
     "data": {
      "text/plain": [
       "'  6 17  1  0  0  0  0\\n'"
      ]
     },
     "execution_count": 3,
     "metadata": {},
     "output_type": "execute_result"
    },
    {
     "data": {
      "text/plain": [
       "'  6 15  2  0  0  0  0\\n'"
      ]
     },
     "execution_count": 3,
     "metadata": {},
     "output_type": "execute_result"
    },
    {
     "data": {
      "text/plain": [
       "'  6 16  1  0  0  0  0\\n'"
      ]
     },
     "execution_count": 3,
     "metadata": {},
     "output_type": "execute_result"
    },
    {
     "data": {
      "text/plain": [
       "'  7 15  1  0  0  0  0\\n'"
      ]
     },
     "execution_count": 3,
     "metadata": {},
     "output_type": "execute_result"
    },
    {
     "data": {
      "text/plain": [
       "'  7 11  2  0  0  0  0\\n'"
      ]
     },
     "execution_count": 3,
     "metadata": {},
     "output_type": "execute_result"
    },
    {
     "data": {
      "text/plain": [
       "'  8 12  1  0  0  0  0\\n'"
      ]
     },
     "execution_count": 3,
     "metadata": {},
     "output_type": "execute_result"
    },
    {
     "data": {
      "text/plain": [
       "'  9 13  2  0  0  0  0\\n'"
      ]
     },
     "execution_count": 3,
     "metadata": {},
     "output_type": "execute_result"
    },
    {
     "data": {
      "text/plain": [
       "' 10 19  1  0  0  0  0\\n'"
      ]
     },
     "execution_count": 3,
     "metadata": {},
     "output_type": "execute_result"
    },
    {
     "data": {
      "text/plain": [
       "' 10 13  1  0  0  0  0\\n'"
      ]
     },
     "execution_count": 3,
     "metadata": {},
     "output_type": "execute_result"
    },
    {
     "data": {
      "text/plain": [
       "' 11 16  1  0  0  0  0\\n'"
      ]
     },
     "execution_count": 3,
     "metadata": {},
     "output_type": "execute_result"
    },
    {
     "data": {
      "text/plain": [
       "' 11 14  1  0  0  0  0\\n'"
      ]
     },
     "execution_count": 3,
     "metadata": {},
     "output_type": "execute_result"
    },
    {
     "data": {
      "text/plain": [
       "' 12 14  2  0  0  0  0\\n'"
      ]
     },
     "execution_count": 3,
     "metadata": {},
     "output_type": "execute_result"
    },
    {
     "data": {
      "text/plain": [
       "' 17 18  1  0  0  0  0\\n'"
      ]
     },
     "execution_count": 3,
     "metadata": {},
     "output_type": "execute_result"
    },
    {
     "data": {
      "text/plain": [
       "'  1 21  1  0  0  0  0\\n'"
      ]
     },
     "execution_count": 3,
     "metadata": {},
     "output_type": "execute_result"
    },
    {
     "data": {
      "text/plain": [
       "'  2 22  1  0  0  0  0\\n'"
      ]
     },
     "execution_count": 3,
     "metadata": {},
     "output_type": "execute_result"
    },
    {
     "data": {
      "text/plain": [
       "'  3 23  1  0  0  0  0\\n'"
      ]
     },
     "execution_count": 3,
     "metadata": {},
     "output_type": "execute_result"
    },
    {
     "data": {
      "text/plain": [
       "'  8 24  1  0  0  0  0\\n'"
      ]
     },
     "execution_count": 3,
     "metadata": {},
     "output_type": "execute_result"
    },
    {
     "data": {
      "text/plain": [
       "'  9 25  1  0  0  0  0\\n'"
      ]
     },
     "execution_count": 3,
     "metadata": {},
     "output_type": "execute_result"
    },
    {
     "data": {
      "text/plain": [
       "' 12 26  1  0  0  0  0\\n'"
      ]
     },
     "execution_count": 3,
     "metadata": {},
     "output_type": "execute_result"
    },
    {
     "data": {
      "text/plain": [
       "' 13 27  1  0  0  0  0\\n'"
      ]
     },
     "execution_count": 3,
     "metadata": {},
     "output_type": "execute_result"
    },
    {
     "data": {
      "text/plain": [
       "' 14 28  1  0  0  0  0\\n'"
      ]
     },
     "execution_count": 3,
     "metadata": {},
     "output_type": "execute_result"
    },
    {
     "data": {
      "text/plain": [
       "'M  END\\n'"
      ]
     },
     "execution_count": 3,
     "metadata": {},
     "output_type": "execute_result"
    },
    {
     "data": {
      "text/plain": [
       "'> <NSC>\\n'"
      ]
     },
     "execution_count": 3,
     "metadata": {},
     "output_type": "execute_result"
    },
    {
     "data": {
      "text/plain": [
       "'2\\n'"
      ]
     },
     "execution_count": 3,
     "metadata": {},
     "output_type": "execute_result"
    },
    {
     "data": {
      "text/plain": [
       "'\\n'"
      ]
     },
     "execution_count": 3,
     "metadata": {},
     "output_type": "execute_result"
    },
    {
     "data": {
      "text/plain": [
       "'> <Release>\\n'"
      ]
     },
     "execution_count": 3,
     "metadata": {},
     "output_type": "execute_result"
    },
    {
     "data": {
      "text/plain": [
       "'December 2010\\n'"
      ]
     },
     "execution_count": 3,
     "metadata": {},
     "output_type": "execute_result"
    },
    {
     "data": {
      "text/plain": [
       "'\\n'"
      ]
     },
     "execution_count": 3,
     "metadata": {},
     "output_type": "execute_result"
    },
    {
     "data": {
      "text/plain": [
       "'> <Structure Source>\\n'"
      ]
     },
     "execution_count": 3,
     "metadata": {},
     "output_type": "execute_result"
    },
    {
     "data": {
      "text/plain": [
       "'DTP/NCI DIS export via molfile\\n'"
      ]
     },
     "execution_count": 3,
     "metadata": {},
     "output_type": "execute_result"
    },
    {
     "data": {
      "text/plain": [
       "'\\n'"
      ]
     },
     "execution_count": 3,
     "metadata": {},
     "output_type": "execute_result"
    },
    {
     "data": {
      "text/plain": [
       "'> <Number of atom stereocenters>\\n'"
      ]
     },
     "execution_count": 3,
     "metadata": {},
     "output_type": "execute_result"
    },
    {
     "data": {
      "text/plain": [
       "'0\\n'"
      ]
     },
     "execution_count": 3,
     "metadata": {},
     "output_type": "execute_result"
    },
    {
     "data": {
      "text/plain": [
       "'\\n'"
      ]
     },
     "execution_count": 3,
     "metadata": {},
     "output_type": "execute_result"
    },
    {
     "data": {
      "text/plain": [
       "'> <Number of bond stereocenters>\\n'"
      ]
     },
     "execution_count": 3,
     "metadata": {},
     "output_type": "execute_result"
    },
    {
     "data": {
      "text/plain": [
       "'0\\n'"
      ]
     },
     "execution_count": 3,
     "metadata": {},
     "output_type": "execute_result"
    },
    {
     "data": {
      "text/plain": [
       "'\\n'"
      ]
     },
     "execution_count": 3,
     "metadata": {},
     "output_type": "execute_result"
    },
    {
     "data": {
      "text/plain": [
       "'> <CAS>\\n'"
      ]
     },
     "execution_count": 3,
     "metadata": {},
     "output_type": "execute_result"
    },
    {
     "data": {
      "text/plain": [
       "'120-78-5\\n'"
      ]
     },
     "execution_count": 3,
     "metadata": {},
     "output_type": "execute_result"
    },
    {
     "data": {
      "text/plain": [
       "'\\n'"
      ]
     },
     "execution_count": 3,
     "metadata": {},
     "output_type": "execute_result"
    },
    {
     "data": {
      "text/plain": [
       "'> <Structure Evaluation>\\n'"
      ]
     },
     "execution_count": 3,
     "metadata": {},
     "output_type": "execute_result"
    },
    {
     "data": {
      "text/plain": [
       "'Consistent with Molecular Formula\\n'"
      ]
     },
     "execution_count": 3,
     "metadata": {},
     "output_type": "execute_result"
    },
    {
     "data": {
      "text/plain": [
       "'\\n'"
      ]
     },
     "execution_count": 3,
     "metadata": {},
     "output_type": "execute_result"
    },
    {
     "data": {
      "text/plain": [
       "'> <Formula>\\n'"
      ]
     },
     "execution_count": 3,
     "metadata": {},
     "output_type": "execute_result"
    },
    {
     "data": {
      "text/plain": [
       "'C14H8N2S4\\n'"
      ]
     },
     "execution_count": 3,
     "metadata": {},
     "output_type": "execute_result"
    },
    {
     "data": {
      "text/plain": [
       "'\\n'"
      ]
     },
     "execution_count": 3,
     "metadata": {},
     "output_type": "execute_result"
    },
    {
     "data": {
      "text/plain": [
       "'> <Molecular Weight>\\n'"
      ]
     },
     "execution_count": 3,
     "metadata": {},
     "output_type": "execute_result"
    },
    {
     "data": {
      "text/plain": [
       "'332.4706\\n'"
      ]
     },
     "execution_count": 3,
     "metadata": {},
     "output_type": "execute_result"
    },
    {
     "data": {
      "text/plain": [
       "'\\n'"
      ]
     },
     "execution_count": 3,
     "metadata": {},
     "output_type": "execute_result"
    },
    {
     "data": {
      "text/plain": [
       "'> <DTP names>\\n'"
      ]
     },
     "execution_count": 3,
     "metadata": {},
     "output_type": "execute_result"
    },
    {
     "data": {
      "text/plain": [
       "'MBTS\\n'"
      ]
     },
     "execution_count": 3,
     "metadata": {},
     "output_type": "execute_result"
    },
    {
     "data": {
      "text/plain": [
       "'Altax\\n'"
      ]
     },
     "execution_count": 3,
     "metadata": {},
     "output_type": "execute_result"
    },
    {
     "data": {
      "text/plain": [
       "'Thiofide\\n'"
      ]
     },
     "execution_count": 3,
     "metadata": {},
     "output_type": "execute_result"
    },
    {
     "data": {
      "text/plain": [
       "'Accel TM\\n'"
      ]
     },
     "execution_count": 3,
     "metadata": {},
     "output_type": "execute_result"
    },
    {
     "data": {
      "text/plain": [
       "'Ekagom GS\\n'"
      ]
     },
     "execution_count": 3,
     "metadata": {},
     "output_type": "execute_result"
    },
    {
     "data": {
      "text/plain": [
       "'Royal MBTS\\n'"
      ]
     },
     "execution_count": 3,
     "metadata": {},
     "output_type": "execute_result"
    },
    {
     "data": {
      "text/plain": [
       "'Pneumax DM\\n'"
      ]
     },
     "execution_count": 3,
     "metadata": {},
     "output_type": "execute_result"
    }
   ],
   "source": [
    "sdffile = r\"D:\\Chemdataset\\NCI-Open_2012-05-01.sdf\\NCI-Open_2012-05-01.sdf\"\n",
    "with open(sdffile)as f:\n",
    "    for i,line in enumerate(f.readlines()):\n",
    "        line\n",
    "        if i > 200:\n",
    "            break"
   ]
  },
  {
   "cell_type": "code",
   "execution_count": 11,
   "metadata": {},
   "outputs": [
    {
     "data": {
      "text/plain": [
       "'1\\n'"
      ]
     },
     "execution_count": 11,
     "metadata": {},
     "output_type": "execute_result"
    },
    {
     "data": {
      "text/plain": [
       "'SItclcactv03061213133D 0   0.00000     0.00000     1\\n'"
      ]
     },
     "execution_count": 11,
     "metadata": {},
     "output_type": "execute_result"
    },
    {
     "data": {
      "text/plain": [
       "' \\n'"
      ]
     },
     "execution_count": 11,
     "metadata": {},
     "output_type": "execute_result"
    },
    {
     "data": {
      "text/plain": [
       "' 15 15  0  0  0  0  0  0  0  0999 V2000\\n'"
      ]
     },
     "execution_count": 11,
     "metadata": {},
     "output_type": "execute_result"
    },
    {
     "data": {
      "text/plain": [
       "'   -2.2423   -1.0418   -0.0019 O   0  0  0  0  0  0  0  0  0  0  0  0\\n'"
      ]
     },
     "execution_count": 11,
     "metadata": {},
     "output_type": "execute_result"
    },
    {
     "data": {
      "text/plain": [
       "'    2.7534    0.5594   -0.0014 O   0  0  0  0  0  0  0  0  0  0  0  0\\n'"
      ]
     },
     "execution_count": 11,
     "metadata": {},
     "output_type": "execute_result"
    },
    {
     "data": {
      "text/plain": [
       "'   -1.0858   -0.6711   -0.0020 C   0  0  0  0  0  0  0  0  0  0  0  0\\n'"
      ]
     },
     "execution_count": 11,
     "metadata": {},
     "output_type": "execute_result"
    },
    {
     "data": {
      "text/plain": [
       "'   -0.7730    0.7725    0.0002 C   0  0  0  0  0  0  0  0  0  0  0  0\\n'"
      ]
     },
     "execution_count": 11,
     "metadata": {},
     "output_type": "execute_result"
    },
    {
     "data": {
      "text/plain": [
       "'    0.0079   -1.6639    0.0018 C   0  0  0  0  0  0  0  0  0  0  0  0\\n'"
      ]
     },
     "execution_count": 11,
     "metadata": {},
     "output_type": "execute_result"
    },
    {
     "data": {
      "text/plain": [
       "'    0.5032    1.1815    0.0005 C   0  0  0  0  0  0  0  0  0  0  0  0\\n'"
      ]
     },
     "execution_count": 11,
     "metadata": {},
     "output_type": "execute_result"
    },
    {
     "data": {
      "text/plain": [
       "'    1.2841   -1.2548    0.0021 C   0  0  0  0  0  0  0  0  0  0  0  0\\n'"
      ]
     },
     "execution_count": 11,
     "metadata": {},
     "output_type": "execute_result"
    },
    {
     "data": {
      "text/plain": [
       "'    1.5970    0.1888   -0.0013 C   0  0  0  0  0  0  0  0  0  0  0  0\\n'"
      ]
     },
     "execution_count": 11,
     "metadata": {},
     "output_type": "execute_result"
    },
    {
     "data": {
      "text/plain": [
       "'   -1.8888    1.7853    0.0016 C   0  0  0  0  0  0  0  0  0  0  0  0\\n'"
      ]
     },
     "execution_count": 11,
     "metadata": {},
     "output_type": "execute_result"
    },
    {
     "data": {
      "text/plain": [
       "'   -0.2208   -2.7193    0.0047 H   0  0  0  0  0  0  0  0  0  0  0  0\\n'"
      ]
     },
     "execution_count": 11,
     "metadata": {},
     "output_type": "execute_result"
    },
    {
     "data": {
      "text/plain": [
       "'    0.7320    2.2370    0.0018 H   0  0  0  0  0  0  0  0  0  0  0  0\\n'"
      ]
     },
     "execution_count": 11,
     "metadata": {},
     "output_type": "execute_result"
    },
    {
     "data": {
      "text/plain": [
       "'    2.0838   -1.9807    0.0049 H   0  0  0  0  0  0  0  0  0  0  0  0\\n'"
      ]
     },
     "execution_count": 11,
     "metadata": {},
     "output_type": "execute_result"
    },
    {
     "data": {
      "text/plain": [
       "'   -2.1580    2.0280    1.0296 H   0  0  0  0  0  0  0  0  0  0  0  0\\n'"
      ]
     },
     "execution_count": 11,
     "metadata": {},
     "output_type": "execute_result"
    },
    {
     "data": {
      "text/plain": [
       "'   -1.5597    2.6893   -0.5108 H   0  0  0  0  0  0  0  0  0  0  0  0\\n'"
      ]
     },
     "execution_count": 11,
     "metadata": {},
     "output_type": "execute_result"
    },
    {
     "data": {
      "text/plain": [
       "'   -2.7560    1.3713   -0.5129 H   0  0  0  0  0  0  0  0  0  0  0  0\\n'"
      ]
     },
     "execution_count": 11,
     "metadata": {},
     "output_type": "execute_result"
    },
    {
     "data": {
      "text/plain": [
       "'  1  3  2  0  0  0  0\\n'"
      ]
     },
     "execution_count": 11,
     "metadata": {},
     "output_type": "execute_result"
    },
    {
     "data": {
      "text/plain": [
       "'  2  8  2  0  0  0  0\\n'"
      ]
     },
     "execution_count": 11,
     "metadata": {},
     "output_type": "execute_result"
    },
    {
     "data": {
      "text/plain": [
       "'  3  4  1  0  0  0  0\\n'"
      ]
     },
     "execution_count": 11,
     "metadata": {},
     "output_type": "execute_result"
    },
    {
     "data": {
      "text/plain": [
       "'  3  5  1  0  0  0  0\\n'"
      ]
     },
     "execution_count": 11,
     "metadata": {},
     "output_type": "execute_result"
    },
    {
     "data": {
      "text/plain": [
       "'  4  6  2  0  0  0  0\\n'"
      ]
     },
     "execution_count": 11,
     "metadata": {},
     "output_type": "execute_result"
    },
    {
     "data": {
      "text/plain": [
       "'  4  9  1  0  0  0  0\\n'"
      ]
     },
     "execution_count": 11,
     "metadata": {},
     "output_type": "execute_result"
    },
    {
     "data": {
      "text/plain": [
       "'  5  7  2  0  0  0  0\\n'"
      ]
     },
     "execution_count": 11,
     "metadata": {},
     "output_type": "execute_result"
    },
    {
     "data": {
      "text/plain": [
       "'  6  8  1  0  0  0  0\\n'"
      ]
     },
     "execution_count": 11,
     "metadata": {},
     "output_type": "execute_result"
    },
    {
     "data": {
      "text/plain": [
       "'  7  8  1  0  0  0  0\\n'"
      ]
     },
     "execution_count": 11,
     "metadata": {},
     "output_type": "execute_result"
    },
    {
     "data": {
      "text/plain": [
       "'  5 10  1  0  0  0  0\\n'"
      ]
     },
     "execution_count": 11,
     "metadata": {},
     "output_type": "execute_result"
    },
    {
     "data": {
      "text/plain": [
       "'  6 11  1  0  0  0  0\\n'"
      ]
     },
     "execution_count": 11,
     "metadata": {},
     "output_type": "execute_result"
    },
    {
     "data": {
      "text/plain": [
       "'  7 12  1  0  0  0  0\\n'"
      ]
     },
     "execution_count": 11,
     "metadata": {},
     "output_type": "execute_result"
    },
    {
     "data": {
      "text/plain": [
       "'  9 13  1  0  0  0  0\\n'"
      ]
     },
     "execution_count": 11,
     "metadata": {},
     "output_type": "execute_result"
    },
    {
     "data": {
      "text/plain": [
       "'  9 14  1  0  0  0  0\\n'"
      ]
     },
     "execution_count": 11,
     "metadata": {},
     "output_type": "execute_result"
    },
    {
     "data": {
      "text/plain": [
       "'  9 15  1  0  0  0  0\\n'"
      ]
     },
     "execution_count": 11,
     "metadata": {},
     "output_type": "execute_result"
    },
    {
     "data": {
      "text/plain": [
       "'M  END\\n'"
      ]
     },
     "execution_count": 11,
     "metadata": {},
     "output_type": "execute_result"
    },
    {
     "data": {
      "text/plain": [
       "'> <NSC>\\n'"
      ]
     },
     "execution_count": 11,
     "metadata": {},
     "output_type": "execute_result"
    },
    {
     "data": {
      "text/plain": [
       "'1\\n'"
      ]
     },
     "execution_count": 11,
     "metadata": {},
     "output_type": "execute_result"
    },
    {
     "data": {
      "text/plain": [
       "'\\n'"
      ]
     },
     "execution_count": 11,
     "metadata": {},
     "output_type": "execute_result"
    },
    {
     "data": {
      "text/plain": [
       "'> <Release>\\n'"
      ]
     },
     "execution_count": 11,
     "metadata": {},
     "output_type": "execute_result"
    },
    {
     "data": {
      "text/plain": [
       "'December 2010\\n'"
      ]
     },
     "execution_count": 11,
     "metadata": {},
     "output_type": "execute_result"
    },
    {
     "data": {
      "text/plain": [
       "'\\n'"
      ]
     },
     "execution_count": 11,
     "metadata": {},
     "output_type": "execute_result"
    },
    {
     "data": {
      "text/plain": [
       "'> <Structure Source>\\n'"
      ]
     },
     "execution_count": 11,
     "metadata": {},
     "output_type": "execute_result"
    },
    {
     "data": {
      "text/plain": [
       "'DTP/NCI DIS export via molfile\\n'"
      ]
     },
     "execution_count": 11,
     "metadata": {},
     "output_type": "execute_result"
    },
    {
     "data": {
      "text/plain": [
       "'\\n'"
      ]
     },
     "execution_count": 11,
     "metadata": {},
     "output_type": "execute_result"
    },
    {
     "data": {
      "text/plain": [
       "'> <Number of atom stereocenters>\\n'"
      ]
     },
     "execution_count": 11,
     "metadata": {},
     "output_type": "execute_result"
    },
    {
     "data": {
      "text/plain": [
       "'0\\n'"
      ]
     },
     "execution_count": 11,
     "metadata": {},
     "output_type": "execute_result"
    },
    {
     "data": {
      "text/plain": [
       "'\\n'"
      ]
     },
     "execution_count": 11,
     "metadata": {},
     "output_type": "execute_result"
    },
    {
     "data": {
      "text/plain": [
       "'> <Number of bond stereocenters>\\n'"
      ]
     },
     "execution_count": 11,
     "metadata": {},
     "output_type": "execute_result"
    },
    {
     "data": {
      "text/plain": [
       "'0\\n'"
      ]
     },
     "execution_count": 11,
     "metadata": {},
     "output_type": "execute_result"
    },
    {
     "data": {
      "text/plain": [
       "'\\n'"
      ]
     },
     "execution_count": 11,
     "metadata": {},
     "output_type": "execute_result"
    },
    {
     "data": {
      "text/plain": [
       "'> <CAS>\\n'"
      ]
     },
     "execution_count": 11,
     "metadata": {},
     "output_type": "execute_result"
    },
    {
     "data": {
      "text/plain": [
       "'553-97-9\\n'"
      ]
     },
     "execution_count": 11,
     "metadata": {},
     "output_type": "execute_result"
    },
    {
     "data": {
      "text/plain": [
       "'\\n'"
      ]
     },
     "execution_count": 11,
     "metadata": {},
     "output_type": "execute_result"
    },
    {
     "data": {
      "text/plain": [
       "'> <Structure Evaluation>\\n'"
      ]
     },
     "execution_count": 11,
     "metadata": {},
     "output_type": "execute_result"
    },
    {
     "data": {
      "text/plain": [
       "'Consistent with Molecular Formula\\n'"
      ]
     },
     "execution_count": 11,
     "metadata": {},
     "output_type": "execute_result"
    },
    {
     "data": {
      "text/plain": [
       "'\\n'"
      ]
     },
     "execution_count": 11,
     "metadata": {},
     "output_type": "execute_result"
    },
    {
     "data": {
      "text/plain": [
       "'> <Formula>\\n'"
      ]
     },
     "execution_count": 11,
     "metadata": {},
     "output_type": "execute_result"
    },
    {
     "data": {
      "text/plain": [
       "'C7H6O2\\n'"
      ]
     },
     "execution_count": 11,
     "metadata": {},
     "output_type": "execute_result"
    },
    {
     "data": {
      "text/plain": [
       "'\\n'"
      ]
     },
     "execution_count": 11,
     "metadata": {},
     "output_type": "execute_result"
    },
    {
     "data": {
      "text/plain": [
       "'> <Molecular Weight>\\n'"
      ]
     },
     "execution_count": 11,
     "metadata": {},
     "output_type": "execute_result"
    },
    {
     "data": {
      "text/plain": [
       "'122.1232\\n'"
      ]
     },
     "execution_count": 11,
     "metadata": {},
     "output_type": "execute_result"
    },
    {
     "data": {
      "text/plain": [
       "'\\n'"
      ]
     },
     "execution_count": 11,
     "metadata": {},
     "output_type": "execute_result"
    },
    {
     "data": {
      "text/plain": [
       "'> <DTP names>\\n'"
      ]
     },
     "execution_count": 11,
     "metadata": {},
     "output_type": "execute_result"
    },
    {
     "data": {
      "text/plain": [
       "'Tolylquinone\\n'"
      ]
     },
     "execution_count": 11,
     "metadata": {},
     "output_type": "execute_result"
    },
    {
     "data": {
      "text/plain": [
       "'p-Toluquinone\\n'"
      ]
     },
     "execution_count": 11,
     "metadata": {},
     "output_type": "execute_result"
    },
    {
     "data": {
      "text/plain": [
       "'Methylquinone\\n'"
      ]
     },
     "execution_count": 11,
     "metadata": {},
     "output_type": "execute_result"
    },
    {
     "data": {
      "text/plain": [
       "'1,4-Toluquinone\\n'"
      ]
     },
     "execution_count": 11,
     "metadata": {},
     "output_type": "execute_result"
    },
    {
     "data": {
      "text/plain": [
       "'2-Methylquinone\\n'"
      ]
     },
     "execution_count": 11,
     "metadata": {},
     "output_type": "execute_result"
    },
    {
     "data": {
      "text/plain": [
       "'Methylbenzoquinone\\n'"
      ]
     },
     "execution_count": 11,
     "metadata": {},
     "output_type": "execute_result"
    },
    {
     "data": {
      "text/plain": [
       "'2-Methyl-1,4-quinone\\n'"
      ]
     },
     "execution_count": 11,
     "metadata": {},
     "output_type": "execute_result"
    },
    {
     "data": {
      "text/plain": [
       "'2-Methylbenzoquinone\\n'"
      ]
     },
     "execution_count": 11,
     "metadata": {},
     "output_type": "execute_result"
    },
    {
     "data": {
      "text/plain": [
       "'Methyl-p-benzoquinone\\n'"
      ]
     },
     "execution_count": 11,
     "metadata": {},
     "output_type": "execute_result"
    },
    {
     "data": {
      "text/plain": [
       "'Methyl-1,4-benzoquinone\\n'"
      ]
     },
     "execution_count": 11,
     "metadata": {},
     "output_type": "execute_result"
    },
    {
     "data": {
      "text/plain": [
       "'2-Methyl-p-benzoquinone\\n'"
      ]
     },
     "execution_count": 11,
     "metadata": {},
     "output_type": "execute_result"
    },
    {
     "data": {
      "text/plain": [
       "'2-Methylbenzoquinone-1,4\\n'"
      ]
     },
     "execution_count": 11,
     "metadata": {},
     "output_type": "execute_result"
    },
    {
     "data": {
      "text/plain": [
       "'2-Methyl-1,4-benzoquinone\\n'"
      ]
     },
     "execution_count": 11,
     "metadata": {},
     "output_type": "execute_result"
    },
    {
     "data": {
      "text/plain": [
       "'WLN: L6V DVJ B1\\n'"
      ]
     },
     "execution_count": 11,
     "metadata": {},
     "output_type": "execute_result"
    },
    {
     "data": {
      "text/plain": [
       "'2,5-Cyclohexadiene-1,4-dione, 2-methyl-\\n'"
      ]
     },
     "execution_count": 11,
     "metadata": {},
     "output_type": "execute_result"
    },
    {
     "data": {
      "text/plain": [
       "'p-Benzoquinone, 2-methyl-\\n'"
      ]
     },
     "execution_count": 11,
     "metadata": {},
     "output_type": "execute_result"
    },
    {
     "data": {
      "text/plain": [
       "'Toluquinone\\n'"
      ]
     },
     "execution_count": 11,
     "metadata": {},
     "output_type": "execute_result"
    },
    {
     "data": {
      "text/plain": [
       "'\\n'"
      ]
     },
     "execution_count": 11,
     "metadata": {},
     "output_type": "execute_result"
    },
    {
     "data": {
      "text/plain": [
       "'> <NCICADD_FICUS_ID>\\n'"
      ]
     },
     "execution_count": 11,
     "metadata": {},
     "output_type": "execute_result"
    },
    {
     "data": {
      "text/plain": [
       "'A427F1A8BCD067F6-FICuS-01-77\\n'"
      ]
     },
     "execution_count": 11,
     "metadata": {},
     "output_type": "execute_result"
    },
    {
     "data": {
      "text/plain": [
       "'\\n'"
      ]
     },
     "execution_count": 11,
     "metadata": {},
     "output_type": "execute_result"
    },
    {
     "data": {
      "text/plain": [
       "'> <NCICADD_FICTS_ID>\\n'"
      ]
     },
     "execution_count": 11,
     "metadata": {},
     "output_type": "execute_result"
    },
    {
     "data": {
      "text/plain": [
       "'A427F1A8BCD067F6-FICTS-01-56\\n'"
      ]
     },
     "execution_count": 11,
     "metadata": {},
     "output_type": "execute_result"
    },
    {
     "data": {
      "text/plain": [
       "'\\n'"
      ]
     },
     "execution_count": 11,
     "metadata": {},
     "output_type": "execute_result"
    },
    {
     "data": {
      "text/plain": [
       "'> <NCICADD_UUUUU_ID>\\n'"
      ]
     },
     "execution_count": 11,
     "metadata": {},
     "output_type": "execute_result"
    },
    {
     "data": {
      "text/plain": [
       "'A427F1A8BCD067F6-uuuuu-01-26\\n'"
      ]
     },
     "execution_count": 11,
     "metadata": {},
     "output_type": "execute_result"
    },
    {
     "data": {
      "text/plain": [
       "'\\n'"
      ]
     },
     "execution_count": 11,
     "metadata": {},
     "output_type": "execute_result"
    },
    {
     "data": {
      "text/plain": [
       "'> <Standard InChI>\\n'"
      ]
     },
     "execution_count": 11,
     "metadata": {},
     "output_type": "execute_result"
    },
    {
     "data": {
      "text/plain": [
       "'InChI=1S/C7H6O2/c1-5-4-6(8)2-3-7(5)9/h2-4H,1H3\\n'"
      ]
     },
     "execution_count": 11,
     "metadata": {},
     "output_type": "execute_result"
    },
    {
     "data": {
      "text/plain": [
       "'\\n'"
      ]
     },
     "execution_count": 11,
     "metadata": {},
     "output_type": "execute_result"
    },
    {
     "data": {
      "text/plain": [
       "'> <Standard InChIKey>\\n'"
      ]
     },
     "execution_count": 11,
     "metadata": {},
     "output_type": "execute_result"
    },
    {
     "data": {
      "text/plain": [
       "'InChIKey=VTWDKFNVVLAELH-UHFFFAOYSA-N\\n'"
      ]
     },
     "execution_count": 11,
     "metadata": {},
     "output_type": "execute_result"
    },
    {
     "data": {
      "text/plain": [
       "'\\n'"
      ]
     },
     "execution_count": 11,
     "metadata": {},
     "output_type": "execute_result"
    },
    {
     "data": {
      "text/plain": [
       "'>  <GUSAR Human Liver Microsomal Stability Prediction>\\n'"
      ]
     },
     "execution_count": 11,
     "metadata": {},
     "output_type": "execute_result"
    },
    {
     "data": {
      "text/plain": [
       "'stable\\n'"
      ]
     },
     "execution_count": 11,
     "metadata": {},
     "output_type": "execute_result"
    },
    {
     "data": {
      "text/plain": [
       "'\\n'"
      ]
     },
     "execution_count": 11,
     "metadata": {},
     "output_type": "execute_result"
    },
    {
     "data": {
      "text/plain": [
       "'>  <GUSAR Human Liver Microsomal Stability Prediction AD>\\n'"
      ]
     },
     "execution_count": 11,
     "metadata": {},
     "output_type": "execute_result"
    },
    {
     "data": {
      "text/plain": [
       "'out of AD\\n'"
      ]
     },
     "execution_count": 11,
     "metadata": {},
     "output_type": "execute_result"
    },
    {
     "data": {
      "text/plain": [
       "'\\n'"
      ]
     },
     "execution_count": 11,
     "metadata": {},
     "output_type": "execute_result"
    },
    {
     "data": {
      "text/plain": [
       "'$$$$\\n'"
      ]
     },
     "execution_count": 11,
     "metadata": {},
     "output_type": "execute_result"
    }
   ],
   "source": [
    "sdffile = r\"D:\\Chemdataset\\NCI-Open_2012-05-01.sdf\\NCI-Open_2012-05-01.sdf\"\n",
    "i = 0\n",
    "with open(sdffile) as f:\n",
    "    while True:\n",
    "        line = f.readline()\n",
    "        line\n",
    "        i += 1\n",
    "        if re.match(\"\\$\\$\\$\\$\",line):\n",
    "            break\n",
    "        if i>200:\n",
    "            break"
   ]
  },
  {
   "cell_type": "code",
   "execution_count": 15,
   "metadata": {},
   "outputs": [
    {
     "data": {
      "text/plain": [
       "'$$$$'"
      ]
     },
     "execution_count": 15,
     "metadata": {},
     "output_type": "execute_result"
    }
   ],
   "source": [
    "re.match(\"\\$\\$\\$\\$\",\"$$$$\\n\").group()\n",
    "a = 1\n",
    "b = ''\n",
    "if b=='\\n':\n",
    "    a"
   ]
  },
  {
   "cell_type": "code",
   "execution_count": 50,
   "metadata": {},
   "outputs": [
    {
     "data": {
      "text/plain": [
       "0"
      ]
     },
     "execution_count": 50,
     "metadata": {},
     "output_type": "execute_result"
    }
   ],
   "source": [
    "a = [1,2,3,4]\n",
    "a.index(1)"
   ]
  },
  {
   "cell_type": "code",
   "execution_count": null,
   "metadata": {},
   "outputs": [],
   "source": [
    "> <CAS>"
   ]
  },
  {
   "cell_type": "code",
   "execution_count": null,
   "metadata": {},
   "outputs": [],
   "source": [
    "re.findall(\"\")"
   ]
  },
  {
   "cell_type": "code",
   "execution_count": 89,
   "metadata": {},
   "outputs": [
    {
     "data": {
      "text/plain": [
       "['> <CAS  a>']"
      ]
     },
     "execution_count": 89,
     "metadata": {},
     "output_type": "execute_result"
    }
   ],
   "source": [
    "pattern = re.compile(r'> <\\w+?\\w>')   \n",
    "pattern = re.compile(r'> <\\w+ {2}\\w*>')   \n",
    "result1 = pattern.findall('> <CAS  a>')\n",
    "result1"
   ]
  },
  {
   "cell_type": "code",
   "execution_count": 96,
   "metadata": {},
   "outputs": [
    {
     "data": {
      "text/plain": [
       "0"
      ]
     },
     "execution_count": 96,
     "metadata": {},
     "output_type": "execute_result"
    }
   ],
   "source": [
    "a = re.match(pattern,'> <CAS A>')\n",
    "b=3\n",
    "c = a.group() if a else 0\n",
    "c\n",
    "# re.match(pattern,'> <CAS A>').group()"
   ]
  },
  {
   "cell_type": "code",
   "execution_count": 100,
   "metadata": {},
   "outputs": [
    {
     "data": {
      "text/plain": [
       "265242"
      ]
     },
     "execution_count": 100,
     "metadata": {},
     "output_type": "execute_result"
    }
   ],
   "source": []
  },
  {
   "cell_type": "markdown",
   "metadata": {},
   "source": [
    "# 爬虫"
   ]
  },
  {
   "cell_type": "code",
   "execution_count": 15,
   "metadata": {},
   "outputs": [],
   "source": [
    "response = urllib.request.urlopen(\"http://dict.youdao.com\")\n",
    "html = response.read()\n"
   ]
  },
  {
   "cell_type": "code",
   "execution_count": 16,
   "metadata": {},
   "outputs": [
    {
     "data": {
      "text/plain": [
       "'http://dict.youdao.com'"
      ]
     },
     "execution_count": 16,
     "metadata": {},
     "output_type": "execute_result"
    }
   ],
   "source": [
    "response.geturl()"
   ]
  },
  {
   "cell_type": "code",
   "execution_count": 18,
   "metadata": {},
   "outputs": [
    {
     "data": {
      "text/plain": [
       "<http.client.HTTPMessage at 0x1c0bd252748>"
      ]
     },
     "execution_count": 18,
     "metadata": {},
     "output_type": "execute_result"
    },
    {
     "name": "stdout",
     "output_type": "stream",
     "text": [
      "Server: nginx\n",
      "Date: Thu, 12 Mar 2020 06:51:52 GMT\n",
      "Content-Type: text/html; charset=utf-8\n",
      "Transfer-Encoding: chunked\n",
      "Connection: close\n",
      "Vary: Accept-Encoding\n",
      "Cache-Control: private\n",
      "Content-Language: en-US\n",
      "Set-Cookie: DICT_UGC=be3af0da19b5c5e6aa4e17bd8d90b28a|; domain=.youdao.com\n",
      "Set-Cookie: OUTFOX_SEARCH_USER_ID=2062681630@223.72.60.85; domain=.youdao.com; expires=Sat, 05-Mar-2050 06:51:53 GMT\n",
      "Set-Cookie: JSESSIONID=abcbtP8Hp1sYzeDw4Gndx; domain=youdao.com; path=/\n",
      "\n",
      "\n"
     ]
    }
   ],
   "source": [
    "response.info()\n",
    "print(response.info())"
   ]
  },
  {
   "cell_type": "code",
   "execution_count": 19,
   "metadata": {},
   "outputs": [
    {
     "data": {
      "text/plain": [
       "200"
      ]
     },
     "execution_count": 19,
     "metadata": {},
     "output_type": "execute_result"
    }
   ],
   "source": [
    "response.getcode()"
   ]
  },
  {
   "cell_type": "code",
   "execution_count": 7,
   "metadata": {},
   "outputs": [
    {
     "data": {
      "text/plain": [
       "'<!DOCTYPE html><html><head><meta charset=\"UTF-8\"><meta name=\"keywords\" content=\"有道, 搜索, 词典, 翻译, 云笔记, 笔记, 惠惠网, 惠惠购物助手, 购物搜索, 图片搜索, 视频搜索, 新闻搜索, 网易有道, 在线翻译, 专业翻译\"><meta name=\"description\" content=\"网易有道是中国领先的智能学习公司，致力于提供100%以用户为导向的学习产品和服务。有道成立于2006年，打造了一系列深受用户喜欢的口碑型大众学习工具产品，例如：网易有道词典、有道精品课、有道翻译官、有道云笔记等。2014年，网易有道宣布正式进军互联网教育行业。2018年4月，网易有道完成首次战略融资，投后估值11.2亿美金，跻身独角兽阵营。2019年10月，网易有道成功登陆纽交所，股票代码为“DAO”，成为网易集团首个独立上市的公司。\"><title>有道首页</title><link href=\"https://shared.ydstatic.com/images/favicon.ico\" type=\"image/x-icon\" rel=\"shortcut icon\"><link rel=\"stylesheet\" href=\"https://shared.ydstatic.com/dict/v2016/entry/pc8.css\"><script>var _rlog = _rlog || [];\\r\\n    // 指定 product id\\r\\n    _rlog.push([\"_setAccount\", \"dictweb\"]);\\r\\n    _rlog.push([\"_addPost\", \"page\", \"index\"]);</script></head><body><div id=\"nav\"><a id=\"wljb\" href=\"http://report.12377.cn:13225/toreportinputNormal_anis.do\" target=\"_blank\"></a><div id=\"more\"><div><span></span> 更多产品</div><div class=\"menu\"><ul><li><a href=\"https://cidian.youdao.com/index.html\"><span class=\"icon_cidian\"></span><div>网易有道词典</div></a></li><li><a href=\"https://kiddict.youdao.com/\"><span class=\"icon_shaoercidian\"></span><div>有道少儿词典</div></a></li><li><a href=\"https://speak.youdao.com/\"><span class=\"icon_kouyu\"></span><div>有道口语</div></a></li><li><a href=\"https://ke.youdao.com/\"><span class=\"icon_jingpinke\"></span><div>有道精品课</div></a></li><li><a href=\"https://fanyiguan.youdao.com/?keyfrom=about.youdao\"><span class=\"icon_fanyiguan\"></span><div>有道翻译官</div></a></li><li><a href=\"https://recite.youdao.com/\"><span class=\"icon_beidanci\"></span><div>有道背单词</div></a></li><li><a href=\"https://note.youdao.com/?keyfrom=about.youdao\"><span class=\"icon_yunbiji\"></span><div>有道云笔记</div></a></li><li><a href=\"https://co.youdao.com/product.html?keyfrom=website\"><span class=\"icon_xiezuo\"></span><div>有道云协作</div></a></li><li><a href=\"https://zhushou.huihui.cn/\"><span class=\"icon_huihui\"></span><div>惠惠购物助手</div></a></li><li><a href=\"https://store.youdao.com/#/general\"><span class=\"icon_fanyiwang\"></span><div>有道翻译王</div></a></li><li><a href=\"http://dsp.youdao.com/dsp/website/developer.shtml?keyfrom=dict2.index\"><span class=\"icon_zhixuan\"></span><div>有道智选</div></a></li><li><a href=\"https://ai.youdao.com/\"><span class=\"icon_zhiyun\"></span><div>有道智云</div></a></li><li><a target=\"_blank\" href=\"http://www.youdao.com/about/?keyfrom=dict2.index\">全部产品</a></li></ul></div></div><ul><li><a href=\"http://www.huihui.cn/?keyfrom=dict2.index\">惠惠</a></li><li><a href=\"http://f.youdao.com/?keyfrom=dict2.index\">人工翻译</a></li><li><a href=\"#\"></a></li><li><a href=\"http://note.youdao.com/?keyfrom=dict2.index\">云笔记</a></li><li><a href=\"https://ke.youdao.com/?keyfrom=dict2.index\">精品课</a></li><li><a href=\"http://fanyi.youdao.com/?keyfrom=dict2.index\">翻译</a></li><li><a href=\"https://recite.youdao.com/?vendor=chanpindaohang\">背单词</a></li><li><a href=\"http://dict.youdao.com/?keyfrom=dict2.index\">词典</a></li></ul></div><div id=\"margin1\"></div><div id=\"logo\"><div class=\"logo\"></div></div><div id=\"margin2\"></div><div id=\"search\"><div class=\"wrap\"><form method=\"GET\" action=\"/search\" id=\"form\"><img class=\"logo\" src=\"https://shared-https.ydstatic.com/dict/v2016/logo.png\" alt=\"有道图标\"><div id=\"selectType\"><div id=\"type\">中英</div><div class=\"side\">1</div><span class=\"arrow\"></span><ul id=\"typeList\"><li>中英</li><li>中法</li><li>中韩</li><li>中日</li></ul></div><div id=\"border\"><input type=\"text\" name=\"le\" id=\"translateType\" value=\"eng\"> <input type=\"text\" name=\"q\" onmouseover=\"this.focus()\" onfocus=\"this.select()\" maxlength=\"256\" id=\"translateContent\" autocomplete=\"off\" placeholder=\"在此输入要翻译的单词或文字\"> <input type=\"hidden\" name=\"keyfrom\" value=\"dict2.index\"> <span id=\"hnwBtn\" class=\"hand-write\"></span></div><button>翻译</button></form></div></div><div id=\"margin3\"><span><a target=\"_blank\" href=\"http://c.youdao.com/dict/download.html?app=dict&vendor=webdict_default&platform=win&url=http%3A%2F%2Fcodown.youdao.com%2Fcidian%2FYoudaoDict_webdict_default.exe\">下载词典客户端 </a></span>| <span><a target=\"_blank\" href=\"http://cidian.youdao.com/mobile.html?keyfrom=dict2.index\">下载词典移动端 </a></span>| <span><a target=\"_blank\" href=\"http://dict.youdao.com/wordbook/wordlist?keyfrom=dict2.index\">查看单词本 </a></span>| <span class=\"ugc-link\"><a target=\"_blank\" href=\"http://pdf.youdao.com/?keyfrom=dict_web_default\">文档翻译 <sup>&bull;</sup></a></span></div><div id=\"doc2\"><div class=\"wrap\"><div class=\"fl\"><div class=\"channel\"><div class=\"popout\"><div class=\"container\"><span class=\"active\">精选阅读 </span><span>必备课程 </span><span>折扣精选</span></div></div></div><div id=\"vista\"></div><div id=\"course\"><div class=\"category\"><span class=\"active\">四六级 </span><span>考研 </span><span>实用英语</span></div><div id=\"CET\" class=\"cate start\"></div><div id=\"IELTS\" class=\"cate start\"></div><div id=\"Kaoyan\" class=\"cate start\"></div><div id=\"GRE\" class=\"cate start\"></div><div id=\"Practical\" class=\"cate start\"></div></div><div id=\"discount\" class=\"start\"></div></div><div class=\"fr\"><div class=\"popout\"><iframe src=\"https://c.youdao.com/www/banner.html\" frameborder=\"0\"></iframe><div class=\"hd\"><a target=\"_blank\" href=\"https://ke.youdao.com/course/list/0/1?keyfrom=dict2.index\">热门课程</a></div><div class=\"bd\"></div></div></div></div></div><div id=\"footer\"><div class=\"wrap\"><ul><li><a href=\"http://www.youdao.com/about/\">关于有道</a></li><li><a href=\"http://ir.youdao.com/\">Investors</a></li><li><a href=\"http://dsp.youdao.com/\">有道智选</a></li><li><a href=\"http://ai.youdao.com/?keyfrom=dict2.index\">有道智云</a></li><li><a href=\"http://i.youdao.com/\">官方博客</a></li><li><a href=\"http://techblog.youdao.com/\">技术博客</a></li><li><a href=\"http://campus.youdao.com/index.php?t1=index\">诚聘英才</a></li><li><a href=\"http://shared.youdao.com/www/contactus-page.html\">联系我们</a></li><li><a href=\"http://dict.youdao.com/map/index.html\">站点地图</a></li><li><a href=\"http://www.12377.cn/\">网络举报</a></li><li><a href=\"http://shared.youdao.com/images/license/businessLicense.png\">营业执照</a></li><li><a href=\"http://shared.youdao.com/images/license/publicationLicense.png\">出版物经营许可证</a></li><li><a href=\"http://shared.youdao.com/images/Broadcastingandtelevisionprogramproductionlicense.pdf\">广播电视节目制造许可证</a></li></ul><p class=\"phone\">违法和不良信息举报电话：010-82558843 <span class=\"copy-right\">&copy;<script>document.write(new Date().getFullYear());</script><a href=\"http://www.163.com/\">网易公司</a> <a href=\"http://shared.youdao.com/dict/market/youdaoInc-v2.1/index.html#/CN\">隐私政策</a> <a href=\"http://xue.youdao.com/sw/m/1191866\">服务条款</a> 京ICP证080268号 <a href=\"http://beian.miit.gov.cn\">京ICP备10005211号 </a><a target=\"_blank\" href=\"http://www.beian.gov.cn/portal/registerSystemInfo?recordcode=11010802020092\" style=\"margin-left:5px;display:inline-block;text-decoration:none;vertical-align:-9%\"><img src=\"https://shared.ydstatic.com/images/icons/jgw.jpg\" style=\"float:left;width:14px\"> <span style=\"float:left;line-height:17px\">京公网安备 11010802020092号</span></a></span></p></div></div><a id=\"backToTop\" href=\"javascript:void(0);\">返回到顶部</a><div id=\"handWrite\" class=\"pm\" style=\"display:none\"><object width=\"346\" height=\"216\" type=\"application/x-shockwave-flash\" id=\"hnw\" data=\"https://shared.ydstatic.com/dict/v5.16/swf/Hnw.swf\"><param name=\"movie\" value=\"${DictStaticBase}swf/Hnw.swf\"><param name=\"menu\" value=\"false\"><param name=\"allowScriptAccess\" value=\"always\"></object></div><div id=\"callback\"></div><script src=\"https://shared.ydstatic.com/js/jquery/jquery-1.12.3.min.js\"></script><script src=\"https://shared.ydstatic.com/dict/v2016/entry/jquery.mousewheel.js\"></script><script src=\"https://shared.ydstatic.com/dict/v2016/entry/jquery.placeholder.js\"></script><script src=\"https://shared.ydstatic.com/dict/v2016/entry/autocomplete_json.js\"></script><script src=\"https://shared.ydstatic.com/dict/v2016/entry/pc3.js\"></script><script defer=\"defer\" src=\"https://shared.ydstatic.com/js/rlog/v1.js\"></script></body></html>'"
      ]
     },
     "execution_count": 7,
     "metadata": {},
     "output_type": "execute_result"
    }
   ],
   "source": [
    "html.decode('utf-8')"
   ]
  },
  {
   "cell_type": "code",
   "execution_count": null,
   "metadata": {},
   "outputs": [],
   "source": []
  },
  {
   "cell_type": "markdown",
   "metadata": {},
   "source": [
    "## 保存网页图片\n",
    "![1](https://timgsa.baidu.com/timg?image&quality=80&size=b9999_10000&sec=1584005474826&di=e7c9482a20e242de19c26bdaab3a0c70&imgtype=0&src=http%3A%2F%2Fimg3.duitang.com%2Fuploads%2Fitem%2F201203%2F05%2F20120305135651_jvPns.jpeg)"
   ]
  },
  {
   "cell_type": "code",
   "execution_count": 13,
   "metadata": {},
   "outputs": [],
   "source": [
    "response = urllib.request.urlopen(\n",
    "    \"https://timgsa.baidu.com/timg?image&quality=80&size=b9999_10000&sec=1584005474826&di=e7c9482a20e242de19c26bdaab3a0c70&imgtype=0&src=http%3A%2F%2Fimg3.duitang.com%2Fuploads%2Fitem%2F201203%2F05%2F20120305135651_jvPns.jpeg\"\n",
    ")\n",
    "cat_img = response.read()"
   ]
  },
  {
   "cell_type": "code",
   "execution_count": 14,
   "metadata": {},
   "outputs": [
    {
     "data": {
      "text/plain": [
       "13570"
      ]
     },
     "execution_count": 14,
     "metadata": {},
     "output_type": "execute_result"
    }
   ],
   "source": [
    "with open(\"./saves/spiderimg_cat_01.jpg\",'wb') as f:\n",
    "    f.write(cat_img)"
   ]
  },
  {
   "cell_type": "markdown",
   "metadata": {},
   "source": [
    "## 翻译"
   ]
  },
  {
   "cell_type": "code",
   "execution_count": 22,
   "metadata": {},
   "outputs": [],
   "source": [
    "url = \"http://fanyi.youdao.com/translate?smartresult=dict&smartresult=rule\"\n",
    "head = {}\n",
    "head['User-Agent'] = \"Mozilla/5.0 (Windows NT 10.0; Win64; x64; rv:69.0) Gecko/20100101 Firefox/69.0\"\n"
   ]
  },
  {
   "cell_type": "code",
   "execution_count": 24,
   "metadata": {},
   "outputs": [],
   "source": [
    "content = \"I am Chinese\"\n",
    "data = {}\n",
    "data['i']= content\n",
    "data['type']='AUTO'\n",
    "data['to']='AUTO'\n",
    "data['smartresult']='dict'\n",
    "data['client']='fanyideskweb'\n",
    "data['salt']='1524549963983'\n",
    "data['sign']='fd4866c83ab536113ae1e62cfb486727'\n",
    "data['doctype']= 'json'\n",
    "data['version']='2.1'\n",
    "data['keyfrom']='fanyi.web'\n",
    "data['action']='FY_BY_REALTIME'\n",
    "data['typoResult']='false'"
   ]
  },
  {
   "cell_type": "code",
   "execution_count": 25,
   "metadata": {},
   "outputs": [],
   "source": [
    "data = urllib.parse.urlencode(data).encode('utf-8')\n",
    "req = urllib.request.Request(url,data,head)\n",
    "response = urllib.request.urlopen(req)\n",
    "html = response.read().decode('utf-8')"
   ]
  },
  {
   "cell_type": "code",
   "execution_count": 28,
   "metadata": {},
   "outputs": [
    {
     "data": {
      "text/plain": [
       "'                          {\"type\":\"EN2ZH_CN\",\"errorCode\":0,\"elapsedTime\":2,\"translateResult\":[[{\"src\":\"I am Chinese\",\"tgt\":\"我是中国人\"}]]}\\n'"
      ]
     },
     "execution_count": 28,
     "metadata": {},
     "output_type": "execute_result"
    }
   ],
   "source": [
    "html"
   ]
  },
  {
   "cell_type": "code",
   "execution_count": 26,
   "metadata": {},
   "outputs": [
    {
     "data": {
      "text/plain": [
       "{'User-agent': 'Mozilla/5.0 (Windows NT 10.0; Win64; x64; rv:69.0) Gecko/20100101 Firefox/69.0'}"
      ]
     },
     "execution_count": 26,
     "metadata": {},
     "output_type": "execute_result"
    }
   ],
   "source": [
    "req.headers"
   ]
  },
  {
   "cell_type": "code",
   "execution_count": 27,
   "metadata": {},
   "outputs": [
    {
     "name": "stdout",
     "output_type": "stream",
     "text": [
      "翻译结果：我是中国人\n"
     ]
    }
   ],
   "source": [
    "target = json.loads(html)\n",
    "print(\"翻译结果：%s\" % (target['translateResult'][0][0]['tgt'] ) )"
   ]
  },
  {
   "cell_type": "markdown",
   "metadata": {},
   "source": [
    "## 化合物信息查询"
   ]
  },
  {
   "cell_type": "code",
   "execution_count": 29,
   "metadata": {},
   "outputs": [],
   "source": [
    "url = \"https://www.chemicalbook.com/ProductIndex.aspx\"\n",
    "head = {}\n",
    "head['User-Agent'] = \"Mozilla/5.0 (Windows NT 10.0; Win64; x64; rv:69.0) Gecko/20100101 Firefox/69.0\"\n"
   ]
  },
  {
   "cell_type": "code",
   "execution_count": 30,
   "metadata": {},
   "outputs": [],
   "source": [
    "content = \"4065-45-6\"\n",
    "data = {}\n",
    "data['keyworld']= content\n"
   ]
  },
  {
   "cell_type": "code",
   "execution_count": 31,
   "metadata": {},
   "outputs": [],
   "source": [
    "data = urllib.parse.urlencode(data).encode('utf-8')\n",
    "req = urllib.request.Request(url,data,head)\n",
    "response = urllib.request.urlopen(req)\n",
    "html = response.read().decode('utf-8')"
   ]
  },
  {
   "cell_type": "code",
   "execution_count": 32,
   "metadata": {},
   "outputs": [
    {
     "data": {
      "text/plain": [
       "'\\r\\n\\r\\n<!DOCTYPE html PUBLIC \"-//W3C//DTD XHTML 1.0 Transitional//EN\" \"http://www.w3.org/TR/xhtml1/DTD/xhtml1-transitional.dtd\">\\r\\n\\r\\n<html xmlns=\"http://www.w3.org/1999/xhtml\">\\r\\n<head><meta name=\"referrer\" content=\"unsafe-url\"><title>\\r\\n\\tChemicalBook---化学信息搜索\\r\\n</title><link rel=\"shortcut icon\" href=\"/favicon.ico\" /><link href=\"/CSS/index_layout.css?v=1.82\" type=\"text/css\" rel=\"stylesheet\" /><link href=\"/CSS/index_global.css?v=1.7\" type=\"text/css\" rel=\"stylesheet\" /><link href=\"/CSS/index_link.css\" type=\"text/css\" rel=\"stylesheet\" /><link href=\"/main.css?version=1.1.6\" type=\"text/css\" rel=\"stylesheet\" /><link href=\"/UserManager/Themes/Red/Default.css\" rel=\"stylesheet\" /><link href=\"/UserManager/Themes/Red/web1.css\" rel=\"stylesheet\" /><link href=\"/UserManager/Themes/Red/web.css\" rel=\"stylesheet\" /><link href=\"/UserManager/Themes/Red/login.css\" rel=\"stylesheet\" /><link href=\"/Help/csshelp/helpcb.css\" rel=\"stylesheet\" /><link href=\"/Help/csshelp/helpb.css\" rel=\"stylesheet\" /><link href=\"/Help/csshelp/helpindex.css\" rel=\"stylesheet\" /><link href=\"control/themes/share.css\" rel=\"stylesheet\" /><link href=\"/Validation/Css/robot.css\" rel=\"stylesheet\" />\\r\\n    <script src=\"Themes/Jquery/jquery-1.11.1.min.js\"></script>\\r\\n    <script src=\"/Validation/Js/Validation.js\"></script>\\r\\n    \\r\\n    <style type=\"text/css\">\\r\\n        .btSpan {\\r\\n            position: relative;\\r\\n            cursor: pointer;\\r\\n            color: #0066CC;\\r\\n        }\\r\\n\\r\\n        #dynamicDiv {\\r\\n            position: absolute;\\r\\n            background-color: white;\\r\\n            display: none;\\r\\n            padding: 10px;\\r\\n            border-left: 1px whitesmoke solid;\\r\\n            border-top: 1px whitesmoke solid;\\r\\n            border-right: 1px #0066CC solid;\\r\\n            border-bottom: 1px #0066CC solid;\\r\\n        }\\r\\n\\r\\n            #dynamicDiv a {\\r\\n                color: #0066CC;\\r\\n            }\\r\\n\\r\\n        a {\\r\\n            color: #0066CC;\\r\\n        }\\r\\n    </style>\\r\\n<meta name=\"Keywords\" content=\"ChemicalBook,试剂公司,化工厂,化工产品,化工词典,结构式检索,有机化学,无机化学,化学试剂,有机原料,医药中间体,原料药,食品添加剂,饲料添加剂,染料,颜料,催化剂,助剂,香精,香料\"><meta name=\"Description\" content=\"ChemicalBook是一家致力于为化学行业用户提供最有价值信息的资源平台，在这里可以使用中文名称，CAS号，英文名称，分子式，分子量，MDL号，EINECS号，结构式等多种方式检索日常工作中需要的化学品信息资源（熔点，沸点，MSDS，结构式，折射率，安全信息，危险品数据，化学性质，用途，合成方法，密度，海关编码等）和全球供应商信息（化工厂，试剂公司，化工企业，供求信息，价格等）。\"><link rel=\"miphtml\" href=\"https://mip.chemicalbook.com/ProductIndex.aspx\" /><link rel=\"canonical\" href=\"https://www.chemicalbook.com/ProductIndex.aspx\" /><link rel=\"alternate\" media=\"only screen and(max-width:640px)\" href=\"https://m.chemicalbook.com/ProductIndex.aspx\" /></head>\\r\\n\\r\\n<script language=\"javascript\" type=\"text/javascript\">\\r\\n    $(function () {\\r\\n        if (getCookie(\"userName\") != null) {\\r\\n            $(\"#NoUser\").hide();\\r\\n            $(\"#User\").show();\\r\\n            $(\"#fontName\").text(\"欢迎!\" + getCookie(\"userName\"));\\r\\n        }\\r\\n        else {\\r\\n            $(\"#NoUser\").show();\\r\\n            $(\"#User\").hide();\\r\\n        }\\r\\n    })\\r\\n    function change_search_style(obj) {\\r\\n        var objs = [\\'buy_search\\', \\'sell_search\\', \\'products_search\\'];\\r\\n        for (var i = 0 ; i < objs.length ; i++) {\\r\\n            document.getElementById(objs[i]).className = \\'search_tag_b\\';\\r\\n        }\\r\\n        obj.className = \\'search_tag_a\\';\\r\\n    }\\r\\n    function Init_search_style() {\\r\\n        var objs = [\\'buy_search\\', \\'sell_search\\', \\'products_search\\'];\\r\\n        for (var i = 0 ; i < objs.length ; i++) {\\r\\n            document.getElementById(objs[i]).className = \\'search_tag_b\\';\\r\\n        }\\r\\n        if (document.getElementById(\\'_ctl0_hid_typeText\\')) {\\r\\n            if (document.getElementById(document.getElementById(\\'_ctl0_hid_typeText\\').value)) {\\r\\n                document.getElementById(document.getElementById(\\'_ctl0_hid_typeText\\').value).className = \\'search_tag_a\\';\\r\\n            }\\r\\n        }\\r\\n\\r\\n    }\\r\\n\\r\\n    var url = \"https://www.chemicalbook.com\";\\r\\n    var title = \"化学产品供应商搜索--ChemicalBook\";\\r\\n    function makeLink() {\\r\\n        if (document.all)\\r\\n            window.external.AddFavorite(url, title)\\r\\n    }\\r\\n    function getCookie(name) {\\r\\n        var arr, reg = new RegExp(\"(^| )\" + name + \"=([^;]*)(;|$)\");\\r\\n        if (arr = document.cookie.match(reg))\\r\\n            return unescape(arr[2]);\\r\\n        else\\r\\n            return null;\\r\\n    }\\r\\n</script>\\r\\n<body onload=\"Init_search_style();\">\\r\\n    <div class=\"FloatWindow\">\\r\\n        <div class=\"cb-toolbar-panels\" id=\"dv_qq\" style=\"right: -270px;\">\\r\\n            <h3 class=\"cb-tbar-panel-header\">\\r\\n                <em class=\"title\">咨询客服</em>\\r\\n                <i class=\"close\" data-field=\"close\"></i>\\r\\n            </h3>\\r\\n            <!--联系电话-->\\r\\n            <div class=\"cb-tbar-panel-main\" style=\"height: 94%; overflow: auto\">\\r\\n                <div style=\"margin-bottom: 40px\">\\r\\n                    <div class=\"customer-card\">\\r\\n                        <h2>400-158-6606</h2>\\r\\n                        <p>工作日：8：30-17：30</p>\\r\\n                    </div>\\r\\n                </div>\\r\\n                <div class=\"markerBox dv_tel\">\\r\\n                    <p class=\"M-1\">推广咨询：</p>\\r\\n                    <p class=\"M-2\">400-158-6606<span>转</span>1</p>\\r\\n                    <img src=\"https://img.chemicalbook.com/images/QQOnline.gif\" alt=\"\" id=\"cb_sales\" />\\r\\n                </div>\\r\\n                <div class=\"markerBox dv_tel\">\\r\\n                    <p class=\"M-1\">采购咨询：</p>\\r\\n                    <p class=\"M-2\">400-158-6606<span>转</span>2</p>\\r\\n                    <img src=\"https://img.chemicalbook.com/images/QQOnline.gif\" alt=\"\" id=\"cb_purchasehelper\" />\\r\\n                </div>\\r\\n                <div style=\"margin-bottom: 30px\" class=\"dv_qq\">\\r\\n                    <div class=\"customer-card forum\">\\r\\n                        <p>布克综合群</p>\\r\\n                        <a target=\"_blank\" href=\"//shang.qq.com/wpa/qunwpa?idkey=c666d2cdadeb8d918ac8081c85f8175a4e349c684c643782fa08e1f630c770ac\" style=\"margin:0 0 0 80px;\"><img src=\"https://img.chemicalbook.com/images/QQun.jpg\" alt=\"\" /></a>\\r\\n                    </div>\\r\\n                </div>\\r\\n                <div style=\"margin-bottom: 30px\" class=\"dv_qq\">\\r\\n                    <div class=\"customer-card forum\">\\r\\n                        <p>布克采销1群</p>\\r\\n                        <a target=\"_blank\" href=\"//shang.qq.com/wpa/qunwpa?idkey=c4c0b8f1fc6e5acef1c2c370efe1063113d60d6bf180ad195a5f5f0ed4a83154\" style=\"margin:0 0 0 80px;\"><img src=\"https://img.chemicalbook.com/images/QQun.jpg\" alt=\"\" /></a>\\r\\n                    </div>\\r\\n                </div>\\r\\n            </div>\\r\\n            <!--以下是右侧浮动广告-->\\r\\n            <div class=\"RBBox\" style=\"bottom: 300px\" data-field=\"float_menu\">\\r\\n                \\r\\n                <div class=\"get-Coupon-box\" style=\"display: none\"><i class=\"get-Coupon\" data-field=\"coupon_menu\"></i><i data-field=\"float_coupon_icon_close\" class=\"close-org\"></i></div>\\r\\n                <!--<div class=\"RBBox1\"><a data-field=\"coupon_menu\" style=\"cursor: pointer;\" class=\"yhq\" title=\"优惠券\" data-value=\"close\"></a></div>-->\\r\\n                <div class=\"RBBox1\">\\r\\n                    <a class=\"User\" href=\"/UserProfile/PurchaseHelper/Purchases/InquiryManager.aspx\" target=\"_blank\">我的账户\\r\\n                     \\r\\n                    </a>\\r\\n                </div>\\r\\n                <div class=\"RBBox1\">\\r\\n                    <a class=\"buy\" id=\"a_temp_delegate\" href=\"javascript:void(0)\" data-sigin=\"false\" data-productname=\"\" data-cas=\"\" data-delegate-purchase=\"true\" data-cbnumber=\"\" data-source=\"ProductListFloat\">委托采购</a>\\r\\n                </div>\\r\\n                <div class=\"RBBox1\">\\r\\n                    <a class=\"qr-code\" title=\"微信公众号\">\\r\\n                        <div class=\"code\" name=\"publicRQCodeDiv\">\\r\\n                            <p>\\r\\n                                扫码关注 微信交易<br>\\r\\n                                方便买 更好卖\\r\\n                            </p>\\r\\n                        </div>\\r\\n                        <div class=\"code\" style=\"background-image: none;display:none;\" name=\"RQCodeDiv\">\\r\\n                            <img name=\"RQCode\" width=\"100%\" />\\r\\n                            <p style=\"padding-top: 0; margin: 0\">\\r\\n                                扫码关注 微信交易<br>\\r\\n                                方便买 更好卖\\r\\n                            </p>\\r\\n                        </div>\\r\\n                    </a>\\r\\n                </div>\\r\\n                <div class=\"RBBox1\">\\r\\n                    <a class=\"Tel\" title=\"客服电话\"></a>\\r\\n                </div>\\r\\n            </div>\\r\\n            <!--以上是右侧浮动广告-->\\r\\n            <!--以下是右侧浮动广告-->\\r\\n            <div class=\"RBBox\" style=\"\" data-field=\"float_menu\">\\r\\n                <div class=\"get-Coupon-box\" style=\"display: none\"><i class=\"get-Coupon\" data-field=\"coupon_menu\"></i><i data-field=\"float_coupon_icon_close\" class=\"close-org\"></i></div>\\r\\n                <div class=\"RBBox1\"><a class=\" QQ\" title=\"布克综合群\"></a></div>\\r\\n                <div class=\"RBBox1\"><a class=\"Toprb\" href=\"#Top\">返回顶部</a></div>\\r\\n            </div>\\r\\n            <!--以上是右侧浮动广告-->\\r\\n        </div>\\r\\n    </div>\\r\\n    \\r\\n    <script src=\"Themes/Jquery/jquery-1.11.1.min.js\"></script>\\r\\n    <style type=\"text/css\">\\r\\n        .homeADbox a {\\r\\n            width: 960px;\\r\\n            height: 80px;\\r\\n            display: block;\\r\\n            background: url(/control/image/ADhome2.jpg) no-repeat;\\r\\n            margin: auto;\\r\\n        }\\r\\n        #bdshare {\\r\\n            top:60px !important;\\r\\n        }\\r\\n    </style>\\r\\n    <script>\\r\\n        $(function () {\\r\\n            var userName = \\'\\';\\r\\n            //if (userName != \"\") {\\r\\n            //    $.ajax({\\r\\n            //        url: \"/UserProfile/Handler/GetUserInfo.ashx\",\\r\\n            //        cache: false,\\r\\n            //        type: \"Post\",\\r\\n            //        data: { user: userName, type: 0 },\\r\\n            //        dataType: \"json\",\\r\\n            //        success: function (result) {\\r\\n            //            if (result > 0) {\\r\\n\\r\\n            //            }\\r\\n            //        }\\r\\n            //    })\\r\\n            //}\\r\\n            //$(\"div [class=\\'desc\\'],div [class=\\'bg\\']\").hide();\\r\\n            //setInterval(imgRoll, 5000);\\r\\n        });\\r\\n        var array = new Array();\\r\\n        var index = 0;\\r\\n        var array = new Array(\"https://img.chemicalbook.com/images/ADhomemunefactroy.jpg\", \"/silder/images/ADhome2.jpg\");\\r\\n        function imgRoll() {\\r\\n            var myimg = document.getElementById(\"imgs\");\\r\\n            if (index == array.length - 1)\\r\\n                index = 0;\\r\\n            else\\r\\n                index++;\\r\\n            myimg.src = array[index];\\r\\n            if (index > 0) {\\r\\n                $(\"#aImg\").attr(\"href\", \"https://www.chemicalbook.com/GlodGuid.aspx\");\\r\\n                $(\"#aImg\").attr(\"target\", \"_blank\");\\r\\n            }\\r\\n            else {\\r\\n                $(\"#aImg\").attr(\"href\", \"javascript:void(0);\");\\r\\n                $(\"#aImg\").attr(\"target\", \"\");\\r\\n            }\\r\\n        }\\r\\n    </script>\\r\\n\\r\\n    <div class=\"homeADbox\" style=\"display: none;\">\\r\\n        \\r\\n        \\r\\n        \\r\\n\\r\\n        \\r\\n        <!--<a href=\"/News/NewsDetail/160\" target=\"_blank\" data-field=\"topad\" data-page=\"ProductIndex.aspx\"></a>-->\\r\\n        \\r\\n        \\r\\n        \\r\\n        \\r\\n        \\r\\n        \\r\\n        \\r\\n        <a target=\"_blank\" href=\"/crm/coin/product/\"></a>\\r\\n    </div>\\r\\n    <div class=\"demo\">\\r\\n        <div class=\"slider\" style=\"width: 960px; height: 80px; margin: auto;\">\\r\\n            <!--主体结构，请用此类名调用插件，此类名可自定义-->\\r\\n            \\r\\n            <a href=\"https://www.chemicalbook.com/GlodGuid.aspx\" id=\"aImg\" style=\"cursor: pointer;\" target=\"_blank\">\\r\\n                <img src=\"/control/image/ADhome_HYJX.jpg\" id=\"imgs\" />\\r\\n            </a>\\r\\n        </div>\\r\\n    </div>\\r\\n    \\r\\n\\r\\n    <div class=\"main_960px\" style=\"position: relative;\">\\r\\n        <div class=\"top_txt_bg\" style=\"position: relative;\">\\r\\n            <span id=\"NoUser\" style=\"display:block;margin-top:1px;vertical-align:middle;\">\\r\\n                <a title=\"PriceData\" onclick=\"blur()\" href=\"/UserProfile/Free_GatherData.aspx\"><font style=\"vertical-align: middle;\" color=\"#ff3333\">发布供应信息</font></a> | \\r\\n\\t      <a title=\"Login\" onclick=\"blur()\" href=\"/UserManager/Login.aspx\">登陆</a> | \\r\\n\\t      <a onclick=\"blur()\" href=\"/UserManager/Register.aspx\">注册</a> |    \\r\\n\\t      <a href=\"/ProductIndex_EN.aspx\" id=\"TransLink2\">\\r\\n              <img id=\"TransImage2\" src=\"https://img.chemicalbook.com/images/english.bmp\" /></a> |\\r\\n\\t      <a href=\"/ProductIndex_JP.aspx\" id=\"TransJapan1\">\\r\\n              <img id=\"TransJapanImage1\" src=\"https://img.chemicalbook.com/images/japan.bmp\" /></a> | \\t   \\r\\n\\t      <a href=\"/ProductIndex_DE.aspx\" id=\"TransGermany1\">\\r\\n              <img id=\"TransGermanyImage1\" src=\"https://img.chemicalbook.com/images/Germany.bmp\" /></a> | \\t   \\r\\n\\t      <a href=\"/ProductIndex_KR.aspx\" id=\"TransKR1\">\\r\\n              <img id=\"TransKRImage1\" src=\"https://img.chemicalbook.com/images/language_kr.jpg\" /></a>\\r\\n            </span>\\r\\n            <span id=\"User\" style=\"display:none;margin-top:1px;vertical-align:middle;\">\\r\\n                <a title=\"PriceData\" onclick=\"blur()\" href=\"/UserProfile/Free_GatherData.aspx\"><font style=\"vertical-align: middle;\" color=\"#ff3333\">发布供应信息</font></a> |\\r\\n\\t      <font style=\"vertical-align: middle;\" color=\"#ff3333\" id=\"fontName\">欢迎!</font> | \\r\\n\\t      <a title=\"Login\" onclick=\"blur()\" href=\"/UserManager/sign_out.aspx\">注销</a> | \\t        \\r\\n\\t      <a onclick=\"blur()\" href=\"/UserProfile/companyinfoManage.aspx\">我的ChemicalBook</a> |\\r\\n\\t      <a href=\"/ProductIndex_EN.aspx\" id=\"TransLink\">\\r\\n              <img id=\"TransImage\" src=\"https://img.chemicalbook.com/images/english.bmp\" /></a> |\\r\\n\\t      <a href=\"/ProductIndex_JP.aspx\" id=\"TransJapan2\">\\r\\n              <img id=\"TransJapanImage2\" src=\"https://img.chemicalbook.com/images/japan.bmp\" /></a> | \\t   \\r\\n\\t      <a href=\"/ProductIndex_DE.aspx\" id=\"TransGermany2\">\\r\\n              <img id=\"TransGermanyImage2\" src=\"https://img.chemicalbook.com/images/Germany.bmp\" /></a> | \\t   \\r\\n\\t      <a href=\"/ProductIndex_KR.aspx\" id=\"TransKR2\">\\r\\n              <img id=\"TransKRImage2\" src=\"https://img.chemicalbook.com/images/language_kr.jpg\" /></a>\\r\\n            </span>\\r\\n            \\r\\n            <div class=\"pad_left_10px\" id=\"favorites\"><a href=\"javascript:makeLink()\" class=\"blue\" onclick=\"blur()\">添加到收藏夹</a> | <a class=\"blue\" onclick=\"blur()\" href=\"/ProductIndex.aspx\">首页</a> | <a class=\"blue\" onclick=\"blur()\" href=\"/MyFavorites.aspx\"><font style=\"vertical-align: middle;\" color=\"#ff3333\">我收藏的公司列表</font></a></div>\\r\\n        </div>\\r\\n\\r\\n        <div class=\"logo\">\\r\\n            <a href=\"/ProductIndex.aspx\">\\r\\n                \\r\\n                \\r\\n                <img id=\"logo\" src=\"/images/Logo.gif\" /></a>\\r\\n        </div>\\r\\n        <form method=\"post\" action=\"ProductIndex.aspx\" id=\"form1\">\\r\\n<div class=\"aspNetHidden\">\\r\\n<input type=\"hidden\" name=\"__VIEWSTATE\" id=\"__VIEWSTATE\" value=\"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\" />\\r\\n</div>\\r\\n\\r\\n            <div class=\"search\" style=\"position: relative\">\\r\\n                <div style=\"background: url(/images/right_logo.jpg) no-repeat; background-size: 150px; position: absolute; right: 0px; width: 160px; height: 90px; top: 10px;\"></div>\\r\\n                <div class=\"pad_top_btm_10px\">\\r\\n                    <div class=\"search_left_bg\"></div>\\r\\n                    <div class=\"search_middle_bg\">\\r\\n                        <div class=\"search_tag\">\\r\\n                            <div class=\"search_tag_b\" id=\"products_search\" onclick=\"change_search_style(this);javascript:document.getElementById(\\'_ctl0_hid_typeText\\').value=\\'products_search\\';\">产  品</div>\\r\\n                            <div class=\"tag_line\"></div>\\r\\n                            <div class=\"search_tag_b\" id=\"buy_search\"><a href=\"/BuyingLeadList.aspx\">求购信息</a></div>\\r\\n                            <div class=\"tag_line\"></div>\\r\\n                            <div class=\"search_tag_b\" id=\"buy2_search\"><a href=\"/SellingLeadList.aspx\">供应信息</a></div>\\r\\n                            <div class=\"tag_line\"></div>\\r\\n                            <div class=\"search_tag_b\" id=\"sell_search\"><a href=\"/ChemWebSiteList.aspx\">化工站点</a></div>\\r\\n                            <div class=\"tag_line\"></div>\\r\\n                            <div class=\"search_tag_b\" id=\"sell_search\">\\r\\n                                <a href=\"/StructuredSearch.htm\">结构式搜索</a>\\r\\n                                \\r\\n                            </div>\\r\\n                        </div>\\r\\n                        <input name=\"_ctl0:hid_typeText\" type=\"text\" value=\"products_search\" id=\"hid_typeText\" style=\"visibility: hidden; display: none;\" />\\r\\n                        <div class=\"search_input\">\\r\\n                            <div class=\"search_from\">\\r\\n                                <input name=\"_ctl0:Keyword\" type=\"text\" value=\"58543-16-1\" id=\"Keyword\" />\\r\\n                                <input type=\"submit\" name=\"_ctl0:SearchBtn\" value=\"搜索\" id=\"SearchBtn\" />\\r\\n                            </div>\\r\\n                            <div id=\"HotKeyWordMaster\" class=\"search_keywords\"><strong>热门关键字: </strong><a href=\"/ProductChemicalPropertiesCB2258634.htm\">阿维菌素</a>,<a href=\"/ProductChemicalPropertiesCB6712800.htm\">富马酸二甲酯</a>,<a href=\"/ProductChemicalPropertiesCB7854099.htm\">甲醇</a>,<a href=\"/ProductChemicalPropertiesCB0498458.htm\">焦磷酸钾</a>,<a href=\"/ProductChemicalPropertiesCB1290608.htm\">拉米夫定\\r\\n</a>,<a href=\"/ProductChemicalPropertiesCB3429046.htm\">硫化钠</a>,<a href=\"/ProductChemicalPropertiesCB2147453.htm\">十二烷基硫酸钠</a>,<a href=\"/ProductChemicalPropertiesCB8852805.htm\">乙酸异丁酯</a></div>\\r\\n                        </div>\\r\\n                    </div>\\r\\n                    <div class=\"search_right_bg\"></div>\\r\\n                    <div class=\"clear\"></div>\\r\\n                </div>\\r\\n            </div>\\r\\n\\r\\n        </form>\\r\\n        <div class=\"clear\"></div>\\r\\n        \\r\\n    <link href=\"/Themes/Structure/structured.css\" rel=\"stylesheet\" />\\r\\n    <!---面包线，首页需隐藏掉--->\\r\\n    <div class=\"nav_btm2\"></div>\\r\\n    <!---主体开始--->\\r\\n    <div class=\"tbody_bg\">\\r\\n        <table>\\r\\n            <tr valign=\"top\">\\r\\n                <td style=\"height: 946px; margin-top: 8px;\">\\r\\n                    <div class=\"left_blue_title\">合作伙伴</div>\\r\\n                    <div class=\"left_row_one\">\\r\\n                        <div class=\"ad2\">\\r\\n                            <a rel=\"nofollow\" href=\"http://www.rhawn.cn\" target=\"_blank\" style=\"position: relative;\">\\r\\n                                <img height=\"65\" width=\"287\" src=\"https://img.chemicalbook.com/images/rhawn.gif\" border=\"0\" />\\r\\n                                <div class=\"AD\">广告</div>\\r\\n                            </a>\\r\\n                        </div>\\r\\n                        <div class=\"ad3\">\\r\\n                            <a rel=\"nofollow\" href=\"http://www.macklin.cn/?source=chemicalbook\" target=\"_blank\" style=\"position: relative;\">\\r\\n                                <img height=\"65\" width=\"287\" src=\"https://img.chemicalbook.com/images/macklin2.jpg\" border=\"0\" />\\r\\n                                <div class=\"AD\">广告</div>\\r\\n                            </a>\\r\\n\\r\\n                        </div>\\r\\n                        <div class=\"ad3\">\\r\\n                            <a rel=\"nofollow\" href=\"https://www.tcichemicals.com/zh/cn/users-guide/order.html\" target=\"_blank\" style=\"position: relative;\">\\r\\n                                <img height=\"65\" width=\"287\" src=\"https://img.chemicalbook.com/images/TCI_New.gif?v=2.0\" border=\"0\" /><div class=\"AD\">广告</div>\\r\\n                            </a>\\r\\n\\r\\n                        </div>\\r\\n                        <div class=\"ad3\">\\r\\n                            <a rel=\"nofollow\" href=\"http://www.tansoole.com/search/search.htm?gloabSearchVo.queryString=Greagent&t=0.6818510830931\" target=\"_blank\" style=\"position: relative;\">\\r\\n                                <img height=\"65\" width=\"287\" src=\"https://img.chemicalbook.com/images/tansoole.jpg\" border=\"0\" /><div class=\"AD\">广告</div>\\r\\n                            </a>\\r\\n\\r\\n                        </div>\\r\\n                        <div class=\"ad3\">\\r\\n                            <a rel=\"nofollow\" href=\"http://www.aladdin-e.com\" target=\"_blank\" style=\"position: relative;\">\\r\\n                                <img height=\"65\" width=\"287\" src=\"https://img.chemicalbook.com/images/aladdin_Plus.jpg\" border=\"0\" /><div class=\"AD\">广告</div>\\r\\n                            </a>\\r\\n\\r\\n                        </div>\\r\\n                        <div class=\"ad3\">\\r\\n                            <a rel=\"nofollow\" href=\"http://www.xfnano.com\" target=\"_blank\" style=\"position: relative;\">\\r\\n                                <img height=\"65\" width=\"287\" src=\"https://img.chemicalbook.com/images/xfnano.gif\" border=\"0\" /><div class=\"AD\">广告</div>\\r\\n                            </a>\\r\\n\\r\\n                        </div>\\r\\n                        <div class=\"ad3\">\\r\\n                            <a rel=\"nofollow\" href=\"http://www.xiyashiji.com\" target=\"_blank\" style=\"position: relative;\">\\r\\n                                <img height=\"65\" width=\"287\" src=\"https://img.chemicalbook.com/images/xiyashiji.gif\" border=\"0\" /><div class=\"AD\">广告</div>\\r\\n                            </a>\\r\\n\\r\\n                        </div>\\r\\n                        \\r\\n                        <div class=\"ad3\">\\r\\n                            <a rel=\"nofollow\" href=\"http://www.yonghuachem.com\" target=\"_blank\" style=\"position: relative;\">\\r\\n                                <img height=\"65\" width=\"287\" src=\"https://img.chemicalbook.com/images/yonghuachem.gif\" border=\"0\" /><div class=\"AD\">广告</div>\\r\\n                            </a>\\r\\n\\r\\n                        </div>\\r\\n                        <div class=\"ad3\">\\r\\n                            <a rel=\"nofollow\" href=\"http://bjoka-vip.com/\" target=\"_blank\" style=\"position: relative;\">\\r\\n                                <img height=\"65\" width=\"287\" src=\"https://img.chemicalbook.com/images/OKA.gif\" border=\"0\" />\\r\\n                                <div class=\"AD\">广告</div>\\r\\n                            </a>\\r\\n\\r\\n                        </div>\\r\\n                       \\r\\n                    </div>\\r\\n                    <div class=\"margin_top_10px\">\\r\\n                        <div class=\"left_blue_title\">推荐企业</div>\\r\\n                        <div class=\"left_row_one\">\\r\\n                            <div id=\"ContentPlaceHolder1_NewCompany\"><table><tr><td><a rel=\"nofollow\" href=\"http://www.pharmacn.com/\">天津法莫西医药科技有限公司</a></tr></td><tr><td><a rel=\"nofollow\" href=\"http://www.ouhechem.com/\">北京偶合科技有限公司</a></tr></td><tr><td><a rel=\"nofollow\" href=\"http://igmresins.com\">艾坚蒙集团公司</a></tr></td><tr><td><a rel=\"nofollow\" href=\"http://www.reagent.com.cn\">国药集团化学试剂有限公司</a></tr></td><tr><td><a rel=\"nofollow\" href=\"http://www.hwrkchemical.com/\">北京华威锐科化工有限公司</a></tr></td><tr><td><a rel=\"nofollow\" href=\"http://www.scnbcx.com\">四川南部诚信科技有限公司</a></tr></td><tr><td><a rel=\"nofollow\" href=\"http://www.tjzkgh.com\">科工化（北京）化学技术有限公司</a></tr></td><tr><td><a rel=\"nofollow\" href=\"http://www.BioChemBest.com\">上海佰世凯化学科技有限公司</a></tr></td><tr><td><a rel=\"nofollow\" href=\"http://www.hongene.com/\">上海兆维科技发展有限公司</a></tr></td><tr><td><a rel=\"nofollow\" href=\"http://www.boylechem.com\">上海波以尔化工有限公司</a></tr></td><tr><td><a rel=\"nofollow\" href=\"http://www.njuchem.com/\">南京纽安洁化工科技有限公司</a></tr></td><tr><td><a rel=\"nofollow\" href=\"http://www.zossin.com\">武汉卓鑫科技有限公司</a></tr></td><tr><td><a rel=\"nofollow\" href=\"http://www.cqherb.com\">南京春秋生物工程有限公司</a></tr></td><tr><td><a rel=\"nofollow\" href=\"http://www.lanbaichem.com\">南京蓝白化工有限公司</a></tr></td><tr><td><a rel=\"nofollow\" href=\"http://www.hohance.cn\">上海昊航化工有限公司</a></tr></td><tr><td><a rel=\"nofollow\" href=\"http://www.richest-group.com\">瑞奇斯特集团有限公司</a></tr></td><tr><td><a rel=\"nofollow\" href=\"http://www.3stc.com\">武汉艾瑞尔化学科技有限公司</a></tr></td><tr><td><a rel=\"nofollow\" href=\"http://www.scipharmacn.com\">天津科创医药中间体技术生产力促进有限公司</a></tr></td><tr><td><a rel=\"nofollow\" href=\"http://www.kbrchem.com\">黄山市科贝瑞化工有限公司</a></tr></td><tr><td><a rel=\"nofollow\" href=\"http://www.pharmaluxury.com\">南京拉瑞催化材料有限公司</a></tr></td><tr><td><a rel=\"nofollow\" href=\"http://www.qlmed.com\">北京秦岭山医药科技有限公司</a></tr></td><tr><td><a rel=\"nofollow\" href=\"http://www.violettech.net\">河南紫罗兰科技有限公司</a></tr></td><tr><td><a rel=\"nofollow\" href=\"http://www.beijingyuji.com/\">北京宇极科技发展有限公司</a></tr></td><tr><td><a rel=\"nofollow\" href=\"http://www.bankchem.com\">北京邦克凯姆医药科技有限公司</a></tr></td><tr><td><a rel=\"nofollow\" href=\"http://www.jinghaopharma.com/index.php\">上海靖灏医药科技有限公司</a></tr></td><tr><td><a rel=\"nofollow\" href=\"https://www.chemicalbook.com/ShowSupplierProductsList30706/0.htm\">苏州赛睿德化学材料有限公司</a></tr></td><tr><td><a rel=\"nofollow\" href=\"https://www.chemicalbook.com/ShowSupplierProductsList30707/0.htm\">湖北昌润生物医药技术有限公司</a></tr></td><tr><td><a rel=\"nofollow\" href=\"https://www.chemicalbook.com/ShowSupplierProductsList30708/0.htm\">陕西亿康龙生物技术有限公司</a></tr></td><tr><td><a rel=\"nofollow\" href=\"https://www.chemicalbook.com/ShowSupplierProductsList30709/0_EN.htm\">邢台蓝迪贸易有限公司</a></tr></td><tr><td><a rel=\"nofollow\" href=\"http://www.gzbr.com.cn/\">广州千行进出口有限公司</a></tr></td><tr><td><a rel=\"nofollow\" href=\"http://www.raystarbio.cn\">杭州光远生物技术有限公司</a></tr></td><tr><td><a rel=\"nofollow\" href=\"http://www.lihengpharm.com\">济南利恒生物科技有限公司</a></tr></td><tr><td><a rel=\"nofollow\" href=\"https://www.chemicalbook.com/ShowSupplierProductsList30713/0.htm\">上海富陕生物科技有限公司</a></tr></td><tr><td><a rel=\"nofollow\" href=\"https://www.chemicalbook.com/ShowSupplierProductsList30714/0.htm\">上海晶石医药科技有限公司</a></tr></td><tr><td><a rel=\"nofollow\" href=\"http://www.forneeds.cn\">上海弗霓生物科技有限公司</a></tr></td><tr><td><a rel=\"nofollow\" href=\"https://www.chemicalbook.com/ShowSupplierProductsList30716/0.htm\">江苏沃森生物科技有限公司</a></tr></td><tr><td><a rel=\"nofollow\" href=\"/ShowSupplierProductsList30831/0.htm\">北京沃凯生物科技有限公司</a></tr></td></table></div>\\r\\n                        </div>\\r\\n                    </div>\\r\\n                </td>\\r\\n                <td style=\"height: 946px; margin-top: 5px;\">\\r\\n                    <div class=\"Profession_list\">\\r\\n                        <div class=\"rightbar\">\\r\\n\\r\\n                            <div class=\"ad\" style=\"cursor: pointer; width: 640px; height: auto;\">\\r\\n                                <div class=\"blue_title\">金牌合作伙伴</div>\\r\\n                                <div id=\"div3\">\\r\\n                                    \\r\\n                                    <div class=\"ad2\">\\r\\n                                        <a rel=\"nofollow\" href=\"http://www.chem-site.com\" target=\"_blank\">\\r\\n                                            <img border=\"0\" src=\"https://img.chemicalbook.com/images/chemicalbook-11.gif?v=1.0\" width=\"635\" height=\"61\" />\\r\\n                                        </a>\\r\\n                                        <div class=\"AD\">广告</div>\\r\\n                                    </div>\\r\\n                                    <div class=\"ad2\">\\r\\n                                        <a rel=\"nofollow\" href=\"https://merckls.1688.com/?spm=a260k.dacugeneral.suggestion.1.6633436c947Day\" target=\"_blank\" style=\"position: relative;\">\\r\\n                                            <img border=\"0\" src=\"https://img.chemicalbook.com/images/Sigma.gif\" width=\"635\" height=\"61\" />\\r\\n                                        </a>\\r\\n                                        <div class=\"AD\">广告</div>\\r\\n                                    </div>\\r\\n                                    <div class=\"ad2\">\\r\\n                                        <a rel=\"nofollow\" href=\"http://www.chemlib.cn\" target=\"_blank\" style=\"position: relative;\">\\r\\n                                            <img border=\"0\" src=\"https://img.chemicalbook.com/images/biobiopha.gif\" width=\"635\" height=\"61\" />\\r\\n                                        </a>\\r\\n                                        <div class=\"AD\">广告</div>\\r\\n                                    </div>\\r\\n                                    <div class=\"ad2\">\\r\\n                                        <a rel=\"nofollow\" href=\"http://www.heowns.com\" target=\"_blank\" style=\"position: relative;\">\\r\\n                                            <img border=\"0\" src=\"https://img.chemicalbook.com/images/chemicalbook.gif?v=1.0\" width=\"635\" height=\"61\" />\\r\\n\\r\\n                                        </a>\\r\\n                                        <div class=\"AD\">广告</div>\\r\\n                                    </div>\\r\\n\\r\\n                                    \\r\\n                                    <div class=\"ad2\">\\r\\n                                        <a rel=\"nofollow\" href=\"http://www.powerwin-logistics.com\" target=\"_blank\" style=\"position: relative;\">\\r\\n                                            <img border=\"0\" src=\"https://img.chemicalbook.com/images/ad_1.gif\" width=\"635\" height=\"61\" />\\r\\n                                        </a>\\r\\n                                        <div class=\"AD\">广告</div>\\r\\n                                    </div>\\r\\n                                     <div class=\"ad2\">\\r\\n                                        <a rel=\"nofollow\" href=\"http://www.wohua56.com\" target=\"_blank\" style=\"position: relative;\">\\r\\n                                            <img border=\"0\" src=\"https://img.chemicalbook.com/images/wh_ad2.gif\" width=\"635\" height=\"61\" />\\r\\n                                        </a>\\r\\n                                        <div class=\"AD\">广告</div>\\r\\n                                    </div>\\r\\n                                    \\r\\n                                    \\r\\n                                </div>\\r\\n                            </div>\\r\\n                            <div class=\"margin_top_10px\"></div>\\r\\n\\r\\n                            <div class=\"blue_title\">优势产品</div>\\r\\n                            <table width=\"100%\" border=\"0\" align=\"center\" cellpadding=\"3\" cellspacing=\"3\">\\r\\n                                <tr align=\"center\">\\r\\n                                 \\r\\n                                     <td width=\"12.5%\" valign=\"top\" class=\"s\">\\r\\n                                        <a href=\"/UserProfile/BuyAds.aspx?AdsCode=8\">\\r\\n                                            <img width=\"75\" height=\"75\" src=\"/AdImg/AdOne.gif\" class=\"sampleborder\" border=\"0\" align=\"center\" vspace=\"4\" alt=\"Variator\"></a><br>\\r\\n                                        <a href=\"/UserProfile/BuyAds.aspx?AdsCode=8\">您的广告位</a>\\r\\n                                    </td>\\r\\n                                    <td width=\"12.5%\" valign=\"top\" class=\"s\">\\r\\n                                        <a rel=\"nofollow\" target=\"_blank\" href=\"http://www.tlcstandards.com/\" style=\"position: relative;\">\\r\\n                                            <img width=\"75\" height=\"75\" src=\"https://img.chemicalbook.com/AdImg/tlc-ad.gif\" class=\"sampleborder\" border=\"0\" align=\"center\" vspace=\"4\" alt=\"TLC药物标准品\"><div class=\"AD_2\">广告</div>\\r\\n                                        </a>\\r\\n                                        <br>\\r\\n\\r\\n                                        <a rel=\"nofollow\" target=\"_blank\" href=\"http://www.tlcstandards.com/\">TLC药物标准品</a>\\r\\n                                    </td>\\r\\n                                    \\r\\n                                    <td width=\"12.5%\" valign=\"top\" class=\"s\">\\r\\n                                        <a rel=\"nofollow\" href=\"http://chemicals.thermofisher.cn\" target=\"_blank\" style=\"position: relative;\">\\r\\n                                            <img width=\"75\" height=\"75\" src=\"https://img.chemicalbook.com/AdImg/fisher.gif\" class=\"sampleborder\" border=\"0\" align=\"center\" vspace=\"4\" alt=\"Variator\"><div class=\"AD_2\">广告</div>\\r\\n                                        </a>\\r\\n                                        <br>\\r\\n\\r\\n                                        <a rel=\"nofollow\" href=\"http://chemicals.thermofisher.cn\">Alfa Aesar</a>\\r\\n                                    </td>\\r\\n                                    <td width=\"12.5%\" valign=\"top\" class=\"s\">\\r\\n                                        <a rel=\"nofollow\" href=\"http://www.syntechem.com\" target=\"_blank\" style=\"position: relative;\">\\r\\n                                            <img width=\"75\" height=\"75\" src=\"https://img.chemicalbook.com/AdImg/syntechem_CN.gif\" class=\"sampleborder\" border=\"0\" align=\"center\" vspace=\"4\" alt=\"Variator\"><div class=\"AD_2\">广告</div>\\r\\n                                        </a>\\r\\n                                        <br>\\r\\n\\r\\n                                        <a rel=\"nofollow\" href=\"http://www.syntechem.com\">定制合成</a>\\r\\n                                    </td>\\r\\n                                    \\r\\n                                    <td width=\"12.5%\" valign=\"top\" class=\"s\">\\r\\n                                        <a rel=\"nofollow\" href=\"http://www.wj-chem.com/\" target=\"_blank\" style=\"position: relative;\">\\r\\n                                            <img width=\"75\" height=\"75\" src=\"https://img.chemicalbook.com/AdImg/wjsj-ad.gif\" class=\"sampleborder\" border=\"0\" align=\"center\" vspace=\"4\" alt=\"Variator\"><div class=\"AD_2\">广告</div>\\r\\n                                        </a>\\r\\n                                        <br>\\r\\n\\r\\n                                        <a rel=\"nofollow\" href=\"http://www.wj-chem.com/\">翁江试剂</a>\\r\\n                                    </td>\\r\\n                                    <td width=\"12.5%\" valign=\"top\" class=\"s\">\\r\\n                                        <a rel=\"nofollow\" target=\"_blank\" href=\"http://www.jkchemical.com/zh-CN/product-catalog.html\" style=\"position: relative;\">\\r\\n                                            <img width=\"75\" height=\"75\" src=\"https://img.chemicalbook.com/AdImg/jkchemical.gif\" class=\"sampleborder\" border=\"0\" align=\"center\" vspace=\"4\" alt=\"百灵威化学试剂\"><div class=\"AD_2\">广告</div>\\r\\n                                        </a>\\r\\n                                        <br>\\r\\n\\r\\n                                        <a rel=\"nofollow\" target=\"_blank\" href=\"http://www.jkchemical.com/zh-CN/product-catalog.html\">百灵威化学试剂</a>\\r\\n                                    </td>\\r\\n                                    \\r\\n                                </tr>\\r\\n                            </table>\\r\\n\\r\\n                            <div class=\"blue_title\">Browse by Category</div>\\r\\n                            <div id=\"ContentPlaceHolder1_ProductMainClassleft\" class=\"float_left\" style=\"margin-top: 1px;\"><div class=\"Profession_contact\"><ul><li class=\"Profession_title\"><a>催化剂及助剂</a></li><li><a class=blue onclick=\"blur()\" href=\"/ChemicalProductProperty_CN_CB1359279.htm\">2-羟基-4-甲氧基-5-磺酸二苯甲酮</a>-<a class=blue onclick=\"blur()\" href=\"/ChemicalProductProperty_CN_CB9218792.htm\">促进剂 T</a>-<a class=blue onclick=\"blur()\" href=\"/ChemicalProductProperty_CN_CB8114778.htm\">3-氯-1,2-丙二醇</a>-<a class=blue onclick=\"blur()\" href=\"/ChemicalProductProperty_CN_CB4256124.htm\">紫外线吸收剂 UV－326</a>-<a class=blue onclick=\"blur()\" href=\"/ChemicalProductProperty_CN_CB5743258.htm\">十六烷基三甲基溴化铵</a>-<a class=blue onclick=\"blur()\" href=\"/ChemicalProductProperty_CN_CB4690458.htm\">丙烯酰胺</a>-<a class=blue onclick=\"blur()\" href=\"/ChemicalProductProperty_CN_CB1436211.htm\">紫外线吸收剂 UV-329</a>-<a class=blue onclick=\"blur()\" href=\"/ChemicalProductProperty_CN_CB4445218.htm\">18-冠醚-6</a>-<a class=blue onclick=\"blur()\" href=\"/ChemicalProductProperty_CN_CB5671991.htm\">二苯胍</a>-<a class=blue onclick=\"blur()\" href=\"/ChemicalProductProperty_CN_CB8371263.htm\">乙二胺四乙酸二钠</a>-<a class=blue onclick=\"blur()\" href=\"/ChemicalProductProperty_CN_CB5142606.htm\">紫外线吸收剂 UV-327</a>-<a class=blue onclick=\"blur()\" href=\"/ChemicalProductProperty_CN_CB8686147.htm\">3-氨基丙基三乙氧基硅烷</a>-<a class=blue onclick=\"blur()\" href=\"/ChemicalProductProperty_CN_CB8604932.htm\">脂肪酸甲酯</a></li></ul></div><div class=\"Profession_contact\"><ul><li class=\"Profession_title\"><a>食品和饲料添加剂</a></li><li><a class=blue onclick=\"blur()\" href=\"/ChemicalProductProperty_CN_CB8355755.htm\">2,6-二叔丁基对甲酚</a>-<a class=blue onclick=\"blur()\" href=\"/ChemicalProductProperty_CN_CB8212874.htm\">左旋酒石酸</a>-<a class=blue onclick=\"blur()\" href=\"/ChemicalProductProperty_CN_CB9226645.htm\">L-精氨酸</a>-<a class=blue onclick=\"blur()\" href=\"/ChemicalProductProperty_CN_CB9773699.htm\">D-苯丙氨酸</a>-<a class=blue onclick=\"blur()\" href=\"/ChemicalProductProperty_CN_CB3693922.htm\">D-酒石酸</a>-<a class=blue onclick=\"blur()\" href=\"/ChemicalProductProperty_CN_CB6694980.htm\">L-半胱氨酸盐酸盐(无水物)</a>-<a class=blue onclick=\"blur()\" href=\"/ChemicalProductProperty_CN_CB2754303.htm\">D-脯氨酸</a>-<a class=blue onclick=\"blur()\" href=\"/ChemicalProductProperty_CN_CB7853133.htm\">4-甲氧基苯酚</a>-<a class=blue onclick=\"blur()\" href=\"/ChemicalProductProperty_CN_CB3240490.htm\">L-(-)-二苯甲酰酒石酸</a>-<a class=blue onclick=\"blur()\" href=\"/ChemicalProductProperty_CN_CB5212873.htm\">DL-酒石酸</a>-<a class=blue onclick=\"blur()\" href=\"/ChemicalProductProperty_CN_CB3695335.htm\">泛酸钙</a>-<a class=blue onclick=\"blur()\" href=\"/ChemicalProductProperty_CN_CB4148267.htm\">beta-胡萝卜素</a>-<a class=blue onclick=\"blur()\" href=\"/ChemicalProductProperty_CN_CB6469397.htm\">甜菊糖</a>-<a class=blue onclick=\"blur()\" href=\"/ChemicalProductProperty_CN_CB1185171.htm\">松香</a>-<a class=blue onclick=\"blur()\" href=\"/ChemicalProductProperty_CN_CB92708688.htm\">脱氧诺卡素钠</a>-<a class=blue onclick=\"blur()\" href=\"/ChemicalProductProperty_CN_CB0546418.htm\">茶皂素</a>-<a class=blue onclick=\"blur()\" href=\"/ChemicalProductProperty_CN_CB22130552.htm\">铁蛋白</a>-<a class=blue onclick=\"blur()\" href=\"/ChemicalProductProperty_CN_CB2311935.htm\">西红花苷</a>-<a class=blue onclick=\"blur()\" href=\"/ChemicalProductProperty_CN_CB03117637.htm\">L-古罗糖醛酸八糖</a></li></ul></div><div class=\"Profession_contact\"><ul><li class=\"Profession_title\"><a>医药与生物化工</a></li><li><a class=blue onclick=\"blur()\" href=\"/ChemicalProductProperty_CN_CB7853704.htm\">维生素 C</a>-<a class=blue onclick=\"blur()\" href=\"/ChemicalProductProperty_CN_CB3141599.htm\">L-天门冬氨酸</a>-<a class=blue onclick=\"blur()\" href=\"/ChemicalProductProperty_CN_CB8262475.htm\">香兰素</a>-<a class=blue onclick=\"blur()\" href=\"/ChemicalProductProperty_CN_CB7325012.htm\">白藜芦醇</a>-<a class=blue onclick=\"blur()\" href=\"/ChemicalProductProperty_CN_CB8357870.htm\">L-羟基脯氨酸</a>-<a class=blue onclick=\"blur()\" href=\"/ChemicalProductProperty_CN_CB0332590.htm\">肌醇</a>-<a class=blue onclick=\"blur()\" href=\"/ChemicalProductProperty_CN_CB1413658.htm\">N-乙酰对氨基酚</a>-<a class=blue onclick=\"blur()\" href=\"/ChemicalProductProperty_CN_CB4104636.htm\">氯化钠</a>-<a class=blue onclick=\"blur()\" href=\"/ChemicalProductProperty_CN_CB7304660.htm\">腺苷</a>-<a class=blue onclick=\"blur()\" href=\"/ChemicalProductProperty_CN_CB7169342.htm\">洛伐司他汀</a>-<a class=blue onclick=\"blur()\" href=\"/ChemicalProductProperty_CN_CB3222630.htm\">维 A 酸</a>-<a class=blue onclick=\"blur()\" href=\"/ChemicalProductProperty_CN_CB2154602.htm\">碳酸钙</a>-<a class=blue onclick=\"blur()\" href=\"/ChemicalProductProperty_CN_CB7224647.htm\">氯诺昔康</a>-<a class=blue onclick=\"blur()\" href=\"/ChemicalProductProperty_CN_CB9189564.htm\">普拉洛芬</a>-<a class=blue onclick=\"blur()\" href=\"/ChemicalProductProperty_CN_CB2950666.htm\">当归提取物</a>-<a class=blue onclick=\"blur()\" href=\"/ChemicalProductProperty_CN_CB8545659.htm\">五味子提取物</a>-<a class=blue onclick=\"blur()\" href=\"/ChemicalProductProperty_CN_CB4205814.htm\">锌试剂</a>-<a class=blue onclick=\"blur()\" href=\"/ChemicalProductProperty_CN_CB0855527.htm\">白芸豆提取物</a>-<a class=blue onclick=\"blur()\" href=\"/ChemicalProductProperty_CN_CB9953570.htm\">大黄提取物</a>-<a class=blue onclick=\"blur()\" href=\"/ChemicalProductProperty_CN_CB0526861.htm\">苦瓜提取物</a>-<a class=blue onclick=\"blur()\" href=\"/ChemicalProductProperty_CN_CB0472359.htm\">异鼠李素</a>-<a class=blue onclick=\"blur()\" href=\"/ChemicalProductProperty_CN_CB81104336.htm\">埃索美拉唑镁</a>-<a class=blue onclick=\"blur()\" href=\"/ChemicalProductProperty_CN_CB9683840.htm\">昆布多糖</a>-<a class=blue onclick=\"blur()\" href=\"/ChemicalProductProperty_CN_CB6296423.htm\">乳酸依沙吖啶</a>-<a class=blue onclick=\"blur()\" href=\"/ChemicalProductProperty_CN_CB8854061.htm\">利凡诺</a>-<a class=blue onclick=\"blur()\" href=\"/ChemicalProductProperty_CN_CB9140185.htm\">乳酸钙</a>-<a class=blue onclick=\"blur()\" href=\"/ChemicalProductProperty_CN_CB3353251.htm\">红景天苷</a>-<a class=blue onclick=\"blur()\" href=\"/ChemicalProductProperty_CN_CB02499581.htm\">鲁索利替尼</a>-<a class=blue onclick=\"blur()\" href=\"/ChemicalProductProperty_CN_CB1560989.htm\">辣椒碱</a>-<a class=blue onclick=\"blur()\" href=\"/ChemicalProductProperty_CN_CB8245061.htm\">秦皮甲素</a>-<a class=blue onclick=\"blur()\" href=\"/ChemicalProductProperty_CN_CB6185499.htm\">阿尼西坦</a>-<a class=blue onclick=\"blur()\" href=\"/ChemicalProductProperty_CN_CB1105430.htm\">阿魏酸钠</a>-<a class=blue onclick=\"blur()\" href=\"/ChemicalProductProperty_CN_CB0707486.htm\">头孢呋辛酯</a>-<a class=blue onclick=\"blur()\" href=\"/ChemicalProductProperty_CN_CB9447792.htm\">益康唑</a>-<a class=blue onclick=\"blur()\" href=\"/ChemicalProductProperty_CN_CB1134548.htm\">倍他洛尔</a>-<a class=blue onclick=\"blur()\" href=\"/ChemicalProductProperty_CN_CB1766075.htm\">(+)-灰黄霉素</a>-<a class=blue onclick=\"blur()\" href=\"/ChemicalProductProperty_CN_CB01152533.htm\">磷酸替米考星</a>-<a class=blue onclick=\"blur()\" href=\"/ChemicalProductProperty_CN_CB6203364.htm\">更昔洛韦</a>-<a class=blue onclick=\"blur()\" href=\"/ChemicalProductProperty_CN_CB92667680.htm\">托格列净</a>-<a class=blue onclick=\"blur()\" href=\"/ChemicalProductProperty_CN_CB8157645.htm\">盐酸舍曲林</a>-<a class=blue onclick=\"blur()\" href=\"/ChemicalProductProperty_CN_CB6298018.htm\">盐酸丙帕他莫</a>-<a class=blue onclick=\"blur()\" href=\"/ChemicalProductProperty_CN_CB21006829.htm\">三七总皂苷</a>-<a class=blue onclick=\"blur()\" href=\"/ChemicalProductProperty_CN_CB1128341.htm\">福多司坦</a>-<a class=blue onclick=\"blur()\" href=\"/ChemicalProductProperty_CN_CB7197367.htm\">奥沙拉秦钠</a>-<a class=blue onclick=\"blur()\" href=\"/ChemicalProductProperty_CN_CB0416566.htm\">依替巴肽</a>-<a class=blue onclick=\"blur()\" href=\"/ChemicalProductProperty_CN_CB7733840.htm\">艾地苯醌</a>-<a class=blue onclick=\"blur()\" href=\"/ChemicalProductProperty_CN_CB2490951.htm\">阿西莫司</a>-<a class=blue onclick=\"blur()\" href=\"/ChemicalProductProperty_CN_CB2145121.htm\">阿仑膦酸钠</a>-<a class=blue onclick=\"blur()\" href=\"/ChemicalProductProperty_CN_CB7451799.htm\">酒石酸唑吡坦</a>-<a class=blue onclick=\"blur()\" href=\"/ChemicalProductProperty_CN_CB2288512.htm\">屈洛昔芬</a>-<a class=blue onclick=\"blur()\" href=\"/ChemicalProductProperty_CN_CB3462564.htm\">地氯雷他定</a>-<a class=blue onclick=\"blur()\" href=\"/ChemicalProductProperty_CN_CB31119935.htm\">苯烯莫德</a>-<a class=blue onclick=\"blur()\" href=\"/ChemicalProductProperty_CN_CB0402570.htm\">醋氯芬酸</a>-<a class=blue onclick=\"blur()\" href=\"/ChemicalProductProperty_CN_CB7754621.htm\">米诺环素</a>-<a class=blue onclick=\"blur()\" href=\"/ChemicalProductProperty_CN_CB8117577.htm\">盐酸万古霉素</a>-<a class=blue onclick=\"blur()\" href=\"/ChemicalProductProperty_CN_CB8480703.htm\">盐酸替扎尼定</a>-<a class=blue onclick=\"blur()\" href=\"/ChemicalProductProperty_CN_CB3173103.htm\">硝酸益康唑</a>-<a class=blue onclick=\"blur()\" href=\"/ChemicalProductProperty_CN_CB6222631.htm\">异维A酸</a>-<a class=blue onclick=\"blur()\" href=\"/ChemicalProductProperty_CN_CB9106428.htm\">哈西奈德</a>-<a class=blue onclick=\"blur()\" href=\"/ChemicalProductProperty_CN_CB8145350.htm\">氨茶碱</a>-<a class=blue onclick=\"blur()\" href=\"/ChemicalProductProperty_CN_CB6546405.htm\">穿心莲提取物</a>-<a class=blue onclick=\"blur()\" href=\"/ChemicalProductProperty_CN_CB5545825.htm\">山药提取物</a>-<a class=blue onclick=\"blur()\" href=\"/ChemicalProductProperty_CN_CB01248667.htm\">丁酸氯维地平</a>-<a class=blue onclick=\"blur()\" href=\"/ChemicalProductProperty_CN_CB3417645.htm\">生长抑素</a>-<a class=blue onclick=\"blur()\" href=\"/ChemicalProductProperty_CN_CB12518324.htm\">帕纳替尼</a>-<a class=blue onclick=\"blur()\" href=\"/ChemicalProductProperty_CN_CB8471646.htm\">卷曲霉素</a>-<a class=blue onclick=\"blur()\" href=\"/ChemicalProductProperty_CN_CB2156383.htm\">萘莫司他</a>-<a class=blue onclick=\"blur()\" href=\"/ChemicalProductProperty_CN_CB7491069.htm\">胸腺五肽</a></li></ul></div><div class=\"Profession_contact\"><ul><li class=\"Profession_title\"><a>香精与香料</a></li><li><a class=blue onclick=\"blur()\" href=\"/ChemicalProductProperty_CN_CB7281578.htm\">藜芦醛</a>-<a class=blue onclick=\"blur()\" href=\"/ChemicalProductProperty_CN_CB9286704.htm\">3-乙酰基吡啶</a>-<a class=blue onclick=\"blur()\" href=\"/ChemicalProductProperty_CN_CB5259889.htm\">2-乙酰基噻吩</a>-<a class=blue onclick=\"blur()\" href=\"/ChemicalProductProperty_CN_CB0301721.htm\">乙酰乙酸乙酯</a>-<a class=blue onclick=\"blur()\" href=\"/ChemicalProductProperty_CN_CB8229876.htm\">二甲基二硫</a>-<a class=blue onclick=\"blur()\" href=\"/ChemicalProductProperty_CN_CB6852755.htm\">2,6-二甲基吡啶</a>-<a class=blue onclick=\"blur()\" href=\"/ChemicalProductProperty_CN_CB1254200.htm\">2-乙酰基吡嗪</a>-<a class=blue onclick=\"blur()\" href=\"/ChemicalProductProperty_CN_CB3214914.htm\">愈创木酚</a>-<a class=blue onclick=\"blur()\" href=\"/ChemicalProductProperty_CN_CB6127677.htm\">4-甲基-5-(beta-羟乙基)噻唑</a>-<a class=blue onclick=\"blur()\" href=\"/ChemicalProductProperty_CN_CB7131206.htm\">2-乙酰基吡啶</a>-<a class=blue onclick=\"blur()\" href=\"/ChemicalProductProperty_CN_CB5694882.htm\">苯乙酮</a>-<a class=blue onclick=\"blur()\" href=\"/ChemicalProductProperty_CN_CB7173747.htm\">2-羧基-5-甲基吡嗪</a>-<a class=blue onclick=\"blur()\" href=\"/ChemicalProductProperty_CN_CB9466988.htm\">科罗索酸</a></li></ul></div><div class=\"Profession_contact\"><ul><li class=\"Profession_title\"><a>无机化工</a></li><li><a class=blue onclick=\"blur()\" href=\"/ChemicalProductProperty_CN_CB4854179.htm\">镍</a>-<a class=blue onclick=\"blur()\" href=\"/ChemicalProductProperty_CN_CB1208001.htm\">镓</a>-<a class=blue onclick=\"blur()\" href=\"/ChemicalProductProperty_CN_CB3107908.htm\">氢氧化钾</a>-<a class=blue onclick=\"blur()\" href=\"/ChemicalProductProperty_CN_CB1122970.htm\">硝酸镁</a>-<a class=blue onclick=\"blur()\" href=\"/ChemicalProductProperty_CN_CB3307188.htm\">膨润土</a>-<a class=blue onclick=\"blur()\" href=\"/ChemicalProductProperty_CN_CB6168520.htm\">云母</a>-<a class=blue onclick=\"blur()\" href=\"/ChemicalProductProperty_CN_CB71170903.htm\">柱层析硅胶</a>-<a class=blue onclick=\"blur()\" href=\"/ChemicalProductProperty_CN_CB6955780.htm\">薄层层析硅胶</a>-<a class=blue onclick=\"blur()\" href=\"/ChemicalProductProperty_CN_CB22470900.htm\">石墨烯</a>-<a class=blue onclick=\"blur()\" href=\"/ChemicalProductProperty_CN_CB3696488.htm\">碲化钠</a>-<a class=blue onclick=\"blur()\" href=\"/ChemicalProductProperty_CN_CB0461627.htm\">二氧化钛</a>-<a class=blue onclick=\"blur()\" href=\"/ChemicalProductProperty_CN_CB3274457.htm\">碳酸铯</a>-<a class=blue onclick=\"blur()\" href=\"/ChemicalProductProperty_CN_CB3146620.htm\">碳酸镁</a>-<a class=blue onclick=\"blur()\" href=\"/ChemicalProductProperty_CN_CB8348652.htm\">硫氰酸银</a>-<a class=blue onclick=\"blur()\" href=\"/ChemicalProductProperty_CN_CB8138262.htm\">二氧化硅</a>-<a class=blue onclick=\"blur()\" href=\"/ChemicalProductProperty_CN_CB9854189.htm\">铯</a>-<a class=blue onclick=\"blur()\" href=\"/ChemicalProductProperty_CN_CB9890673.htm\">碳化铁</a>-<a class=blue onclick=\"blur()\" href=\"/ChemicalProductProperty_CN_CB6332572.htm\">碳化钒</a>-<a class=blue onclick=\"blur()\" href=\"/ChemicalProductProperty_CN_CB0179816.htm\">氮化钛</a>-<a class=blue onclick=\"blur()\" href=\"/ChemicalProductProperty_CN_CB7396252.htm\">聚合氯化铝</a></li></ul></div></div>\\r\\n                            <div id=\"ContentPlaceHolder1_ProductMainClassright\" class=\"float_right\" style=\"margin-top: 1px;\"><div class=\"Profession_contact\"><ul><li class=\"Profession_title\"><a>染料及颜料</a></li><li><a class=blue onclick=\"blur()\" href=\"/ChemicalProductProperty_CN_CB2161846.htm\">结晶紫</a>-<a class=blue onclick=\"blur()\" href=\"/ChemicalProductProperty_CN_CB6255035.htm\">颜料蓝 15</a>-<a class=blue onclick=\"blur()\" href=\"/ChemicalProductProperty_CN_CB7485569.htm\">罗丹明 B</a>-<a class=blue onclick=\"blur()\" href=\"/ChemicalProductProperty_CN_CB8141392.htm\">碱性红 2</a>-<a class=blue onclick=\"blur()\" href=\"/ChemicalProductProperty_CN_CB4412647.htm\">碱性绿 4</a>-<a class=blue onclick=\"blur()\" href=\"/ChemicalProductProperty_CN_CB7459700.htm\">靛蓝</a>-<a class=blue onclick=\"blur()\" href=\"/ChemicalProductProperty_CN_CB9761571.htm\">酸性黑 2</a>-<a class=blue onclick=\"blur()\" href=\"/ChemicalProductProperty_CN_CB9399459.htm\">颜料绿 7</a>-<a class=blue onclick=\"blur()\" href=\"/ChemicalProductProperty_CN_CB5221132.htm\">荧光增白剂 351</a>-<a class=blue onclick=\"blur()\" href=\"/ChemicalProductProperty_CN_CB6853020.htm\">硫化镉</a>-<a class=blue onclick=\"blur()\" href=\"/ChemicalProductProperty_CN_CB2674254.htm\">碱性红 1</a>-<a class=blue onclick=\"blur()\" href=\"/ChemicalProductProperty_CN_CB5184026.htm\">颜料橙 5</a></li></ul></div><div class=\"Profession_contact\"><ul><li class=\"Profession_title\"><a>涂料与油漆</a></li><li><a class=blue onclick=\"blur()\" href=\"/ChemicalProductProperty_CN_CB4690458.htm\">丙烯酰胺</a>-<a class=blue onclick=\"blur()\" href=\"/ChemicalProductProperty_CN_CB9199390.htm\">二氧化硅</a>-<a class=blue onclick=\"blur()\" href=\"/ChemicalProductProperty_CN_CB2114291.htm\">三丁基氧化锡</a>-<a class=blue onclick=\"blur()\" href=\"/ChemicalProductProperty_CN_CB3205514.htm\">环烷酸铜</a>-<a class=blue onclick=\"blur()\" href=\"/ChemicalProductProperty_CN_CB4377227.htm\">环烷酸镁</a>-<a class=blue onclick=\"blur()\" href=\"/ChemicalProductProperty_CN_CB1617896.htm\">挥发性漆稀释剂</a>-<a class=blue onclick=\"blur()\" href=\"/ChemicalProductProperty_CN_CB1505759.htm\">环烷酸稀土</a>-<a class=blue onclick=\"blur()\" href=\"/ChemicalProductProperty_CN_CB71139353.htm\">成膜助剂</a>-<a class=blue onclick=\"blur()\" href=\"/ChemicalProductProperty_CN_CB1945489.htm\">乳胶漆</a>-<a class=blue onclick=\"blur()\" href=\"/ChemicalProductProperty_CN_CB7852484.htm\">脱漆剂</a>-<a class=blue onclick=\"blur()\" href=\"/ChemicalProductProperty_CN_CB31138439.htm\">外墙乳胶漆</a>-<a class=blue onclick=\"blur()\" href=\"/ChemicalProductProperty_CN_CB31135094.htm\">内墙乳胶漆</a></li></ul></div><div class=\"Profession_contact\"><ul><li class=\"Profession_title\"><a>有机原料</a></li><li><a class=blue onclick=\"blur()\" href=\"/ChemicalProductProperty_CN_CB7714896.htm\">2-氯烟酸</a>-<a class=blue onclick=\"blur()\" href=\"/ChemicalProductProperty_CN_CB3750054.htm\">L-色氨酸</a>-<a class=blue onclick=\"blur()\" href=\"/ChemicalProductProperty_CN_CB4164351.htm\">5-溴吲哚</a>-<a class=blue onclick=\"blur()\" href=\"/ChemicalProductProperty_CN_CB6460617.htm\">咪唑</a>-<a class=blue onclick=\"blur()\" href=\"/ChemicalProductProperty_CN_CB1323708.htm\">腺嘌呤</a>-<a class=blue onclick=\"blur()\" href=\"/ChemicalProductProperty_CN_CB3286999.htm\">3-吲哚丁酸</a>-<a class=blue onclick=\"blur()\" href=\"/ChemicalProductProperty_CN_CB3141599.htm\">L-天门冬氨酸</a>-<a class=blue onclick=\"blur()\" href=\"/ChemicalProductProperty_CN_CB8212874.htm\">左旋酒石酸</a>-<a class=blue onclick=\"blur()\" href=\"/ChemicalProductProperty_CN_CB0215374.htm\">N,N\\'-羰基二咪唑</a>-<a class=blue onclick=\"blur()\" href=\"/ChemicalProductProperty_CN_CB6118196.htm\">L-脯氨酸</a>-<a class=blue onclick=\"blur()\" href=\"/ChemicalProductProperty_CN_CB6134417.htm\">beta-胸苷</a>-<a class=blue onclick=\"blur()\" href=\"/ChemicalProductProperty_CN_CB1287462.htm\">依达拉奉</a>-<a class=blue onclick=\"blur()\" href=\"/ChemicalProductProperty_CN_CB1359330.htm\">硝酸脲</a>-<a class=blue onclick=\"blur()\" href=\"/ChemicalProductProperty_CN_CB6854153.htm\">苯</a>-<a class=blue onclick=\"blur()\" href=\"/ChemicalProductProperty_CN_CB2183169.htm\">普罗帕酮</a>-<a class=blue onclick=\"blur()\" href=\"/ChemicalProductProperty_CN_CB11138051.htm\">橡胶油</a>-<a class=blue onclick=\"blur()\" href=\"/ChemicalProductProperty_CN_CB11138910.htm\">燕窝酸</a>-<a class=blue onclick=\"blur()\" href=\"/ChemicalProductProperty_CN_CB3216064.htm\">依托度酸</a>-<a class=blue onclick=\"blur()\" href=\"/ChemicalProductProperty_CN_CB6781763.htm\">黄藤素</a>-<a class=blue onclick=\"blur()\" href=\"/ChemicalProductProperty_CN_CB9154247.htm\">吉非罗齐</a>-<a class=blue onclick=\"blur()\" href=\"/ChemicalProductProperty_CN_CB22130466.htm\">二氯醋酸二异丙胺</a>-<a class=blue onclick=\"blur()\" href=\"/ChemicalProductProperty_CN_CB3916193.htm\">七叶皂苷钠</a>-<a class=blue onclick=\"blur()\" href=\"/ChemicalProductProperty_CN_CB2400787.htm\">亮菌甲素</a>-<a class=blue onclick=\"blur()\" href=\"/ChemicalProductProperty_CN_CB1337350.htm\">地红霉素</a>-<a class=blue onclick=\"blur()\" href=\"/ChemicalProductProperty_CN_CB52515028.htm\">达卡他韦（Daclatasvir，BMS-790052）</a>-<a class=blue onclick=\"blur()\" href=\"/ChemicalProductProperty_CN_CB7222436.htm\">氯化钯</a>-<a class=blue onclick=\"blur()\" href=\"/ChemicalProductProperty_CN_CB91178756.htm\">氟立班丝氨</a>-<a class=blue onclick=\"blur()\" href=\"/ChemicalProductProperty_CN_CB6335371.htm\">盐酸卡替洛尔</a>-<a class=blue onclick=\"blur()\" href=\"/ChemicalProductProperty_CN_CB7724783.htm\">六氟化硫</a>-<a class=blue onclick=\"blur()\" href=\"/ChemicalProductProperty_CN_CB4732251.htm\">氯己定</a>-<a class=blue onclick=\"blur()\" href=\"/ChemicalProductProperty_CN_CB0380692.htm\">3-溴丙酮酸</a>-<a class=blue onclick=\"blur()\" href=\"/ChemicalProductProperty_CN_CB2193117.htm\">西尼地平</a>-<a class=blue onclick=\"blur()\" href=\"/ChemicalProductProperty_CN_CB6141000.htm\">碳酸铷</a>-<a class=blue onclick=\"blur()\" href=\"/ChemicalProductProperty_CN_CB3680120.htm\">苯丙酸诺龙</a>-<a class=blue onclick=\"blur()\" href=\"/ChemicalProductProperty_CN_CB23313550.htm\">MQ Silicon Resin</a>-<a class=blue onclick=\"blur()\" href=\"/ChemicalProductProperty_CN_CB82672580.htm\">甲基乙烯基MQ硅树脂</a>-<a class=blue onclick=\"blur()\" href=\"/ChemicalProductProperty_CN_CB9205440.htm\">四甲基二乙烯基二硅氧烷</a>-<a class=blue onclick=\"blur()\" href=\"/ChemicalProductProperty_CN_CB7476770.htm\">氢基封端的二甲基(硅氧烷与聚硅氧烷)</a>-<a class=blue onclick=\"blur()\" href=\"/ChemicalProductProperty_CN_CB0171027.htm\">钙三醇</a></li></ul></div><div class=\"Profession_contact\"><ul><li class=\"Profession_title\"><a>化肥与农药</a></li><li><a class=blue onclick=\"blur()\" href=\"/ChemicalProductProperty_CN_CB1323708.htm\">腺嘌呤</a>-<a class=blue onclick=\"blur()\" href=\"/ChemicalProductProperty_CN_CB3286999.htm\">3-吲哚丁酸</a>-<a class=blue onclick=\"blur()\" href=\"/ChemicalProductProperty_CN_CB8783347.htm\">3-吲哚乙酸</a>-<a class=blue onclick=\"blur()\" href=\"/ChemicalProductProperty_CN_CB6740007.htm\">6-苄氨基嘌呤</a>-<a class=blue onclick=\"blur()\" href=\"/ChemicalProductProperty_CN_CB7852611.htm\">(R)-4-苄基-2-噁唑烷酮</a>-<a class=blue onclick=\"blur()\" href=\"/ChemicalProductProperty_CN_CB5721531.htm\">(S)-4-苄基-2-唑烷酮</a>-<a class=blue onclick=\"blur()\" href=\"/ChemicalProductProperty_CN_CB3401251.htm\">(S)-4-苯基-2-唑烷酮</a>-<a class=blue onclick=\"blur()\" href=\"/ChemicalProductProperty_CN_CB0758226.htm\">6-糠氨基嘌呤</a>-<a class=blue onclick=\"blur()\" href=\"/ChemicalProductProperty_CN_CB8762041.htm\">2,4-二氯苯氧乙酸</a>-<a class=blue onclick=\"blur()\" href=\"/ChemicalProductProperty_CN_CB7680517.htm\">草甘膦</a>-<a class=blue onclick=\"blur()\" href=\"/ChemicalProductProperty_CN_CB2258634.htm\">阿维菌素</a>-<a class=blue onclick=\"blur()\" href=\"/ChemicalProductProperty_CN_CB9730575.htm\">1-(6-氯-3-吡啶基甲基)-N-硝基亚咪唑烷-2-基胺</a>-<a class=blue onclick=\"blur()\" href=\"/ChemicalProductProperty_CN_CB6187251.htm\">解草啶</a>-<a class=blue onclick=\"blur()\" href=\"/ChemicalProductProperty_CN_CB4854861.htm\">三氟啶磺隆</a>-<a class=blue onclick=\"blur()\" href=\"/ChemicalProductProperty_CN_CB4293266.htm\">甲酰胺磺隆</a>-<a class=blue onclick=\"blur()\" href=\"/ChemicalProductProperty_CN_CB11123341.htm\">二甲四氯</a>-<a class=blue onclick=\"blur()\" href=\"/ChemicalProductProperty_CN_CB81013434.htm\">喹烯酮</a>-<a class=blue onclick=\"blur()\" href=\"/ChemicalProductProperty_CN_CB0161549.htm\">氯吡嘧磺隆</a>-<a class=blue onclick=\"blur()\" href=\"/ChemicalProductProperty_CN_CB5280911.htm\">增甘膦</a>-<a class=blue onclick=\"blur()\" href=\"/ChemicalProductProperty_CN_CB0691826.htm\">氯酯磺草胺</a>-<a class=blue onclick=\"blur()\" href=\"/ChemicalProductProperty_CN_CB5853861.htm\">尿素</a>-<a class=blue onclick=\"blur()\" href=\"/ChemicalProductProperty_CN_CB6478388.htm\">依降钙素</a>-<a class=blue onclick=\"blur()\" href=\"/ChemicalProductProperty_CN_CB2127316.htm\">鲑降钙素</a>-<a class=blue onclick=\"blur()\" href=\"/ChemicalProductProperty_CN_CB32130625.htm\">咪唑乙烟酸</a></li></ul></div><div class=\"Profession_contact\"><ul><li class=\"Profession_title\"><a>化学试剂</a></li><li><a class=blue onclick=\"blur()\" href=\"/ChemicalProductProperty_CN_CB0250184.htm\">4-溴-2,6-二甲基苯胺</a>-<a class=blue onclick=\"blur()\" href=\"/ChemicalProductProperty_CN_CB0274870.htm\">N-(3-氨丙基)环己胺</a>-<a class=blue onclick=\"blur()\" href=\"/ChemicalProductProperty_CN_CB0426554.htm\">庚烷</a>-<a class=blue onclick=\"blur()\" href=\"/ChemicalProductProperty_CN_CB0433596.htm\">N-丁基苄胺</a>-<a class=blue onclick=\"blur()\" href=\"/ChemicalProductProperty_CN_CB0439806.htm\">七甲基二硅氮烷</a>-<a class=blue onclick=\"blur()\" href=\"/ChemicalProductProperty_CN_CB1114830.htm\">环丙基萘啶羧酸</a>-<a class=blue onclick=\"blur()\" href=\"/ChemicalProductProperty_CN_CB1199394.htm\">石英玻璃</a>-<a class=blue onclick=\"blur()\" href=\"/ChemicalProductProperty_CN_CB1282957.htm\">4-氯苯氧异丁酸</a>-<a class=blue onclick=\"blur()\" href=\"/ChemicalProductProperty_CN_CB2375830.htm\">4-氨基二苯基甲烷</a>-<a class=blue onclick=\"blur()\" href=\"/ChemicalProductProperty_CN_CB5769029.htm\">丙基三乙氧基硅烷</a>-<a class=blue onclick=\"blur()\" href=\"/ChemicalProductProperty_CN_CB6147310.htm\">4-氯苯胺盐酸盐</a>-<a class=blue onclick=\"blur()\" href=\"/ChemicalProductProperty_CN_CB7139530.htm\">3-甲基苯甲酰肼</a>-<a class=blue onclick=\"blur()\" href=\"/ChemicalProductProperty_CN_CB71142201.htm\">邻苯二甲酸酯</a>-<a class=blue onclick=\"blur()\" href=\"/ChemicalProductProperty_CN_CB22456623.htm\">格氏试剂</a>-<a class=blue onclick=\"blur()\" href=\"/ChemicalProductProperty_CN_CB5383966.htm\">氢氯噻嗪</a>-<a class=blue onclick=\"blur()\" href=\"/ChemicalProductProperty_CN_CB6129525.htm\">硫酸沙丁胺醇</a>-<a class=blue onclick=\"blur()\" href=\"/ChemicalProductProperty_CN_CB9139534.htm\">右旋糖酐铁</a>-<a class=blue onclick=\"blur()\" href=\"/ChemicalProductProperty_CN_CB8723435.htm\">芒果苷</a>-<a class=blue onclick=\"blur()\" href=\"/ChemicalProductProperty_CN_CB2663335.htm\">吗替麦考酚酯</a>-<a class=blue onclick=\"blur()\" href=\"/ChemicalProductProperty_CN_CB1398087.htm\">尼莫地平</a>-<a class=blue onclick=\"blur()\" href=\"/ChemicalProductProperty_CN_CB42490021.htm\">棕榈酰三肽-5</a>-<a class=blue onclick=\"blur()\" href=\"/ChemicalProductProperty_CN_CB4212917.htm\">卡络磺钠</a>-<a class=blue onclick=\"blur()\" href=\"/ChemicalProductProperty_CN_CB1215225.htm\">氯苯扎利</a>-<a class=blue onclick=\"blur()\" href=\"/ChemicalProductProperty_CN_CB1475670.htm\">去氢表雄酮</a>-<a class=blue onclick=\"blur()\" href=\"/ChemicalProductProperty_CN_CB3140325.htm\">吡嘧司特钾</a>-<a class=blue onclick=\"blur()\" href=\"/ChemicalProductProperty_CN_CB2304645.htm\">苯妥英钠</a>-<a class=blue onclick=\"blur()\" href=\"/ChemicalProductProperty_CN_CB6141828.htm\">非那西丁</a>-<a class=blue onclick=\"blur()\" href=\"/ChemicalProductProperty_CN_CB1692714.htm\">联苯双酯</a>-<a class=blue onclick=\"blur()\" href=\"/ChemicalProductProperty_CN_CB4122926.htm\">聚甲酚磺醛</a>-<a class=blue onclick=\"blur()\" href=\"/ChemicalProductProperty_CN_CB6317122.htm\">普伐他汀</a></li></ul></div></div>\\r\\n                            <table>\\r\\n                                <tr>\\r\\n                                    <td>\\r\\n                                        <div class=\"blue_title\">Browse by Chemical Keyword Alphabetically</div>\\r\\n                                        <div id=\"ContentPlaceHolder1_IndexByCAS\"><table style=\"table-layout:fixed;\"><tr><td class=\"detailLtdNew\" width=\"120px\">化学产品CAS大全:</td><td class=\"detailLtdNew\"><a class=blue onclick=\"blur()\" href=\"/ProductCASList_12_0.htm\">1</a></td><td class=\"detailLtdNew\"><a class=blue onclick=\"blur()\" href=\"/ProductCASList_13_0.htm\">2</a></td><td class=\"detailLtdNew\"><a class=blue onclick=\"blur()\" href=\"/ProductCASList_14_0.htm\">3</a></td><td class=\"detailLtdNew\"><a class=blue onclick=\"blur()\" href=\"/ProductCASList_15_0.htm\">4</a></td><td class=\"detailLtdNew\"><a class=blue onclick=\"blur()\" href=\"/ProductCASList_16_0.htm\">5</a></td><td class=\"detailLtdNew\"><a class=blue onclick=\"blur()\" href=\"/ProductCASList_17_0.htm\">6</a></td><td class=\"detailLtdNew\"><a class=blue onclick=\"blur()\" href=\"/ProductCASList_18_0.htm\">7</a></td><td class=\"detailLtdNew\"><a class=blue onclick=\"blur()\" href=\"/ProductCASList_19_0.htm\">8</a></td><td class=\"detailLtdNew\"><a class=blue onclick=\"blur()\" href=\"/ProductCASList_20_0.htm\">9</a></td></tr></table></div>\\r\\n                                        <div id=\"ContentPlaceHolder1_IndexByName\"><table style=\"table-layout:fixed;\"><tr><td class=\"detailLtdNew\" width=\"120px\">化学产品目录:</td><td class=\"detailLtdNew\"><a class=blue onclick=\"blur()\" href=\"/ProductNameList_1_0.htm\">A</a></td><td class=\"detailLtdNew\"><a class=blue onclick=\"blur()\" href=\"/ProductNameList_2_0.htm\">B</a></td><td class=\"detailLtdNew\"><a class=blue onclick=\"blur()\" href=\"/ProductNameList_3_0.htm\">C</a></td><td class=\"detailLtdNew\"><a class=blue onclick=\"blur()\" href=\"/ProductNameList_4_0.htm\">D</a></td><td class=\"detailLtdNew\"><a class=blue onclick=\"blur()\" href=\"/ProductNameList_5_0.htm\">E</a></td><td class=\"detailLtdNew\"><a class=blue onclick=\"blur()\" href=\"/ProductNameList_6_0.htm\">F</a></td><td class=\"detailLtdNew\"><a class=blue onclick=\"blur()\" href=\"/ProductNameList_7_0.htm\">G</a></td><td class=\"detailLtdNew\"><a class=blue onclick=\"blur()\" href=\"/ProductNameList_8_0.htm\">H</a></td><td class=\"detailLtdNew\"><a class=blue onclick=\"blur()\" href=\"/ProductNameList_9_0.htm\">I</a></td><td class=\"detailLtdNew\"><a class=blue onclick=\"blur()\" href=\"/ProductNameList_10_0.htm\">J</a></td><td class=\"detailLtdNew\"><a class=blue onclick=\"blur()\" href=\"/ProductNameList_11_0.htm\">K</a></td><td class=\"detailLtdNew\"><a class=blue onclick=\"blur()\" href=\"/ProductNameList_21_0.htm\">L</a></td><td class=\"detailLtdNew\"><a class=blue onclick=\"blur()\" href=\"/ProductNameList_22_0.htm\">M</a></td><td class=\"detailLtdNew\"><a class=blue onclick=\"blur()\" href=\"/ProductNameList_23_0.htm\">N</a></td><td class=\"detailLtdNew\"><a class=blue onclick=\"blur()\" href=\"/ProductNameList_24_0.htm\">O</a></td><td class=\"detailLtdNew\"><a class=blue onclick=\"blur()\" href=\"/ProductNameList_25_0.htm\">P</a></td><td class=\"detailLtdNew\"><a class=blue onclick=\"blur()\" href=\"/ProductNameList_26_0.htm\">Q</a></td><td class=\"detailLtdNew\"><a class=blue onclick=\"blur()\" href=\"/ProductNameList_27_0.htm\">R</a></td><td class=\"detailLtdNew\"><a class=blue onclick=\"blur()\" href=\"/ProductNameList_28_0.htm\">S</a></td><td class=\"detailLtdNew\"><a class=blue onclick=\"blur()\" href=\"/ProductNameList_29_0.htm\">T</a></td><td class=\"detailLtdNew\"><a class=blue onclick=\"blur()\" href=\"/ProductNameList_30_0.htm\">U</a></td><td class=\"detailLtdNew\"><a class=blue onclick=\"blur()\" href=\"/ProductNameList_31_0.htm\">V</a></td><td class=\"detailLtdNew\"><a class=blue onclick=\"blur()\" href=\"/ProductNameList_32_0.htm\">W</a></td><td class=\"detailLtdNew\"><a class=blue onclick=\"blur()\" href=\"/ProductNameList_33_0.htm\">X</a></td><td class=\"detailLtdNew\"><a class=blue onclick=\"blur()\" href=\"/ProductNameList_34_0.htm\">Y</a></td><td class=\"detailLtdNew\"><a class=blue onclick=\"blur()\" href=\"/ProductNameList_35_0.htm\">Z</a></td></tr></table></div>\\r\\n                                        <div id=\"ContentPlaceHolder1_IndexBySupplier\"><table style=\"table-layout:fixed;\"><tr><td class=\"detailLtdNew\" width=\"120px\">化工企业目录:</td><td class=\"detailLtdNew\"><a class=blue onclick=\"blur()\" href=\"/ProductSupplierlist_36_0.htm\">A</a></td><td class=\"detailLtdNew\"><a class=blue onclick=\"blur()\" href=\"/ProductSupplierlist_37_0.htm\">B</a></td><td class=\"detailLtdNew\"><a class=blue onclick=\"blur()\" href=\"/ProductSupplierlist_38_0.htm\">C</a></td><td class=\"detailLtdNew\"><a class=blue onclick=\"blur()\" href=\"/ProductSupplierlist_39_0.htm\">D</a></td><td class=\"detailLtdNew\"><a class=blue onclick=\"blur()\" href=\"/ProductSupplierlist_40_0.htm\">E</a></td><td class=\"detailLtdNew\"><a class=blue onclick=\"blur()\" href=\"/ProductSupplierlist_41_0.htm\">F</a></td><td class=\"detailLtdNew\"><a class=blue onclick=\"blur()\" href=\"/ProductSupplierlist_42_0.htm\">G</a></td><td class=\"detailLtdNew\"><a class=blue onclick=\"blur()\" href=\"/ProductSupplierlist_43_0.htm\">H</a></td><td class=\"detailLtdNew\"><a class=blue onclick=\"blur()\" href=\"/ProductSupplierlist_44_0.htm\">I</a></td><td class=\"detailLtdNew\"><a class=blue onclick=\"blur()\" href=\"/ProductSupplierlist_45_0.htm\">J</a></td><td class=\"detailLtdNew\"><a class=blue onclick=\"blur()\" href=\"/ProductSupplierlist_46_0.htm\">K</a></td><td class=\"detailLtdNew\"><a class=blue onclick=\"blur()\" href=\"/ProductSupplierlist_47_0.htm\">L</a></td><td class=\"detailLtdNew\"><a class=blue onclick=\"blur()\" href=\"/ProductSupplierlist_48_0.htm\">M</a></td><td class=\"detailLtdNew\"><a class=blue onclick=\"blur()\" href=\"/ProductSupplierlist_49_0.htm\">N</a></td><td class=\"detailLtdNew\"><a class=blue onclick=\"blur()\" href=\"/ProductSupplierlist_50_0.htm\">O</a></td><td class=\"detailLtdNew\"><a class=blue onclick=\"blur()\" href=\"/ProductSupplierlist_51_0.htm\">P</a></td><td class=\"detailLtdNew\"><a class=blue onclick=\"blur()\" href=\"/ProductSupplierlist_52_0.htm\">Q</a></td><td class=\"detailLtdNew\"><a class=blue onclick=\"blur()\" href=\"/ProductSupplierlist_53_0.htm\">R</a></td><td class=\"detailLtdNew\"><a class=blue onclick=\"blur()\" href=\"/ProductSupplierlist_54_0.htm\">S</a></td><td class=\"detailLtdNew\"><a class=blue onclick=\"blur()\" href=\"/ProductSupplierlist_55_0.htm\">T</a></td><td class=\"detailLtdNew\"><a class=blue onclick=\"blur()\" href=\"/ProductSupplierlist_56_0.htm\">U</a></td><td class=\"detailLtdNew\"><a class=blue onclick=\"blur()\" href=\"/ProductSupplierlist_57_0.htm\">V</a></td><td class=\"detailLtdNew\"><a class=blue onclick=\"blur()\" href=\"/ProductSupplierlist_58_0.htm\">W</a></td><td class=\"detailLtdNew\"><a class=blue onclick=\"blur()\" href=\"/ProductSupplierlist_59_0.htm\">X</a></td><td class=\"detailLtdNew\"><a class=blue onclick=\"blur()\" href=\"/ProductSupplierlist_60_0.htm\">Y</a></td><td class=\"detailLtdNew\"><a class=blue onclick=\"blur()\" href=\"/ProductSupplierlist_61_0.htm\">Z</a></td></tr></table></div>\\r\\n                                    </td>\\r\\n                                </tr>\\r\\n                            </table>\\r\\n                            <div class=\"float-box\" name=\"publicRQCodeDiv\">\\r\\n                                <p>\\r\\n                                    扫码关注 微信交易<br>\\r\\n                                    方便买 更好卖\\r\\n                                </p>\\r\\n                            </div>\\r\\n                            <div class=\"float-box\" name=\"RQCodeDiv\" style=\"background-image: none;\">\\r\\n                                <img src=\"\" style=\"width: 100%;\" />\\r\\n                                <p style=\"padding-top: 0; margin: 0\">\\r\\n                                    扫码关注 微信交易<br>\\r\\n                                    方便买 更好卖\\r\\n                                </p>\\r\\n                            </div>\\r\\n                        </div>\\r\\n                    </div>\\r\\n                </td>\\r\\n            </tr>\\r\\n        </table>\\r\\n    </div>\\r\\n\\r\\n    <div class=\"structured-search\">\\r\\n\\r\\n        <div class=\"friendlink-home\">\\r\\n            <div class=\"nav_btm2\" id=\"DIV1\" style=\"margin: auto\"></div>\\r\\n            <div class=\"blue_title\">友情链接<a class=\"blue\" onclick=\"blur()\" href=\"/Links.htm\">更多链接</a><a class=\"blue\" onclick=\"blur()\" href=\"/Links.htm#applylink\">申请链接</a></div>\\r\\n\\r\\n\\r\\n            \\r\\n\\r\\n                    <ul>\\r\\n                \\r\\n                    <li><a href=\"http://www.ccin.com.cn/\" target=\"_blank\">中化新网</a></li>\\r\\n                \\r\\n                    <li><a href=\"http://www.cinn.cn/\" target=\"_blank\">中国工业报</a></li>\\r\\n                \\r\\n                    <li><a href=\"http://www.sinopecnews.com.cn/\" target=\"_blank\">中国石化新闻网</a></li>\\r\\n                \\r\\n                    <li><a href=\"http://www.wiki8.com/\" target=\"_blank\">医学百科</a></li>\\r\\n                \\r\\n                    <li><a href=\"http://www.21cp.com/\" target=\"_blank\">中塑在线</a></li>\\r\\n                \\r\\n                    <li><a href=\"http://yl.1688.com/\" target=\"_blank\">阿里巴巴原材料</a></li>\\r\\n                \\r\\n                    <li><a href=\"http://bbs.hcbbs.com\" target=\"_blank\">海川化工论坛</a></li>\\r\\n                \\r\\n                    </ul>\\r\\n           \\r\\n                \\r\\n        </div>\\r\\n\\r\\n\\r\\n\\r\\n    </div>\\r\\n    <div class=\"nav_btm2\" id=\"DIV1\"></div>\\r\\n    <!-- Baidu Button BEGIN -->\\r\\n    <script type=\"text/javascript\" id=\"bdshare_js\" data=\"type=slide&amp;img=6&amp;pos=right&amp;uid=6597399\"></script>\\r\\n    <script type=\"text/javascript\" id=\"bdshell_js\"></script>\\r\\n    <script type=\"text/javascript\">\\r\\n        document.getElementById(\"bdshell_js\").src = \"http://bdimg.share.baidu.com/static/js/shell_v2.js?cdnversion=\" + Math.ceil(new Date() / 3600000);\\r\\n    </script>\\r\\n    <script src=\"/Themes/Jquery/jquery-1.11.1.min.js\" type=\"text/javascript\"></script>\\r\\n    <!-- Baidu Button END -->\\r\\n    <script type=\"text/javascript\">\\r\\n        $(function () {\\r\\n            //百度统计\\r\\n            var hm = document.createElement(\"script\");\\r\\n            hm.src = \"https://hm.baidu.com/hm.js?7d450754590aa33d1fe40874160c2513\";\\r\\n            document.getElementsByTagName(\"body\")[0].appendChild(hm);\\r\\n\\r\\n            //百度自动推送\\r\\n            var bp = document.createElement(\\'script\\');\\r\\n            var curProtocol = window.location.protocol.split(\\':\\')[0];\\r\\n            if (curProtocol === \\'https\\') {\\r\\n                bp.src = \\'https://zz.bdstatic.com/linksubmit/push.js\\';\\r\\n            }\\r\\n            else {\\r\\n                bp.src = \\'http://push.zhanzhang.baidu.com/push.js\\';\\r\\n            }\\r\\n            document.getElementsByTagName(\"body\")[0].appendChild(bp);\\r\\n        })\\r\\n    </script>\\r\\n\\r\\n        <div class=\"clear\"></div>\\r\\n        <div class=\"foot\">\\r\\n            <ul>\\r\\n                <li class=\"pad_top_5px\">\\r\\n                    <a rel=\"nofollow\" href=\"/ProductIndex.aspx\">主页</a> | \\r\\n                          <a rel=\"nofollow\" href=\"/AboutUs.aspx\">关于我们</a> | \\r\\n\\t\\t<a rel=\"nofollow\" href=\"/UserProfile/VIPInfo.aspx\">企业会员服务</a> | \\r\\n\\t\\t<a rel=\"nofollow\" href=\"/UserProfile/BuyAds.aspx\">广告业务</a> | \\r\\n\\t\\t<a rel=\"nofollow\" href=\"/ContactUS.aspx\">联系我们</a> | \\r\\n\\t\\t<a rel=\"nofollow\" href=\"/indexCN.aspx\">旧版入口</a> | \\r\\n\\t\\t<a rel=\"nofollow\" href=\"/ProductMSDSList_0.htm\">中文MSDS</a> | \\r\\n\\t\\t<a rel=\"nofollow\" href=\"/ShowAllProductByIndexID_CAS_16_0.htm\">CAS Index</a> | \\r\\n\\t\\t<a rel=\"nofollow\" href=\"/CASDetailList_0.htm\">常用化学品CAS列表</a> | \\r\\n\\t\\t<a rel=\"nofollow\" href=\"/ChemicalProductsList_0.htm\">化工产品目录</a> | \\r\\n\\t\\t<a rel=\"nofollow\" href=\"/ShowAllNewProductList_0.htm\">新产品列表</a> | \\r\\n        \\r\\n                    <a rel=\"nofollow\" href=\"/News/TopicsSummary.htm\" target=\"_blank\">专题集</a> |\\r\\n                        <a rel=\"nofollow\" href=\"http://hscode.chemicalbook.com\">HS海关编码</a>\\r\\n                    <br />\\r\\n                    <a rel=\"nofollow\" href=\"http://msds.chemicalbook.com\">MSDS查询</a> | <a rel=\"nofollow\" href=\"/ProductCategoryAll.htm\">产品厂家与价格库</a> | <a rel=\"nofollow\" href=\"/license.html\">营业执照公示</a>\\r\\n                </li>\\r\\n                <li class=\"gary\">Copyright &copy; 2016 ChemicalBook <a href=\"http://www.miibeian.gov.cn/\" target=\"_blank\"></a>&nbsp;&nbsp;<a href=\"https://www.chemicalbook.com/Yaopinxukezheng.jpg\" target=\"_blank\">互联网药品信息服务资格证编号(京)-非经营性-2015-0073</a>&nbsp;&nbsp; <span style=\"position: relative; top: 4px;\">\\r\\n                    <img src=\"https://img.chemicalbook.com/images/ba.png\" />\\r\\n                    <a target=\"_blank\" href=\"http://www.beian.gov.cn/portal/registerSystemInfo?recordcode=11011402010385\" style=\"display: inline-block; text-decoration: none; height: 20px; line-height: 20px;\">\\r\\n                        <p style=\"float: left; height: 20px; line-height: 20px; margin: 0px 0px 0px 5px; color: #939393;\">京公网安备 11011402010385号</p>\\r\\n                    </a></span>&nbsp;&nbsp;All rights reserved.</li>\\r\\n            </ul>\\r\\n\\r\\n        </div>\\r\\n        <a></a>\\r\\n    </div>\\r\\n    \\r\\n    <div class=\"popbuy\" id=\"dv_delegate_purchase\" style=\"background-color: #ffffff; display: none;\">\\r\\n        <b class=\"close\" data-field=\"close\"></b>\\r\\n        <i class=\"helplc\"></i>\\r\\n        <h2>委托采购</h2>\\r\\n\\r\\n        <div class=\"AddShopping\" data-success=\"false\">\\r\\n            <ul class=\"c2\" data-field=\"message\"></ul>\\r\\n            <input type=\"hidden\" data-field=\"source\" />\\r\\n            <ul class=\"InputBox\">\\r\\n                <li><span class=\"Tit\">产品名称：</span><input type=\"text\" placeholder=\"请输入产品名称\" data-field=\"productname\" /></li>\\r\\n                <li><span class=\"Tit\">CAS：</span>\\r\\n                    <input type=\"text\" placeholder=\"请输入CAS号\" data-field=\"cas\" />\\r\\n                </li>\\r\\n                <li><span class=\"Tit\">纯度/规格：</span>\\r\\n                    <input type=\"text\" placeholder=\"请输入纯度/规格\" data-field=\"purity\" />\\r\\n                </li>\\r\\n                <li><span class=\"Tit\">需求量：<span class=\"Q\" style=\"display: none;\"><div class=\"A\">\\r\\n                    <div class=\"sj\"></div>\\r\\n                    <p>需求量最少填写一个，最多可以填写两个</p>\\r\\n                </div>\\r\\n                </span></span>\\r\\n                    <input type=\"text\" placeholder=\"填写数量\" class=\"w100\" data-field=\"first_required\" />\\r\\n                    <select class=\"select w100 marginL10\" data-field=\"first_required_unit\">\\r\\n                        <option value=\"1\">G</option>\\r\\n                    </select>\\r\\n                    <a href=\"javascript:void(0)\" id=\"addAnPackage\" title=\"添加一个包装\" style=\"display: inline-block; height: 20px; width: 20px; font-weight: bold; font-size: 14px; text-align: center;\">＋</a>\\r\\n                </li>\\r\\n                <li style=\"display: none;\"><span class=\"Tit\"></span>\\r\\n                    <input type=\"text\" placeholder=\"填写数量\" class=\"w100\" data-field=\"sencond_required\" />\\r\\n                    <select class=\"select w100 marginL10\" data-field=\"sencond_required_unit\">\\r\\n                        <option value=\"1\">G</option>\\r\\n                    </select>\\r\\n\\r\\n                </li>\\r\\n                <li><span class=\"Tit\">收货地址：</span>\\r\\n                    <span id=\"city\">\\r\\n                        <select name=\"sl_prov\" class=\"prov slecet2 select\">\\r\\n                        </select>\\r\\n                        <select name=\"sl_city\" class=\"city slecet2 select  marginL10\" data-field=\"city\">\\r\\n                        </select>\\r\\n                        <select name=\"sl_county\" class=\"dist slecet2 select  marginL10\" style=\"display: none\"></select>\\r\\n                    </span>\\r\\n                </li>\\r\\n                <li>\\r\\n                    <span class=\"Tit\">发票类型：</span>\\r\\n                    <span>\\r\\n                        <select data-field=\"invoiceType\" class=\"i select\" name=\"invoiceType\" style=\"width: 200px;\">\\r\\n                            <option value=\"-1\" selected=\"selected\">请选择</option>\\r\\n                            <option value=\"6\">增值税专用发票（13%）</option>\\r\\n                            <option value=\"7\">增值税普通发票（普票）</option>\\r\\n                            <option value=\"3\">无发票</option>\\r\\n                        </select>\\r\\n                    </span>\\r\\n                </li>\\r\\n                <li><span class=\"Tit\">备注：</span><input type=\"text\" placeholder=\"纯度要求等。最多60个字。\" data-field=\"remark\" /></li>\\r\\n                <li class=\"mL105 c5\" style=\"display: none;\">\\r\\n                    <input type=\"checkbox\" class=\"radio\" data-field=\"public_contact\" checked=\"checked\" />不公开我的联系方式</li>\\r\\n                <li class=\"mL105 padTB10\">\\r\\n                    <input type=\"button\" value=\"确认提交\" class=\"button_green\" data-field=\"submit\" /></li>\\r\\n            </ul>\\r\\n            <div style=\"text-align: center; color: #f00; font-size: 16px; height: 28px; line-height: 28px;\">\\r\\n                <span style=\"font-size: 50px; display: inline-block; float: left; background: url(https://m.chemicalbook.com/Content/images/icon-new.png) no-repeat -28px 0; width: 32px; height: 28px; background-size: 160px 191px;\"></span>\\r\\n                采购帮紧急联系电话：18911252232，15321883463\\r\\n            </div>\\r\\n        </div>\\r\\n        <div style=\"padding: 100px 0\" data-success=\"true\">\\r\\n            <h2 class=\"center\">询单已收到，专属客服稍后会联系您！</h2>\\r\\n            <p class=\"center padTB10\">您还可以登录后台“<a target=\"_blank\" href=\"/UserProfile/PurchaseHelper/Purchases/InquiryManager.aspx?type=0\">查看询单</a>”</p>\\r\\n            <div class=\"wx_0\" style=\"display: none;\" data-field=\"bind\">\\r\\n                <div class=\"wx_1\"></div>\\r\\n                <div class=\"wx_2\">\\r\\n                    <h2>扫码进入<br />\\r\\n                        及时查看报价</h2>\\r\\n                </div>\\r\\n            </div>\\r\\n            <div class=\"wx_0\" style=\"display: none;\" data-field=\"unbind\">\\r\\n                <div class=\"wx_1\">\\r\\n                    <img id=\"inquiryRQCode\" src=\"\" style=\"width: 100%;\" />\\r\\n                </div>\\r\\n                <div class=\"wx_2\">\\r\\n                    <h2>扫码进入<br />\\r\\n                        及时查看报价</h2>\\r\\n                </div>\\r\\n            </div>\\r\\n            \\r\\n        </div>\\r\\n    </div>\\r\\n    \\r\\n    \\r\\n    <div class=\"popbuy\" id=\"dv_login\" style=\"background-color: #ffffff; display: none;\">\\r\\n        <b class=\"close\" data-field=\"close\"></b>\\r\\n        <h2>登录</h2>\\r\\n        <div class=\"AddShopping\">\\r\\n            <ul class=\"c2\" data-field=\"message\">\\r\\n            </ul>\\r\\n            <ul class=\"InputBox\">\\r\\n                <li><span class=\"Tit\">用户名：</span><input type=\"text\" placeholder=\"请输入用户名\" data-field=\"username\" /></li>\\r\\n                <li><span class=\"Tit\">密码：</span>\\r\\n                    <input type=\"password\" placeholder=\"请输入密码\" data-field=\"pass\" />\\r\\n                </li>\\r\\n                \\r\\n\\r\\n                <li class=\"mL105 padTB10\">\\r\\n                    <input type=\"button\" value=\"登录\" class=\"button_green\" data-field=\"submit\" /></li>\\r\\n                <li class=\"mL105 padTB10\"><a href=\"javascript:void(0)\" data-field=\"fast-register\">没有账户，快速注册</a></li>\\r\\n            </ul>\\r\\n        </div>\\r\\n    </div>\\r\\n    \\r\\n    \\r\\n    <div class=\"popbuy\" id=\"dv_register\" style=\"background-color: #ffffff; display: none;\">\\r\\n        <b class=\"close\" data-field=\\'close\\'></b>\\r\\n        <h2>快速注册</h2>\\r\\n        <div class=\"AddShopping\">\\r\\n            \\r\\n            <ul class=\"c2\" data-field=\"message\">\\r\\n            </ul>\\r\\n            <ul class=\"InputBox\">\\r\\n                <li><span class=\"Tit must\">邮箱：</span>\\r\\n                    <input type=\"text\" data-field=\"username\" />\\r\\n                    <div style=\"font: 13px Arial, Helvetica, sans-serif; color: #888; margin-left: 105px\">邮箱将做为登录用户名和找回密码使用</div>\\r\\n                </li>\\r\\n                <li><span class=\"Tit must\">密码：</span>\\r\\n                    <input type=\"password\" data-field=\"password\" />\\r\\n                    <div style=\"font: 13px Arial, Helvetica, sans-serif; color: #888; margin-left: 105px\">6-20个字符（a-z，0-9，下划线）</div>\\r\\n                </li>\\r\\n\\r\\n                <li><span class=\"Tit must\">确认密码：</span>\\r\\n                    <input type=\"password\" data-field=\"confirm-password\" />\\r\\n                </li>\\r\\n                <li><span class=\"Tit must\">公司名称：</span>\\r\\n                    <input type=\"text\" data-field=\"company-name\" />\\r\\n                </li>\\r\\n                <li><span class=\"Tit must\">姓名：</span>\\r\\n                    <input type=\"text\" data-field=\"contect-name\" />\\r\\n                </li>\\r\\n                <li><span class=\"Tit must\">手机：</span>\\r\\n                    <input type=\"text\" data-field=\"contect-mibile\" />\\r\\n                </li>\\r\\n                <li class=\"mL105 padTB10\">\\r\\n                    <input type=\"button\" value=\"注册\" class=\"button_green\" data-field=\"regisiter\" />\\r\\n                </li>\\r\\n                <li class=\"mL105 padTB10\"><a href=\"javascript:void(0)\" data-field=\"sigin\">已有账户，现在登录</a></li>\\r\\n            </ul>\\r\\n        </div>\\r\\n    </div>\\r\\n    \\r\\n    <link href=\"/CSS/select3.css\" rel=\"stylesheet\" type=\"text/css\" />\\r\\n    <script src=\"/Themes/Jquery/jquery-1.11.1.min.js\" type=\"text/javascript\"></script>\\r\\n    <script src=\"/Themes/Jquery/jquery-ui.min.js\" type=\"text/javascript\"></script>\\r\\n    <script src=\"/Themes/Jquery/jquery.extend.js?version=1.0.0\" type=\"text/javascript\"></script>\\r\\n    <script src=\"/Themes/Jquery/jquery.cityselect.min.js\" type=\"text/javascript\"></script>\\r\\n    <script src=\"/js/master.min.js\" type=\"text/javascript\"></script>\\r\\n    <script src=\"/UserProfile/PurchaseHelper/Js/jquery.productCas.js\" type=\"text/javascript\"></script>\\r\\n    <script src=\"control/newcustvisitinfo.js?v=1.9\" type=\"text/javascript\"></script>\\r\\n    <script src=\"/control/login.js?version=1.1.1\" type=\"text/javascript\"></script>\\r\\n    <script src=\"/control/fastregister.js?version=1.1.2\" type=\"text/javascript\"></script>\\r\\n    <script src=\"/control/delegateinquiry.js?version=2.0.3\" type=\"text/javascript\"></script>\\r\\n    <script type=\"text/javascript\">\\r\\n        $(function () {\\r\\n            $(\"#dv_qq\").on(\"click\", \".close\", function () {\\r\\n                $(\"#dv_qq\").animate({ right: -270 });\\r\\n            });\\r\\n\\r\\n            $(\"#dv_qq\").on(\"click\", \".Tel\", function () {\\r\\n                $(\"#dv_qq .dv_qq\").hide();\\r\\n                $(\"#dv_qq .dv_tel\").show();\\r\\n                $(\"#dv_qq\").animate({ right: 0 });\\r\\n            });\\r\\n            $(\"#dv_qq\").on(\"click\", \".QQ\", function () {\\r\\n                $(\"#dv_qq .dv_tel\").hide();\\r\\n                $(\"#dv_qq .dv_qq\").show();\\r\\n                $(\"#dv_qq\").animate({ right: 0 });\\r\\n            });\\r\\n            $(\"body\").click(function (e) {\\r\\n                var dv = $(e.target).closest(\"#dv_qq\");\\r\\n                if (dv.length <= 0) {\\r\\n                    if ($(\"#dv_qq\")[0].style.right == \"0px\") {\\r\\n                        $(\"#dv_qq\").animate({ right: -270 });\\r\\n                    }\\r\\n\\r\\n                }\\r\\n            });\\r\\n            //$.post(\"/Handler/CheckUserIsBindWinXin.ashx\", {}, function (result) {\\r\\n            //    if (result) {\\r\\n            //        $(\"[name=\\'publicRQCodeDiv\\']\").hide();\\r\\n            //        $(\"[name=\\'RQCodeDiv\\']\").show().find(\"img\").attr(\"src\", result);\\r\\n            //    }\\r\\n            //    else {\\r\\n            //        $(\"[name=\\'publicRQCodeDiv\\']\").show();\\r\\n            //        $(\"[name=\\'RQCodeDiv\\']\").hide();\\r\\n            //    }\\r\\n            //}, \"text\");\\r\\n        })\\r\\n    </script>\\r\\n    <!-- WPA start 推广组 id= cb_sales-->\\r\\n    <script id=\"qd28858397598daba307c01bb00b0cb22146ca8039fe\" src=\"https://wp.qiye.qq.com/qidian/2885839759/8daba307c01bb00b0cb22146ca8039fe\" charset=\"utf-8\" async defer></script>\\r\\n    <!-- WPA end -->\\r\\n    <!-- WPA start 采购帮咨询 id= cb_purchasehelper-->\\r\\n    <script id=\"qd288583975917e5a1a810ce516ab08abfe88cc8419f\" src=\"https://wp.qiye.qq.com/qidian/2885839759/17e5a1a810ce516ab08abfe88cc8419f\" charset=\"utf-8\" async defer></script>\\r\\n    <!-- WPA end -->\\r\\n</body>\\r\\n</html>\\r\\n'"
      ]
     },
     "execution_count": 32,
     "metadata": {},
     "output_type": "execute_result"
    }
   ],
   "source": [
    "html"
   ]
  },
  {
   "cell_type": "code",
   "execution_count": 26,
   "metadata": {},
   "outputs": [
    {
     "data": {
      "text/plain": [
       "{'User-agent': 'Mozilla/5.0 (Windows NT 10.0; Win64; x64; rv:69.0) Gecko/20100101 Firefox/69.0'}"
      ]
     },
     "execution_count": 26,
     "metadata": {},
     "output_type": "execute_result"
    }
   ],
   "source": [
    "req.headers"
   ]
  },
  {
   "cell_type": "code",
   "execution_count": 27,
   "metadata": {},
   "outputs": [
    {
     "name": "stdout",
     "output_type": "stream",
     "text": [
      "翻译结果：我是中国人\n"
     ]
    }
   ],
   "source": [
    "target = json.loads(html)\n",
    "print(\"翻译结果：%s\" % (target['translateResult'][0][0]['tgt'] ) )"
   ]
  },
  {
   "cell_type": "markdown",
   "metadata": {},
   "source": [
    "## 下载链接"
   ]
  },
  {
   "cell_type": "markdown",
   "metadata": {},
   "source": [
    "[（python爬虫〇）批量下载网页N个链接](https://zhuanlan.zhihu.com/p/65474873)"
   ]
  },
  {
   "cell_type": "code",
   "execution_count": 29,
   "metadata": {},
   "outputs": [],
   "source": [
    "def BatchDownload(url,pattern,Directory):\n",
    "    \n",
    "    # 拉动请求，模拟成浏览器去访问网站->跳过反爬虫机制\n",
    "    headers = {'User-Agent', 'Mozilla/5.0 (Windows NT 6.1; Win64; x64) AppleWebKit/537.36 (KHTML, like Gecko) Chrome/64.0.3282.186 Safari/537.36'}\n",
    "    # opener = urllib.request.build_opener()\n",
    "    req = urllib.request.Request(url)\n",
    "    req.addheaders = [headers]\n",
    "\n",
    "    # 获取网页内容\n",
    "    response = urllib.request.urlopen(req)\n",
    "    content = response.read().decode('utf-8')\n",
    "    \n",
    "    # 构造正则表达式，从content中匹配关键词pattern\n",
    "    raw_hrefs = re.findall(pattern, content, 0)[0][9:-14]\n",
    "    \n",
    "    # set函数消除重复元素\n",
    "    hset = set(raw_hrefs)\n",
    "    print(hset)\n",
    "         \n",
    "    # 下载链接\n",
    "#     for href in hset:\n",
    "#         # 之所以if else 是为了区别只有一个链接的特别情况\n",
    "#         if(len(hset)>1):\n",
    "#             link = url + href[0]\n",
    "#             filename = os.path.join(Directory, href[0])\n",
    "#             print(\"正在下载\",filename)\n",
    "#             urllib.request.urlretrieve(link, filename)\n",
    "#             print(\"成功下载！\")\n",
    "#         else:\n",
    "#             link = url +href\n",
    "#             filename = os.path.join(Directory, href)\n",
    "#             print(\"正在下载\",filename)\n",
    "#             urllib.request.urlretrieve(link, filename)\n",
    "#             print(\"成功下载！\")\n",
    "            \n",
    "#         # 无sleep间隔，网站认定这种行为是攻击，反反爬虫\n",
    "#         time.sleep(1)\n",
    "\n",
    "#BatchDownload('https://www1.ncdc.noaa.gov/pub/data/swdi/stormevents/csvfiles/',\n",
    "#              '(Storm-Data-Export-Format.docx)',\n",
    "#              'E:\\stormevents\\csvfiles')\n",
    "        \n",
    "#BatchDownload('https://www1.ncdc.noaa.gov/pub/data/swdi/stormevents/csvfiles/',\n",
    "#              '(Storm-Data-Export-Format.pdf)',\n",
    "#              'E:\\stormevents\\csvfiles')\n",
    "        \n",
    "#BatchDownload('https://www1.ncdc.noaa.gov/pub/data/swdi/stormevents/csvfiles/',\n",
    "#              '(StormEvents_details-ftp_v1.0_d(\\d*)_c(\\d*).csv.gz)',\n",
    "#              'E:\\stormevents\\csvfiles')\n",
    "        \n",
    "#BatchDownload('https://www1.ncdc.noaa.gov/pub/data/swdi/stormevents/csvfiles/',\n",
    "#              '(StormEvents_fatalities-ftp_v1.0_d(\\d*)_c(\\d*).csv.gz)',\n",
    "#              'E:\\stormevents\\csvfiles')\n",
    "\n",
    "#BatchDownload('https://www1.ncdc.noaa.gov/pub/data/swdi/stormevents/csvfiles/',\n",
    "#              '(StormEvents_locations-ftp_v1.0_d(\\d*)_c(\\d*).csv.gz)',\n",
    "#              'E:\\stormevents\\csvfiles')\n",
    "\n",
    "#BatchDownload('https://www1.ncdc.noaa.gov/pub/data/swdi/stormevents/csvfiles/legacy/',\n",
    "#              '(ugc_areas.csv)',\n",
    "#              'E:\\stormevents\\csvfiles\\legacy')\n",
    "\n",
    "#BatchDownload('https://www1.ncdc.noaa.gov/pub/data/swdi/stormevents/csvfiles/',\n",
    "#              '(ugc_areas.csv)',\n",
    "#              'E:\\stormevents\\csvfiles')"
   ]
  },
  {
   "cell_type": "code",
   "execution_count": 26,
   "metadata": {},
   "outputs": [
    {
     "data": {
      "text/plain": [
       "['<a href=\"NCI-Open_2012-05-01.sdf.gz\">Download</a>']"
      ]
     },
     "execution_count": 26,
     "metadata": {},
     "output_type": "execute_result"
    },
    {
     "data": {
      "text/plain": [
       "['<a href=\"NCI0DA99.sdz\">Download</a>']"
      ]
     },
     "execution_count": 26,
     "metadata": {},
     "output_type": "execute_result"
    },
    {
     "data": {
      "text/plain": [
       "'NCI-Open_2012-05-01.sdf.gz'"
      ]
     },
     "execution_count": 26,
     "metadata": {},
     "output_type": "execute_result"
    },
    {
     "data": {
      "text/plain": [
       "'NCI0DA99.sdz'"
      ]
     },
     "execution_count": 26,
     "metadata": {},
     "output_type": "execute_result"
    }
   ],
   "source": [
    "content1 = r'<a href=\"NCI-Open_2012-05-01.sdf.gz\">Download</a>'\n",
    "content2 = r'<a href=\"NCI0DA99.sdz\">Download</a>'\n",
    "pattern1 = r'<a href=\".+\\.sdf\\.gz\">Download</a>'\n",
    "pattern2 = r'<a href=\".+\\.sdz\">Download</a>'\n",
    "re.findall(pattern1,content1)\n",
    "re.findall(pattern2,content2)\n",
    "re.findall(pattern1,content1)[0][9:-14]\n",
    "re.findall(pattern2,content2)[0][9:-14]"
   ]
  },
  {
   "cell_type": "code",
   "execution_count": null,
   "metadata": {},
   "outputs": [],
   "source": [
    "F"
   ]
  },
  {
   "cell_type": "code",
   "execution_count": 15,
   "metadata": {},
   "outputs": [
    {
     "data": {
      "text/plain": [
       "'<!DOCTYPE html PUBLIC \"-//W3C//DTD XHTML 1.0 Transitional//EN\"\\n \"http://www.w3.org/TR/xhtml1/DTD/xhtml1-transitional.dtd\">\\n<html xmlns=\"http://www.w3.org/1999/xhtml\" xml:lang=\"en\" lang=\"en\">\\n<head>\\n\\t<meta http-equiv=\"Content-Type\" content=\"text/html; charset=iso-8859-1\" />\\n\\t<title>NCI Database Download Page</title>\\n\\t<link rel=\"stylesheet\" href=\"/style/cactus-2.css\" type=\"text/css\" media=\"screen,projection,print\" />\\n\\t<script type=\"text/javascript\" id=\"_fed_an_ua_tag\" src=\"https://dap.digitalgov.gov/Universal-Federated-Analytics-Min.js?agency=HHS&subagency=NCI\"></script>\\n</head>\\n\\n<body>\\n\\n<div id=\"skiplink\"><a href=\"#content\">Skip to Main Content</a></div>\\n<div class=\"navigation\">\\n<a href=\"/index.html\">Home</a> |\\n<a href=\"/ncicadd/about.html\">About</a> | <a href=\"/ncicadd/contact.html\">Contact</a> |\\n<a href=\"/ncicadd/disclaimer.html\">Disclaimer</a> | <a href=\"/ncicadd/privacy.html\">Privacy</a>\\n</div>\\n\\n<!--\\n<div id=\"header-logo\">\\n\\t<a title=\"http://www.cancer.gov\" href=\"http://www.cancer.gov\"><img alt=\"ncilogo\" src=\"/image/nci_logo2.gif\" width=\"110\" height=\"72\" /></a>\\n\\t<p id=\"header-logo-text\">NCI/CADD Group</p>\\n</div>\\n-->\\n<a id=\"content\">\\n\\n\\n\\n<div class=\"header\">\\n\\n\\t\\n\\t<h1>Downloadable Structure Files of NCI Open Database Compounds</h1>\\n\\n\\t<div class=\"anchors\">\\n\\t\\t<a href=\"#release-1\">Release 1</a> | <a href=\"#release-2\">Release 2</a> | \\n\\t\\t<a href=\"#release-3\">Release 3</a> | <a href=\"#release-4\">Release 4</a>\\n\\t</div>\\n\\n\\t<div style=\"position:absolute;top:4.5em;right:66px\">\\n\\t<a title=\"http://www.cancer.gov\" href=\"http://www.cancer.gov\"><img alt=\"ncilogo\" src=\"/image/nci-logo-full.svg\" width=\"330\" height=\"72\" /></a>\\r\\n\\t<!--<p id=\"header-logo-text\">NCI/CADD Group</p>-->\\n\\t</div>\\n\\n</div>\\n\\n<div class=\"content\">\\n\\n\\t<h2 class=\"with-border\" id=\"release-4\"><em>New: </em>Release 4 File Series - May 2012</h2>\\n\\n\\t<h3>DTP Releases (December 2010), 2D/3D, with GUSAR Human Liver Microsomal Stability Prediction Data Added</h3>\\n\\t\\n\\t<div class=\"section\">\\n\\t\\t<p class=\"running-text\">This is the first one of a series of files which will be released over the next few months. These files will contain a successively\\n \\t\\tcurated structure set of all records of the Open NCI Database. The basis of this first file is the version of the Open NCI Database as provided by \\n\\t\\t<a href=\"http://dtp.nci.nih.gov/\">DTP</a> in December 2010 (<a href=\"http://dtpsearch.ncifcrf.gov/Dec2010_2D.zip\">\\n\\t\\t2D Coordinates SD File with 266,151 records</a>). The file was processed in the following way:</p>\\n\\t\\t<ul>\\n\\t\\t\\t<li>The originally provided data fields \"<span class=\"term\">Release</span>\", \"<span class=\"term\">Structure Source</span>\" and \\n\\t\\t\\t\"<span \\tclass=\"term\">Structure Evaluation</span>\" were preserved.</li>\\n\\t\\t\\t<li>All name fields of the original file were merged into one data field (\"<span class=\"term\">\"DTP names\"</span>)\\n\\t\\t\\t<li>Addition of hydrogen atoms was performed by CACTVS.</li>\\n\\t\\t\\t<li>3D Atom coordinates have been calculated by CORINA (if the calculation failed, 2D coordinates were calculated by CACTVS).</li>\\n\\t\\t\\t<li>Data fields \"<span class=\"term\">Formula</span>\" and \"<span class=\"term\">Molecular Weight</span>\" were added (calculated by CACTVS).</li>\\n\\t\\t\\t<li>The IUPAC Structure Identifiers \"<span class=\"term\">Standard InChI</span>\" and \"<span class=\"term\">Standard InChIKey</span>\" (Version 1.04) \\n\\t\\t\\twere included as data fields.</li>\\n\\t\\t\\t<li>NCI/CADD\\'s Structure Identifiers \"<span class=\"term\">FICTS</span>\", \"<span class=\"term\">FICuS</span>\", and \"<span class=\"term\">uuuuu</span>\"\\n\\t\\t\\twere calculated and added as data fields.\\n\\t\\t\\t<li>The number of potential stereo centers on atoms and/or bonds has been included as data fields \"<span class=\"term\">Number of atom stereocenters</span>\"\\n\\t\\t\\tand \"<span class=\"term\">Number of bond stereo centers</span>\"; the additonal boolean field \"<span class=\"term\">Full atom and bond stereo \\t\\n\\t\\t\\tspecification</span>\" indicates whether full relative stereo configuration is available for the corresponding structure record (this field is missing \\n\\t\\t\\tif no stereo centers are present).</li>\\n\\t\\t\\t\\n\\t\\t</ul>\\n\\t\\t<p class=\"running-text\">This succeeded for 265,242 of the 266,151 original structure records.</p>\\n\\n\\t\\t<p class=\"running-text\"><b>GUSAR QSAR Model Application for the prediction of human liver microsomal stability.</b> Thirty five QSAR models created by \\n\\t\\t<a href=\"http://pharmaexpert.ru/GUSAR/\">GUSAR</a> were used to generate a consesus prediction of the microsomal stability of the chemical structures contained in \\n\\t\\tthis file. Each compound in the file is classified as stable or unstable (data field \"<span class=\"term\">GUSAR Human Liver Microsomal Stability Prediction\\n\\t\\t</span>). The prediction output also includes an assessment of the applicability domain as provided by GUSAR (data field \"<span class=\"term\">GUSAR Human \\n\\t\\tLiver Microsomal Stability Prediction AD</span>). This succeeded for 196,460 of the  265,242 structure records.</p>\\n\\n\\t\\t<p class=\"running-text\"><i>This version of the NCI Open Database, which adds ~15,000 new structures, is\\n\\t\\tnot included in our <a href=\"/ncidb2.2/\">Enhanced\\n\\t\\tNCI Database Browser</a> web service. We are also aware that beyond that the \\n\\t\\t<a href=\"http://pubchem.ncbi.nlm.nih.gov//sources/sources.cgi?mode=contact&dsn=DTP%2fNCI\">PubChem version of the NCI database</a> contains ~15,000 addtional\\n\\t\\tstructure records. We are currently in the process to analyze overlap between both sources</i>.</p>\\n    \\n  \\t\\t<div class=\"download-box\">\\n\\t\\t<p>265,242 structures in SDF format. <i>This is a 198 MB gzipped file that uncompresses to about 1.2 GB.</i></p>\\n\\t\\t<a href=\"NCI-Open_2012-05-01.sdf.gz\">Download</a>\\n\\t\\t</div>\\n\\t</div>\\n\\n\\t<h2 class=\"with-border\" id=\"release-3\">Release 3 Files - September 2003</h2>\\n\\n\\t<h3>September 2003 SD File of Combined DTP Releases, 2D/3D, with Canonical Properties Added</h3>\\n\\t\\n\\t<div class=\"section\" >\\n\\t\\t\\n\\t\\t<p class=\"running-text\">The most complete collection of Open NCI Database compounds as of September\\n\\t\\t2003 that we are aware of. These are 260,071 structures, combined\\n\\t\\tfrom <a href=\"http://dtp.nci.nih.gov/\">DTP</a> releases from Oct. 1999,\\n\\t\\tAug. 2000, Feb. 2003, and Sep. 2003. All the identifier-type information\\n\\t\\tthat we were able to associate with the structures are included in this\\n\\t\\tfile: NSC numbers; DTP names for ~53,000 records (including some WLN strings);\\n\\t\\t<a href=\"http://www.daylight.com/dayhtml/doc/theory/theory.smiles.html\">Unique\\n\\t\\tSMILES</a>, calculated by <a href=\"http://www.xemistry.com/\">CACTVS</a>\\n\\t\\taccording to Daylight\\'s original (1989) <a href=\"/ncidb2.2/help.html#ref_2\">canonicalization\\n\\t\\trules</a>; the new IUPAC/NIST\\n\\t\\t<a href=\"http://www.iupac.org/projects/2000/2000-025-1-800.html\">InChI</a> \\n\\t\\tchemical identifier (calculated with [beta] version 0.932 of NIST\\'s <a href=\"http://chemdata.nist.gov/IChI/INChIv11b.zip\">program</a>);\\n\\t\\tIUPAC names, calculated with <a href=\"http://www.acdlabs.com\">ACD/Lab</a>\\'s\\n\\t\\tprogram <a href=\"http://www.acdlabs.com/products/name_lab/name/batch.html\">ACD/Name Batch</a>;\\n\\t\\teight different CACTVS hash codes, including a tautomer-invariant but stereochemistry-,\\n\\t\\tmultifragment-, charge- and isotope-sensitive hash code that is essentially\\n\\t\\ta unique, calculable identifier for any (small-molecule) chemical.\\n\\t\\tAdditional properties, some of them helpful to categorize structures when\\n\\t\\tdealing with several databases simultaneously, are explained in the \\n\\t\\t<a href=\"technical-notes.html\">Technical Notes</a>.</p>\\n\\t\\t\\n\\t\\t<p class=\"running-text\">The 2003 DTP releases now have many structures with at least some, if not \\n\\t\\tfull, stereochemistry specification. This allowed 3D coordinates of reliable \\n\\t\\tstereoisomers to be calculated in many cases. Where such 3D structures would \\n\\t\\thave potentially shown the wrong chemical, or would otherwise have been \\n\\t\\tdoubtful, 2D coordinates were kept. See the <a href=\"technical-notes.html\">\\n\\t\\tTechnical Notes</a> for more details.\\n\\t\\tAlso be aware of the fact that for a very large number of entries (on the\\n\\t\\torder of 100,000), the structure shown in the 2003 DTP releases is slightly\\n\\t\\tdifferent from that shown in previous releases. In the vast majority\\n\\t\\tof those cases, the structure is now represented as a different tautomer.</p>\\n\\t\\t\\n\\t\\t<p class=\"running-text\"><i>This version of the NCI Open Database, which adds ~10,000 new structures, is\\n\\t\\tnot included in our <a href=\"/ncidb2.2/\">Enhanced\\n\\t\\tNCI Database Browser</a> web service.</i></p>\\n    \\n\\t\\t<div class=\"download-box\">\\n\\t\\t<p>260,071 structures in SDF format. <i>This is a 214 MB gzipped file that uncompresses to about 1.6 GB.</i> </p>\\n\\t\\t<a href=\"NCI-Open_09-03.sdf.gz\">Download</a>\\n\\t\\t</div>\\n  \\t\\t\\n\\t</div>\\n\\n\\t<h2 class=\"with-border\" id=\"release-2\">Release 2 Files - August 2000</h2>\\n\\n\\t<h3>August 2000 2D File</h3>\\n\\n\\t<div class=\"section\">\\n\\t\\t\\n\\t\\t<p class=\"running-text\">The \"raw\" structure data that were used to build the Release 2 of the \\n\\t\\t<a href=\"/ncidb2.2/\">Enhanced NCI Database Browser</a>. These are 250,251 2D structures \\n\\t\\tcalculated with <a href=\"http://www2.ccc.uni-erlangen.de/software/cactvs/\">CACTVS</a>.\\n\\t\\t<i>Attention</i>: Stereochemistry assigned by CACTVS according to default rules due to lack\\n\\t\\tof stereochemical information in the original NCI data. The SMILES string\\n\\t\\tand the CAS RN (where available) are also included for each structure.</p>\\n\\n\\t\\t<div class=\"download-box\">\\n\\t\\t<p>250,251 structures in SDF format. <i>This is a 90 MB gzipped file that uncompresses to about 982 GB.</i> </p>\\n\\t\\t<a href=\"NCI_aug00_2D.sdz\">Download</a>\\n\\t\\t</div>\\n\\n\\t</div>\\n\\t<div class=\"section\">\\n\\n\\t\\t<p class=\"running-text\"><b>New in August 2006: A 3D version of the 0D file with some properties\\n\\t\\tadded.</b>  Their values are the \\n\\t\\tsame as those shown in the <a href=\"/ncidb2.2\">Enhanced NCI Datebase Browser</a>. This file contains 250,250 \\n\\t\\tstructures as of August 2000 (one missing because of technical reasons). 3D \\n\\t\\tcoordinates have been calculated by Corina 3.0 and are available for 248,574 structures.\\n\\t\\tThe following properties are included: \\n\\t\\t<ul>\\n\\t\\t\\t<li>NSC Number</li>\\n\\t\\t\\t<li>Molecular weight</li>\\n\\t\\t\\t<li>Name (ACD)</li>\\n\\t\\t\\t<li>Formula</li>\\n\\t\\t\\t<li>CAS Registry Number</li>\\n\\t\\t\\t<li>SMILES string</li>\\n\\t\\t\\t<li>KOW logP</li>\\n\\t\\t\\t<li>Experimental logP</li>\\n\\t\\t\\t<li>ACD logP</li>\\n\\t\\t\\t<li>Drug Likeness (std)</li>\\n\\t\\t\\t<li>Drug Likeness (neg)</li>\\n\\t\\t</ul>\\n\\t\\t</p>\\n\\n\\t\\t<div class=\"download-box\">\\n\\t\\t<p>250,250 structures in SDF format. <i>This is a 145 MB gzipped file that uncompresses to about 1005 MB.</i> </p>\\n\\t\\t<div class=\"download-link\"><a href=\"ncidb.sdf.gz\">Download</a></div>\\n\\t\\t</div>\\n\\n \\t</div>\\n\\n\\t<h2 class=\"with-border\" id=\"release-1\">Release 1 Files - October 1999</h2>\\n\\n\\t<h3>\"0D\"</h3>\\n\\n\\t<div class=\"section\" >\\n\\n\\t\\t<p class=\"running-text\">The \"raw\" structure data that were used to build the previous version of \\n\\t\\tthe <a href=\"/ncidb2.2/\">Enhanced NCI Database Browser</a>, plus\\n\\t\\tabout 2,900 new structures. These are 249,081 \"0D\" structures (i.e. all\\n\\t\\tcoordinates set to 0.0) as of October 1999 in SDF format, in one file compressed\\n\\t\\twith the widely available program gzip.</p>\\n\\n\\t\\t<div class=\"download-box\">\\n\\t\\t<p>249,081 structures in SDF format. <i>This is a 16.5 MB MB gzipped file that uncompresses to about 380 MB.</i> </p>\\n\\t\\t<a href=\"NCI0DA99.sdz\">Download</a>\\n\\t\\t</div>\\n\\n\\t</div>\\n\\n\\t<h3>SMILES</h3>\\n\\n\\t<div class=\"section\" >\\n\\n\\t\\t<p class=\"running-text\">A SMILES version of the structures (i.e. the above \"0D\" dataset) that\\n\\t\\twere used to build this service, plus about 2,900 new structures. These\\n\\t\\tare 249,081 structures as of October 1999 in\\n\\t\\t<a href=\"http://www.daylight.com/dayhtml/smiles/\">SMILES</a>\\n\\t\\tformat, in one file compressed with the widely available program gzip.\\n\\t\\tSMILES string were generated with the help of <a href=\"http://www.xemistry.com\">CACTVS</a>.\\n\\t\\t(This is a newly generated dataset and therefore not guaranteed to contain\\n\\t\\tSMILES strings identical, for each compound, with those in previous SMILES\\n\\t\\tstring files, such as downloadable data from <a href=\"http://dtp.nci.nih.gov\">DTP</a>.)</p>\\n\\n\\t\\t<div class=\"download-box\">\\n\\t\\t<p>249,081 structures in SMILES format. <i>This is a 3.2 MB gzipped file that uncompresses to about 18.5 MB.</i> </p>\\n\\t\\t<a href=\"NCISMA99.sdz\">Download</a>\\n\\t\\t</div>\\n\\n\\t</div>\\n\\n\\t<h3>2D</h3>\\n\\t\\n\\t<div class=\"section\" >\\n\\n\\t\\t<p class=\"running-text\">2D version of NCI Open Database compounds as of October 1999. 2D\\n\\t\\tcoordinates (essentially structure drawings) calculated with \\n\\t\\t<a href=\"http://www.xemistry.com\">CACTVS</a>.\\n\\t\\t<i>Attention</i>:\\n\\t\\tStereochemistry assigned by CACTVS according to default rules due to lack\\n\\t\\tof stereochemical information in the original NCI data. (See also the 3D\\n\\t\\tsection.)</p>\\n\\n\\t\\t<div class=\"download-box\">\\n\\t\\t<p>249,081 structures in SDF format. <i>This is a 40 MB gzipped file that uncompresses to about 527 MB.</i></p>\\n\\t\\t<a href=\"NCI2DA99.sdz\">Download</a>\\n\\t\\t</div>\\n\\n\\t</div>\\n\\n\\t<h3>2D + Biological Data</h3>\\n\\n\\t<div class=\"section\" >\\n\\n\\t\\t<p class=\"running-text\">2D versions of NCI Open Database compounds as of October 1999, <b>with\\n\\t\\tbiological test data added</b>. These data are publicly available from\\n\\t\\tthe <a href=\"http://dtp.nci.nih.gov/docs/cancer/cancer_data.html\">DTP Human\\n\\t\\tTumor Cell Line Screen</a> and/or the <a href=\"http://dtp.nci.nih.gov/docs/aids/aids_data.html\">DTP\\n\\t\\tAIDS Antiviral Screen.</a> 2D coordinates (essentially structure\\n\\t\\tdrawings) calculated with <a href=\"http://www.xemistry.com\">CACTVS</a>.\\n\\t\\t<i>Attention</i>:\\n\\t\\tStereochemistry assigned by CACTVS according to default rules due to lack\\n\\t\\tof stereochemical information in the original NCI data. (See also the 3D\\n\\t\\tsection.)</p>\\n\\n\\t\\t<div class=\"download-box\">\\n\\t\\t<p>249,081 structures in SDF format. Cancer data are as of August 1999, AIDS data and structures are as of October 1999.\\n\\t\\t<i>This is a 56 MB gzipped file that uncompresses to about 723 MB.</i> </p>\\n\\t\\t<a href=\"NCA2DA99.sdz\">Download</a>\\n\\t\\t</div>\\n\\n\\t\\t<div class=\"download-box\">\\n\\t\\t<p>32,577 structures with cancer test data in SDF format. Cancer data are as of August 1999.\\n\\t\\t<i>This is a 20 MB gzipped file that uncompresses to about 273 MB.</i></p> \\n\\t\\t<a href=\"CAN2DA99.sdz\">Download</a>\\n\\t\\t</div>\\n\\n\\t\\t<div class=\"download-box\">\\n\\t\\t<p>42,689 structures in SDF format. AIDS test data is as of October 1999\\n\\t\\t<i>This is a 9.1 MB gzipped file that uncompresses to about 114 MB.</i> </p>\\n\\t\\t<a href=\"AID2DA99.sdz\">Download</a>\\n\\t\\t</div>\\n\\n\\t\\t<div class=\"download-box\">\\n\\t\\t<p>23,031 structures in SDF format for which both cancer and AIDS data are available. \\n\\t\\tCancer data are as of August 1999, AIDS data and structures are as of October 1999. \\n\\t\\t<i>This is a 13.5 MB gzipped file that uncompresses to about 195 MB.</i> </p>\\n\\t\\t<a href=\"CAD2DA99.sdz\">Download</a>\\n\\t\\t</div>\\n\\n\\t</div>\\n\\n\\t<h3>3D</h3>\\n\\n\\t<div class=\"section\" >\\n\\n\\t\\t<p class=\"running-text\">A 3D version of the 0D file, containing 249,071 structures as of October\\n\\t\\t1999. The program\\n\\t\\t<a href=\"https://www.mn-am.com/\">CORINA</a>\\n\\t\\tv. 1.7 was used to generate the 3D coordinates. Please note that, just\\n\\t\\tas with the 3D results provided by the Enhanced NCI Database Browser, stereochemistry\\n\\t\\tof chiral compounds is not guaranteed to be correct due to the lack of\\n\\t\\tstereochemical information in the original data. This is not a shortcoming\\n\\t\\tof CORINA. Please also note that, as of now, the 3D structures in this\\n\\t\\tbulk file were not generated with the same version of CORINA as is used\\n\\t\\tin the Browser, the latter being somewhat newer. This file is the result\\n\\t\\tof a one-time conversion; no efforts have been undertaken to compare the\\n\\t\\tconformations in it with those you obtain from the Browser (although we\\n\\t\\tdon\\'t necessarily expect huge differences.)</p>\\n\\n\\t\\t<div class=\"download-box\">\\n\\t\\t<p>249,071 structures in SDF format. <i>This is a 127 MB gzipped file that uncompresses to about 574 MB.</i> </p>\\n\\t\\t<a href=\"NCI3DA99.sdz\">Download</a>\\n\\t\\t</div>\\n\\t\\t\\n\\t\\t<p class=\"running-text\">For more information on all the files in this release, please \\n\\t\\tsee the <a href=\"technical-notes.html#1\">Technical Notes</a>.</p>\\n\\n\\t</div>\\n\\n\\t\\n\\t<div class=\"spacer\"> </div>\\n\\n\\t<div class=\"section\">\\n\\t\\t<p class=\"text\"><a href=\"mailto:mn1+++helix.nih.gov;jeff.saxe@nih.gov\">M. C. Nicklaus and team</a></p>\\n\\t\\t\\n\\t\\t<p>Last Update: 2019-11-26</p>\\n\\t</div>\\n\\t\\n</div>\\n\\n<div class=\"footer\">\\n\\t\\n<div class=\"footer\">\\n\\n<table>\\n<tr>\\n\\t<td><a id=\"ccrLogo\" title=\"http://ccr.cancer.gov\" href=\"http://ccr.cancer.gov\"><img id=\"ccrImage\" alt=\"ccrlogo\" src=\"/image/small_ccr_logo.gif\" width=\"36\" height=\"38\" /></a></td>\\n\\t<td><p class=\"logoText\" id=\"ccrLogoText\">Center for Cancer<br />Research</p></td>\\n\\t\\n\\t<td><a id=\"nciLogo\" title=\"http://www.cancer.gov\" href=\"http://www.cancer.gov\"><img alt=\"nciLogo\" src=\"/image/small_nci_red.gif\" width=\"56\" height=\"35\" /></a></td>\\n\\t<td><p class=\"logoText\" id=\"nciLogoText\">National Cancer<br />Institute</p></td>\\n\\t\\n\\t<td><a id=\"nihLogo\" title=\"http://www.nih.gov\" href=\"http://www.nih.gov\"><img alt=\"nihLogo\" src=\"/image/small_nih.gif\" width=\"52\" height=\"42\" /></a></td>\\n\\t<td><p class=\"logoText\" id=\"nihLogoText\">National Institutes<br />of Health</p></td>\\n\\t\\n\\t<td><a id=\"dhsLogo\" title=\"http://www.hhs.gov\" href=\"http://www.hhs.gov\"><img alt=\"dhsLogo\" src=\"/image/small_dhs.gif\" width=\"52\" height=\"42\" /></a></td>\\n\\t<td><p class=\"logoText\" id=\"dhsLogoText\">Department of Health<br />and Human Services</p></td>\\n\\t\\n\\t<td><a id=\"usaGovLogo\"  title=\"http://www.usa.gov\" href=\"http://www.usa.gov\"><img alt=\"usaGovLogo\" src=\"/image/small_usa_gov.gif\" width=\"135\" height=\"37\" /></a></td>\\n</tr>\\n</table>\\n\\n</div>\\n\\n</div>\\ns\\n</body>\\n\\n</html>\\n'"
      ]
     },
     "execution_count": 15,
     "metadata": {},
     "output_type": "execute_result"
    }
   ],
   "source": [
    "headers = {'User-Agent', 'Mozilla/5.0 (Windows NT 6.1; Win64; x64) AppleWebKit/537.36 (KHTML, like Gecko) Chrome/64.0.3282.186 Safari/537.36'}\n",
    "# opener = urllib.request.build_opener()\n",
    "req = urllib.request.Request(url)\n",
    "req.addheaders = [headers]\n",
    "\n",
    "# 获取网页内容\n",
    "response = urllib.request.urlopen(req)\n",
    "content = response.read().decode('utf-8')\n",
    "content"
   ]
  },
  {
   "cell_type": "code",
   "execution_count": null,
   "metadata": {},
   "outputs": [],
   "source": []
  },
  {
   "cell_type": "markdown",
   "metadata": {},
   "source": [
    "# end"
   ]
  }
 ],
 "metadata": {
  "kernelspec": {
   "display_name": "Python 3",
   "language": "python",
   "name": "python3"
  },
  "language_info": {
   "codemirror_mode": {
    "name": "ipython",
    "version": 3
   },
   "file_extension": ".py",
   "mimetype": "text/x-python",
   "name": "python",
   "nbconvert_exporter": "python",
   "pygments_lexer": "ipython3",
   "version": "3.7.6"
  },
  "toc": {
   "base_numbering": 1,
   "nav_menu": {},
   "number_sections": true,
   "sideBar": true,
   "skip_h1_title": false,
   "title_cell": "Table of Contents",
   "title_sidebar": "Contents",
   "toc_cell": false,
   "toc_position": {
    "height": "calc(100% - 180px)",
    "left": "10px",
    "top": "150px",
    "width": "253.714px"
   },
   "toc_section_display": true,
   "toc_window_display": true
  }
 },
 "nbformat": 4,
 "nbformat_minor": 4
}
